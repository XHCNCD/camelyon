{
 "cells": [
  {
   "cell_type": "markdown",
   "metadata": {},
   "source": [
    "# Bootstrap Aggregating without online sampling\n",
    "* Not seperating by WSI"
   ]
  },
  {
   "cell_type": "code",
   "execution_count": 1,
   "metadata": {},
   "outputs": [
    {
     "name": "stdout",
     "output_type": "stream",
     "text": [
      "/media/rene/Data/camelyon/src\n",
      "True\n",
      "0\n"
     ]
    }
   ],
   "source": [
    "import os\n",
    "import sys\n",
    "import glob\n",
    "import random\n",
    "import pickle\n",
    "import numpy as np\n",
    "import pandas as pd\n",
    "from tqdm import tqdm\n",
    "\n",
    "import torch\n",
    "import torch.nn as nn\n",
    "from torch.autograd import Variable\n",
    "import torch.utils.data\n",
    "import torchvision.models as models\n",
    "from torchvision import datasets, models, transforms\n",
    "import torch.optim as optim\n",
    "from torch.optim import lr_scheduler\n",
    "from torch.utils.data import Dataset, DataLoader\n",
    "from torchvision import transforms, utils\n",
    "\n",
    "from fastai.imports import *\n",
    "from fastai.transforms import *\n",
    "from fastai.conv_learner import *\n",
    "from fastai.model import *\n",
    "from fastai.dataset import *\n",
    "from fastai.sgdr import *\n",
    "from fastai.plots import *\n",
    "\n",
    "SEED = 101\n",
    "np.random.seed(SEED)\n",
    "from torchvision import datasets, models, transforms\n",
    "\n",
    "%reload_ext autoreload\n",
    "%autoreload 2\n",
    "%matplotlib inline\n",
    "\n",
    "# Add the src directory for functions\n",
    "src_dir = os.path.join(os.path.dirname(os.path.dirname(os.getcwd())), 'src')\n",
    "print(src_dir)\n",
    "sys.path.append(src_dir)\n",
    "\n",
    "# import my functions:\n",
    "from WSI_pytorch_utils import*\n",
    "from other_functions import*\n",
    "\n",
    "fast_ai_dir = '/media/rene/Data/fastai/'\n",
    "sys.path.append(fast_ai_dir)\n",
    "\n",
    "torch.cuda.set_device(0)\n",
    "print(torch.cuda.is_available())\n",
    "print(torch.cuda.current_device())"
   ]
  },
  {
   "cell_type": "markdown",
   "metadata": {},
   "source": [
    "## Make dataset \n",
    "* csv with locations pointing to the right images to sample"
   ]
  },
  {
   "cell_type": "code",
   "execution_count": 2,
   "metadata": {},
   "outputs": [],
   "source": [
    "# # reproduce\n",
    "# cp -r tiles_224_100t/train/tumor/. tiles_224_100t_all\n",
    "# cp -r tiles_224_100t/train/normal/. tiles_224_100t_all\n",
    "# cp -r tiles_224_100t/valid/tumor/. tiles_224_100t_all\n",
    "# cp -r tiles_224_100t/valid/normal/. tiles_224_100t_all"
   ]
  },
  {
   "cell_type": "code",
   "execution_count": 2,
   "metadata": {},
   "outputs": [],
   "source": [
    "# get data\n",
    "data_loc = '/media/rene/Data/camelyon_out/tiles_224_100t_all'\n",
    "all_imgs = glob.glob(data_loc+'/*')\n",
    "img_names = [loc.rsplit('/', 1)[-1] for loc in all_imgs]\n",
    "\n",
    "# load train valid split\n",
    "ttv_split = np.load('/media/rene/Data/camelyon/other/ttv_split.p')\n",
    "normal_valid = ttv_split['normal_vaild_idx']\n",
    "tumor_valid = ttv_split['tumor_vaild_idx']\n",
    "normal_train = list(range(1, 161))\n",
    "normal_train = [num for num in normal_train if num not in normal_valid]\n",
    "tumor_train = list(range(1, 111))\n",
    "tumor_train = [num for num in tumor_train if num not in tumor_valid]"
   ]
  },
  {
   "cell_type": "code",
   "execution_count": 3,
   "metadata": {},
   "outputs": [],
   "source": [
    "# get classes corresponding to each file\n",
    "def get_label(name):\n",
    "    if name.rsplit('_', 1)[-2][-5:]=='tumor':\n",
    "        label = 'tumor'\n",
    "    else: \n",
    "        label = 'normal'\n",
    "    return label\n",
    "\n",
    "classes = [get_label(name) for name in img_names]\n",
    "\n",
    "# make csv\n",
    "labels_df = pd.DataFrame(\n",
    "    {'file_name': img_names,\n",
    "     'label': classes\n",
    "    })\n",
    "\n",
    "labels_df.to_csv('/media/rene/Data/camelyon_out/tiles_224_100t_all_other/tiles_224_100t_all_labels.csv', index = False)"
   ]
  },
  {
   "cell_type": "code",
   "execution_count": 5,
   "metadata": {},
   "outputs": [],
   "source": [
    "# get the validation indices from the big list\n",
    "def is_validation(name, normal_valid, tumor_valid):\n",
    "    normal_valid = [int(x) for x in normal_valid]\n",
    "    tumor_valid = [int(x) for x in tumor_valid]\n",
    "    num = int(name.split('_', 1)[1].split('_', 1)[0])\n",
    "    \n",
    "    if classes[idx] == 'normal':\n",
    "        return num in normal_valid\n",
    "    \n",
    "    elif classes[idx] == 'tumor':\n",
    "        return num in tumor_valid\n",
    "    else:\n",
    "        raise ValueError(\"tile isn't tumor or non tumor\")\n",
    "\n",
    "valid_idxs = []\n",
    "for idx, name in enumerate(img_names):\n",
    "    if is_validation(name, normal_valid, tumor_valid):\n",
    "        valid_idxs.append(idx)\n",
    "        \n",
    "# with open('/media/rene/Data/camelyon_out/tiles_224_100t_all_other/tiles_224_100t_all_val_idxs.p', 'wb') as fp:\n",
    "#     pickle.dump(valid_idxs, fp)\n",
    "\n",
    "def make_validation_mask(data_df, normal_valid, tumor_valid):\n",
    "    img_names = data_df['file_name'].tolist()\n",
    "    valid_idxs = [is_validation(name, normal_valid, tumor_valid) for name in img_names]\n",
    "    return valid_idxs"
   ]
  },
  {
   "cell_type": "markdown",
   "metadata": {},
   "source": [
    "## Standard Bagging with WSI\n",
    "* Sample WSIs with replacement, same number as full dataset\n",
    "* How does the number of models affect performance?\n",
    "* Test a few models"
   ]
  },
  {
   "cell_type": "code",
   "execution_count": 5,
   "metadata": {},
   "outputs": [],
   "source": [
    "# get the indices of slides to use\n",
    "def make_sample_replacement(labels_df, normal_train, tumor_train):\n",
    "    normal_train_subset = np.random.choice(normal_train, len(normal_train))\n",
    "    normal_train_subset = [int(x) for x in normal_train_subset]\n",
    "    \n",
    "    tumor_train_subset = np.random.choice(tumor_train, len(tumor_train))\n",
    "    tumor_train_subset = [int(x) for x in tumor_train_subset]\n",
    "    \n",
    "    drop_rows = []\n",
    "    for index, row in labels_df.iterrows():\n",
    "        label = row['label']\n",
    "        num = int(row['file_name'].split('_', 1)[1].split('_', 1)[0])\n",
    "        \n",
    "        if label == 'normal' and num not in normal_train_subset:\n",
    "            drop_rows.append(index)\n",
    "        elif label == 'tumor' and num not in tumor_train_subset:\n",
    "            drop_rows.append(index)\n",
    "    \n",
    "    subset_labels_df = labels_df.drop(labels_df.index[drop_rows])\n",
    "    return subset_labels_df"
   ]
  },
  {
   "cell_type": "code",
   "execution_count": null,
   "metadata": {},
   "outputs": [
    {
     "name": "stderr",
     "output_type": "stream",
     "text": [
      "\r",
      "  0%|          | 0/5 [00:00<?, ?it/s]"
     ]
    },
    {
     "data": {
      "application/vnd.jupyter.widget-view+json": {
       "model_id": "e6f8828d190241bfa41b7a8177bd1e13",
       "version_major": 2,
       "version_minor": 0
      },
      "text/plain": [
       "HBox(children=(IntProgress(value=0, description='Epoch', max=1), HTML(value='')))"
      ]
     },
     "metadata": {},
     "output_type": "display_data"
    },
    {
     "name": "stdout",
     "output_type": "stream",
     "text": [
      "\r",
      "  0%|          | 0/370 [00:00<?, ?it/s]"
     ]
    },
    {
     "name": "stderr",
     "output_type": "stream",
     "text": [
      "\n"
     ]
    },
    {
     "name": "stdout",
     "output_type": "stream",
     "text": [
      "epoch      trn_loss   val_loss   accuracy                    \n",
      "    0      0.303586   0.26227    0.891908  \n",
      "\n"
     ]
    },
    {
     "data": {
      "application/vnd.jupyter.widget-view+json": {
       "model_id": "3826395217bf4c889caf1b10a4ae6b6c",
       "version_major": 2,
       "version_minor": 0
      },
      "text/plain": [
       "HBox(children=(IntProgress(value=0, description='Epoch', max=7), HTML(value='')))"
      ]
     },
     "metadata": {},
     "output_type": "display_data"
    },
    {
     "name": "stdout",
     "output_type": "stream",
     "text": [
      "epoch      trn_loss   val_loss   accuracy                    \n",
      "    0      0.246768   0.22702    0.905894  \n",
      "    1      0.219619   0.196038   0.922677                    \n",
      "    2      0.204463   0.192088   0.924076                    \n",
      "    3      0.191473   0.181394   0.928871                    \n",
      "    4      0.189459   0.176      0.927672                    \n",
      "    5      0.178979   0.175404   0.929071                    \n",
      "                                                             \r"
     ]
    },
    {
     "name": "stderr",
     "output_type": "stream",
     "text": [
      "\r",
      " 20%|██        | 1/5 [17:55<1:11:41, 1075.49s/it]"
     ]
    },
    {
     "name": "stdout",
     "output_type": "stream",
     "text": [
      "    6      0.178621   0.173561   0.931069  \n",
      "\n"
     ]
    },
    {
     "data": {
      "application/vnd.jupyter.widget-view+json": {
       "model_id": "897a07d6d8b945a187281e15f172f338",
       "version_major": 2,
       "version_minor": 0
      },
      "text/plain": [
       "HBox(children=(IntProgress(value=0, description='Epoch', max=1), HTML(value='')))"
      ]
     },
     "metadata": {},
     "output_type": "display_data"
    },
    {
     "name": "stdout",
     "output_type": "stream",
     "text": [
      "epoch      trn_loss   val_loss   accuracy                    \n",
      "    0      0.316013   0.272014   0.885086  \n",
      "\n"
     ]
    },
    {
     "data": {
      "application/vnd.jupyter.widget-view+json": {
       "model_id": "00c73bfebbda4d24943759a31561619e",
       "version_major": 2,
       "version_minor": 0
      },
      "text/plain": [
       "HBox(children=(IntProgress(value=0, description='Epoch', max=7), HTML(value='')))"
      ]
     },
     "metadata": {},
     "output_type": "display_data"
    },
    {
     "name": "stdout",
     "output_type": "stream",
     "text": [
      "epoch      trn_loss   val_loss   accuracy                    \n",
      "    0      0.256364   0.223344   0.905495  \n",
      "    1      0.22047    0.191064   0.918681                    \n",
      "    2      0.208122   0.187783   0.922763                    \n",
      "    3      0.19095    0.178684   0.925432                    \n",
      "    4      0.18874    0.168514   0.93281                     \n",
      "    5      0.1822     0.166081   0.932339                    \n",
      "                                                             \r"
     ]
    },
    {
     "name": "stderr",
     "output_type": "stream",
     "text": [
      "\r",
      " 40%|████      | 2/5 [35:39<53:29, 1069.99s/it]  "
     ]
    },
    {
     "name": "stdout",
     "output_type": "stream",
     "text": [
      "    6      0.185036   0.168756   0.931083  \n",
      "\n"
     ]
    },
    {
     "data": {
      "application/vnd.jupyter.widget-view+json": {
       "model_id": "cc9ed0be59cf4dcb9b24161e55d18d95",
       "version_major": 2,
       "version_minor": 0
      },
      "text/plain": [
       "HBox(children=(IntProgress(value=0, description='Epoch', max=1), HTML(value='')))"
      ]
     },
     "metadata": {},
     "output_type": "display_data"
    },
    {
     "name": "stdout",
     "output_type": "stream",
     "text": [
      "epoch      trn_loss   val_loss   accuracy                    \n",
      "    0      0.310994   0.262538   0.894505  \n",
      "\n"
     ]
    },
    {
     "data": {
      "application/vnd.jupyter.widget-view+json": {
       "model_id": "6dac28f808804c3d9300b4146731f7ff",
       "version_major": 2,
       "version_minor": 0
      },
      "text/plain": [
       "HBox(children=(IntProgress(value=0, description='Epoch', max=7), HTML(value='')))"
      ]
     },
     "metadata": {},
     "output_type": "display_data"
    },
    {
     "name": "stdout",
     "output_type": "stream",
     "text": [
      "epoch      trn_loss   val_loss   accuracy                    \n",
      "    0      0.254063   0.209205   0.911774  \n",
      "    1      0.213229   0.173254   0.928728                    \n",
      "    2      0.198619   0.170055   0.930298                    \n",
      "    3      0.182448   0.158144   0.939403                    \n",
      "    4      0.176268   0.152095   0.941601                    \n",
      "    5      0.173545   0.148307   0.943485                    \n",
      "                                                             \r"
     ]
    },
    {
     "name": "stderr",
     "output_type": "stream",
     "text": [
      "\r",
      " 60%|██████    | 3/5 [54:17<36:11, 1085.71s/it]"
     ]
    },
    {
     "name": "stdout",
     "output_type": "stream",
     "text": [
      "    6      0.170409   0.149654   0.941287  \n",
      "\n"
     ]
    },
    {
     "data": {
      "application/vnd.jupyter.widget-view+json": {
       "model_id": "085b782cf89f40bdaf819a50d852e5b6",
       "version_major": 2,
       "version_minor": 0
      },
      "text/plain": [
       "HBox(children=(IntProgress(value=0, description='Epoch', max=1), HTML(value='')))"
      ]
     },
     "metadata": {},
     "output_type": "display_data"
    },
    {
     "name": "stdout",
     "output_type": "stream",
     "text": [
      "epoch      trn_loss   val_loss   accuracy                    \n",
      "    0      0.332892   0.289354   0.878681  \n",
      "\n"
     ]
    },
    {
     "data": {
      "application/vnd.jupyter.widget-view+json": {
       "model_id": "cd559a842c214d1da73d7856f0d536e3",
       "version_major": 2,
       "version_minor": 0
      },
      "text/plain": [
       "HBox(children=(IntProgress(value=0, description='Epoch', max=7), HTML(value='')))"
      ]
     },
     "metadata": {},
     "output_type": "display_data"
    },
    {
     "name": "stdout",
     "output_type": "stream",
     "text": [
      "epoch      trn_loss   val_loss   accuracy                    \n",
      "    0      0.267732   0.230144   0.902637  \n",
      "    1      0.237092   0.206564   0.916484                    \n",
      "    2      0.223482   0.200381   0.916923                    \n",
      "    3      0.202618   0.184569   0.922198                    \n",
      "    4      0.203909   0.178505   0.925055                    \n",
      "    5      0.194919   0.177799   0.924396                    \n",
      "                                                             \r"
     ]
    },
    {
     "name": "stderr",
     "output_type": "stream",
     "text": [
      "\r",
      " 80%|████████  | 4/5 [1:11:23<17:50, 1070.76s/it]"
     ]
    },
    {
     "name": "stdout",
     "output_type": "stream",
     "text": [
      "    6      0.19858    0.178692   0.924176  \n",
      "\n"
     ]
    },
    {
     "data": {
      "application/vnd.jupyter.widget-view+json": {
       "model_id": "795cc87e6a194fc6b47d017159b65de5",
       "version_major": 2,
       "version_minor": 0
      },
      "text/plain": [
       "HBox(children=(IntProgress(value=0, description='Epoch', max=1), HTML(value='')))"
      ]
     },
     "metadata": {},
     "output_type": "display_data"
    },
    {
     "name": "stdout",
     "output_type": "stream",
     "text": [
      "epoch      trn_loss   val_loss   accuracy                    \n",
      "    0      0.311349   0.268104   0.885495  \n",
      "\n"
     ]
    },
    {
     "data": {
      "application/vnd.jupyter.widget-view+json": {
       "model_id": "962de73c7a814b13905ffd57cb005b82",
       "version_major": 2,
       "version_minor": 0
      },
      "text/plain": [
       "HBox(children=(IntProgress(value=0, description='Epoch', max=7), HTML(value='')))"
      ]
     },
     "metadata": {},
     "output_type": "display_data"
    },
    {
     "name": "stdout",
     "output_type": "stream",
     "text": [
      " 27%|██▋       | 94/348 [00:33<01:31,  2.76it/s, loss=0.31] "
     ]
    }
   ],
   "source": [
    "models_arch = resnet18\n",
    "models_name = 'resnet18'\n",
    "\n",
    "lr=np.array([1e-3,5e-3,1e-2])\n",
    "\n",
    "sz = 224\n",
    "PATH = '/media/rene/Data/camelyon_out/tiles_224_100t_all_other'\n",
    "train_folder = '/media/rene/Data/camelyon_out/tiles_224_100t_all'\n",
    "\n",
    "for i in tqdm(range(10, 15)):\n",
    "    # create the new csv and save it\n",
    "    subset_labels_df = make_sample_replacement(labels_df, normal_train, tumor_train)\n",
    "    subset_labels_df.to_csv('/media/rene/Data/camelyon_out/tiles_224_100t_all_other/tiles_224_100t_all_subset_tmp2.csv',  \n",
    "                            index = False)\n",
    "    csv_fname = '/media/rene/Data/camelyon_out/tiles_224_100t_all_other/tiles_224_100t_all_subset_tmp2.csv'\n",
    "    \n",
    "    # get the validation indices based on this\n",
    "    val_idxs = make_validation_mask(subset_labels_df, normal_valid, tumor_valid)\n",
    "\n",
    "    tfms = tfms_from_model(models_arch, sz, aug_tfms=transforms_top_down, max_zoom=1)\n",
    "    data = ImageClassifierData.from_csv(PATH, train_folder, csv_fname, tfms=tfms, \n",
    "                                        val_idxs=val_idxs, bs=128)\n",
    "    learn = ConvLearner.pretrained(models_arch, data, precompute=False)\n",
    "    \n",
    "    lr =.001\n",
    "    learn.fit(lr, 1, cycle_len=1, cycle_mult=1) # train last few layers\n",
    "    lrs = np.array([lr/4,lr/2,lr])\n",
    "    learn.unfreeze()\n",
    "    learn.fit(lrs, 3, cycle_len=1, cycle_mult=2, best_save_name=models_name+'_bagging_proper_wsi_'+str(i)) # train whole model"
   ]
  },
  {
   "cell_type": "code",
   "execution_count": null,
   "metadata": {},
   "outputs": [],
   "source": [
    "models_arch = resnet50\n",
    "models_name = 'resnet50'\n",
    "\n",
    "lr=np.array([1e-3,5e-3,1e-2])\n",
    "\n",
    "sz = 224\n",
    "PATH = '/media/rene/Data/camelyon_out/tiles_224_100t_all_other'\n",
    "train_folder = '/media/rene/Data/camelyon_out/tiles_224_100t_all'\n",
    "\n",
    "for i in tqdm(range(15)):\n",
    "    # create the new csv and save it\n",
    "    subset_labels_df = make_sample_replacement(labels_df, normal_train, tumor_train)\n",
    "    subset_labels_df.to_csv('/media/rene/Data/camelyon_out/tiles_224_100t_all_other/tiles_224_100t_all_subset_tmp2.csv',  \n",
    "                            index = False)\n",
    "    csv_fname = '/media/rene/Data/camelyon_out/tiles_224_100t_all_other/tiles_224_100t_all_subset_tmp2.csv'\n",
    "    \n",
    "    # get the validation indices based on this\n",
    "    val_idxs = make_validation_mask(subset_labels_df, normal_valid, tumor_valid)\n",
    "\n",
    "    tfms = tfms_from_model(models_arch, sz, aug_tfms=transforms_top_down, max_zoom=1)\n",
    "    data = ImageClassifierData.from_csv(PATH, train_folder, csv_fname, tfms=tfms, \n",
    "                                        val_idxs=val_idxs, bs=64)\n",
    "    learn = ConvLearner.pretrained(models_arch, data, precompute=False)\n",
    "    \n",
    "    lr =.001\n",
    "    learn.fit(lr, 1, cycle_len=1, cycle_mult=1) # train last few layers\n",
    "    lrs = np.array([lr/4,lr/2,lr])\n",
    "    learn.unfreeze()\n",
    "    learn.fit(lrs, 3, cycle_len=1, cycle_mult=2, best_save_name=models_name+'_bagging_proper_wsi_'+str(i)) # train whole model"
   ]
  },
  {
   "cell_type": "code",
   "execution_count": null,
   "metadata": {},
   "outputs": [
    {
     "name": "stderr",
     "output_type": "stream",
     "text": [
      "\r",
      "  0%|          | 0/2 [00:00<?, ?it/s]"
     ]
    },
    {
     "data": {
      "application/vnd.jupyter.widget-view+json": {
       "model_id": "be469d67e6404ab498a3ea8e688bcf58",
       "version_major": 2,
       "version_minor": 0
      },
      "text/plain": [
       "HBox(children=(IntProgress(value=0, description='Epoch', max=1), HTML(value='')))"
      ]
     },
     "metadata": {},
     "output_type": "display_data"
    },
    {
     "name": "stdout",
     "output_type": "stream",
     "text": [
      "\r",
      "  0%|          | 0/986 [00:00<?, ?it/s]"
     ]
    },
    {
     "name": "stderr",
     "output_type": "stream",
     "text": [
      "\n"
     ]
    },
    {
     "name": "stdout",
     "output_type": "stream",
     "text": [
      "epoch      trn_loss   val_loss   accuracy                    \n",
      "    0      0.249017   0.216515   0.907493  \n",
      "\n"
     ]
    },
    {
     "data": {
      "application/vnd.jupyter.widget-view+json": {
       "model_id": "b68d2c5b7b8647e788e8c6240ee809d5",
       "version_major": 2,
       "version_minor": 0
      },
      "text/plain": [
       "HBox(children=(IntProgress(value=0, description='Epoch', max=7), HTML(value='')))"
      ]
     },
     "metadata": {},
     "output_type": "display_data"
    },
    {
     "name": "stdout",
     "output_type": "stream",
     "text": [
      "epoch      trn_loss   val_loss   accuracy                    \n",
      "    0      0.19583    0.178313   0.930869  \n",
      "    1      0.181065   0.15699    0.935864                    \n",
      "    2      0.164168   0.152913   0.938262                    \n",
      "    3      0.142469   0.142039   0.942458                    \n",
      "    4      0.155367   0.137674   0.946254                    \n",
      "    5      0.137972   0.132742   0.948851                    \n",
      "                                                             \r"
     ]
    },
    {
     "name": "stderr",
     "output_type": "stream",
     "text": [
      "\r",
      " 50%|█████     | 1/2 [49:40<49:40, 2980.44s/it]"
     ]
    },
    {
     "name": "stdout",
     "output_type": "stream",
     "text": [
      "    6      0.135903   0.132269   0.946853  \n",
      "\n"
     ]
    },
    {
     "data": {
      "application/vnd.jupyter.widget-view+json": {
       "model_id": "567770246fa641a0a1ee51559a63b189",
       "version_major": 2,
       "version_minor": 0
      },
      "text/plain": [
       "HBox(children=(IntProgress(value=0, description='Epoch', max=1), HTML(value='')))"
      ]
     },
     "metadata": {},
     "output_type": "display_data"
    },
    {
     "name": "stdout",
     "output_type": "stream",
     "text": [
      "epoch      trn_loss   val_loss   accuracy                    \n",
      "    0      0.249105   0.21259    0.909576  \n",
      "\n"
     ]
    },
    {
     "data": {
      "application/vnd.jupyter.widget-view+json": {
       "model_id": "0d56fc57ba0c4e3f8ed648642089fb4c",
       "version_major": 2,
       "version_minor": 0
      },
      "text/plain": [
       "HBox(children=(IntProgress(value=0, description='Epoch', max=7), HTML(value='')))"
      ]
     },
     "metadata": {},
     "output_type": "display_data"
    },
    {
     "name": "stdout",
     "output_type": "stream",
     "text": [
      "epoch      trn_loss   val_loss   accuracy                    \n",
      "    0      0.217661   0.178476   0.926688  \n",
      "    1      0.181426   0.153965   0.938305                    \n",
      "    2      0.162695   0.148798   0.943014                    \n",
      "    3      0.16952    0.140335   0.944584                    \n",
      "    4      0.154633   0.130883   0.948509                    \n",
      "    5      0.139956   0.126873   0.949294                    \n",
      " 62%|██████▏   | 604/976 [03:51<02:22,  2.61it/s, loss=0.137]"
     ]
    }
   ],
   "source": [
    "models_arch = dn169\n",
    "models_name = 'dn169'\n",
    "\n",
    "lr=np.array([1e-3,5e-3,1e-2])\n",
    "\n",
    "sz = 224\n",
    "PATH = '/media/rene/Data/camelyon_out/tiles_224_100t_all_other'\n",
    "train_folder = '/media/rene/Data/camelyon_out/tiles_224_100t_all'\n",
    "\n",
    "for i in tqdm(range(13, 15)):\n",
    "    # create the new csv and save it\n",
    "    subset_labels_df = make_sample_replacement(labels_df, normal_train, tumor_train)\n",
    "    subset_labels_df.to_csv('/media/rene/Data/camelyon_out/tiles_224_100t_all_other/tiles_224_100t_all_subset_tmp2.csv',  \n",
    "                            index = False)\n",
    "    csv_fname = '/media/rene/Data/camelyon_out/tiles_224_100t_all_other/tiles_224_100t_all_subset_tmp2.csv'\n",
    "    \n",
    "    # get the validation indices based on this\n",
    "    val_idxs = make_validation_mask(subset_labels_df, normal_valid, tumor_valid)\n",
    "\n",
    "    tfms = tfms_from_model(models_arch, sz, aug_tfms=transforms_top_down, max_zoom=1)\n",
    "    data = ImageClassifierData.from_csv(PATH, train_folder, csv_fname, tfms=tfms, \n",
    "                                        val_idxs=val_idxs, bs=48)\n",
    "    learn = ConvLearner.pretrained(models_arch, data, precompute=False)\n",
    "    \n",
    "    lr =.001\n",
    "    learn.fit(lr, 1, cycle_len=1, cycle_mult=1) # train last few layers\n",
    "    lrs = np.array([lr/4,lr/2,lr])\n",
    "    learn.unfreeze()\n",
    "    learn.fit(lrs, 3, cycle_len=1, cycle_mult=2, best_save_name=models_name+'_bagging_proper_wsi_'+str(i)) # train whole model"
   ]
  },
  {
   "cell_type": "markdown",
   "metadata": {},
   "source": [
    "## Results"
   ]
  },
  {
   "cell_type": "code",
   "execution_count": 2,
   "metadata": {},
   "outputs": [
    {
     "name": "stdout",
     "output_type": "stream",
     "text": [
      "resnet18_bagging_proper_wsi_0 :    0.9279640718562874\n",
      "resnet18_bagging_proper_wsi_1 :    0.9259880239520958\n",
      "resnet18_bagging_proper_wsi_2 :    0.9306586826347305\n",
      "resnet18_bagging_proper_wsi_3 :    0.9332934131736527\n",
      "resnet18_bagging_proper_wsi_4 :    0.9268862275449102\n",
      "resnet18_bagging_proper_wsi_5 :    0.9264670658682634\n",
      "resnet18_bagging_proper_wsi_6 :    0.9226347305389222\n",
      "resnet18_bagging_proper_wsi_7 :    0.9261676646706587\n",
      "resnet18_bagging_proper_wsi_8 :    0.9286826347305389\n",
      "resnet18_bagging_proper_wsi_9 :    0.931497005988024\n",
      "resnet18_bagging_proper_wsi_10 :    0.9281437125748503\n",
      "resnet18_bagging_proper_wsi_11 :    0.92\n",
      "resnet18_bagging_proper_wsi_12 :    0.9273652694610779\n",
      "resnet18_bagging_proper_wsi_13 :    0.9259281437125748\n",
      "resnet18_bagging_proper_wsi_14 :    0.9255089820359281\n",
      "0.9319161676646707\n",
      "resnet50_bagging_proper_wsi_0 :    0.9338323353293413\n",
      "resnet50_bagging_proper_wsi_1 :    0.9302395209580838\n",
      "resnet50_bagging_proper_wsi_2 :    0.9411976047904191\n",
      "resnet50_bagging_proper_wsi_3 :    0.938562874251497\n",
      "resnet50_bagging_proper_wsi_4 :    0.9332335329341317\n",
      "resnet50_bagging_proper_wsi_5 :    0.9275449101796407\n",
      "resnet50_bagging_proper_wsi_6 :    0.9376047904191617\n",
      "resnet50_bagging_proper_wsi_7 :    0.9381437125748503\n",
      "resnet50_bagging_proper_wsi_8 :    0.9364071856287425\n",
      "resnet50_bagging_proper_wsi_9 :    0.9252694610778444\n",
      "resnet50_bagging_proper_wsi_10 :    0.9308982035928144\n",
      "resnet50_bagging_proper_wsi_11 :    0.9265269461077844\n",
      "resnet50_bagging_proper_wsi_12 :    0.932934131736527\n",
      "resnet50_bagging_proper_wsi_13 :    0.9383233532934132\n",
      "resnet50_bagging_proper_wsi_14 :    0.9376047904191617\n",
      "0.942874251497006\n",
      "dn169_bagging_proper_wsi_0 :    0.9379041916167664\n",
      "dn169_bagging_proper_wsi_1 :    0.9311976047904191\n",
      "dn169_bagging_proper_wsi_2 :    0.9412574850299401\n",
      "dn169_bagging_proper_wsi_3 :    0.9425149700598803\n",
      "dn169_bagging_proper_wsi_4 :    0.9386826347305389\n",
      "dn169_bagging_proper_wsi_5 :    0.9376047904191617\n",
      "dn169_bagging_proper_wsi_6 :    0.9390419161676646\n",
      "dn169_bagging_proper_wsi_7 :    0.9376047904191617\n",
      "dn169_bagging_proper_wsi_8 :    0.9199401197604791\n",
      "dn169_bagging_proper_wsi_9 :    0.944251497005988\n",
      "dn169_bagging_proper_wsi_10 :    0.9416167664670658\n",
      "dn169_bagging_proper_wsi_11 :    0.9336526946107785\n",
      "dn169_bagging_proper_wsi_12 :    0.9416167664670658\n",
      "dn169_bagging_proper_wsi_13 :    0.9330538922155689\n",
      "dn169_bagging_proper_wsi_14 :    0.9294610778443114\n",
      "0.9454491017964072\n"
     ]
    }
   ],
   "source": [
    "PATH = '/media/rene/Data/camelyon_out/tiles_224_100t/'\n",
    "models_path = '/media/rene/Data/camelyon_out/tiles_224_100t_all_other'\n",
    "models_arch = [resnet18]*15\n",
    "models_name = ['resnet18_bagging_proper_wsi_'+str(i) for i in range (15)]\n",
    "\n",
    "acc_r18, acc_list_r18, int_acc_list_r18 = ensemble_acc_dir(models_arch, \n",
    "                                                                   models_name, models_path, PATH, weights=None)\n",
    "\n",
    "models_arch = [resnet50]*15\n",
    "models_name = ['resnet50_bagging_proper_wsi_'+str(i) for i in range (15)]\n",
    "\n",
    "acc_r50, acc_list_r50, int_acc_list_r50 = ensemble_acc_dir(models_arch, \n",
    "                                                                   models_name, models_path, PATH, weights=None)\n",
    "\n",
    "models_arch = [dn169]*15\n",
    "models_name = ['dn169_bagging_proper_wsi_'+str(i) for i in range (15)]\n",
    "\n",
    "acc_dn169, acc_list_dn169, int_acc_list_dn169 = ensemble_acc_dir(models_arch, \n",
    "                                                                   models_name, models_path, PATH, weights=None)"
   ]
  },
  {
   "cell_type": "code",
   "execution_count": 15,
   "metadata": {},
   "outputs": [
    {
     "data": {
      "image/png": "[encoded data removed]",
      "text/plain": [
       "<Figure size 576x432 with 1 Axes>"
      ]
     },
     "metadata": {},
     "output_type": "display_data"
    }
   ],
   "source": [
    "fig, ax = plt.subplots(figsize=(8, 6))\n",
    "\n",
    "x = list(range(15))\n",
    "plt.plot(x, int_acc_list_r18)\n",
    "plt.plot(x, int_acc_list_r50)\n",
    "plt.plot(x, int_acc_list_dn169)\n",
    "plt.title('Bagging: Number of Models vs. Accuracy', fontsize=14)\n",
    "plt.xlabel('Number of Models')\n",
    "plt.ylabel('Accuracy')\n",
    "plt.legend(['ResNet18', 'ResNet50', 'DenseNet169'], loc='upper left')\n",
    "plt.show()\n",
    "\n",
    "fig.savefig('/media/rene/Data/camelyon_out/figures/bagging_num_models.jpeg', bbox_inches='tight', pad_inches=0)"
   ]
  },
  {
   "cell_type": "code",
   "execution_count": 3,
   "metadata": {},
   "outputs": [
    {
     "ename": "NameError",
     "evalue": "name 'acc_r18' is not defined",
     "output_type": "error",
     "traceback": [
      "\u001b[0;31m---------------------------------------------------------------------------\u001b[0m",
      "\u001b[0;31mNameError\u001b[0m                                 Traceback (most recent call last)",
      "\u001b[0;32m<ipython-input-3-16e0b92c2a84>\u001b[0m in \u001b[0;36m<module>\u001b[0;34m()\u001b[0m\n\u001b[0;32m----> 1\u001b[0;31m \u001b[0mprint\u001b[0m\u001b[0;34m(\u001b[0m\u001b[0macc_r18\u001b[0m\u001b[0;34m,\u001b[0m \u001b[0macc_r50\u001b[0m\u001b[0;34m,\u001b[0m \u001b[0macc_dn169\u001b[0m\u001b[0;34m)\u001b[0m\u001b[0;34m\u001b[0m\u001b[0m\n\u001b[0m",
      "\u001b[0;31mNameError\u001b[0m: name 'acc_r18' is not defined"
     ]
    }
   ],
   "source": [
    "print(acc_r18, acc_r50, acc_dn169)"
   ]
  },
  {
   "cell_type": "markdown",
   "metadata": {},
   "source": []
  },
  {
   "cell_type": "markdown",
   "metadata": {},
   "source": [
    "* Add in above graph, mention how don't see much improvement from bagging after a few models, and how ResNet18 was really affected by model variance.\n",
    "* Need a bar graph comparing a bunch of model's perfromances. Show how bagging loses to just averaging models.\n",
    "* Need a graph comparing the different resnet sizes and their perfromance on average and after bagging. Show somehting about how model size is related to how much bagging helps."
   ]
  },
  {
   "cell_type": "code",
   "execution_count": 2,
   "metadata": {},
   "outputs": [
    {
     "data": {
      "text/plain": [
       "0.01"
      ]
     },
     "execution_count": 2,
     "metadata": {},
     "output_type": "execute_result"
    }
   ],
   "source": []
  },
  {
   "cell_type": "code",
   "execution_count": null,
   "metadata": {},
   "outputs": [],
   "source": []
  }
 ],
 "metadata": {
  "kernelspec": {
   "display_name": "Python 3",
   "language": "python",
   "name": "python3"
  },
  "language_info": {
   "codemirror_mode": {
    "name": "ipython",
    "version": 3
   },
   "file_extension": ".py",
   "mimetype": "text/x-python",
   "name": "python",
   "nbconvert_exporter": "python",
   "pygments_lexer": "ipython3",
   "version": "3.6.3"
  }
 },
 "nbformat": 4,
 "nbformat_minor": 2
}
