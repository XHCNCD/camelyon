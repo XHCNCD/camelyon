{
 "cells": [
  {
   "cell_type": "markdown",
   "metadata": {},
   "source": [
    "# Ensemble Methods\n",
    "* Heterogeneous Models with different architecture trained on the full dataset\n",
    "* Same model trained multiple times on the full dataset"
   ]
  },
  {
   "cell_type": "code",
   "execution_count": 1,
   "metadata": {},
   "outputs": [
    {
     "name": "stdout",
     "output_type": "stream",
     "text": [
      "/media/rene/Data/camelyon/src\n",
      "True\n",
      "0\n"
     ]
    }
   ],
   "source": [
    "%reload_ext autoreload\n",
    "%autoreload 2\n",
    "%matplotlib inline\n",
    "\n",
    "import os\n",
    "import sys\n",
    "\n",
    "from fastai.imports import *\n",
    "from fastai.transforms import *\n",
    "from fastai.conv_learner import *\n",
    "from fastai.model import *\n",
    "from fastai.dataset import *\n",
    "from fastai.sgdr import *\n",
    "from fastai.plots import *\n",
    "\n",
    "from torchvision import datasets, models, transforms\n",
    "\n",
    "# Base Directory where data is stored\n",
    "PATH = '/media/rene/Data/camelyon_out/tiles_299_100t/'\n",
    "\n",
    "fast_ai_dir = '/media/rene/Data/fastai/'\n",
    "sys.path.append(fast_ai_dir)\n",
    "\n",
    "# Add the src directory for functions\n",
    "src_dir = os.path.join(os.path.dirname(os.path.dirname(os.getcwd())), 'src')\n",
    "print(src_dir)\n",
    "sys.path.append(src_dir)\n",
    "\n",
    "# import my functions:\n",
    "from WSI_pytorch_utils import*\n",
    "from other_functions import*\n",
    "\n",
    "# Set it to use GPU0\n",
    "torch.cuda.set_device(0)\n",
    "print(torch.cuda.is_available())\n",
    "print(torch.cuda.current_device())"
   ]
  },
  {
   "cell_type": "markdown",
   "metadata": {},
   "source": [
    "# Heterogeneous Ensemble\n",
    "* Train with the entire dataset, but different architectures"
   ]
  },
  {
   "cell_type": "code",
   "execution_count": null,
   "metadata": {},
   "outputs": [],
   "source": [
    "models_arch = [resnet34, resnet50, resnet101, vgg16, resnext50, resnext101, inceptionresnet_2, inception_4, dn121, dn169]\n",
    "models_name = ['resnet34', 'resnet50', 'resnet101', 'vgg16', 'resnext50', 'resnext101', 'inceptionresnet_2', 'inception_4', 'dn121', 'dn169']\n",
    "\n",
    "for idx, arch in enumerate(models_arch):\n",
    "    print(models_name[idx])\n",
    "    if arch in [inceptionresnet_2, inception_4]:\n",
    "        sz = 299\n",
    "        PATH = '/media/rene/Data/camelyon_out/tiles_224_100t'\n",
    "    else:\n",
    "        sz = 224\n",
    "        PATH = '/media/rene/Data/camelyon_out/tiles_224_100t'\n",
    "        \n",
    "    tfms = tfms_from_model(arch, sz, aug_tfms=transforms_top_down, max_zoom=1)\n",
    "    data = ImageClassifierData.from_paths(PATH, tfms=tfms, bs=12)\n",
    "    learn = ConvLearner.pretrained(arch, data, precompute=False)\n",
    "    \n",
    "    lr =.001\n",
    "    learn.fit(lr, 1, cycle_len=1, cycle_mult=1) # train last few layers\n",
    "    lrs = np.array([lr/4,lr/2,lr])\n",
    "    learn.unfreeze()\n",
    "    learn.fit(lrs, 3, cycle_len=1, cycle_mult=2, best_save_name=models_name[idx]+'_full') # train whole model"
   ]
  },
  {
   "cell_type": "markdown",
   "metadata": {},
   "source": [
    "### Get ensemble accuracy"
   ]
  },
  {
   "cell_type": "code",
   "execution_count": 2,
   "metadata": {},
   "outputs": [
    {
     "name": "stdout",
     "output_type": "stream",
     "text": [
      "resnet34_full :    0.9437125748502994\n",
      "resnet50_full :    0.9455688622754491\n",
      "resnet101_full :    0.9453892215568862\n",
      "vgg16_full :    0.9433532934131736\n",
      "resnext50_full :    0.9466467065868264\n",
      "resnext101_full :    0.9458682634730539\n",
      "inceptionresnet_2_full :    0.9395209580838323\n",
      "dn121_full :    0.9440718562874252\n",
      "dn169_full :    0.9479041916167664\n",
      "[0.11111 0.11111 0.11111 0.11111 0.11111 0.11111 0.11111 0.11111 0.11111]\n",
      "Power: 0 Accuracy:  0.9519161676646707\n",
      "[0.10452 0.11559 0.11445 0.10255 0.12273 0.11751 0.08426 0.10655 0.13184]\n",
      "Power: 3 Accuracy:  0.9516766467065868\n",
      "[0.09702 0.11864 0.11632 0.09339 0.13377 0.12264 0.06305 0.10082 0.15435]\n",
      "Power: 6 Accuracy:  0.9513772455089821\n",
      "[0.08897 0.12032 0.1168  0.08402 0.14405 0.12644 0.04661 0.09425 0.17854]\n",
      "Power: 9 Accuracy:  0.9516766467065868\n",
      "[0.0807  0.12068 0.116   0.07477 0.15342 0.12894 0.03408 0.08715 0.20426]\n",
      "Power: 12 Accuracy:  0.9513173652694611\n",
      "[0.07247 0.11984 0.11406 0.06587 0.16177 0.13018 0.02467 0.07977 0.23135]\n",
      "Power: 15 Accuracy:  0.9513173652694611\n",
      "[0.06448 0.11792 0.11113 0.0575  0.16902 0.13023 0.0177  0.07236 0.25965]\n",
      "Power: 18 Accuracy:  0.9513173652694611\n"
     ]
    }
   ],
   "source": [
    "# skipping inception_4\n",
    "PATH = '/media/rene/Data/camelyon_out/tiles_224_100t/'\n",
    "models_arch = [resnet34, resnet50, resnet101, vgg16, resnext50, resnext101, inceptionresnet_2, dn121, dn169]\n",
    "models_name = ['resnet34_full', 'resnet50_full', 'resnet101_full', 'vgg16_full', 'resnext50_full', 'resnext101_full', 'inceptionresnet_2_full', 'dn121_full', 'dn169_full']\n",
    "\n",
    "perf = get_best_ensemble_acc(models_arch, models_name, PATH)"
   ]
  },
  {
   "cell_type": "code",
   "execution_count": 8,
   "metadata": {},
   "outputs": [
    {
     "data": {
      "image/png": "[encoded data removed]",
      "text/plain": [
       "<Figure size 720x576 with 1 Axes>"
      ]
     },
     "metadata": {},
     "output_type": "display_data"
    }
   ],
   "source": [
    "perf_all = perf + [0.9519161676646]\n",
    "plot_names = [model.rsplit('_', 1)[0] for model in models_name]\n",
    "plot_names = plot_names+['Ensemble']\n",
    "\n",
    "perf_all, plot_names = (list(t) for t in zip(*sorted(zip(perf_all, plot_names))))\n",
    "\n",
    "x = np.arange(len(plot_names))\n",
    "low = min(perf_all)\n",
    "high = max(perf_all)\n",
    "\n",
    "fig, ax = plt.subplots(figsize=(10, 8))\n",
    "plt.bar(plot_names, perf_all)\n",
    "plt.xticks(x, plot_names)\n",
    "plt.tick_params(labelsize=16)\n",
    "plt.xticks(rotation=90)\n",
    "plt.ylim([low-0.5*(high-low), high+0.5*(high-low)])\n",
    "plt.title('Heterogeneous Ensemble ', fontsize=20)\n",
    "plt.show()\n",
    "\n",
    "fig.savefig('/media/rene/Data/camelyon_out/figures/heterogeneous_ensemble.jpeg', bbox_inches='tight', pad_inches=0)"
   ]
  },
  {
   "cell_type": "markdown",
   "metadata": {},
   "source": [
    "## Single Architecture Ensemble\n",
    "* DenseNet 169"
   ]
  },
  {
   "cell_type": "code",
   "execution_count": 46,
   "metadata": {},
   "outputs": [
    {
     "name": "stdout",
     "output_type": "stream",
     "text": [
      "0\n"
     ]
    },
    {
     "data": {
      "application/vnd.jupyter.widget-view+json": {
       "model_id": "1bbaca882ce94dc8a91895c5e9c7efd0",
       "version_major": 2,
       "version_minor": 0
      },
      "text/plain": [
       "HBox(children=(IntProgress(value=0, description='Epoch', max=1), HTML(value='')))"
      ]
     },
     "metadata": {},
     "output_type": "display_data"
    },
    {
     "name": "stdout",
     "output_type": "stream",
     "text": [
      " 13%|█▎        | 445/3471 [01:25<09:39,  5.22it/s, loss=0.29] "
     ]
    },
    {
     "ename": "KeyboardInterrupt",
     "evalue": "",
     "output_type": "error",
     "traceback": [
      "\u001b[0;31m---------------------------------------------------------------------------\u001b[0m",
      "\u001b[0;31mKeyboardInterrupt\u001b[0m                         Traceback (most recent call last)",
      "\u001b[0;32m<ipython-input-46-c74823a685a0>\u001b[0m in \u001b[0;36m<module>\u001b[0;34m()\u001b[0m\n\u001b[1;32m     14\u001b[0m \u001b[0;34m\u001b[0m\u001b[0m\n\u001b[1;32m     15\u001b[0m     \u001b[0mlr\u001b[0m \u001b[0;34m=\u001b[0m\u001b[0;36m.001\u001b[0m\u001b[0;34m\u001b[0m\u001b[0m\n\u001b[0;32m---> 16\u001b[0;31m     \u001b[0mlearn\u001b[0m\u001b[0;34m.\u001b[0m\u001b[0mfit\u001b[0m\u001b[0;34m(\u001b[0m\u001b[0mlr\u001b[0m\u001b[0;34m,\u001b[0m \u001b[0;36m1\u001b[0m\u001b[0;34m,\u001b[0m \u001b[0mcycle_len\u001b[0m\u001b[0;34m=\u001b[0m\u001b[0;36m1\u001b[0m\u001b[0;34m,\u001b[0m \u001b[0mcycle_mult\u001b[0m\u001b[0;34m=\u001b[0m\u001b[0;36m1\u001b[0m\u001b[0;34m)\u001b[0m \u001b[0;31m# train last few layers\u001b[0m\u001b[0;34m\u001b[0m\u001b[0m\n\u001b[0m\u001b[1;32m     17\u001b[0m     \u001b[0mlrs\u001b[0m \u001b[0;34m=\u001b[0m \u001b[0mnp\u001b[0m\u001b[0;34m.\u001b[0m\u001b[0marray\u001b[0m\u001b[0;34m(\u001b[0m\u001b[0;34m[\u001b[0m\u001b[0mlr\u001b[0m\u001b[0;34m/\u001b[0m\u001b[0;36m4\u001b[0m\u001b[0;34m,\u001b[0m\u001b[0mlr\u001b[0m\u001b[0;34m/\u001b[0m\u001b[0;36m2\u001b[0m\u001b[0;34m,\u001b[0m\u001b[0mlr\u001b[0m\u001b[0;34m]\u001b[0m\u001b[0;34m)\u001b[0m\u001b[0;34m\u001b[0m\u001b[0m\n\u001b[1;32m     18\u001b[0m     \u001b[0mlearn\u001b[0m\u001b[0;34m.\u001b[0m\u001b[0munfreeze\u001b[0m\u001b[0;34m(\u001b[0m\u001b[0;34m)\u001b[0m\u001b[0;34m\u001b[0m\u001b[0m\n",
      "\u001b[0;32m/media/rene/Data/fastai/fastai/learner.py\u001b[0m in \u001b[0;36mfit\u001b[0;34m(self, lrs, n_cycle, wds, **kwargs)\u001b[0m\n\u001b[1;32m    250\u001b[0m         \u001b[0mself\u001b[0m\u001b[0;34m.\u001b[0m\u001b[0msched\u001b[0m \u001b[0;34m=\u001b[0m \u001b[0;32mNone\u001b[0m\u001b[0;34m\u001b[0m\u001b[0m\n\u001b[1;32m    251\u001b[0m         \u001b[0mlayer_opt\u001b[0m \u001b[0;34m=\u001b[0m \u001b[0mself\u001b[0m\u001b[0;34m.\u001b[0m\u001b[0mget_layer_opt\u001b[0m\u001b[0;34m(\u001b[0m\u001b[0mlrs\u001b[0m\u001b[0;34m,\u001b[0m \u001b[0mwds\u001b[0m\u001b[0;34m)\u001b[0m\u001b[0;34m\u001b[0m\u001b[0m\n\u001b[0;32m--> 252\u001b[0;31m         \u001b[0;32mreturn\u001b[0m \u001b[0mself\u001b[0m\u001b[0;34m.\u001b[0m\u001b[0mfit_gen\u001b[0m\u001b[0;34m(\u001b[0m\u001b[0mself\u001b[0m\u001b[0;34m.\u001b[0m\u001b[0mmodel\u001b[0m\u001b[0;34m,\u001b[0m \u001b[0mself\u001b[0m\u001b[0;34m.\u001b[0m\u001b[0mdata\u001b[0m\u001b[0;34m,\u001b[0m \u001b[0mlayer_opt\u001b[0m\u001b[0;34m,\u001b[0m \u001b[0mn_cycle\u001b[0m\u001b[0;34m,\u001b[0m \u001b[0;34m**\u001b[0m\u001b[0mkwargs\u001b[0m\u001b[0;34m)\u001b[0m\u001b[0;34m\u001b[0m\u001b[0m\n\u001b[0m\u001b[1;32m    253\u001b[0m \u001b[0;34m\u001b[0m\u001b[0m\n\u001b[1;32m    254\u001b[0m     \u001b[0;32mdef\u001b[0m \u001b[0mwarm_up\u001b[0m\u001b[0;34m(\u001b[0m\u001b[0mself\u001b[0m\u001b[0;34m,\u001b[0m \u001b[0mlr\u001b[0m\u001b[0;34m,\u001b[0m \u001b[0mwds\u001b[0m\u001b[0;34m=\u001b[0m\u001b[0;32mNone\u001b[0m\u001b[0;34m)\u001b[0m\u001b[0;34m:\u001b[0m\u001b[0;34m\u001b[0m\u001b[0m\n",
      "\u001b[0;32m/media/rene/Data/fastai/fastai/learner.py\u001b[0m in \u001b[0;36mfit_gen\u001b[0;34m(self, model, data, layer_opt, n_cycle, cycle_len, cycle_mult, cycle_save_name, best_save_name, use_clr, use_clr_beta, metrics, callbacks, use_wd_sched, norm_wds, wds_sched_mult, all_val, **kwargs)\u001b[0m\n\u001b[1;32m    197\u001b[0m         \u001b[0mn_epoch\u001b[0m \u001b[0;34m=\u001b[0m \u001b[0msum_geom\u001b[0m\u001b[0;34m(\u001b[0m\u001b[0mcycle_len\u001b[0m \u001b[0;32mif\u001b[0m \u001b[0mcycle_len\u001b[0m \u001b[0;32melse\u001b[0m \u001b[0;36m1\u001b[0m\u001b[0;34m,\u001b[0m \u001b[0mcycle_mult\u001b[0m\u001b[0;34m,\u001b[0m \u001b[0mn_cycle\u001b[0m\u001b[0;34m)\u001b[0m\u001b[0;34m\u001b[0m\u001b[0m\n\u001b[1;32m    198\u001b[0m         return fit(model, data, n_epoch, layer_opt.opt, self.crit,\n\u001b[0;32m--> 199\u001b[0;31m             metrics=metrics, callbacks=callbacks, reg_fn=self.reg_fn, clip=self.clip, all_val=all_val, **kwargs)\n\u001b[0m\u001b[1;32m    200\u001b[0m \u001b[0;34m\u001b[0m\u001b[0m\n\u001b[1;32m    201\u001b[0m     \u001b[0;32mdef\u001b[0m \u001b[0mget_layer_groups\u001b[0m\u001b[0;34m(\u001b[0m\u001b[0mself\u001b[0m\u001b[0;34m)\u001b[0m\u001b[0;34m:\u001b[0m \u001b[0;32mreturn\u001b[0m \u001b[0mself\u001b[0m\u001b[0;34m.\u001b[0m\u001b[0mmodels\u001b[0m\u001b[0;34m.\u001b[0m\u001b[0mget_layer_groups\u001b[0m\u001b[0;34m(\u001b[0m\u001b[0;34m)\u001b[0m\u001b[0;34m\u001b[0m\u001b[0m\n",
      "\u001b[0;32m/media/rene/Data/fastai/fastai/model.py\u001b[0m in \u001b[0;36mfit\u001b[0;34m(model, data, epochs, opt, crit, metrics, callbacks, stepper, all_val, **kwargs)\u001b[0m\n\u001b[1;32m    119\u001b[0m         \u001b[0mi\u001b[0m \u001b[0;34m=\u001b[0m \u001b[0;36m0\u001b[0m\u001b[0;34m\u001b[0m\u001b[0m\n\u001b[1;32m    120\u001b[0m         \u001b[0;32mif\u001b[0m \u001b[0mall_val\u001b[0m\u001b[0;34m:\u001b[0m \u001b[0mval_iter\u001b[0m \u001b[0;34m=\u001b[0m \u001b[0miter_batch\u001b[0m\u001b[0;34m(\u001b[0m\u001b[0mdata\u001b[0m\u001b[0;34m.\u001b[0m\u001b[0mval_dl\u001b[0m\u001b[0;34m)\u001b[0m\u001b[0;34m\u001b[0m\u001b[0m\n\u001b[0;32m--> 121\u001b[0;31m         \u001b[0;32mfor\u001b[0m \u001b[0;34m(\u001b[0m\u001b[0;34m*\u001b[0m\u001b[0mx\u001b[0m\u001b[0;34m,\u001b[0m\u001b[0my\u001b[0m\u001b[0;34m)\u001b[0m \u001b[0;32min\u001b[0m \u001b[0mt\u001b[0m\u001b[0;34m:\u001b[0m\u001b[0;34m\u001b[0m\u001b[0m\n\u001b[0m\u001b[1;32m    122\u001b[0m             \u001b[0mbatch_num\u001b[0m \u001b[0;34m+=\u001b[0m \u001b[0;36m1\u001b[0m\u001b[0;34m\u001b[0m\u001b[0m\n\u001b[1;32m    123\u001b[0m             \u001b[0;32mfor\u001b[0m \u001b[0mcb\u001b[0m \u001b[0;32min\u001b[0m \u001b[0mcallbacks\u001b[0m\u001b[0;34m:\u001b[0m \u001b[0mcb\u001b[0m\u001b[0;34m.\u001b[0m\u001b[0mon_batch_begin\u001b[0m\u001b[0;34m(\u001b[0m\u001b[0;34m)\u001b[0m\u001b[0;34m\u001b[0m\u001b[0m\n",
      "\u001b[0;32m~/miniconda3/envs/fastai/lib/python3.6/site-packages/tqdm/_tqdm.py\u001b[0m in \u001b[0;36m__iter__\u001b[0;34m(self)\u001b[0m\n\u001b[1;32m    895\u001b[0m \"\"\", fp_write=getattr(self.fp, 'write', sys.stderr.write))\n\u001b[1;32m    896\u001b[0m \u001b[0;34m\u001b[0m\u001b[0m\n\u001b[0;32m--> 897\u001b[0;31m             \u001b[0;32mfor\u001b[0m \u001b[0mobj\u001b[0m \u001b[0;32min\u001b[0m \u001b[0miterable\u001b[0m\u001b[0;34m:\u001b[0m\u001b[0;34m\u001b[0m\u001b[0m\n\u001b[0m\u001b[1;32m    898\u001b[0m                 \u001b[0;32myield\u001b[0m \u001b[0mobj\u001b[0m\u001b[0;34m\u001b[0m\u001b[0m\n\u001b[1;32m    899\u001b[0m                 \u001b[0;31m# Update and possibly print the progressbar.\u001b[0m\u001b[0;34m\u001b[0m\u001b[0;34m\u001b[0m\u001b[0m\n",
      "\u001b[0;32m/media/rene/Data/fastai/fastai/dataloader.py\u001b[0m in \u001b[0;36m__iter__\u001b[0;34m(self)\u001b[0m\n\u001b[1;32m     82\u001b[0m                 \u001b[0;31m# avoid py3.6 issue where queue is infinite and can result in memory exhaustion\u001b[0m\u001b[0;34m\u001b[0m\u001b[0;34m\u001b[0m\u001b[0m\n\u001b[1;32m     83\u001b[0m                 \u001b[0;32mfor\u001b[0m \u001b[0mc\u001b[0m \u001b[0;32min\u001b[0m \u001b[0mchunk_iter\u001b[0m\u001b[0;34m(\u001b[0m\u001b[0miter\u001b[0m\u001b[0;34m(\u001b[0m\u001b[0mself\u001b[0m\u001b[0;34m.\u001b[0m\u001b[0mbatch_sampler\u001b[0m\u001b[0;34m)\u001b[0m\u001b[0;34m,\u001b[0m \u001b[0mself\u001b[0m\u001b[0;34m.\u001b[0m\u001b[0mnum_workers\u001b[0m\u001b[0;34m*\u001b[0m\u001b[0;36m10\u001b[0m\u001b[0;34m)\u001b[0m\u001b[0;34m:\u001b[0m\u001b[0;34m\u001b[0m\u001b[0m\n\u001b[0;32m---> 84\u001b[0;31m                     \u001b[0;32mfor\u001b[0m \u001b[0mbatch\u001b[0m \u001b[0;32min\u001b[0m \u001b[0me\u001b[0m\u001b[0;34m.\u001b[0m\u001b[0mmap\u001b[0m\u001b[0;34m(\u001b[0m\u001b[0mself\u001b[0m\u001b[0;34m.\u001b[0m\u001b[0mget_batch\u001b[0m\u001b[0;34m,\u001b[0m \u001b[0mc\u001b[0m\u001b[0;34m)\u001b[0m\u001b[0;34m:\u001b[0m \u001b[0;32myield\u001b[0m \u001b[0mget_tensor\u001b[0m\u001b[0;34m(\u001b[0m\u001b[0mbatch\u001b[0m\u001b[0;34m,\u001b[0m \u001b[0mself\u001b[0m\u001b[0;34m.\u001b[0m\u001b[0mpin_memory\u001b[0m\u001b[0;34m)\u001b[0m\u001b[0;34m\u001b[0m\u001b[0m\n\u001b[0m\u001b[1;32m     85\u001b[0m \u001b[0;34m\u001b[0m\u001b[0m\n",
      "\u001b[0;32m~/miniconda3/envs/fastai/lib/python3.6/concurrent/futures/_base.py\u001b[0m in \u001b[0;36mresult_iterator\u001b[0;34m()\u001b[0m\n\u001b[1;32m    584\u001b[0m                     \u001b[0;31m# Careful not to keep a reference to the popped future\u001b[0m\u001b[0;34m\u001b[0m\u001b[0;34m\u001b[0m\u001b[0m\n\u001b[1;32m    585\u001b[0m                     \u001b[0;32mif\u001b[0m \u001b[0mtimeout\u001b[0m \u001b[0;32mis\u001b[0m \u001b[0;32mNone\u001b[0m\u001b[0;34m:\u001b[0m\u001b[0;34m\u001b[0m\u001b[0m\n\u001b[0;32m--> 586\u001b[0;31m                         \u001b[0;32myield\u001b[0m \u001b[0mfs\u001b[0m\u001b[0;34m.\u001b[0m\u001b[0mpop\u001b[0m\u001b[0;34m(\u001b[0m\u001b[0;34m)\u001b[0m\u001b[0;34m.\u001b[0m\u001b[0mresult\u001b[0m\u001b[0;34m(\u001b[0m\u001b[0;34m)\u001b[0m\u001b[0;34m\u001b[0m\u001b[0m\n\u001b[0m\u001b[1;32m    587\u001b[0m                     \u001b[0;32melse\u001b[0m\u001b[0;34m:\u001b[0m\u001b[0;34m\u001b[0m\u001b[0m\n\u001b[1;32m    588\u001b[0m                         \u001b[0;32myield\u001b[0m \u001b[0mfs\u001b[0m\u001b[0;34m.\u001b[0m\u001b[0mpop\u001b[0m\u001b[0;34m(\u001b[0m\u001b[0;34m)\u001b[0m\u001b[0;34m.\u001b[0m\u001b[0mresult\u001b[0m\u001b[0;34m(\u001b[0m\u001b[0mend_time\u001b[0m \u001b[0;34m-\u001b[0m \u001b[0mtime\u001b[0m\u001b[0;34m.\u001b[0m\u001b[0mtime\u001b[0m\u001b[0;34m(\u001b[0m\u001b[0;34m)\u001b[0m\u001b[0;34m)\u001b[0m\u001b[0;34m\u001b[0m\u001b[0m\n",
      "\u001b[0;32m~/miniconda3/envs/fastai/lib/python3.6/concurrent/futures/_base.py\u001b[0m in \u001b[0;36mresult\u001b[0;34m(self, timeout)\u001b[0m\n\u001b[1;32m    425\u001b[0m                 \u001b[0;32mreturn\u001b[0m \u001b[0mself\u001b[0m\u001b[0;34m.\u001b[0m\u001b[0m__get_result\u001b[0m\u001b[0;34m(\u001b[0m\u001b[0;34m)\u001b[0m\u001b[0;34m\u001b[0m\u001b[0m\n\u001b[1;32m    426\u001b[0m \u001b[0;34m\u001b[0m\u001b[0m\n\u001b[0;32m--> 427\u001b[0;31m             \u001b[0mself\u001b[0m\u001b[0;34m.\u001b[0m\u001b[0m_condition\u001b[0m\u001b[0;34m.\u001b[0m\u001b[0mwait\u001b[0m\u001b[0;34m(\u001b[0m\u001b[0mtimeout\u001b[0m\u001b[0;34m)\u001b[0m\u001b[0;34m\u001b[0m\u001b[0m\n\u001b[0m\u001b[1;32m    428\u001b[0m \u001b[0;34m\u001b[0m\u001b[0m\n\u001b[1;32m    429\u001b[0m             \u001b[0;32mif\u001b[0m \u001b[0mself\u001b[0m\u001b[0;34m.\u001b[0m\u001b[0m_state\u001b[0m \u001b[0;32min\u001b[0m \u001b[0;34m[\u001b[0m\u001b[0mCANCELLED\u001b[0m\u001b[0;34m,\u001b[0m \u001b[0mCANCELLED_AND_NOTIFIED\u001b[0m\u001b[0;34m]\u001b[0m\u001b[0;34m:\u001b[0m\u001b[0;34m\u001b[0m\u001b[0m\n",
      "\u001b[0;32m~/miniconda3/envs/fastai/lib/python3.6/threading.py\u001b[0m in \u001b[0;36mwait\u001b[0;34m(self, timeout)\u001b[0m\n\u001b[1;32m    293\u001b[0m         \u001b[0;32mtry\u001b[0m\u001b[0;34m:\u001b[0m    \u001b[0;31m# restore state no matter what (e.g., KeyboardInterrupt)\u001b[0m\u001b[0;34m\u001b[0m\u001b[0m\n\u001b[1;32m    294\u001b[0m             \u001b[0;32mif\u001b[0m \u001b[0mtimeout\u001b[0m \u001b[0;32mis\u001b[0m \u001b[0;32mNone\u001b[0m\u001b[0;34m:\u001b[0m\u001b[0;34m\u001b[0m\u001b[0m\n\u001b[0;32m--> 295\u001b[0;31m                 \u001b[0mwaiter\u001b[0m\u001b[0;34m.\u001b[0m\u001b[0macquire\u001b[0m\u001b[0;34m(\u001b[0m\u001b[0;34m)\u001b[0m\u001b[0;34m\u001b[0m\u001b[0m\n\u001b[0m\u001b[1;32m    296\u001b[0m                 \u001b[0mgotit\u001b[0m \u001b[0;34m=\u001b[0m \u001b[0;32mTrue\u001b[0m\u001b[0;34m\u001b[0m\u001b[0m\n\u001b[1;32m    297\u001b[0m             \u001b[0;32melse\u001b[0m\u001b[0;34m:\u001b[0m\u001b[0;34m\u001b[0m\u001b[0m\n",
      "\u001b[0;31mKeyboardInterrupt\u001b[0m: "
     ]
    }
   ],
   "source": [
    "arch = dn169\n",
    "models_name = 'dn169_full'\n",
    "\n",
    "lr=np.array([1e-3,5e-3,1e-2])\n",
    "\n",
    "sz = 224\n",
    "PATH = '/media/rene/Data/camelyon_out/tiles_224_100t'\n",
    "\n",
    "for i in range(10):\n",
    "    print(i)\n",
    "    tfms = tfms_from_model(arch, sz, aug_tfms=transforms_top_down, max_zoom=1)\n",
    "    data = ImageClassifierData.from_paths(PATH, tfms=tfms, bs=24)\n",
    "    learn = ConvLearner.pretrained(arch, data, precompute=False)\n",
    "    \n",
    "    lr =.001\n",
    "    learn.fit(lr, 1, cycle_len=1, cycle_mult=1) # train last few layers\n",
    "    lrs = np.array([lr/4,lr/2,lr])\n",
    "    learn.unfreeze()\n",
    "    learn.fit(lrs, 3, cycle_len=1, cycle_mult=2, best_save_name=models_name+'_'+str(i)) # train whole model"
   ]
  },
  {
   "cell_type": "code",
   "execution_count": 23,
   "metadata": {},
   "outputs": [
    {
     "name": "stdout",
     "output_type": "stream",
     "text": [
      "dn169_full_0 :    0.9473053892215569\n",
      "dn169_full_1 :    0.9489820359281437\n",
      "dn169_full_2 :    0.947185628742515\n",
      "dn169_full_3 :    0.9474251497005988\n",
      "dn169_full_4 :    0.9480838323353293\n",
      "dn169_full_5 :    0.9469461077844311\n",
      "dn169_full_6 :    0.9459880239520958\n",
      "dn169_full_7 :    0.9487425149700599\n",
      "dn169_full_8 :    0.9464670658682635\n",
      "dn169_full_9 :    0.9488622754491018\n",
      "[0.1 0.1 0.1 0.1 0.1 0.1 0.1 0.1 0.1 0.1]\n",
      "Power: 0 Accuracy:  0.9508383233532934\n",
      "[0.09813 0.10813 0.09747 0.0988  0.10261 0.09615 0.09112 0.10662 0.09359 0.10737]\n",
      "Power: 3 Accuracy:  0.9507784431137725\n",
      "[0.09599 0.11655 0.0947  0.09731 0.10496 0.09216 0.08278 0.11332 0.08732 0.11492]\n",
      "Power: 6 Accuracy:  0.9508982035928144\n",
      "[0.09361 0.12523 0.09171 0.09554 0.10702 0.08805 0.07495 0.12006 0.08121 0.12261]\n",
      "Power: 9 Accuracy:  0.9507784431137725\n",
      "[0.09099 0.13413 0.08855 0.09351 0.10879 0.08387 0.06766 0.1268  0.07529 0.13041]\n",
      "Power: 12 Accuracy:  0.9506586826347305\n",
      "[0.08818 0.14322 0.08523 0.09124 0.11024 0.07963 0.06089 0.13351 0.06959 0.13827]\n",
      "Power: 15 Accuracy:  0.9505988023952096\n",
      "[0.08519 0.15247 0.08178 0.08875 0.11136 0.07538 0.05462 0.14014 0.06412 0.14617]\n",
      "Power: 18 Accuracy:  0.9506586826347305\n"
     ]
    }
   ],
   "source": [
    "PATH = '/media/rene/Data/camelyon_out/tiles_224_100t'\n",
    "\n",
    "models_arch = [dn169 for i in range(10)]\n",
    "models_name = ['dn169_full_'+str(i) for i in range(10)]\n",
    "\n",
    "perf = get_best_ensemble_acc(models_arch, models_name, PATH)"
   ]
  },
  {
   "cell_type": "code",
   "execution_count": 26,
   "metadata": {},
   "outputs": [
    {
     "data": {
      "image/png": "[encoded data removed]",
      "text/plain": [
       "<Figure size 720x576 with 1 Axes>"
      ]
     },
     "metadata": {},
     "output_type": "display_data"
    }
   ],
   "source": [
    "plot_names = [model.rsplit('_', 1)[0].rsplit('_', 1)[0] for model in models_name]\n",
    "plot_names = plot_names + ['Ensemble']\n",
    "perf_all = perf + [0.950838]\n",
    "\n",
    "# perf_all, plot_names = (list(t) for t in zip(*sorted(zip(perf_all, plot_names))))\n",
    "\n",
    "x = np.arange(len(plot_names))\n",
    "low = min(perf_all)\n",
    "high = max(perf_all)\n",
    "\n",
    "fig, ax = plt.subplots(figsize=(10, 8))\n",
    "plt.bar(range(len(plot_names)), perf_all)\n",
    "plt.xticks(x, plot_names)\n",
    "plt.tick_params(labelsize=16)\n",
    "plt.xticks(rotation=90)\n",
    "plt.ylim([low-0.5*(high-low), high+0.5*(high-low)])\n",
    "plt.title('DenseNet 169 Ensemble ', fontsize=20)\n",
    "plt.show()\n",
    "\n",
    "fig.savefig('/media/rene/Data/camelyon_out/figures/dn169_ensemble.jpeg', bbox_inches='tight', pad_inches=0)"
   ]
  },
  {
   "cell_type": "markdown",
   "metadata": {},
   "source": [
    "# Test Model Size vs. Ensemble Performance\n",
    "* Train 5 models of each architecture on the full datset"
   ]
  },
  {
   "cell_type": "code",
   "execution_count": null,
   "metadata": {},
   "outputs": [
    {
     "name": "stdout",
     "output_type": "stream",
     "text": [
      "0\n"
     ]
    },
    {
     "data": {
      "application/vnd.jupyter.widget-view+json": {
       "model_id": "ed794a10223e48459b4dac337f8ea63b",
       "version_major": 2,
       "version_minor": 0
      },
      "text/plain": [
       "HBox(children=(IntProgress(value=0, description='Epoch', max=1), HTML(value='')))"
      ]
     },
     "metadata": {},
     "output_type": "display_data"
    },
    {
     "name": "stdout",
     "output_type": "stream",
     "text": [
      "epoch      trn_loss   val_loss   accuracy                      \n",
      "    0      0.287159   0.247788   0.891976  \n",
      "\n"
     ]
    },
    {
     "data": {
      "application/vnd.jupyter.widget-view+json": {
       "model_id": "aa01a1399926453c8c84145c6434dbc7",
       "version_major": 2,
       "version_minor": 0
      },
      "text/plain": [
       "HBox(children=(IntProgress(value=0, description='Epoch', max=7), HTML(value='')))"
      ]
     },
     "metadata": {},
     "output_type": "display_data"
    },
    {
     "name": "stdout",
     "output_type": "stream",
     "text": [
      "epoch      trn_loss   val_loss   accuracy                      \n",
      "    0      0.20646    0.184503   0.920599  \n",
      "    1      0.180768   0.162556   0.932635                      \n",
      "    2      0.188344   0.159913   0.934192                      \n",
      "    3      0.177259   0.14962    0.938024                      \n",
      "    4      0.168639   0.153127   0.934012                      \n",
      "    5      0.161502   0.153624   0.933293                      \n",
      "    6      0.158739   0.148613   0.937365                      \n",
      "\n",
      "1\n"
     ]
    },
    {
     "data": {
      "application/vnd.jupyter.widget-view+json": {
       "model_id": "cd479fa7f8e2482b82e30ec1b71dc347",
       "version_major": 2,
       "version_minor": 0
      },
      "text/plain": [
       "HBox(children=(IntProgress(value=0, description='Epoch', max=1), HTML(value='')))"
      ]
     },
     "metadata": {},
     "output_type": "display_data"
    },
    {
     "name": "stdout",
     "output_type": "stream",
     "text": [
      "epoch      trn_loss   val_loss   accuracy                      \n",
      "    0      0.273645   0.252475   0.890599  \n",
      "\n"
     ]
    },
    {
     "data": {
      "application/vnd.jupyter.widget-view+json": {
       "model_id": "2333d8cd3d054fe1815dc8167c73f6ad",
       "version_major": 2,
       "version_minor": 0
      },
      "text/plain": [
       "HBox(children=(IntProgress(value=0, description='Epoch', max=7), HTML(value='')))"
      ]
     },
     "metadata": {},
     "output_type": "display_data"
    },
    {
     "name": "stdout",
     "output_type": "stream",
     "text": [
      "epoch      trn_loss   val_loss   accuracy                      \n",
      "    0      0.208263   0.18727    0.91976   \n",
      "    1      0.199342   0.167437   0.92988                       \n",
      "    2      0.179781   0.1672     0.929701                      \n",
      "    3      0.174061   0.158491   0.934192                      \n",
      "    4      0.168368   0.151634   0.936527                      \n",
      "    5      0.164343   0.151816   0.937844                      \n",
      "    6      0.174296   0.150102   0.938563                      \n",
      "\n",
      "2\n"
     ]
    },
    {
     "data": {
      "application/vnd.jupyter.widget-view+json": {
       "model_id": "c6a701c08c2045648300b6cf0f94b7ee",
       "version_major": 2,
       "version_minor": 0
      },
      "text/plain": [
       "HBox(children=(IntProgress(value=0, description='Epoch', max=1), HTML(value='')))"
      ]
     },
     "metadata": {},
     "output_type": "display_data"
    },
    {
     "name": "stdout",
     "output_type": "stream",
     "text": [
      "epoch      trn_loss   val_loss   accuracy                      \n",
      "    0      0.286319   0.253799   0.891257  \n",
      "\n"
     ]
    },
    {
     "data": {
      "application/vnd.jupyter.widget-view+json": {
       "model_id": "7d153097d0c54c13833ecb9a117aa534",
       "version_major": 2,
       "version_minor": 0
      },
      "text/plain": [
       "HBox(children=(IntProgress(value=0, description='Epoch', max=7), HTML(value='')))"
      ]
     },
     "metadata": {},
     "output_type": "display_data"
    },
    {
     "name": "stdout",
     "output_type": "stream",
     "text": [
      "epoch      trn_loss   val_loss   accuracy                      \n",
      "    0      0.21792    0.181607   0.923234  \n",
      "    1      0.189015   0.160477   0.933054                      \n",
      "    2      0.181705   0.157013   0.934611                      \n",
      "    3      0.175684   0.152211   0.935269                      \n",
      "    4      0.164098   0.14431    0.940299                      \n",
      "    5      0.153495   0.145324   0.938862                      \n",
      "    6      0.168139   0.146701   0.937964                      \n",
      "\n",
      "3\n"
     ]
    },
    {
     "data": {
      "application/vnd.jupyter.widget-view+json": {
       "model_id": "c853870c1407416f8ebed24c12ec75dd",
       "version_major": 2,
       "version_minor": 0
      },
      "text/plain": [
       "HBox(children=(IntProgress(value=0, description='Epoch', max=1), HTML(value='')))"
      ]
     },
     "metadata": {},
     "output_type": "display_data"
    },
    {
     "name": "stdout",
     "output_type": "stream",
     "text": [
      "epoch      trn_loss   val_loss   accuracy                      \n",
      "    0      0.290365   0.252309   0.889521  \n",
      "\n"
     ]
    },
    {
     "data": {
      "application/vnd.jupyter.widget-view+json": {
       "model_id": "cde7b0c505f9402eaebc62f53a827a06",
       "version_major": 2,
       "version_minor": 0
      },
      "text/plain": [
       "HBox(children=(IntProgress(value=0, description='Epoch', max=7), HTML(value='')))"
      ]
     },
     "metadata": {},
     "output_type": "display_data"
    },
    {
     "name": "stdout",
     "output_type": "stream",
     "text": [
      "epoch      trn_loss   val_loss   accuracy                      \n",
      "    0      0.210551   0.181161   0.924132  \n",
      "    1      0.18992    0.161153   0.933593                      \n",
      "    2      0.185731   0.16036    0.934371                      \n",
      "    3      0.183232   0.155669   0.935449                      \n",
      "    4      0.162197   0.149405   0.938084                      \n",
      "    5      0.162431   0.146355   0.94024                       \n",
      "    6      0.160341   0.144416   0.941377                      \n",
      "\n",
      "4\n"
     ]
    },
    {
     "data": {
      "application/vnd.jupyter.widget-view+json": {
       "model_id": "2bf3b000fa2e43a480ee249c6b3a435b",
       "version_major": 2,
       "version_minor": 0
      },
      "text/plain": [
       "HBox(children=(IntProgress(value=0, description='Epoch', max=1), HTML(value='')))"
      ]
     },
     "metadata": {},
     "output_type": "display_data"
    },
    {
     "name": "stdout",
     "output_type": "stream",
     "text": [
      "epoch      trn_loss   val_loss   accuracy                      \n",
      "    0      0.287338   0.238616   0.895749  \n",
      "\n"
     ]
    },
    {
     "data": {
      "application/vnd.jupyter.widget-view+json": {
       "model_id": "f1cf0dd5ba4549fbaf149ae7db8989f6",
       "version_major": 2,
       "version_minor": 0
      },
      "text/plain": [
       "HBox(children=(IntProgress(value=0, description='Epoch', max=7), HTML(value='')))"
      ]
     },
     "metadata": {},
     "output_type": "display_data"
    },
    {
     "name": "stdout",
     "output_type": "stream",
     "text": [
      "epoch      trn_loss   val_loss   accuracy                      \n",
      "    0      0.205669   0.184046   0.920778  \n",
      " 26%|██▋       | 344/1302 [01:02<02:53,  5.54it/s, loss=0.197]"
     ]
    }
   ],
   "source": [
    "arch = resnet18\n",
    "models_name = 'resnet18_full'\n",
    "\n",
    "lr=np.array([1e-3,5e-3,1e-2])\n",
    "\n",
    "sz = 224\n",
    "PATH = '/media/rene/Data/camelyon_out/tiles_224_100t'\n",
    "\n",
    "for i in range(5):\n",
    "    print(i)\n",
    "    tfms = tfms_from_model(arch, sz, aug_tfms=transforms_top_down, max_zoom=1)\n",
    "    data = ImageClassifierData.from_paths(PATH, tfms=tfms, bs=64)\n",
    "    learn = ConvLearner.pretrained(arch, data, precompute=False)\n",
    "    \n",
    "    lr =.001\n",
    "    learn.fit(lr, 1, cycle_len=1, cycle_mult=1) # train last few layers\n",
    "    lrs = np.array([lr/4,lr/2,lr])\n",
    "    learn.unfreeze()\n",
    "    learn.fit(lrs, 3, cycle_len=1, cycle_mult=2, best_save_name=models_name+'_'+str(i)) # train whole model"
   ]
  },
  {
   "cell_type": "code",
   "execution_count": null,
   "metadata": {},
   "outputs": [],
   "source": [
    "arch = resnet34\n",
    "models_name = 'resnet34_full'\n",
    "\n",
    "lr=np.array([1e-3,5e-3,1e-2])\n",
    "\n",
    "sz = 224\n",
    "PATH = '/media/rene/Data/camelyon_out/tiles_224_100t'\n",
    "\n",
    "for i in range(5):\n",
    "    print(i)\n",
    "    tfms = tfms_from_model(arch, sz, aug_tfms=transforms_top_down, max_zoom=1)\n",
    "    data = ImageClassifierData.from_paths(PATH, tfms=tfms, bs=64)\n",
    "    learn = ConvLearner.pretrained(arch, data, precompute=False)\n",
    "    \n",
    "    lr =.001\n",
    "    learn.fit(lr, 1, cycle_len=1, cycle_mult=1) # train last few layers\n",
    "    lrs = np.array([lr/4,lr/2,lr])\n",
    "    learn.unfreeze()\n",
    "    learn.fit(lrs, 3, cycle_len=1, cycle_mult=2, best_save_name=models_name+'_'+str(i)) # train whole model"
   ]
  },
  {
   "cell_type": "code",
   "execution_count": null,
   "metadata": {},
   "outputs": [],
   "source": [
    "arch = resnet50\n",
    "models_name = 'resnet50_full'\n",
    "\n",
    "lr=np.array([1e-3,5e-3,1e-2])\n",
    "\n",
    "sz = 224\n",
    "PATH = '/media/rene/Data/camelyon_out/tiles_224_100t'\n",
    "\n",
    "for i in range(5):\n",
    "    print(i)\n",
    "    tfms = tfms_from_model(arch, sz, aug_tfms=transforms_top_down, max_zoom=1)\n",
    "    data = ImageClassifierData.from_paths(PATH, tfms=tfms, bs=64)\n",
    "    learn = ConvLearner.pretrained(arch, data, precompute=False)\n",
    "    \n",
    "    lr =.001\n",
    "    learn.fit(lr, 1, cycle_len=1, cycle_mult=1) # train last few layers\n",
    "    lrs = np.array([lr/4,lr/2,lr])\n",
    "    learn.unfreeze()\n",
    "    learn.fit(lrs, 3, cycle_len=1, cycle_mult=2, best_save_name=models_name+'_'+str(i)) # train whole model"
   ]
  },
  {
   "cell_type": "code",
   "execution_count": null,
   "metadata": {},
   "outputs": [],
   "source": [
    "arch = resnet101\n",
    "models_name = 'resnet101_full'\n",
    "\n",
    "lr=np.array([1e-3,5e-3,1e-2])\n",
    "\n",
    "sz = 224\n",
    "PATH = '/media/rene/Data/camelyon_out/tiles_224_100t'\n",
    "\n",
    "for i in range(5):\n",
    "    print(i)\n",
    "    tfms = tfms_from_model(arch, sz, aug_tfms=transforms_top_down, max_zoom=1)\n",
    "    data = ImageClassifierData.from_paths(PATH, tfms=tfms, bs=64)\n",
    "    learn = ConvLearner.pretrained(arch, data, precompute=False)\n",
    "    \n",
    "    lr =.001\n",
    "    learn.fit(lr, 1, cycle_len=1, cycle_mult=1) # train last few layers\n",
    "    lrs = np.array([lr/4,lr/2,lr])\n",
    "    learn.unfreeze()\n",
    "    learn.fit(lrs, 3, cycle_len=1, cycle_mult=2, best_save_name=models_name+'_'+str(i)) # train whole model"
   ]
  },
  {
   "cell_type": "markdown",
   "metadata": {},
   "source": [
    "### Get performance\n",
    "* Look at how average model perfromace and the ensemble performance vary with model size\n",
    "* Look at variance of the predictors?"
   ]
  },
  {
   "cell_type": "code",
   "execution_count": 2,
   "metadata": {},
   "outputs": [
    {
     "name": "stdout",
     "output_type": "stream",
     "text": [
      "Exception reporting mode: Verbose\n"
     ]
    }
   ],
   "source": [
    "%xmode verbose"
   ]
  },
  {
   "cell_type": "code",
   "execution_count": 2,
   "metadata": {},
   "outputs": [
    {
     "name": "stdout",
     "output_type": "stream",
     "text": [
      "resnet18_full_0 :    0.9380239520958084\n",
      "resnet18_full_1 :    0.938562874251497\n",
      "resnet18_full_2 :    0.9402994011976048\n",
      "resnet18_full_3 :    0.941377245508982\n",
      "resnet18_full_4 :    0.9358083832335329\n",
      "0.941377245508982\n",
      "resnet34_full_0 :    0.9398802395209581\n",
      "resnet34_full_1 :    0.9402994011976048\n",
      "resnet34_full_2 :    0.9410179640718563\n",
      "resnet34_full_3 :    0.9413173652694611\n",
      "resnet34_full_4 :    0.9432934131736527\n",
      "0.9423952095808383\n",
      "resnet50_full_0 :    0.9440718562874252\n",
      "resnet50_full_1 :    0.9449700598802395\n",
      "resnet50_full_2 :    0.9423952095808383\n",
      "resnet50_full_3 :    0.9432934131736527\n",
      "resnet50_full_4 :    0.942934131736527\n",
      "0.9463473053892215\n",
      "resnet101_full_0 :    0.9454491017964072\n",
      "resnet101_full_1 :    0.9468862275449101\n",
      "resnet101_full_2 :    0.9437125748502994\n",
      "resnet101_full_3 :    0.9465868263473054\n",
      "resnet101_full_4 :    0.9474850299401197\n",
      "0.948443113772455\n"
     ]
    }
   ],
   "source": [
    "PATH = '/media/rene/Data/camelyon_out/tiles_224_100t'\n",
    "\n",
    "PATH = '/media/rene/Data/camelyon_out/tiles_224_100t/'\n",
    "models_path = '/media/rene/Data/camelyon_out/tiles_224_100t/'\n",
    "\n",
    "models_arch = [resnet18]*5\n",
    "models_name = ['resnet18_full_'+str(i) for i in range (5)]\n",
    "acc_r18, acc_list_r18, int_acc_list_r18 = ensemble_acc_dir(models_arch, \n",
    "                                                                   models_name, models_path, PATH, weights=None)\n",
    "\n",
    "models_arch = [resnet34]*5\n",
    "models_name = ['resnet34_full_'+str(i) for i in range (5)]\n",
    "acc_r34, acc_list_r34, int_acc_list_r34 = ensemble_acc_dir(models_arch, \n",
    "                                                                   models_name, models_path, PATH, weights=None)\n",
    "\n",
    "models_arch = [resnet50]*5\n",
    "models_name = ['resnet50_full_'+str(i) for i in range (5)]\n",
    "acc_r50, acc_list_r50, int_acc_list_r50 = ensemble_acc_dir(models_arch, \n",
    "                                                                   models_name, models_path, PATH, weights=None)\n",
    "\n",
    "models_arch = [resnet101]*5\n",
    "models_name = ['resnet101_full_'+str(i) for i in range (5)]\n",
    "acc_r101, acc_list_r101, int_acc_list_r101 = ensemble_acc_dir(models_arch, \n",
    "                                                                   models_name, models_path, PATH, weights=None)"
   ]
  },
  {
   "cell_type": "code",
   "execution_count": 21,
   "metadata": {},
   "outputs": [
    {
     "data": {
      "image/png": "[encoded data removed]",
      "text/plain": [
       "<Figure size 720x576 with 2 Axes>"
      ]
     },
     "metadata": {},
     "output_type": "display_data"
    }
   ],
   "source": [
    "names = ['ResNet18', 'ResNet34', 'ResNet50', 'ResNet101']\n",
    "data = [acc_list_r18, acc_list_r34, acc_list_r50, acc_list_r101]\n",
    "\n",
    "mean_all = [np.mean(perf) for perf in data]\n",
    "var_all = [np.var(perf) for perf in data]\n",
    "perf_all = [acc_r18, acc_r34, acc_r50, acc_r101]\n",
    "\n",
    "x = np.arange(len(names))\n",
    "fig, ax1 = plt.subplots(figsize=(10, 8))\n",
    "ax2 = ax1.twinx()\n",
    "\n",
    "ax1.plot(x, perf_all, color='r')\n",
    "ax1.plot(x, mean_all, color='g')\n",
    "\n",
    "ax1.set_xlabel('Model', fontsize=12)\n",
    "ax1.set_ylabel('Accuracy', fontsize=12)\n",
    "\n",
    "ax2.plot(x, var_all, color='b')\n",
    "ax2.set_ylabel('Variance', fontsize=12)\n",
    "\n",
    "ax1.legend(['Ensemble Performance', 'Performance Mean'], loc='upper left')\n",
    "ax2.legend(['Performance Variance'], loc='upper right')\n",
    "\n",
    "plt.xticks(x, names)\n",
    "ax1.tick_params(labelsize=14)\n",
    "\n",
    "plt.title('Varying Model Size, ResNet18 - 101', fontsize=20)\n",
    "plt.show()\n",
    "\n",
    "fig.savefig('/media/rene/Data/camelyon_out/figures/model_size.jpeg', bbox_inches='tight', pad_inches=0)"
   ]
  },
  {
   "cell_type": "markdown",
   "metadata": {},
   "source": [
    "# Overall Performance Comparision"
   ]
  },
  {
   "cell_type": "code",
   "execution_count": null,
   "metadata": {},
   "outputs": [],
   "source": []
  }
 ],
 "metadata": {
  "kernelspec": {
   "display_name": "Python 3",
   "language": "python",
   "name": "python3"
  },
  "language_info": {
   "codemirror_mode": {
    "name": "ipython",
    "version": 3
   },
   "file_extension": ".py",
   "mimetype": "text/x-python",
   "name": "python",
   "nbconvert_exporter": "python",
   "pygments_lexer": "ipython3",
   "version": "3.6.5"
  }
 },
 "nbformat": 4,
 "nbformat_minor": 2
}
