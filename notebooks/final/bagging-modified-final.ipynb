{
 "cells": [
  {
   "cell_type": "markdown",
   "metadata": {},
   "source": [
    "## Bagging wth resnet 50, varying number of samples"
   ]
  },
  {
   "cell_type": "code",
   "execution_count": 1,
   "metadata": {},
   "outputs": [
    {
     "name": "stdout",
     "output_type": "stream",
     "text": [
      "/media/rene/Data/camelyon/src\n",
      "True\n",
      "1\n"
     ]
    }
   ],
   "source": [
    "import os\n",
    "import sys\n",
    "import glob\n",
    "import random\n",
    "import pickle\n",
    "import numpy as np\n",
    "import pandas as pd\n",
    "from tqdm import tqdm\n",
    "\n",
    "import torch\n",
    "import torch.nn as nn\n",
    "from torch.autograd import Variable\n",
    "import torch.utils.data\n",
    "import torchvision.models as models\n",
    "from torchvision import datasets, models, transforms\n",
    "import torch.optim as optim\n",
    "from torch.optim import lr_scheduler\n",
    "from torch.utils.data import Dataset, DataLoader\n",
    "from torchvision import transforms, utils\n",
    "\n",
    "from fastai.imports import *\n",
    "from fastai.transforms import *\n",
    "from fastai.conv_learner import *\n",
    "from fastai.model import *\n",
    "from fastai.dataset import *\n",
    "from fastai.sgdr import *\n",
    "from fastai.plots import *\n",
    "\n",
    "SEED = 101\n",
    "np.random.seed(SEED)\n",
    "from torchvision import datasets, models, transforms\n",
    "\n",
    "%reload_ext autoreload\n",
    "%autoreload 2\n",
    "%matplotlib inline\n",
    "\n",
    "# Add the src directory for functions\n",
    "src_dir = os.path.join(os.path.dirname(os.path.dirname(os.getcwd())), 'src')\n",
    "print(src_dir)\n",
    "sys.path.append(src_dir)\n",
    "\n",
    "# import my functions:\n",
    "from WSI_pytorch_utils import*\n",
    "from other_functions import*\n",
    "\n",
    "fast_ai_dir = '/media/rene/Data/fastai/'\n",
    "sys.path.append(fast_ai_dir)\n",
    "\n",
    "torch.cuda.set_device(1)\n",
    "print(torch.cuda.is_available())\n",
    "print(torch.cuda.current_device())"
   ]
  },
  {
   "cell_type": "code",
   "execution_count": 3,
   "metadata": {},
   "outputs": [
    {
     "name": "stdout",
     "output_type": "stream",
     "text": [
      "{'normal_vaild_idx': array([ 95,  11,  81,  70,  63,  87,  75, 137,  40, 132,  63,  60, 110,   5, 140,  40,  49,  83, 111, 136,\n",
      "       115, 157, 115,  59,  44,  72,  19, 126, 138,  76, 107,  87]), 'tumor_vaild_idx': array([  0, 105,  73,   8,  62,  36,  83,  99,  28,  63,   7,  10,  52,  56, 103,  38,  73,  52,  18,  71,\n",
      "       103,  15])}\n"
     ]
    }
   ],
   "source": [
    "ttv_split = np.load('/media/rene/Data/camelyon/other/ttv_split.p')\n",
    "print(ttv_split)"
   ]
  },
  {
   "cell_type": "code",
   "execution_count": 4,
   "metadata": {},
   "outputs": [],
   "source": [
    "# get data\n",
    "data_loc = '/media/rene/Data/camelyon_out/tiles_224_100t_all'\n",
    "all_imgs = glob(data_loc+'/*')\n",
    "img_names = [loc.rsplit('/', 1)[-1] for loc in all_imgs]\n",
    "\n",
    "# load train valid split\n",
    "ttv_split = np.load('/media/rene/Data/camelyon/other/ttv_split.p')\n",
    "normal_valid = ttv_split['normal_vaild_idx']\n",
    "tumor_valid = ttv_split['tumor_vaild_idx']\n",
    "normal_train = list(range(1, 161))\n",
    "normal_train = [num for num in normal_train if num not in normal_valid]\n",
    "tumor_train = list(range(1, 111))\n",
    "tumor_train = [num for num in tumor_train if num not in tumor_valid]"
   ]
  },
  {
   "cell_type": "code",
   "execution_count": 5,
   "metadata": {},
   "outputs": [],
   "source": [
    "# get classes corresponding to each file\n",
    "def get_label(name):\n",
    "    if name.rsplit('_', 1)[-2][-5:]=='tumor':\n",
    "        label = 'tumor'\n",
    "    else: \n",
    "        label = 'normal'\n",
    "    return label\n",
    "\n",
    "classes = [get_label(name) for name in img_names]\n",
    "\n",
    "# make csv\n",
    "labels_df = pd.DataFrame(\n",
    "    {'file_name': img_names,\n",
    "     'label': classes\n",
    "    })\n",
    "\n",
    "# labels_df.to_csv('/media/rene/Data/camelyon_out/tiles_224_100t_all_other/tiles_224_100t_all_labels.csv')"
   ]
  },
  {
   "cell_type": "code",
   "execution_count": 6,
   "metadata": {},
   "outputs": [],
   "source": [
    "# get the validation indices from the big list\n",
    "def is_validation(name, normal_valid, tumor_valid):\n",
    "    normal_valid = [int(x) for x in normal_valid]\n",
    "    tumor_valid = [int(x) for x in tumor_valid]\n",
    "    num = int(name.split('_', 1)[1].split('_', 1)[0])\n",
    "    \n",
    "    if classes[idx] == 'normal':\n",
    "        return num in normal_valid\n",
    "    \n",
    "    elif classes[idx] == 'tumor':\n",
    "        return num in tumor_valid\n",
    "    else:\n",
    "        raise ValueError(\"tile isn't tumor or non tumor\")\n",
    "\n",
    "valid_idxs = []\n",
    "for idx, name in enumerate(img_names):\n",
    "    if is_validation(name, normal_valid, tumor_valid):\n",
    "        valid_idxs.append(idx)\n",
    "        \n",
    "# with open('/media/rene/Data/camelyon_out/tiles_224_100t_all_other/tiles_224_100t_all_val_idxs.p', 'wb') as fp:\n",
    "#     pickle.dump(valid_idxs, fp)\n",
    "\n",
    "def make_validation_mask(data_df, normal_valid, tumor_valid):\n",
    "    img_names = data_df['file_name'].tolist()\n",
    "    valid_idxs = [is_validation(name, normal_valid, tumor_valid) for name in img_names]\n",
    "    return valid_idxs"
   ]
  },
  {
   "cell_type": "code",
   "execution_count": 7,
   "metadata": {},
   "outputs": [],
   "source": [
    "# get the indices of slides to use\n",
    "def make_sample(labels_df, normal_train, tumor_train, downsample=2):\n",
    "    normal_train_subset = random.sample(normal_train, int(len(normal_train)/int(downsample)))\n",
    "    normal_train_subset = [int(x) for x in normal_train_subset]\n",
    "    \n",
    "    tumor_train_subset = random.sample(tumor_train, int(len(tumor_train)/int(downsample)))\n",
    "    tumor_train_subset = [int(x) for x in tumor_train_subset]\n",
    "    \n",
    "    drop_rows = []\n",
    "    for index, row in labels_df.iterrows():\n",
    "        label = row['label']\n",
    "        num = int(row['file_name'].split('_', 1)[1].split('_', 1)[0])\n",
    "        \n",
    "        if label == 'normal' and num not in normal_train_subset:\n",
    "            drop_rows.append(index)\n",
    "        elif label == 'tumor' and num not in tumor_train_subset:\n",
    "            drop_rows.append(index)\n",
    "    \n",
    "    subset_labels_df = labels_df.drop(labels_df.index[drop_rows])\n",
    "    return subset_labels_df"
   ]
  },
  {
   "cell_type": "code",
   "execution_count": null,
   "metadata": {},
   "outputs": [
    {
     "name": "stdout",
     "output_type": "stream",
     "text": [
      "\r",
      "  0%|          | 0/10 [00:00<?, ?it/s]"
     ]
    },
    {
     "data": {
      "application/vnd.jupyter.widget-view+json": {
       "model_id": "6a127de440a645dcb28b582f7944caf5",
       "version_major": 2,
       "version_minor": 0
      },
      "text/plain": [
       "HBox(children=(IntProgress(value=0, description='Epoch', max=1), HTML(value='')))"
      ]
     },
     "metadata": {},
     "output_type": "display_data"
    },
    {
     "name": "stdout",
     "output_type": "stream",
     "text": [
      "\n",
      "epoch      trn_loss   val_loss   accuracy                      \n",
      "    0      0.251628   0.230986   0.904331  \n",
      "\n"
     ]
    },
    {
     "data": {
      "application/vnd.jupyter.widget-view+json": {
       "model_id": "2c625b23dac34da2812c54d26a61f673",
       "version_major": 2,
       "version_minor": 0
      },
      "text/plain": [
       "HBox(children=(IntProgress(value=0, description='Epoch', max=7), HTML(value='')))"
      ]
     },
     "metadata": {},
     "output_type": "display_data"
    },
    {
     "name": "stdout",
     "output_type": "stream",
     "text": [
      "epoch      trn_loss   val_loss   accuracy                      \n",
      "    0      0.204859   0.181028   0.927085  \n",
      "    1      0.171781   0.159766   0.936005                      \n",
      "    2      0.16793    0.153609   0.939367                      \n",
      "    3      0.163332   0.148407   0.940271                      \n",
      "    4      0.155354   0.138782   0.94777                       \n",
      "    5      0.149487   0.136038   0.948287                      \n",
      "    6      0.139184   0.13452    0.949192                      \n",
      "\n",
      " 10%|█         | 1/10 [1:04:47<9:43:09, 3887.75s/it]"
     ]
    },
    {
     "data": {
      "application/vnd.jupyter.widget-view+json": {
       "model_id": "45522b53b4854d889efebcf0a49e3198",
       "version_major": 2,
       "version_minor": 0
      },
      "text/plain": [
       "HBox(children=(IntProgress(value=0, description='Epoch', max=1), HTML(value='')))"
      ]
     },
     "metadata": {},
     "output_type": "display_data"
    },
    {
     "name": "stdout",
     "output_type": "stream",
     "text": [
      "epoch      trn_loss   val_loss   accuracy                      \n",
      "    0      0.250635   0.229239   0.904331  \n",
      "\n"
     ]
    },
    {
     "data": {
      "application/vnd.jupyter.widget-view+json": {
       "model_id": "29f1c75757b0496aae7d40a7d5bc4540",
       "version_major": 2,
       "version_minor": 0
      },
      "text/plain": [
       "HBox(children=(IntProgress(value=0, description='Epoch', max=7), HTML(value='')))"
      ]
     },
     "metadata": {},
     "output_type": "display_data"
    },
    {
     "name": "stdout",
     "output_type": "stream",
     "text": [
      "epoch      trn_loss   val_loss   accuracy                      \n",
      "    0      0.205928   0.178498   0.927085  \n",
      "    1      0.180739   0.1568     0.937169                      \n",
      "    2      0.165727   0.151327   0.940918                      \n",
      "    3      0.169135   0.144584   0.943245                      \n",
      "    4      0.14182    0.137435   0.948028                      \n",
      "    5      0.139783   0.132605   0.948287                      \n",
      "    6      0.14252    0.131039   0.949063                      \n",
      "\n",
      " 20%|██        | 2/10 [2:04:31<8:18:06, 3735.83s/it]"
     ]
    },
    {
     "data": {
      "application/vnd.jupyter.widget-view+json": {
       "model_id": "ab02554ac97644349f0fa1114836ed4d",
       "version_major": 2,
       "version_minor": 0
      },
      "text/plain": [
       "HBox(children=(IntProgress(value=0, description='Epoch', max=1), HTML(value='')))"
      ]
     },
     "metadata": {},
     "output_type": "display_data"
    },
    {
     "name": "stdout",
     "output_type": "stream",
     "text": [
      "epoch      trn_loss   val_loss   accuracy                      \n",
      "    0      0.241574   0.223559   0.904848  \n",
      "\n"
     ]
    },
    {
     "data": {
      "application/vnd.jupyter.widget-view+json": {
       "model_id": "df133ccaa4af48f08083b6ae87bdbc2d",
       "version_major": 2,
       "version_minor": 0
      },
      "text/plain": [
       "HBox(children=(IntProgress(value=0, description='Epoch', max=7), HTML(value='')))"
      ]
     },
     "metadata": {},
     "output_type": "display_data"
    },
    {
     "name": "stdout",
     "output_type": "stream",
     "text": [
      "epoch      trn_loss   val_loss   accuracy                      \n",
      "    0      0.204321   0.184216   0.922948  \n",
      "    1      0.170985   0.158579   0.937557                      \n",
      "    2      0.172508   0.155883   0.938203                      \n",
      " 48%|████▊     | 565/1178 [03:42<04:01,  2.53it/s, loss=0.161]"
     ]
    }
   ],
   "source": [
    "models_arch = resnet50\n",
    "models_name = 'resnet50'\n",
    "\n",
    "lr=np.array([1e-3,5e-3,1e-2])\n",
    "\n",
    "sz = 224\n",
    "PATH = '/media/rene/Data/camelyon_out/tiles_224_100t_all_other'\n",
    "train_folder = '/media/rene/Data/camelyon_out/tiles_224_100t_all'\n",
    "# val_idxs = pickle.load( open( \"/media/rene/Data/camelyon_out/tiles_224_100t_all_other/tiles_224_100t_all_val_idxs.p\", \"rb\" ) )\n",
    "\n",
    "for i in tqdm(range(10)):\n",
    "    # create the new csv and save it\n",
    "    subset_labels_df = make_sample(labels_df, normal_train, tumor_train, downsample=1)\n",
    "    subset_labels_df.to_csv('/media/rene/Data/camelyon_out/tiles_224_100t_all_other/tiles_224_100t_all_subset_tmp2.csv',  \n",
    "                            index = False)\n",
    "    csv_fname = '/media/rene/Data/camelyon_out/tiles_224_100t_all_other/tiles_224_100t_all_subset_tmp2.csv'\n",
    "    \n",
    "    # get the validation indices based on this\n",
    "    val_idxs = make_validation_mask(subset_labels_df, normal_valid, tumor_valid)\n",
    "\n",
    "    tfms = tfms_from_model(models_arch, sz, aug_tfms=transforms_top_down, max_zoom=1)\n",
    "    data = ImageClassifierData.from_csv(PATH, train_folder, csv_fname, tfms=tfms, \n",
    "                                        val_idxs=val_idxs, bs=64)\n",
    "    learn = ConvLearner.pretrained(models_arch, data, precompute=False)\n",
    "    \n",
    "    lr =.001\n",
    "    learn.fit(lr, 1, cycle_len=1, cycle_mult=1) # train last few layers\n",
    "    lrs = np.array([lr/4,lr/2,lr])\n",
    "    learn.unfreeze()\n",
    "    learn.fit(lrs, 3, cycle_len=1, cycle_mult=2, best_save_name=models_name+'_full_wsi_'+str(i)) # train whole model"
   ]
  },
  {
   "cell_type": "code",
   "execution_count": null,
   "metadata": {},
   "outputs": [
    {
     "name": "stderr",
     "output_type": "stream",
     "text": [
      "\r",
      "  0%|          | 0/10 [00:00<?, ?it/s]"
     ]
    },
    {
     "data": {
      "application/vnd.jupyter.widget-view+json": {
       "model_id": "37cf5fd49e854ce6b67008769966316f",
       "version_major": 2,
       "version_minor": 0
      },
      "text/plain": [
       "HBox(children=(IntProgress(value=0, description='Epoch', max=1), HTML(value='')))"
      ]
     },
     "metadata": {},
     "output_type": "display_data"
    },
    {
     "name": "stdout",
     "output_type": "stream",
     "text": [
      "\r",
      "  0%|          | 0/587 [00:00<?, ?it/s]"
     ]
    },
    {
     "name": "stderr",
     "output_type": "stream",
     "text": [
      "\n"
     ]
    },
    {
     "name": "stdout",
     "output_type": "stream",
     "text": [
      "epoch      trn_loss   val_loss   accuracy                    \n",
      "    0      0.262329   0.223346   0.911861  \n",
      "\n"
     ]
    },
    {
     "data": {
      "application/vnd.jupyter.widget-view+json": {
       "model_id": "1c017775060b4791947b05668b3fde6e",
       "version_major": 2,
       "version_minor": 0
      },
      "text/plain": [
       "HBox(children=(IntProgress(value=0, description='Epoch', max=7), HTML(value='')))"
      ]
     },
     "metadata": {},
     "output_type": "display_data"
    },
    {
     "name": "stdout",
     "output_type": "stream",
     "text": [
      "epoch      trn_loss   val_loss   accuracy                    \n",
      "    0      0.208303   0.185835   0.926514  \n",
      "    1      0.191932   0.160223   0.939209                    \n",
      "    2      0.163955   0.153961   0.940674                    \n",
      "    3      0.168058   0.14088    0.945801                    \n",
      "    4      0.146847   0.137606   0.947998                    \n",
      "    5      0.141507   0.129301   0.950684                    \n",
      "    6      0.136285   0.129445   0.951904                    \n"
     ]
    },
    {
     "name": "stderr",
     "output_type": "stream",
     "text": [
      "\r",
      " 10%|█         | 1/10 [33:09<4:58:28, 1989.82s/it]"
     ]
    },
    {
     "name": "stdout",
     "output_type": "stream",
     "text": [
      "\n"
     ]
    },
    {
     "data": {
      "application/vnd.jupyter.widget-view+json": {
       "model_id": "3bab0fcb777140189f0f42f769981906",
       "version_major": 2,
       "version_minor": 0
      },
      "text/plain": [
       "HBox(children=(IntProgress(value=0, description='Epoch', max=1), HTML(value='')))"
      ]
     },
     "metadata": {},
     "output_type": "display_data"
    },
    {
     "name": "stdout",
     "output_type": "stream",
     "text": [
      "epoch      trn_loss   val_loss   accuracy                    \n",
      "    0      0.267798   0.235747   0.901984  \n",
      "\n"
     ]
    },
    {
     "data": {
      "application/vnd.jupyter.widget-view+json": {
       "model_id": "c71f5daa83a6489db49ed79e45384234",
       "version_major": 2,
       "version_minor": 0
      },
      "text/plain": [
       "HBox(children=(IntProgress(value=0, description='Epoch', max=7), HTML(value='')))"
      ]
     },
     "metadata": {},
     "output_type": "display_data"
    },
    {
     "name": "stdout",
     "output_type": "stream",
     "text": [
      "epoch      trn_loss   val_loss   accuracy                    \n",
      "    0      0.227203   0.188417   0.920722  \n",
      "    1      0.182155   0.161996   0.93497                     \n",
      "    2      0.184459   0.158538   0.93714                     \n",
      "    3      0.158938   0.144103   0.944159                    \n",
      "    4      0.145542   0.142144   0.946763                    \n",
      "    5      0.132528   0.139232   0.946255                    \n",
      "    6      0.14332    0.138325   0.947557                    \n"
     ]
    },
    {
     "name": "stderr",
     "output_type": "stream",
     "text": [
      "\r",
      " 20%|██        | 2/10 [1:05:43<4:22:55, 1971.91s/it]"
     ]
    },
    {
     "name": "stdout",
     "output_type": "stream",
     "text": [
      "\n"
     ]
    },
    {
     "data": {
      "application/vnd.jupyter.widget-view+json": {
       "model_id": "ea28f6c77b8747e99168429879e081ef",
       "version_major": 2,
       "version_minor": 0
      },
      "text/plain": [
       "HBox(children=(IntProgress(value=0, description='Epoch', max=1), HTML(value='')))"
      ]
     },
     "metadata": {},
     "output_type": "display_data"
    },
    {
     "name": "stdout",
     "output_type": "stream",
     "text": [
      "epoch      trn_loss   val_loss   accuracy                    \n",
      "    0      0.266833   0.222873   0.90734   \n",
      "\n"
     ]
    },
    {
     "data": {
      "application/vnd.jupyter.widget-view+json": {
       "model_id": "67244ea5c5b54352bb9a0222577e7402",
       "version_major": 2,
       "version_minor": 0
      },
      "text/plain": [
       "HBox(children=(IntProgress(value=0, description='Epoch', max=7), HTML(value='')))"
      ]
     },
     "metadata": {},
     "output_type": "display_data"
    },
    {
     "name": "stdout",
     "output_type": "stream",
     "text": [
      "epoch      trn_loss   val_loss   accuracy                    \n",
      "    0      0.221553   0.176262   0.928589  \n",
      "    1      0.193404   0.145565   0.941307                    \n",
      "    2      0.16546    0.14371    0.94276                     \n",
      "    3      0.168801   0.133416   0.947847                    \n",
      "    4      0.148051   0.12305    0.950391                    \n",
      "    5      0.138405   0.1232     0.954388                    \n",
      "                                                             \r"
     ]
    },
    {
     "name": "stderr",
     "output_type": "stream",
     "text": [
      "\r",
      " 30%|███       | 3/10 [1:37:22<3:47:13, 1947.66s/it]"
     ]
    },
    {
     "name": "stdout",
     "output_type": "stream",
     "text": [
      "    6      0.140337   0.127227   0.951118  \n",
      "\n"
     ]
    },
    {
     "data": {
      "application/vnd.jupyter.widget-view+json": {
       "model_id": "6c1f15c246cb442b85d2b0813772d289",
       "version_major": 2,
       "version_minor": 0
      },
      "text/plain": [
       "HBox(children=(IntProgress(value=0, description='Epoch', max=1), HTML(value='')))"
      ]
     },
     "metadata": {},
     "output_type": "display_data"
    },
    {
     "name": "stdout",
     "output_type": "stream",
     "text": [
      "epoch      trn_loss   val_loss   accuracy                    \n",
      "    0      0.262889   0.218582   0.911615  \n",
      "\n"
     ]
    },
    {
     "data": {
      "application/vnd.jupyter.widget-view+json": {
       "model_id": "2829653468b04ab1bf42154cd8d3a64a",
       "version_major": 2,
       "version_minor": 0
      },
      "text/plain": [
       "HBox(children=(IntProgress(value=0, description='Epoch', max=7), HTML(value='')))"
      ]
     },
     "metadata": {},
     "output_type": "display_data"
    },
    {
     "name": "stdout",
     "output_type": "stream",
     "text": [
      "epoch      trn_loss   val_loss   accuracy                    \n",
      "    0      0.2083     0.185892   0.923951  \n",
      "    1      0.19502    0.15946    0.936012                    \n",
      " 61%|██████    | 359/589 [02:25<01:33,  2.47it/s, loss=0.176]"
     ]
    }
   ],
   "source": [
    "models_arch = resnet50\n",
    "models_name = 'resnet50'\n",
    "\n",
    "lr=np.array([1e-3,5e-3,1e-2])\n",
    "\n",
    "sz = 224\n",
    "PATH = '/media/rene/Data/camelyon_out/tiles_224_100t_all_other'\n",
    "train_folder = '/media/rene/Data/camelyon_out/tiles_224_100t_all'\n",
    "# val_idxs = pickle.load( open( \"/media/rene/Data/camelyon_out/tiles_224_100t_all_other/tiles_224_100t_all_val_idxs.p\", \"rb\" ) )\n",
    "\n",
    "for i in tqdm(range(10)):\n",
    "    # create the new csv and save it\n",
    "    subset_labels_df = make_sample(labels_df, normal_train, tumor_train, downsample=2)\n",
    "    subset_labels_df.to_csv('/media/rene/Data/camelyon_out/tiles_224_100t_all_other/tiles_224_100t_all_subset_tmp2.csv',  \n",
    "                            index = False)\n",
    "    csv_fname = '/media/rene/Data/camelyon_out/tiles_224_100t_all_other/tiles_224_100t_all_subset_tmp2.csv'\n",
    "    \n",
    "    # get the validation indices based on this\n",
    "    val_idxs = make_validation_mask(subset_labels_df, normal_valid, tumor_valid)\n",
    "\n",
    "    tfms = tfms_from_model(models_arch, sz, aug_tfms=transforms_top_down, max_zoom=1)\n",
    "    data = ImageClassifierData.from_csv(PATH, train_folder, csv_fname, tfms=tfms, \n",
    "                                        val_idxs=val_idxs, bs=64)\n",
    "    learn = ConvLearner.pretrained(models_arch, data, precompute=False)\n",
    "    \n",
    "    lr =.001\n",
    "    learn.fit(lr, 1, cycle_len=1, cycle_mult=1) # train last few layers\n",
    "    lrs = np.array([lr/4,lr/2,lr])\n",
    "    learn.unfreeze()\n",
    "    learn.fit(lrs, 3, cycle_len=1, cycle_mult=2, best_save_name=models_name+'_half_wsi_'+str(i)) # train whole model"
   ]
  },
  {
   "cell_type": "code",
   "execution_count": null,
   "metadata": {},
   "outputs": [],
   "source": [
    "models_arch = resnet50\n",
    "models_name = 'resnet50'\n",
    "\n",
    "lr=np.array([1e-3,5e-3,1e-2])\n",
    "\n",
    "sz = 224\n",
    "PATH = '/media/rene/Data/camelyon_out/tiles_224_100t_all_other'\n",
    "train_folder = '/media/rene/Data/camelyon_out/tiles_224_100t_all'\n",
    "# val_idxs = pickle.load( open( \"/media/rene/Data/camelyon_out/tiles_224_100t_all_other/tiles_224_100t_all_val_idxs.p\", \"rb\" ) )\n",
    "\n",
    "for i in tqdm(range(10)):\n",
    "    # create the new csv and save it\n",
    "    subset_labels_df = make_sample(labels_df, normal_train, tumor_train, downsample=4)\n",
    "    subset_labels_df.to_csv('/media/rene/Data/camelyon_out/tiles_224_100t_all_other/tiles_224_100t_all_subset_tmp2.csv',  \n",
    "                            index = False)\n",
    "    csv_fname = '/media/rene/Data/camelyon_out/tiles_224_100t_all_other/tiles_224_100t_all_subset_tmp2.csv'\n",
    "    \n",
    "    # get the validation indices based on this\n",
    "    val_idxs = make_validation_mask(subset_labels_df, normal_valid, tumor_valid)\n",
    "\n",
    "    tfms = tfms_from_model(models_arch, sz, aug_tfms=transforms_top_down, max_zoom=1)\n",
    "    data = ImageClassifierData.from_csv(PATH, train_folder, csv_fname, tfms=tfms, \n",
    "                                        val_idxs=val_idxs, bs=64)\n",
    "    learn = ConvLearner.pretrained(models_arch, data, precompute=False)\n",
    "    \n",
    "    lr =.001\n",
    "    learn.fit(lr, 1, cycle_len=1, cycle_mult=1) # train last few layers\n",
    "    lrs = np.array([lr/4,lr/2,lr])\n",
    "    learn.unfreeze()\n",
    "    learn.fit(lrs, 3, cycle_len=1, cycle_mult=2, best_save_name=models_name+'_quarter_wsi_'+str(i)) # train whole model"
   ]
  },
  {
   "cell_type": "code",
   "execution_count": 8,
   "metadata": {},
   "outputs": [
    {
     "name": "stdout",
     "output_type": "stream",
     "text": [
      "\r",
      "  0%|          | 0/1 [00:00<?, ?it/s]"
     ]
    },
    {
     "data": {
      "application/vnd.jupyter.widget-view+json": {
       "model_id": "f38523cf3256475d86fa55de5cc9503d",
       "version_major": 2,
       "version_minor": 0
      },
      "text/plain": [
       "HBox(children=(IntProgress(value=0, description='Epoch', max=1), HTML(value='')))"
      ]
     },
     "metadata": {},
     "output_type": "display_data"
    },
    {
     "name": "stdout",
     "output_type": "stream",
     "text": [
      "\n",
      "epoch      trn_loss   val_loss   accuracy                    \n",
      "    0      0.306991   0.223781   0.90989   \n",
      "\n"
     ]
    },
    {
     "data": {
      "application/vnd.jupyter.widget-view+json": {
       "model_id": "b97d9a9f017141ffa42a1ed8c9aaa5ad",
       "version_major": 2,
       "version_minor": 0
      },
      "text/plain": [
       "HBox(children=(IntProgress(value=0, description='Epoch', max=7), HTML(value='')))"
      ]
     },
     "metadata": {},
     "output_type": "display_data"
    },
    {
     "name": "stdout",
     "output_type": "stream",
     "text": [
      "epoch      trn_loss   val_loss   accuracy                    \n",
      "    0      0.245368   0.158771   0.92967   \n",
      "    1      0.181504   0.112273   0.953846                    \n",
      "    2      0.174424   0.105541   0.958242                    \n",
      "    3      0.145742   0.09217    0.958242                    \n",
      "    4      0.130468   0.083142   0.969231                    \n",
      "    5      0.118583   0.078321   0.969231                    \n",
      "    6      0.116278   0.080027   0.971429                    \n",
      "\n",
      "100%|██████████| 1/1 [07:29<00:00, 449.13s/it]"
     ]
    }
   ],
   "source": [
    "models_arch = resnet50\n",
    "models_name = 'resnet50'\n",
    "\n",
    "lr=np.array([1e-3,5e-3,1e-2])\n",
    "\n",
    "sz = 224\n",
    "PATH = '/media/rene/Data/camelyon_out/tiles_224_100t_all_other'\n",
    "train_folder = '/media/rene/Data/camelyon_out/tiles_224_100t_all'\n",
    "# val_idxs = pickle.load( open( \"/media/rene/Data/camelyon_out/tiles_224_100t_all_other/tiles_224_100t_all_val_idxs.p\", \"rb\" ) )\n",
    "\n",
    "for i in tqdm(range(2, 3)):\n",
    "    # create the new csv and save it\n",
    "    subset_labels_df = make_sample(labels_df, normal_train, tumor_train, downsample=8)\n",
    "    subset_labels_df.to_csv('/media/rene/Data/camelyon_out/tiles_224_100t_all_other/tiles_224_100t_all_subset_tmp2.csv',  \n",
    "                            index = False)\n",
    "    csv_fname = '/media/rene/Data/camelyon_out/tiles_224_100t_all_other/tiles_224_100t_all_subset_tmp2.csv'\n",
    "    \n",
    "    # get the validation indices based on this\n",
    "    val_idxs = make_validation_mask(subset_labels_df, normal_valid, tumor_valid)\n",
    "\n",
    "    tfms = tfms_from_model(models_arch, sz, aug_tfms=transforms_top_down, max_zoom=1)\n",
    "    data = ImageClassifierData.from_csv(PATH, train_folder, csv_fname, tfms=tfms, \n",
    "                                        val_idxs=val_idxs, bs=64)\n",
    "    learn = ConvLearner.pretrained(models_arch, data, precompute=False)\n",
    "    \n",
    "    lr =.001\n",
    "    learn.fit(lr, 1, cycle_len=1, cycle_mult=1) # train last few layers\n",
    "    lrs = np.array([lr/4,lr/2,lr])\n",
    "    learn.unfreeze()\n",
    "    learn.fit(lrs, 3, cycle_len=1, cycle_mult=2, best_save_name=models_name+'_eighth_wsi_'+str(i)) # train whole model"
   ]
  },
  {
   "cell_type": "markdown",
   "metadata": {},
   "source": [
    "## Results"
   ]
  },
  {
   "cell_type": "code",
   "execution_count": 2,
   "metadata": {},
   "outputs": [
    {
     "name": "stdout",
     "output_type": "stream",
     "text": [
      "resnet50_full_wsi_0 :    0.9388023952095809\n",
      "resnet50_full_wsi_1 :    0.938622754491018\n",
      "resnet50_full_wsi_2 :    0.941377245508982\n",
      "resnet50_full_wsi_3 :    0.9413173652694611\n",
      "resnet50_full_wsi_4 :    0.9398203592814371\n",
      "resnet50_full_wsi_5 :    0.94\n",
      "resnet50_full_wsi_6 :    0.9421556886227545\n",
      "resnet50_full_wsi_7 :    0.9397005988023952\n",
      "resnet50_full_wsi_8 :    0.9393413173652695\n",
      "resnet50_full_wsi_9 :    0.9388622754491018\n",
      "0.9431736526946107\n",
      "resnet50_half_wsi_0 :    0.9292814371257485\n",
      "resnet50_half_wsi_1 :    0.9370059880239521\n",
      "resnet50_half_wsi_2 :    0.9207185628742515\n",
      "resnet50_half_wsi_3 :    0.9362275449101797\n",
      "resnet50_half_wsi_4 :    0.931497005988024\n",
      "resnet50_half_wsi_5 :    0.9321556886227544\n",
      "resnet50_half_wsi_6 :    0.9020359281437126\n",
      "resnet50_half_wsi_7 :    0.9304790419161677\n",
      "resnet50_half_wsi_8 :    0.9283233532934132\n",
      "resnet50_half_wsi_9 :    0.9300598802395209\n",
      "0.9398203592814371\n",
      "resnet50_quarter_wsi_0 :    0.9206586826347305\n",
      "resnet50_quarter_wsi_1 :    0.9196407185628742\n",
      "resnet50_quarter_wsi_2 :    0.9168862275449102\n",
      "resnet50_quarter_wsi_3 :    0.9049700598802395\n",
      "resnet50_quarter_wsi_4 :    0.9060479041916167\n",
      "resnet50_quarter_wsi_5 :    0.9322155688622754\n",
      "resnet50_quarter_wsi_6 :    0.9050898203592814\n",
      "resnet50_quarter_wsi_7 :    0.9045508982035928\n",
      "resnet50_quarter_wsi_8 :    0.8638323353293413\n",
      "resnet50_quarter_wsi_9 :    0.8998203592814371\n",
      "0.9334730538922156\n",
      "resnet50_eighth_wsi_0 :    0.8712574850299402\n",
      "resnet50_eighth_wsi_1 :    0.904311377245509\n",
      "resnet50_eighth_wsi_2 :    0.8962874251497006\n",
      "resnet50_eighth_wsi_3 :    0.8925748502994012\n",
      "resnet50_eighth_wsi_4 :    0.8685029940119761\n",
      "resnet50_eighth_wsi_5 :    0.8724550898203592\n",
      "resnet50_eighth_wsi_6 :    0.9059880239520958\n",
      "resnet50_eighth_wsi_7 :    0.8931137724550898\n",
      "resnet50_eighth_wsi_8 :    0.9065868263473054\n",
      "resnet50_eighth_wsi_9 :    0.864191616766467\n",
      "0.9222155688622754\n"
     ]
    }
   ],
   "source": [
    "PATH = '/media/rene/Data/camelyon_out/tiles_224_100t/'\n",
    "models_path = '/media/rene/Data/camelyon_out/tiles_224_100t_all_other'\n",
    "models_arch = [resnet50]*10\n",
    "\n",
    "models_name = ['resnet50_full_wsi_'+str(i)for i in range (10)]\n",
    "bagging_acc_full, acc_list_full, int_full= ensemble_acc_dir(models_arch, models_name, models_path, PATH, weights=None)\n",
    "\n",
    "models_name = ['resnet50_half_wsi_'+str(i)for i in range (10)]\n",
    "bagging_acc_half, acc_list_half, int_half = ensemble_acc_dir(models_arch, models_name, models_path, PATH, weights=None)\n",
    "\n",
    "models_name = ['resnet50_quarter_wsi_'+str(i)for i in range (10)]\n",
    "bagging_acc_quarter, acc_list_quarter, int_quarter = ensemble_acc_dir(models_arch, models_name, models_path, PATH, weights=None)\n",
    "\n",
    "models_name = ['resnet50_eighth_wsi_'+str(i)for i in range (10)]\n",
    "bagging_acc_eighth, acc_list_eighth, int_eighth = ensemble_acc_dir(models_arch, models_name, models_path, PATH, weights=None)"
   ]
  },
  {
   "cell_type": "code",
   "execution_count": 5,
   "metadata": {},
   "outputs": [
    {
     "data": {
      "image/png": "[encoded data removed]",
      "text/plain": [
       "<Figure size 720x576 with 2 Axes>"
      ]
     },
     "metadata": {},
     "output_type": "display_data"
    }
   ],
   "source": [
    "names = ['eighth', 'quarter', 'half', 'full']\n",
    "data = [acc_list_eighth, acc_list_quarter, acc_list_half, acc_list_full]\n",
    "\n",
    "mean_all = [np.mean(perf) for perf in data]\n",
    "var_all = [np.var(perf) for perf in data]\n",
    "perf_all = [bagging_acc_eighth, bagging_acc_quarter, bagging_acc_half, bagging_acc_full]\n",
    "\n",
    "x = np.arange(len(names))\n",
    "fig, ax1 = plt.subplots(figsize=(10, 8))\n",
    "ax2 = ax1.twinx()\n",
    "\n",
    "ax1.plot(x, perf_all, color='r')\n",
    "ax1.plot(x, mean_all, color='g')\n",
    "\n",
    "ax1.set_xlabel('Model', fontsize=12)\n",
    "ax1.set_ylabel('Accuracy', fontsize=12)\n",
    "\n",
    "ax2.plot(x, var_all, color='b')\n",
    "ax2.set_ylabel('Variance', fontsize=12)\n",
    "\n",
    "ax1.legend(['Bagging Performance', 'Performance Mean'], loc='upper left')\n",
    "ax2.legend(['Performance Variance'], loc='upper right')\n",
    "\n",
    "plt.xticks(x, names)\n",
    "ax1.tick_params(labelsize=14)\n",
    "\n",
    "plt.title('ResNet50 Varying Bagging Dataset Size ', fontsize=20)\n",
    "plt.show()\n",
    "\n",
    "fig.savefig('/media/rene/Data/camelyon_out/figures/bagging_dataset_size.jpeg', bbox_inches='tight', pad_inches=0)"
   ]
  },
  {
   "cell_type": "code",
   "execution_count": 16,
   "metadata": {},
   "outputs": [
    {
     "name": "stdout",
     "output_type": "stream",
     "text": [
      "0.9431736526946107 [0.9388023952095809, 0.938622754491018, 0.941377245508982, 0.9413173652694611, 0.9398203592814371, 0.94, 0.9421556886227545, 0.9397005988023952, 0.9393413173652695, 0.9388622754491018] [0.9388023952095809, 0.9407185628742515, 0.9425149700598803, 0.9424550898203593, 0.9432335329341317, 0.9425748502994012, 0.9437125748502994, 0.9435928143712575, 0.9431137724550899, 0.9431736526946107]\n"
     ]
    }
   ],
   "source": [
    "print(acc_list_full, bagging_acc_full, int_full)\n"
   ]
  },
  {
   "cell_type": "code",
   "execution_count": null,
   "metadata": {},
   "outputs": [],
   "source": []
  }
 ],
 "metadata": {
  "kernelspec": {
   "display_name": "Python 3",
   "language": "python",
   "name": "python3"
  },
  "language_info": {
   "codemirror_mode": {
    "name": "ipython",
    "version": 3
   },
   "file_extension": ".py",
   "mimetype": "text/x-python",
   "name": "python",
   "nbconvert_exporter": "python",
   "pygments_lexer": "ipython3",
   "version": "3.6.5"
  }
 },
 "nbformat": 4,
 "nbformat_minor": 2
}
