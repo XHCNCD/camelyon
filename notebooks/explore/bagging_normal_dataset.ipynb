{
 "cells": [
  {
   "cell_type": "markdown",
   "metadata": {},
   "source": [
    "# Bootstrap Aggregating without online sampling\n",
    "* Not seperating by WSI"
   ]
  },
  {
   "cell_type": "code",
   "execution_count": 1,
   "metadata": {},
   "outputs": [
    {
     "name": "stdout",
     "output_type": "stream",
     "text": [
      "/media/rene/Data/camelyon/src\n",
      "True\n",
      "0\n"
     ]
    }
   ],
   "source": [
    "import os\n",
    "import sys\n",
    "import glob\n",
    "import random\n",
    "import pickle\n",
    "import numpy as np\n",
    "import pandas as pd\n",
    "from tqdm import tqdm\n",
    "\n",
    "import torch\n",
    "import torch.nn as nn\n",
    "from torch.autograd import Variable\n",
    "import torch.utils.data\n",
    "import torchvision.models as models\n",
    "from torchvision import datasets, models, transforms\n",
    "import torch.optim as optim\n",
    "from torch.optim import lr_scheduler\n",
    "from torch.utils.data import Dataset, DataLoader\n",
    "from torchvision import transforms, utils\n",
    "\n",
    "from fastai.imports import *\n",
    "from fastai.transforms import *\n",
    "from fastai.conv_learner import *\n",
    "from fastai.model import *\n",
    "from fastai.dataset import *\n",
    "from fastai.sgdr import *\n",
    "from fastai.plots import *\n",
    "\n",
    "SEED = 101\n",
    "np.random.seed(SEED)\n",
    "from torchvision import datasets, models, transforms\n",
    "\n",
    "%reload_ext autoreload\n",
    "%autoreload 2\n",
    "%matplotlib inline\n",
    "\n",
    "# Add the src directory for functions\n",
    "src_dir = os.path.join(os.path.dirname(os.path.dirname(os.getcwd())), 'src')\n",
    "print(src_dir)\n",
    "sys.path.append(src_dir)\n",
    "\n",
    "# import my functions:\n",
    "from WSI_pytorch_utils import*\n",
    "\n",
    "fast_ai_dir = '/media/rene/Data/fastai/'\n",
    "sys.path.append(fast_ai_dir)\n",
    "\n",
    "torch.cuda.set_device(0)\n",
    "print(torch.cuda.is_available())\n",
    "print(torch.cuda.current_device())"
   ]
  },
  {
   "cell_type": "markdown",
   "metadata": {},
   "source": [
    "## Make dataset \n",
    "* csv with locations pointing to the right images to sample"
   ]
  },
  {
   "cell_type": "code",
   "execution_count": 2,
   "metadata": {},
   "outputs": [],
   "source": [
    "# # reproduce\n",
    "# cp -r tiles_224_100t/train/tumor/. tiles_224_100t_all\n",
    "# cp -r tiles_224_100t/train/normal/. tiles_224_100t_all\n",
    "# cp -r tiles_224_100t/valid/tumor/. tiles_224_100t_all\n",
    "# cp -r tiles_224_100t/valid/normal/. tiles_224_100t_all"
   ]
  },
  {
   "cell_type": "code",
   "execution_count": 2,
   "metadata": {},
   "outputs": [],
   "source": [
    "# get data\n",
    "data_loc = '/media/rene/Data/camelyon_out/tiles_224_100t_all'\n",
    "all_imgs = glob.glob(data_loc+'/*')\n",
    "img_names = [loc.rsplit('/', 1)[-1] for loc in all_imgs]\n",
    "\n",
    "# load train valid split\n",
    "ttv_split = np.load('/media/rene/Data/camelyon/other/ttv_split.p')\n",
    "normal_valid = ttv_split['normal_vaild_idx']\n",
    "tumor_valid = ttv_split['tumor_vaild_idx']\n",
    "normal_train = list(range(1, 161))\n",
    "normal_train = [num for num in normal_train if num not in normal_valid]\n",
    "tumor_train = list(range(1, 111))\n",
    "tumor_train = [num for num in tumor_train if num not in tumor_valid]"
   ]
  },
  {
   "cell_type": "code",
   "execution_count": 3,
   "metadata": {},
   "outputs": [],
   "source": [
    "# get classes corresponding to each file\n",
    "def get_label(name):\n",
    "    if name.rsplit('_', 1)[-2][-5:]=='tumor':\n",
    "        label = 'tumor'\n",
    "    else: \n",
    "        label = 'normal'\n",
    "    return label\n",
    "\n",
    "classes = [get_label(name) for name in img_names]\n",
    "\n",
    "# make csv\n",
    "labels_df = pd.DataFrame(\n",
    "    {'file_name': img_names,\n",
    "     'label': classes\n",
    "    })\n",
    "\n",
    "labels_df.to_csv('/media/rene/Data/camelyon_out/tiles_224_100t_all_other/tiles_224_100t_all_labels.csv', index = False)"
   ]
  },
  {
   "cell_type": "code",
   "execution_count": 5,
   "metadata": {},
   "outputs": [],
   "source": [
    "# get the validation indices from the big list\n",
    "def is_validation(name, normal_valid, tumor_valid):\n",
    "    normal_valid = [int(x) for x in normal_valid]\n",
    "    tumor_valid = [int(x) for x in tumor_valid]\n",
    "    num = int(name.split('_', 1)[1].split('_', 1)[0])\n",
    "    \n",
    "    if classes[idx] == 'normal':\n",
    "        return num in normal_valid\n",
    "    \n",
    "    elif classes[idx] == 'tumor':\n",
    "        return num in tumor_valid\n",
    "    else:\n",
    "        raise ValueError(\"tile isn't tumor or non tumor\")\n",
    "\n",
    "valid_idxs = []\n",
    "for idx, name in enumerate(img_names):\n",
    "    if is_validation(name, normal_valid, tumor_valid):\n",
    "        valid_idxs.append(idx)\n",
    "        \n",
    "# with open('/media/rene/Data/camelyon_out/tiles_224_100t_all_other/tiles_224_100t_all_val_idxs.p', 'wb') as fp:\n",
    "#     pickle.dump(valid_idxs, fp)\n",
    "\n",
    "def make_validation_mask(data_df, normal_valid, tumor_valid):\n",
    "    img_names = data_df['file_name'].tolist()\n",
    "    valid_idxs = [is_validation(name, normal_valid, tumor_valid) for name in img_names]\n",
    "    return valid_idxs"
   ]
  },
  {
   "cell_type": "code",
   "execution_count": 50,
   "metadata": {},
   "outputs": [
    {
     "ename": "NameError",
     "evalue": "name 'subset_labels_df' is not defined",
     "output_type": "error",
     "traceback": [
      "\u001b[0;31m---------------------------------------------------------------------------\u001b[0m",
      "\u001b[0;31mNameError\u001b[0m                                 Traceback (most recent call last)",
      "\u001b[0;32m<ipython-input-50-e9d19be3b388>\u001b[0m in \u001b[0;36m<module>\u001b[0;34m()\u001b[0m\n\u001b[0;32m----> 1\u001b[0;31m \u001b[0mvalid_idxs\u001b[0m \u001b[0;34m=\u001b[0m \u001b[0mmake_validation_mask\u001b[0m\u001b[0;34m(\u001b[0m\u001b[0msubset_labels_df\u001b[0m\u001b[0;34m,\u001b[0m \u001b[0mnormal_valid\u001b[0m\u001b[0;34m,\u001b[0m \u001b[0mtumor_valid\u001b[0m\u001b[0;34m)\u001b[0m\u001b[0;34m\u001b[0m\u001b[0m\n\u001b[0m\u001b[1;32m      2\u001b[0m \u001b[0;31m# print(np.sum(np.array(valid_idxs)))\u001b[0m\u001b[0;34m\u001b[0m\u001b[0;34m\u001b[0m\u001b[0m\n",
      "\u001b[0;31mNameError\u001b[0m: name 'subset_labels_df' is not defined"
     ]
    }
   ],
   "source": [
    "# valid_idxs = make_validation_mask(subset_labels_df, normal_valid, tumor_valid)\n",
    "# print(np.sum(np.array(valid_idxs)))"
   ]
  },
  {
   "cell_type": "markdown",
   "metadata": {},
   "source": [
    "### Single model\n",
    "Use a single model (resnet50) to check:\n",
    "* How does the number of models affect performance?\n",
    "* How does the downsample rate for bagging effect performance?"
   ]
  },
  {
   "cell_type": "code",
   "execution_count": null,
   "metadata": {},
   "outputs": [
    {
     "name": "stderr",
     "output_type": "stream",
     "text": [
      "\n",
      "  0%|          | 0/10 [00:00<?, ?it/s]\u001b[A"
     ]
    },
    {
     "data": {
      "application/vnd.jupyter.widget-view+json": {
       "model_id": "a228fdf76f59435c95e2948c98938ed1",
       "version_major": 2,
       "version_minor": 0
      },
      "text/plain": [
       "HBox(children=(IntProgress(value=0, description='Epoch', max=1), HTML(value='')))"
      ]
     },
     "metadata": {},
     "output_type": "display_data"
    },
    {
     "name": "stdout",
     "output_type": "stream",
     "text": [
      "\r",
      "                                       "
     ]
    },
    {
     "name": "stderr",
     "output_type": "stream",
     "text": [
      "\n",
      "\u001b[A"
     ]
    },
    {
     "name": "stdout",
     "output_type": "stream",
     "text": [
      "epoch      trn_loss   val_loss   accuracy                    \n",
      "    0      0.258123   0.236092   0.901118  \n",
      "\n"
     ]
    },
    {
     "data": {
      "application/vnd.jupyter.widget-view+json": {
       "model_id": "198a8e4570f547cab0df53e8e9b31624",
       "version_major": 2,
       "version_minor": 0
      },
      "text/plain": [
       "HBox(children=(IntProgress(value=0, description='Epoch', max=7), HTML(value='')))"
      ]
     },
     "metadata": {},
     "output_type": "display_data"
    },
    {
     "name": "stdout",
     "output_type": "stream",
     "text": [
      "epoch      trn_loss   val_loss   accuracy                    \n",
      "    0      0.228827   0.195023   0.917085  \n",
      "    1      0.190916   0.171231   0.92792                     \n",
      "    2      0.173516   0.167493   0.930771                    \n",
      "    3      0.164284   0.157176   0.936702                    \n",
      "    4      0.170038   0.151984   0.937272                    \n",
      "    5      0.152887   0.148405   0.937614                    \n",
      "    6      0.151523   0.146917   0.940237                    \n"
     ]
    },
    {
     "name": "stderr",
     "output_type": "stream",
     "text": [
      "\n",
      " 10%|█         | 1/10 [1:16:35<11:29:15, 4595.09s/it]\u001b[A"
     ]
    },
    {
     "name": "stdout",
     "output_type": "stream",
     "text": [
      "\n"
     ]
    },
    {
     "data": {
      "application/vnd.jupyter.widget-view+json": {
       "model_id": "25941c3250b342d08e4dcb2e525e27e6",
       "version_major": 2,
       "version_minor": 0
      },
      "text/plain": [
       "HBox(children=(IntProgress(value=0, description='Epoch', max=1), HTML(value='')))"
      ]
     },
     "metadata": {},
     "output_type": "display_data"
    },
    {
     "name": "stdout",
     "output_type": "stream",
     "text": [
      "epoch      trn_loss   val_loss   accuracy                    \n",
      "    0      0.256658   0.228447   0.903998  \n",
      "\n"
     ]
    },
    {
     "data": {
      "application/vnd.jupyter.widget-view+json": {
       "model_id": "0d1331e9c20747c7ad38a5808b48a68e",
       "version_major": 2,
       "version_minor": 0
      },
      "text/plain": [
       "HBox(children=(IntProgress(value=0, description='Epoch', max=7), HTML(value='')))"
      ]
     },
     "metadata": {},
     "output_type": "display_data"
    },
    {
     "name": "stdout",
     "output_type": "stream",
     "text": [
      "epoch      trn_loss   val_loss   accuracy                    \n",
      "    0      0.220711   0.185948   0.924136  \n",
      "    1      0.193467   0.165171   0.934206                    \n",
      "    2      0.172577   0.161619   0.935479                    \n",
      "    3      0.159101   0.152919   0.943812                    \n",
      "    4      0.154825   0.145336   0.943697                    \n",
      "    5      0.154532   0.143157   0.947285                    \n",
      "    6      0.151981   0.142732   0.947516                    \n"
     ]
    },
    {
     "name": "stderr",
     "output_type": "stream",
     "text": [
      "\n",
      " 20%|██        | 2/10 [2:08:30<8:34:02, 3855.33s/it] \u001b[A"
     ]
    },
    {
     "name": "stdout",
     "output_type": "stream",
     "text": [
      "\n"
     ]
    },
    {
     "data": {
      "application/vnd.jupyter.widget-view+json": {
       "model_id": "28bff00d02a1430bad990d05e74044d8",
       "version_major": 2,
       "version_minor": 0
      },
      "text/plain": [
       "HBox(children=(IntProgress(value=0, description='Epoch', max=1), HTML(value='')))"
      ]
     },
     "metadata": {},
     "output_type": "display_data"
    },
    {
     "name": "stdout",
     "output_type": "stream",
     "text": [
      "epoch      trn_loss   val_loss   accuracy                    \n",
      "    0      0.271743   0.21609    0.908731  \n",
      "\n"
     ]
    },
    {
     "data": {
      "application/vnd.jupyter.widget-view+json": {
       "model_id": "2271724977e64c35b4727f81ae19a5be",
       "version_major": 2,
       "version_minor": 0
      },
      "text/plain": [
       "HBox(children=(IntProgress(value=0, description='Epoch', max=7), HTML(value='')))"
      ]
     },
     "metadata": {},
     "output_type": "display_data"
    },
    {
     "name": "stdout",
     "output_type": "stream",
     "text": [
      "epoch      trn_loss   val_loss   accuracy                    \n",
      "    0      0.201858   0.175385   0.92925   \n",
      "    1      0.186081   0.158632   0.936657                    \n",
      "    2      0.184647   0.153031   0.938509                    \n",
      "    3      0.170445   0.145281   0.94256                     \n",
      "    4      0.166659   0.135638   0.946611                    \n",
      "    5      0.161266   0.134885   0.945801                    \n",
      "    6      0.160088   0.133546   0.948116                    \n"
     ]
    },
    {
     "name": "stderr",
     "output_type": "stream",
     "text": [
      "\n",
      " 30%|███       | 3/10 [2:52:00<6:41:21, 3440.17s/it]\u001b[A"
     ]
    },
    {
     "name": "stdout",
     "output_type": "stream",
     "text": [
      "\n"
     ]
    },
    {
     "data": {
      "application/vnd.jupyter.widget-view+json": {
       "model_id": "8f2b4b00f96540c79734f503e9ce936d",
       "version_major": 2,
       "version_minor": 0
      },
      "text/plain": [
       "HBox(children=(IntProgress(value=0, description='Epoch', max=1), HTML(value='')))"
      ]
     },
     "metadata": {},
     "output_type": "display_data"
    },
    {
     "name": "stdout",
     "output_type": "stream",
     "text": [
      "epoch      trn_loss   val_loss   accuracy                    \n",
      "    0      0.269427   0.236721   0.901101  \n",
      "\n"
     ]
    },
    {
     "data": {
      "application/vnd.jupyter.widget-view+json": {
       "model_id": "d50ef27f8c8e4db1ad63f4e45a13013e",
       "version_major": 2,
       "version_minor": 0
      },
      "text/plain": [
       "HBox(children=(IntProgress(value=0, description='Epoch', max=7), HTML(value='')))"
      ]
     },
     "metadata": {},
     "output_type": "display_data"
    },
    {
     "name": "stdout",
     "output_type": "stream",
     "text": [
      "epoch      trn_loss   val_loss   accuracy                    \n",
      "    0      0.216792   0.191496   0.922295  \n",
      "    1      0.188173   0.168215   0.932495                    \n",
      "    2      0.183503   0.165024   0.932726                    \n",
      "    3      0.182143   0.157321   0.93805                     \n",
      "    4      0.159494   0.152746   0.940264                    \n",
      "    5      0.158551   0.150859   0.939208                    \n",
      "    6      0.138734   0.14692    0.942217                    \n"
     ]
    },
    {
     "name": "stderr",
     "output_type": "stream",
     "text": [
      "\n",
      " 40%|████      | 4/10 [3:31:57<5:17:55, 3179.31s/it]\u001b[A"
     ]
    },
    {
     "name": "stdout",
     "output_type": "stream",
     "text": [
      "\n"
     ]
    },
    {
     "data": {
      "application/vnd.jupyter.widget-view+json": {
       "model_id": "532090e6afd9496783a240115e9a724c",
       "version_major": 2,
       "version_minor": 0
      },
      "text/plain": [
       "HBox(children=(IntProgress(value=0, description='Epoch', max=1), HTML(value='')))"
      ]
     },
     "metadata": {},
     "output_type": "display_data"
    },
    {
     "name": "stdout",
     "output_type": "stream",
     "text": [
      "epoch      trn_loss   val_loss   accuracy                    \n",
      "    0      0.258413   0.23888    0.899931  \n",
      "\n"
     ]
    },
    {
     "data": {
      "application/vnd.jupyter.widget-view+json": {
       "model_id": "51390a168e114b93a266e9136959a447",
       "version_major": 2,
       "version_minor": 0
      },
      "text/plain": [
       "HBox(children=(IntProgress(value=0, description='Epoch', max=7), HTML(value='')))"
      ]
     },
     "metadata": {},
     "output_type": "display_data"
    },
    {
     "name": "stdout",
     "output_type": "stream",
     "text": [
      "epoch      trn_loss   val_loss   accuracy                    \n",
      "    0      0.228721   0.195452   0.917394  \n",
      "    1      0.344862   0.229207   0.908088                    \n",
      "    2      0.29135    0.230812   0.908433                    \n",
      "    3      0.246764   0.224749   0.910731                    \n",
      "    4      0.250404   0.227592   0.911075                    \n",
      "    5      0.228938   0.224816   0.910846                    \n",
      "                                                             \r"
     ]
    },
    {
     "name": "stderr",
     "output_type": "stream",
     "text": [
      "\n",
      " 50%|█████     | 5/10 [4:10:51<4:10:51, 3010.27s/it]\u001b[A"
     ]
    },
    {
     "name": "stdout",
     "output_type": "stream",
     "text": [
      "    6      0.280751   0.267344   0.884076  \n",
      "\n"
     ]
    },
    {
     "data": {
      "application/vnd.jupyter.widget-view+json": {
       "model_id": "2b58b9090cb7454fb302fa5a91e317da",
       "version_major": 2,
       "version_minor": 0
      },
      "text/plain": [
       "HBox(children=(IntProgress(value=0, description='Epoch', max=1), HTML(value='')))"
      ]
     },
     "metadata": {},
     "output_type": "display_data"
    },
    {
     "name": "stdout",
     "output_type": "stream",
     "text": [
      "epoch      trn_loss   val_loss   accuracy                    \n",
      "    0      0.26181    0.233402   0.90007   \n",
      "\n"
     ]
    },
    {
     "data": {
      "application/vnd.jupyter.widget-view+json": {
       "model_id": "e8df8f6d1b17499180d9854edc9b95b9",
       "version_major": 2,
       "version_minor": 0
      },
      "text/plain": [
       "HBox(children=(IntProgress(value=0, description='Epoch', max=7), HTML(value='')))"
      ]
     },
     "metadata": {},
     "output_type": "display_data"
    },
    {
     "name": "stdout",
     "output_type": "stream",
     "text": [
      "epoch      trn_loss   val_loss   accuracy                    \n",
      "    0      0.22671    0.187654   0.916161  \n",
      "    1      0.195313   0.163682   0.928638                    \n",
      "    2      0.176339   0.15783    0.934468                    \n",
      "    3      0.172505   0.147125   0.939249                    \n",
      "    4      0.157038   0.144134   0.944496                    \n",
      "    5      0.163454   0.138813   0.945546                    \n",
      "                                                             \r"
     ]
    },
    {
     "name": "stderr",
     "output_type": "stream",
     "text": [
      "\n",
      " 60%|██████    | 6/10 [4:49:28<3:12:58, 2894.70s/it]\u001b[A"
     ]
    },
    {
     "name": "stdout",
     "output_type": "stream",
     "text": [
      "    6      0.160142   0.139144   0.944613  \n",
      "\n"
     ]
    },
    {
     "data": {
      "application/vnd.jupyter.widget-view+json": {
       "model_id": "ac057cfcc1f3420ea356823ad685d373",
       "version_major": 2,
       "version_minor": 0
      },
      "text/plain": [
       "HBox(children=(IntProgress(value=0, description='Epoch', max=1), HTML(value='')))"
      ]
     },
     "metadata": {},
     "output_type": "display_data"
    },
    {
     "name": "stdout",
     "output_type": "stream",
     "text": [
      "epoch      trn_loss   val_loss   accuracy                    \n",
      "    0      0.264015   0.233757   0.901736  \n",
      "\n"
     ]
    },
    {
     "data": {
      "application/vnd.jupyter.widget-view+json": {
       "model_id": "22469cb8471e435a9fd6e052ea99b651",
       "version_major": 2,
       "version_minor": 0
      },
      "text/plain": [
       "HBox(children=(IntProgress(value=0, description='Epoch', max=7), HTML(value='')))"
      ]
     },
     "metadata": {},
     "output_type": "display_data"
    },
    {
     "name": "stdout",
     "output_type": "stream",
     "text": [
      "epoch      trn_loss   val_loss   accuracy                    \n",
      "    0      0.218438   0.195513   0.920131  \n",
      "    1      0.183886   0.165447   0.931358                    \n",
      "    2      0.180778   0.161018   0.933094                    \n",
      "    3      0.184149   0.150061   0.939576                    \n",
      "    4      0.159214   0.145378   0.941891                    \n",
      "    5      0.153353   0.144101   0.942354                    \n",
      "    6      0.144702   0.141865   0.94328                     \n"
     ]
    },
    {
     "name": "stderr",
     "output_type": "stream",
     "text": [
      "\n",
      " 70%|███████   | 7/10 [5:27:57<2:20:33, 2811.07s/it]\u001b[A"
     ]
    },
    {
     "name": "stdout",
     "output_type": "stream",
     "text": [
      "\n"
     ]
    },
    {
     "data": {
      "application/vnd.jupyter.widget-view+json": {
       "model_id": "742431527e5a46eab2dd6671fa3a769b",
       "version_major": 2,
       "version_minor": 0
      },
      "text/plain": [
       "HBox(children=(IntProgress(value=0, description='Epoch', max=1), HTML(value='')))"
      ]
     },
     "metadata": {},
     "output_type": "display_data"
    },
    {
     "name": "stdout",
     "output_type": "stream",
     "text": [
      "epoch      trn_loss   val_loss   accuracy                    \n",
      "    0      0.269996   0.230409   0.903193  \n",
      "\n"
     ]
    },
    {
     "data": {
      "application/vnd.jupyter.widget-view+json": {
       "model_id": "3fc8e63e6fe14a19a99dbb97fa41b669",
       "version_major": 2,
       "version_minor": 0
      },
      "text/plain": [
       "HBox(children=(IntProgress(value=0, description='Epoch', max=7), HTML(value='')))"
      ]
     },
     "metadata": {},
     "output_type": "display_data"
    },
    {
     "name": "stdout",
     "output_type": "stream",
     "text": [
      "epoch      trn_loss   val_loss   accuracy                    \n",
      "    0      0.213426   0.1894     0.924706  \n",
      "    1      0.192626   0.167762   0.934556                    \n",
      "    2      0.189549   0.167321   0.931612                    \n",
      "    3      0.17218    0.158888   0.937274                    \n",
      "    4      0.159322   0.153381   0.9375                      \n",
      "    5      0.14734    0.148342   0.941123                    \n",
      " 21%|██        | 136/645 [00:59<03:43,  2.28it/s, loss=0.152]"
     ]
    }
   ],
   "source": [
    "# blindly subsetting\n",
    "models_arch = resnet50\n",
    "models_name = 'resnet50'\n",
    "lr=np.array([1e-3,5e-3,1e-2])\n",
    "\n",
    "sz = 224\n",
    "PATH = '/media/rene/Data/camelyon_out/tiles_224_100t_all_other'\n",
    "train_folder = '/media/rene/Data/camelyon_out/tiles_224_100t_all'\n",
    "# val_idxs = pickle.load( open( \"/media/rene/Data/camelyon_out/tiles_224_100t_all_other/tiles_224_100t_all_val_idxs.p\", \"rb\" ) )\n",
    "\n",
    "for i in tqdm(range(10)):\n",
    "    # create the new csv and save it\n",
    "    subset_labels_df = labels_df.sample(frac=0.5)\n",
    "    subset_labels_df.to_csv('/media/rene/Data/camelyon_out/tiles_224_100t_all_other/tiles_224_100t_all_subset_tmp.csv',  \n",
    "                            index = False)\n",
    "    csv_fname = '/media/rene/Data/camelyon_out/tiles_224_100t_all_other/tiles_224_100t_all_subset_tmp.csv'\n",
    "    \n",
    "    # get the validation indices based on this\n",
    "    val_idxs = make_validation_mask(subset_labels_df, normal_valid, tumor_valid)\n",
    "\n",
    "    tfms = tfms_from_model(models_arch, sz, aug_tfms=transforms_top_down, max_zoom=1)\n",
    "    data = ImageClassifierData.from_csv(PATH, train_folder, csv_fname, tfms=tfms, \n",
    "                                        val_idxs=val_idxs, bs=64)\n",
    "    learn = ConvLearner.pretrained(models_arch, data, precompute=False)\n",
    "    \n",
    "    lr =.001\n",
    "    learn.fit(lr, 1, cycle_len=1, cycle_mult=1) # train last few layers\n",
    "    lrs = np.array([lr/4,lr/2,lr])\n",
    "    learn.unfreeze()\n",
    "    learn.fit(lrs, 3, cycle_len=1, cycle_mult=2, best_save_name=models_name+'_half_'+str(i)) # train whole model"
   ]
  },
  {
   "cell_type": "code",
   "execution_count": null,
   "metadata": {},
   "outputs": [],
   "source": [
    "# blindly subsetting\n",
    "models_arch = resnet50\n",
    "models_name = 'resnet50'\n",
    "lr=np.array([1e-3,5e-3,1e-2])\n",
    "\n",
    "sz = 224\n",
    "PATH = '/media/rene/Data/camelyon_out/tiles_224_100t_all_other'\n",
    "train_folder = '/media/rene/Data/camelyon_out/tiles_224_100t_all'\n",
    "# val_idxs = pickle.load( open( \"/media/rene/Data/camelyon_out/tiles_224_100t_all_other/tiles_224_100t_all_val_idxs.p\", \"rb\" ) )\n",
    "\n",
    "for i in tqdm(range(10)):\n",
    "    # create the new csv and save it\n",
    "    subset_labels_df = labels_df.sample(frac=0.25)\n",
    "    subset_labels_df.to_csv('/media/rene/Data/camelyon_out/tiles_224_100t_all_other/tiles_224_100t_all_subset_tmp.csv',  \n",
    "                            index = False)\n",
    "    csv_fname = '/media/rene/Data/camelyon_out/tiles_224_100t_all_other/tiles_224_100t_all_subset_tmp.csv'\n",
    "    \n",
    "    # get the validation indices based on this\n",
    "    val_idxs = make_validation_mask(subset_labels_df, normal_valid, tumor_valid)\n",
    "\n",
    "    tfms = tfms_from_model(models_arch, sz, aug_tfms=transforms_top_down, max_zoom=1)\n",
    "    data = ImageClassifierData.from_csv(PATH, train_folder, csv_fname, tfms=tfms, \n",
    "                                        val_idxs=val_idxs, bs=64)\n",
    "    learn = ConvLearner.pretrained(models_arch, data, precompute=False)\n",
    "    \n",
    "    lr =.001\n",
    "    learn.fit(lr, 1, cycle_len=1, cycle_mult=1) # train last few layers\n",
    "    lrs = np.array([lr/4,lr/2,lr])\n",
    "    learn.unfreeze()\n",
    "    learn.fit(lrs, 3, cycle_len=1, cycle_mult=2, best_save_name=models_name+'_quarter_'+str(i)) # train whole model"
   ]
  },
  {
   "cell_type": "code",
   "execution_count": null,
   "metadata": {},
   "outputs": [],
   "source": [
    "# blindly subsetting\n",
    "models_arch = resnet50\n",
    "models_name = 'resnet50'\n",
    "lr=np.array([1e-3,5e-3,1e-2])\n",
    "\n",
    "sz = 224\n",
    "PATH = '/media/rene/Data/camelyon_out/tiles_224_100t_all_other'\n",
    "train_folder = '/media/rene/Data/camelyon_out/tiles_224_100t_all'\n",
    "# val_idxs = pickle.load( open( \"/media/rene/Data/camelyon_out/tiles_224_100t_all_other/tiles_224_100t_all_val_idxs.p\", \"rb\" ) )\n",
    "\n",
    "for i in tqdm(range(10)):\n",
    "    # create the new csv and save it\n",
    "    subset_labels_df = labels_df.sample(frac=1)\n",
    "    subset_labels_df.to_csv('/media/rene/Data/camelyon_out/tiles_224_100t_all_other/tiles_224_100t_all_subset_tmp.csv',  \n",
    "                            index = False)\n",
    "    csv_fname = '/media/rene/Data/camelyon_out/tiles_224_100t_all_other/tiles_224_100t_all_subset_tmp.csv'\n",
    "    \n",
    "    # get the validation indices based on this\n",
    "    val_idxs = make_validation_mask(subset_labels_df, normal_valid, tumor_valid)\n",
    "\n",
    "    tfms = tfms_from_model(models_arch, sz, aug_tfms=transforms_top_down, max_zoom=1)\n",
    "    data = ImageClassifierData.from_csv(PATH, train_folder, csv_fname, tfms=tfms, \n",
    "                                        val_idxs=val_idxs, bs=64)\n",
    "    learn = ConvLearner.pretrained(models_arch, data, precompute=False)\n",
    "    \n",
    "    lr =.001\n",
    "    learn.fit(lr, 1, cycle_len=1, cycle_mult=1) # train last few layers\n",
    "    lrs = np.array([lr/4,lr/2,lr])\n",
    "    learn.unfreeze()\n",
    "    learn.fit(lrs, 3, cycle_len=1, cycle_mult=2, best_save_name=models_name+'_full_'+str(i)) # train whole model"
   ]
  },
  {
   "cell_type": "markdown",
   "metadata": {},
   "source": [
    "## Subsample data csv for bagging\n",
    "* Try doing it slide wise, as well as totally randomly\n",
    "* Use the full validation set\n",
    "* Bagging is randomly sampling the wsis, so models will be trained on some of the same data\n",
    "* This won't be exactly 50%, but who cares"
   ]
  },
  {
   "cell_type": "code",
   "execution_count": 2,
   "metadata": {},
   "outputs": [],
   "source": [
    "# get the indices of slides to use\n",
    "def make_sample(labels_df, normal_train, tumor_train, downsample=2):\n",
    "    normal_train_subset = random.sample(normal_train, int(len(normal_train)/int(downsample)))\n",
    "    normal_train_subset = [int(x) for x in normal_train_subset]\n",
    "    \n",
    "    tumor_train_subset = random.sample(tumor_train, int(len(tumor_train)/int(downsample)))\n",
    "    tumor_train_subset = [int(x) for x in tumor_train_subset]\n",
    "    \n",
    "    drop_rows = []\n",
    "    for index, row in labels_df.iterrows():\n",
    "        label = row['label']\n",
    "        num = int(row['file_name'].split('_', 1)[1].split('_', 1)[0])\n",
    "        \n",
    "        if label == 'normal' and num not in normal_train_subset:\n",
    "            drop_rows.append(index)\n",
    "        elif label == 'tumor' and num not in tumor_train_subset:\n",
    "            drop_rows.append(index)\n",
    "    \n",
    "    subset_labels_df = labels_df.drop(labels_df.index[drop_rows])\n",
    "    return subset_labels_df"
   ]
  },
  {
   "cell_type": "code",
   "execution_count": null,
   "metadata": {},
   "outputs": [],
   "source": []
  },
  {
   "cell_type": "markdown",
   "metadata": {},
   "source": [
    "## Test\n",
    "*** Don't need to re-run the top stuff ***\n",
    "* Check the acc of the individual models\n",
    "* Check how adding models increases acc"
   ]
  },
  {
   "cell_type": "code",
   "execution_count": 8,
   "metadata": {},
   "outputs": [],
   "source": [
    "def bagging_ensemble_acc(models_arch, models_name, PATH, train_folder, csv_fname, weights=None):\n",
    "    # weights must be in the same order corresponding to model\n",
    "    # weights only used for the final ensemble, not the intermediate ones\n",
    "    if weights is None:\n",
    "        weights = [1/len(models_arch)]*len(models_arch)\n",
    "    all_preds = []\n",
    "    all_y = []\n",
    "    int_acc_list = []\n",
    "    \n",
    "    for idx, arch in enumerate(models_arch):\n",
    "        if arch in [inceptionresnet_2, inception_4]:\n",
    "            sz = 299\n",
    "        else:\n",
    "            sz = 224\n",
    "\n",
    "        tfms = tfms_from_model(arch, sz, aug_tfms=None, max_zoom=1)\n",
    "        \n",
    "        # do data from path, because this is the same split, just doesn't req\n",
    "        # get the validation indices based on this\n",
    "        data = ImageClassifierData.from_csv(PATH, train_folder, csv_fname, tfms=tfms, \n",
    "                                            val_idxs=val_idxs, bs=64)\n",
    "        \n",
    "        model_loc = os.path.join(PATH, 'models', models_name[idx])\n",
    "        learn = ConvLearner.pretrained(arch, data, precompute=False)\n",
    "        print(learn.model)\n",
    "        learn.load(model_loc)\n",
    "        # this returns log probs, but don't need to do anything because just taking the argmax\n",
    "        preds, y = learn.predict_with_targs(is_test=False)\n",
    "        print(models_name[idx], ':   ', accuracy_np(preds, y))\n",
    "        all_preds.append(preds)\n",
    "        all_y.append(y)\n",
    "\n",
    "        curr_preds = np.array(all_preds)\n",
    "        curr_probs = np.average(np.exp(curr_preds), axis=0)\n",
    "        int_acc = accuracy_np(curr_probs, y)\n",
    "        int_acc_list.append(int_acc)\n",
    "        print(models_name[idx], 'int acc:   ', int_acc_list)\n",
    "\n",
    "    all_preds = np.array(all_preds)\n",
    "    probs = np.average(np.exp(all_preds), axis=0, weights=weights)\n",
    "    print(accuracy_np(probs, all_y))\n",
    "    return int_acc\n",
    "\n",
    "def bagging_ensemble_acc_dir(models_arch, models_name, models_path, PATH, weights=None):\n",
    "    # weights must be in the same order corresponding to model\n",
    "    # weights only used for the final ensemble, not the intermediate ones\n",
    "    if weights is None:\n",
    "        weights = [1/len(models_arch)]*len(models_arch)\n",
    "    all_preds = []\n",
    "    all_y = []\n",
    "    int_acc_list = []\n",
    "    \n",
    "    for idx, arch in enumerate(models_arch):\n",
    "        if arch in [inceptionresnet_2, inception_4]:\n",
    "            sz = 299\n",
    "        else:\n",
    "            sz = 224\n",
    "\n",
    "        tfms = tfms_from_model(arch, sz, aug_tfms=None, max_zoom=1)\n",
    "        \n",
    "        # do data from path, because this is the same split, just doesn't req\n",
    "        # get the validation indices based on this\n",
    "        data = ImageClassifierData.from_paths(PATH, tfms=tfms, bs=64)\n",
    "\n",
    "        model_loc = os.path.join(models_path, 'models', models_name[idx])\n",
    "        learn = ConvLearner.pretrained(arch, data, precompute=False)\n",
    "        learn.load(model_loc)\n",
    "        # this returns log probs, but don't need to do anything because just taking the argmax\n",
    "        preds, y = learn.predict_with_targs(is_test=False)\n",
    "        print(models_name[idx], ':   ', accuracy_np(preds, y))\n",
    "        all_preds.append(preds)\n",
    "        all_y.append(y)\n",
    "\n",
    "        curr_preds = np.array(all_preds)\n",
    "        curr_probs = np.average(np.exp(curr_preds), axis=0)\n",
    "        int_acc = accuracy_np(curr_probs, y)\n",
    "        int_acc_list.append(int_acc)\n",
    "        print(models_name[idx], 'int acc:   ', int_acc)\n",
    "\n",
    "    all_preds = np.array(all_preds)\n",
    "    probs = np.average(np.exp(all_preds), axis=0, weights=weights)\n",
    "    print(accuracy_np(probs, all_y))\n",
    "    return int_acc_list"
   ]
  },
  {
   "cell_type": "code",
   "execution_count": 21,
   "metadata": {},
   "outputs": [
    {
     "name": "stdout",
     "output_type": "stream",
     "text": [
      "resnet50_full_0 :    0.9544910179640719\n",
      "resnet50_full_0 int acc:    0.9544910179640719\n",
      "resnet50_full_1 :    0.9577844311377246\n",
      "resnet50_full_1 int acc:    0.9562275449101797\n",
      "resnet50_full_2 :    0.9548502994011976\n",
      "resnet50_full_2 int acc:    0.9567065868263473\n",
      "resnet50_full_3 :    0.9566467065868264\n",
      "resnet50_full_3 int acc:    0.9575449101796407\n",
      "resnet50_full_4 :    0.9568862275449102\n",
      "resnet50_full_4 int acc:    0.9579640718562874\n",
      "resnet50_full_5 :    0.9563473053892215\n",
      "resnet50_full_5 int acc:    0.958502994011976\n",
      "resnet50_full_6 :    0.9556886227544911\n",
      "resnet50_full_6 int acc:    0.9592215568862276\n",
      "resnet50_full_7 :    0.9576646706586827\n",
      "resnet50_full_7 int acc:    0.958622754491018\n",
      "resnet50_full_8 :    0.9573053892215568\n",
      "resnet50_full_8 int acc:    0.9592215568862276\n",
      "resnet50_full_9 :    0.9553293413173652\n",
      "resnet50_full_9 int acc:    0.9591616766467066\n",
      "0.9591616766467066\n"
     ]
    },
    {
     "data": {
      "image/png": "[encoded data removed]",
      "text/plain": [
       "<Figure size 432x288 with 1 Axes>"
      ]
     },
     "metadata": {},
     "output_type": "display_data"
    }
   ],
   "source": [
    "PATH = '/media/rene/Data/camelyon_out/tiles_224_100t/'\n",
    "models_path = '/media/rene/Data/camelyon_out/tiles_224_100t_all_other'\n",
    "models_arch = [resnet50]*10\n",
    "models_name = ['resnet50_full_'+str(i)for i in range (10)]\n",
    "\n",
    "int_acc = bagging_ensemble_acc_dir(models_arch, models_name, models_path, PATH, weights=None)\n",
    "x = list(range(1, 11))\n",
    "\n",
    "plt.plot(x, int_acc)\n",
    "plt.title('ResNet50 on Full Dataset')\n",
    "plt.xlabel('Number of Models')\n",
    "plt.ylabel('Accuracy')\n",
    "plt.show()"
   ]
  },
  {
   "cell_type": "code",
   "execution_count": 27,
   "metadata": {},
   "outputs": [
    {
     "name": "stdout",
     "output_type": "stream",
     "text": [
      "resnet50_half_0 :    0.9482634730538922\n",
      "resnet50_half_0 int acc:    0.9482634730538922\n",
      "resnet50_half_1 :    0.9511976047904191\n",
      "resnet50_half_1 int acc:    0.9507185628742515\n",
      "resnet50_half_2 :    0.9461077844311377\n",
      "resnet50_half_2 int acc:    0.9505389221556886\n",
      "resnet50_half_3 :    0.9480838323353293\n",
      "resnet50_half_3 int acc:    0.9508982035928144\n",
      "resnet50_half_4 :    0.9301197604790419\n",
      "resnet50_half_4 int acc:    0.9479640718562874\n",
      "resnet50_half_5 :    0.9467664670658683\n",
      "resnet50_half_5 int acc:    0.948443113772455\n",
      "resnet50_half_6 :    0.9468263473053892\n",
      "resnet50_half_6 int acc:    0.948562874251497\n",
      "resnet50_half_7 :    0.9488023952095809\n",
      "resnet50_half_7 int acc:    0.9486826347305389\n",
      "resnet50_half_8 :    0.948562874251497\n",
      "resnet50_half_8 int acc:    0.9489221556886227\n",
      "resnet50_half_9 :    0.9459880239520958\n",
      "resnet50_half_9 int acc:    0.9491017964071856\n",
      "0.9491017964071856\n"
     ]
    },
    {
     "data": {
      "image/png": "[encoded data removed]",
      "text/plain": [
       "<Figure size 432x288 with 1 Axes>"
      ]
     },
     "metadata": {},
     "output_type": "display_data"
    }
   ],
   "source": [
    "PATH = '/media/rene/Data/camelyon_out/tiles_224_100t/'\n",
    "models_path = '/media/rene/Data/camelyon_out/tiles_224_100t_all_other'\n",
    "models_arch = [resnet50]*10\n",
    "models_name = ['resnet50_half_'+str(i)for i in range (10)]\n",
    "\n",
    "int_acc = bagging_ensemble_acc_dir(models_arch, models_name, models_path, PATH, weights=None)\n",
    "x = list(range(1, 11))\n",
    "\n",
    "plt.plot(x, int_acc)\n",
    "plt.title('ResNet50 on Half Dataset')\n",
    "plt.xlabel('Number of Models')\n",
    "plt.ylabel('Accuracy')\n",
    "plt.show()"
   ]
  },
  {
   "cell_type": "code",
   "execution_count": 28,
   "metadata": {},
   "outputs": [
    {
     "name": "stdout",
     "output_type": "stream",
     "text": [
      "resnet50_quarter_0 :    0.9404191616766467\n",
      "resnet50_quarter_0 int acc:    0.9404191616766467\n",
      "resnet50_quarter_1 :    0.9418562874251497\n",
      "resnet50_quarter_1 int acc:    0.9432934131736527\n",
      "resnet50_quarter_2 :    0.9413173652694611\n",
      "resnet50_quarter_2 int acc:    0.9445508982035928\n",
      "resnet50_quarter_3 :    0.9426946107784431\n",
      "resnet50_quarter_3 int acc:    0.9446706586826348\n",
      "resnet50_quarter_4 :    0.941377245508982\n",
      "resnet50_quarter_4 int acc:    0.9434131736526946\n",
      "resnet50_quarter_5 :    0.9394011976047905\n",
      "resnet50_quarter_5 int acc:    0.9438922155688623\n",
      "resnet50_quarter_6 :    0.937185628742515\n",
      "resnet50_quarter_6 int acc:    0.9434730538922156\n",
      "resnet50_quarter_7 :    0.937185628742515\n",
      "resnet50_quarter_7 int acc:    0.9432934131736527\n",
      "resnet50_quarter_8 :    0.9404191616766467\n",
      "resnet50_quarter_8 int acc:    0.9425149700598803\n",
      "resnet50_quarter_9 :    0.9388622754491018\n",
      "resnet50_quarter_9 int acc:    0.9426347305389221\n",
      "0.9426347305389221\n"
     ]
    },
    {
     "data": {
      "image/png": "[encoded data removed]",
      "text/plain": [
       "<Figure size 432x288 with 1 Axes>"
      ]
     },
     "metadata": {},
     "output_type": "display_data"
    }
   ],
   "source": [
    "PATH = '/media/rene/Data/camelyon_out/tiles_224_100t/'\n",
    "models_path = '/media/rene/Data/camelyon_out/tiles_224_100t_all_other'\n",
    "models_arch = [resnet50]*10\n",
    "models_name = ['resnet50_quarter_'+str(i)for i in range (10)]\n",
    "\n",
    "int_acc = bagging_ensemble_acc_dir(models_arch, models_name, models_path, PATH, weights=None)\n",
    "x = list(range(1, 11))\n",
    "\n",
    "plt.plot(x, int_acc)\n",
    "plt.title('ResNet50 on Quarter Dataset')\n",
    "plt.xlabel('Number of Models')\n",
    "plt.ylabel('Accuracy')\n",
    "plt.show()"
   ]
  },
  {
   "cell_type": "markdown",
   "metadata": {},
   "source": [
    "## Models trained data seperated by WSI"
   ]
  },
  {
   "cell_type": "code",
   "execution_count": 32,
   "metadata": {},
   "outputs": [
    {
     "name": "stdout",
     "output_type": "stream",
     "text": [
      "resnet50_half_wsi_0 :    0.9292814371257485\n",
      "resnet50_half_wsi_0 int acc:    0.9292814371257485\n",
      "resnet50_half_wsi_1 :    0.9370059880239521\n",
      "resnet50_half_wsi_1 int acc:    0.9410179640718563\n",
      "resnet50_half_wsi_2 :    0.9207185628742515\n",
      "resnet50_half_wsi_2 int acc:    0.9390419161676646\n",
      "resnet50_half_wsi_3 :    0.9362275449101797\n",
      "resnet50_half_wsi_3 int acc:    0.9412574850299401\n",
      "resnet50_half_wsi_4 :    0.931497005988024\n",
      "resnet50_half_wsi_4 int acc:    0.9413173652694611\n",
      "resnet50_half_wsi_5 :    0.9321556886227544\n",
      "resnet50_half_wsi_5 int acc:    0.9419161676646707\n",
      "resnet50_half_wsi_6 :    0.9020359281437126\n",
      "resnet50_half_wsi_6 int acc:    0.9391616766467066\n",
      "resnet50_half_wsi_7 :    0.9304790419161677\n",
      "resnet50_half_wsi_7 int acc:    0.9395209580838323\n",
      "resnet50_half_wsi_8 :    0.9283233532934132\n",
      "resnet50_half_wsi_8 int acc:    0.9393413173652695\n",
      "resnet50_half_wsi_9 :    0.9300598802395209\n",
      "resnet50_half_wsi_9 int acc:    0.9398203592814371\n",
      "0.9398203592814371\n"
     ]
    },
    {
     "data": {
      "image/png": "[encoded data removed]",
      "text/plain": [
       "<Figure size 432x288 with 1 Axes>"
      ]
     },
     "metadata": {},
     "output_type": "display_data"
    }
   ],
   "source": [
    "PATH = '/media/rene/Data/camelyon_out/tiles_224_100t/'\n",
    "models_path = '/media/rene/Data/camelyon_out/tiles_224_100t_all_other'\n",
    "models_arch = [resnet50]*10\n",
    "models_name = ['resnet50_half_wsi_'+str(i)for i in range (10)]\n",
    "\n",
    "int_acc = bagging_ensemble_acc_dir(models_arch, models_name, models_path, PATH, weights=None)\n",
    "x = list(range(1, 11))\n",
    "\n",
    "plt.plot(x, int_acc)\n",
    "plt.title('ResNet50 on Half WSI Seperated Dataset')\n",
    "plt.xlabel('Number of Models')\n",
    "plt.ylabel('Accuracy')\n",
    "plt.show()"
   ]
  },
  {
   "cell_type": "code",
   "execution_count": 33,
   "metadata": {},
   "outputs": [
    {
     "name": "stdout",
     "output_type": "stream",
     "text": [
      "resnet50_quarter_wsi_0 :    0.9206586826347305\n",
      "resnet50_quarter_wsi_0 int acc:    0.9206586826347305\n",
      "resnet50_quarter_wsi_1 :    0.9196407185628742\n",
      "resnet50_quarter_wsi_1 int acc:    0.9292215568862275\n",
      "resnet50_quarter_wsi_2 :    0.9168862275449102\n",
      "resnet50_quarter_wsi_2 int acc:    0.9320359281437126\n",
      "resnet50_quarter_wsi_3 :    0.9049700598802395\n",
      "resnet50_quarter_wsi_3 int acc:    0.9324550898203593\n",
      "resnet50_quarter_wsi_4 :    0.9060479041916167\n",
      "resnet50_quarter_wsi_4 int acc:    0.932934131736527\n",
      "resnet50_quarter_wsi_5 :    0.9322155688622754\n",
      "resnet50_quarter_wsi_5 int acc:    0.9350898203592815\n",
      "resnet50_quarter_wsi_6 :    0.9050898203592814\n",
      "resnet50_quarter_wsi_6 int acc:    0.9356287425149701\n",
      "resnet50_quarter_wsi_7 :    0.9045508982035928\n",
      "resnet50_quarter_wsi_7 int acc:    0.9359281437125748\n",
      "resnet50_quarter_wsi_8 :    0.8638323353293413\n",
      "resnet50_quarter_wsi_8 int acc:    0.9340718562874252\n",
      "resnet50_quarter_wsi_9 :    0.8998203592814371\n",
      "resnet50_quarter_wsi_9 int acc:    0.9334730538922156\n",
      "0.9334730538922156\n"
     ]
    },
    {
     "data": {
      "image/png": "[encoded data removed]",
      "text/plain": [
       "<Figure size 432x288 with 1 Axes>"
      ]
     },
     "metadata": {},
     "output_type": "display_data"
    }
   ],
   "source": [
    "PATH = '/media/rene/Data/camelyon_out/tiles_224_100t/'\n",
    "models_path = '/media/rene/Data/camelyon_out/tiles_224_100t_all_other'\n",
    "models_arch = [resnet50]*10\n",
    "models_name = ['resnet50_quarter_wsi_'+str(i)for i in range (10)]\n",
    "\n",
    "int_acc = bagging_ensemble_acc_dir(models_arch, models_name, models_path, PATH, weights=None)\n",
    "x = list(range(1, 11))\n",
    "\n",
    "plt.plot(x, int_acc)\n",
    "plt.title('ResNet50 on Quarter WSI Seperated Dataset')\n",
    "plt.xlabel('Number of Models')\n",
    "plt.ylabel('Accuracy')\n",
    "plt.show()"
   ]
  },
  {
   "cell_type": "code",
   "execution_count": 37,
   "metadata": {},
   "outputs": [
    {
     "name": "stdout",
     "output_type": "stream",
     "text": [
      "resnet50_eighth_wsi_0 :    0.8712574850299402\n",
      "resnet50_eighth_wsi_0 int acc:    0.8712574850299402\n",
      "resnet50_eighth_wsi_1 :    0.904311377245509\n",
      "resnet50_eighth_wsi_1 int acc:    0.9059880239520958\n",
      "resnet50_eighth_wsi_3 :    0.8925748502994012\n",
      "resnet50_eighth_wsi_3 int acc:    0.9147305389221557\n",
      "resnet50_eighth_wsi_4 :    0.8685029940119761\n",
      "resnet50_eighth_wsi_4 int acc:    0.9116766467065869\n",
      "resnet50_eighth_wsi_5 :    0.8724550898203592\n",
      "resnet50_eighth_wsi_5 int acc:    0.91\n",
      "resnet50_eighth_wsi_6 :    0.9059880239520958\n",
      "resnet50_eighth_wsi_6 int acc:    0.9138323353293413\n",
      "resnet50_eighth_wsi_7 :    0.8931137724550898\n",
      "resnet50_eighth_wsi_7 int acc:    0.9202395209580838\n",
      "resnet50_eighth_wsi_8 :    0.9065868263473054\n",
      "resnet50_eighth_wsi_8 int acc:    0.9251497005988024\n",
      "resnet50_eighth_wsi_9 :    0.864191616766467\n",
      "resnet50_eighth_wsi_9 int acc:    0.9230538922155689\n",
      "0.9230538922155689\n"
     ]
    },
    {
     "data": {
      "image/png": "[encoded data removed]",
      "text/plain": [
       "<Figure size 432x288 with 1 Axes>"
      ]
     },
     "metadata": {},
     "output_type": "display_data"
    }
   ],
   "source": [
    "PATH = '/media/rene/Data/camelyon_out/tiles_224_100t/'\n",
    "models_path = '/media/rene/Data/camelyon_out/tiles_224_100t_all_other'\n",
    "models_arch = [resnet50]*9\n",
    "models_name = ['resnet50_eighth_wsi_'+str(i)for i in [0,1,3,4,5,6,7,8,9]]\n",
    "\n",
    "int_acc = bagging_ensemble_acc_dir(models_arch, models_name, models_path, PATH, weights=None)\n",
    "x = list(range(1, 10))\n",
    "\n",
    "plt.plot(x, int_acc)\n",
    "plt.title('ResNet50 on Eighth WSI Seperated Dataset')\n",
    "plt.xlabel('Number of Models')\n",
    "plt.ylabel('Accuracy')\n",
    "plt.show()"
   ]
  },
  {
   "cell_type": "markdown",
   "metadata": {},
   "source": [
    "## Standard Bagging with WSI\n",
    "* Sample WSIs with replacement, same number as full dataset."
   ]
  },
  {
   "cell_type": "code",
   "execution_count": 5,
   "metadata": {},
   "outputs": [],
   "source": [
    "# get the indices of slides to use\n",
    "def make_sample_replacement(labels_df, normal_train, tumor_train, downsample=2):\n",
    "    normal_train_subset = np.random.choice(normal_train, len(normal_train))\n",
    "    normal_train_subset = [int(x) for x in normal_train_subset]\n",
    "    \n",
    "    tumor_train_subset = np.random.choice(tumor_train, len(tumor_train))\n",
    "    tumor_train_subset = [int(x) for x in tumor_train_subset]\n",
    "    \n",
    "    drop_rows = []\n",
    "    for index, row in labels_df.iterrows():\n",
    "        label = row['label']\n",
    "        num = int(row['file_name'].split('_', 1)[1].split('_', 1)[0])\n",
    "        \n",
    "        if label == 'normal' and num not in normal_train_subset:\n",
    "            drop_rows.append(index)\n",
    "        elif label == 'tumor' and num not in tumor_train_subset:\n",
    "            drop_rows.append(index)\n",
    "    \n",
    "    subset_labels_df = labels_df.drop(labels_df.index[drop_rows])\n",
    "    return subset_labels_df"
   ]
  },
  {
   "cell_type": "code",
   "execution_count": null,
   "metadata": {},
   "outputs": [
    {
     "name": "stderr",
     "output_type": "stream",
     "text": [
      "\r",
      "  0%|          | 0/5 [00:00<?, ?it/s]"
     ]
    },
    {
     "data": {
      "application/vnd.jupyter.widget-view+json": {
       "model_id": "e6f8828d190241bfa41b7a8177bd1e13",
       "version_major": 2,
       "version_minor": 0
      },
      "text/plain": [
       "HBox(children=(IntProgress(value=0, description='Epoch', max=1), HTML(value='')))"
      ]
     },
     "metadata": {},
     "output_type": "display_data"
    },
    {
     "name": "stdout",
     "output_type": "stream",
     "text": [
      "\r",
      "  0%|          | 0/370 [00:00<?, ?it/s]"
     ]
    },
    {
     "name": "stderr",
     "output_type": "stream",
     "text": [
      "\n"
     ]
    },
    {
     "name": "stdout",
     "output_type": "stream",
     "text": [
      "epoch      trn_loss   val_loss   accuracy                    \n",
      "    0      0.303586   0.26227    0.891908  \n",
      "\n"
     ]
    },
    {
     "data": {
      "application/vnd.jupyter.widget-view+json": {
       "model_id": "3826395217bf4c889caf1b10a4ae6b6c",
       "version_major": 2,
       "version_minor": 0
      },
      "text/plain": [
       "HBox(children=(IntProgress(value=0, description='Epoch', max=7), HTML(value='')))"
      ]
     },
     "metadata": {},
     "output_type": "display_data"
    },
    {
     "name": "stdout",
     "output_type": "stream",
     "text": [
      "epoch      trn_loss   val_loss   accuracy                    \n",
      "    0      0.246768   0.22702    0.905894  \n",
      "    1      0.219619   0.196038   0.922677                    \n",
      "    2      0.204463   0.192088   0.924076                    \n",
      "    3      0.191473   0.181394   0.928871                    \n",
      "    4      0.189459   0.176      0.927672                    \n",
      "    5      0.178979   0.175404   0.929071                    \n",
      "                                                             \r"
     ]
    },
    {
     "name": "stderr",
     "output_type": "stream",
     "text": [
      "\r",
      " 20%|██        | 1/5 [17:55<1:11:41, 1075.49s/it]"
     ]
    },
    {
     "name": "stdout",
     "output_type": "stream",
     "text": [
      "    6      0.178621   0.173561   0.931069  \n",
      "\n"
     ]
    },
    {
     "data": {
      "application/vnd.jupyter.widget-view+json": {
       "model_id": "897a07d6d8b945a187281e15f172f338",
       "version_major": 2,
       "version_minor": 0
      },
      "text/plain": [
       "HBox(children=(IntProgress(value=0, description='Epoch', max=1), HTML(value='')))"
      ]
     },
     "metadata": {},
     "output_type": "display_data"
    },
    {
     "name": "stdout",
     "output_type": "stream",
     "text": [
      "epoch      trn_loss   val_loss   accuracy                    \n",
      "    0      0.316013   0.272014   0.885086  \n",
      "\n"
     ]
    },
    {
     "data": {
      "application/vnd.jupyter.widget-view+json": {
       "model_id": "00c73bfebbda4d24943759a31561619e",
       "version_major": 2,
       "version_minor": 0
      },
      "text/plain": [
       "HBox(children=(IntProgress(value=0, description='Epoch', max=7), HTML(value='')))"
      ]
     },
     "metadata": {},
     "output_type": "display_data"
    },
    {
     "name": "stdout",
     "output_type": "stream",
     "text": [
      "epoch      trn_loss   val_loss   accuracy                    \n",
      "    0      0.256364   0.223344   0.905495  \n",
      "    1      0.22047    0.191064   0.918681                    \n",
      "    2      0.208122   0.187783   0.922763                    \n",
      "    3      0.19095    0.178684   0.925432                    \n",
      "    4      0.18874    0.168514   0.93281                     \n",
      "    5      0.1822     0.166081   0.932339                    \n",
      "                                                             \r"
     ]
    },
    {
     "name": "stderr",
     "output_type": "stream",
     "text": [
      "\r",
      " 40%|████      | 2/5 [35:39<53:29, 1069.99s/it]  "
     ]
    },
    {
     "name": "stdout",
     "output_type": "stream",
     "text": [
      "    6      0.185036   0.168756   0.931083  \n",
      "\n"
     ]
    },
    {
     "data": {
      "application/vnd.jupyter.widget-view+json": {
       "model_id": "cc9ed0be59cf4dcb9b24161e55d18d95",
       "version_major": 2,
       "version_minor": 0
      },
      "text/plain": [
       "HBox(children=(IntProgress(value=0, description='Epoch', max=1), HTML(value='')))"
      ]
     },
     "metadata": {},
     "output_type": "display_data"
    },
    {
     "name": "stdout",
     "output_type": "stream",
     "text": [
      "epoch      trn_loss   val_loss   accuracy                    \n",
      "    0      0.310994   0.262538   0.894505  \n",
      "\n"
     ]
    },
    {
     "data": {
      "application/vnd.jupyter.widget-view+json": {
       "model_id": "6dac28f808804c3d9300b4146731f7ff",
       "version_major": 2,
       "version_minor": 0
      },
      "text/plain": [
       "HBox(children=(IntProgress(value=0, description='Epoch', max=7), HTML(value='')))"
      ]
     },
     "metadata": {},
     "output_type": "display_data"
    },
    {
     "name": "stdout",
     "output_type": "stream",
     "text": [
      "epoch      trn_loss   val_loss   accuracy                    \n",
      "    0      0.254063   0.209205   0.911774  \n",
      "    1      0.213229   0.173254   0.928728                    \n",
      "    2      0.198619   0.170055   0.930298                    \n",
      "    3      0.182448   0.158144   0.939403                    \n",
      "    4      0.176268   0.152095   0.941601                    \n",
      "    5      0.173545   0.148307   0.943485                    \n",
      "                                                             \r"
     ]
    },
    {
     "name": "stderr",
     "output_type": "stream",
     "text": [
      "\r",
      " 60%|██████    | 3/5 [54:17<36:11, 1085.71s/it]"
     ]
    },
    {
     "name": "stdout",
     "output_type": "stream",
     "text": [
      "    6      0.170409   0.149654   0.941287  \n",
      "\n"
     ]
    },
    {
     "data": {
      "application/vnd.jupyter.widget-view+json": {
       "model_id": "085b782cf89f40bdaf819a50d852e5b6",
       "version_major": 2,
       "version_minor": 0
      },
      "text/plain": [
       "HBox(children=(IntProgress(value=0, description='Epoch', max=1), HTML(value='')))"
      ]
     },
     "metadata": {},
     "output_type": "display_data"
    },
    {
     "name": "stdout",
     "output_type": "stream",
     "text": [
      "epoch      trn_loss   val_loss   accuracy                    \n",
      "    0      0.332892   0.289354   0.878681  \n",
      "\n"
     ]
    },
    {
     "data": {
      "application/vnd.jupyter.widget-view+json": {
       "model_id": "cd559a842c214d1da73d7856f0d536e3",
       "version_major": 2,
       "version_minor": 0
      },
      "text/plain": [
       "HBox(children=(IntProgress(value=0, description='Epoch', max=7), HTML(value='')))"
      ]
     },
     "metadata": {},
     "output_type": "display_data"
    },
    {
     "name": "stdout",
     "output_type": "stream",
     "text": [
      "epoch      trn_loss   val_loss   accuracy                    \n",
      "    0      0.267732   0.230144   0.902637  \n",
      "    1      0.237092   0.206564   0.916484                    \n",
      "    2      0.223482   0.200381   0.916923                    \n",
      "    3      0.202618   0.184569   0.922198                    \n",
      "    4      0.203909   0.178505   0.925055                    \n",
      "    5      0.194919   0.177799   0.924396                    \n",
      "                                                             \r"
     ]
    },
    {
     "name": "stderr",
     "output_type": "stream",
     "text": [
      "\r",
      " 80%|████████  | 4/5 [1:11:23<17:50, 1070.76s/it]"
     ]
    },
    {
     "name": "stdout",
     "output_type": "stream",
     "text": [
      "    6      0.19858    0.178692   0.924176  \n",
      "\n"
     ]
    },
    {
     "data": {
      "application/vnd.jupyter.widget-view+json": {
       "model_id": "795cc87e6a194fc6b47d017159b65de5",
       "version_major": 2,
       "version_minor": 0
      },
      "text/plain": [
       "HBox(children=(IntProgress(value=0, description='Epoch', max=1), HTML(value='')))"
      ]
     },
     "metadata": {},
     "output_type": "display_data"
    },
    {
     "name": "stdout",
     "output_type": "stream",
     "text": [
      "epoch      trn_loss   val_loss   accuracy                    \n",
      "    0      0.311349   0.268104   0.885495  \n",
      "\n"
     ]
    },
    {
     "data": {
      "application/vnd.jupyter.widget-view+json": {
       "model_id": "962de73c7a814b13905ffd57cb005b82",
       "version_major": 2,
       "version_minor": 0
      },
      "text/plain": [
       "HBox(children=(IntProgress(value=0, description='Epoch', max=7), HTML(value='')))"
      ]
     },
     "metadata": {},
     "output_type": "display_data"
    },
    {
     "name": "stdout",
     "output_type": "stream",
     "text": [
      " 27%|██▋       | 94/348 [00:33<01:31,  2.76it/s, loss=0.31] "
     ]
    }
   ],
   "source": [
    "models_arch = resnet18\n",
    "models_name = 'resnet18'\n",
    "\n",
    "lr=np.array([1e-3,5e-3,1e-2])\n",
    "\n",
    "sz = 224\n",
    "PATH = '/media/rene/Data/camelyon_out/tiles_224_100t_all_other'\n",
    "train_folder = '/media/rene/Data/camelyon_out/tiles_224_100t_all'\n",
    "\n",
    "for i in tqdm(range(10, 15)):\n",
    "    # create the new csv and save it\n",
    "    subset_labels_df = make_sample_replacement(labels_df, normal_train, tumor_train)\n",
    "    subset_labels_df.to_csv('/media/rene/Data/camelyon_out/tiles_224_100t_all_other/tiles_224_100t_all_subset_tmp2.csv',  \n",
    "                            index = False)\n",
    "    csv_fname = '/media/rene/Data/camelyon_out/tiles_224_100t_all_other/tiles_224_100t_all_subset_tmp2.csv'\n",
    "    \n",
    "    # get the validation indices based on this\n",
    "    val_idxs = make_validation_mask(subset_labels_df, normal_valid, tumor_valid)\n",
    "\n",
    "    tfms = tfms_from_model(models_arch, sz, aug_tfms=transforms_top_down, max_zoom=1)\n",
    "    data = ImageClassifierData.from_csv(PATH, train_folder, csv_fname, tfms=tfms, \n",
    "                                        val_idxs=val_idxs, bs=128)\n",
    "    learn = ConvLearner.pretrained(models_arch, data, precompute=False)\n",
    "    \n",
    "    lr =.001\n",
    "    learn.fit(lr, 1, cycle_len=1, cycle_mult=1) # train last few layers\n",
    "    lrs = np.array([lr/4,lr/2,lr])\n",
    "    learn.unfreeze()\n",
    "    learn.fit(lrs, 3, cycle_len=1, cycle_mult=2, best_save_name=models_name+'_bagging_proper_wsi_'+str(i)) # train whole model"
   ]
  },
  {
   "cell_type": "code",
   "execution_count": null,
   "metadata": {},
   "outputs": [],
   "source": [
    "models_arch = resnet50\n",
    "models_name = 'resnet50'\n",
    "\n",
    "lr=np.array([1e-3,5e-3,1e-2])\n",
    "\n",
    "sz = 224\n",
    "PATH = '/media/rene/Data/camelyon_out/tiles_224_100t_all_other'\n",
    "train_folder = '/media/rene/Data/camelyon_out/tiles_224_100t_all'\n",
    "\n",
    "for i in tqdm(range(15)):\n",
    "    # create the new csv and save it\n",
    "    subset_labels_df = make_sample_replacement(labels_df, normal_train, tumor_train)\n",
    "    subset_labels_df.to_csv('/media/rene/Data/camelyon_out/tiles_224_100t_all_other/tiles_224_100t_all_subset_tmp2.csv',  \n",
    "                            index = False)\n",
    "    csv_fname = '/media/rene/Data/camelyon_out/tiles_224_100t_all_other/tiles_224_100t_all_subset_tmp2.csv'\n",
    "    \n",
    "    # get the validation indices based on this\n",
    "    val_idxs = make_validation_mask(subset_labels_df, normal_valid, tumor_valid)\n",
    "\n",
    "    tfms = tfms_from_model(models_arch, sz, aug_tfms=transforms_top_down, max_zoom=1)\n",
    "    data = ImageClassifierData.from_csv(PATH, train_folder, csv_fname, tfms=tfms, \n",
    "                                        val_idxs=val_idxs, bs=64)\n",
    "    learn = ConvLearner.pretrained(models_arch, data, precompute=False)\n",
    "    \n",
    "    lr =.001\n",
    "    learn.fit(lr, 1, cycle_len=1, cycle_mult=1) # train last few layers\n",
    "    lrs = np.array([lr/4,lr/2,lr])\n",
    "    learn.unfreeze()\n",
    "    learn.fit(lrs, 3, cycle_len=1, cycle_mult=2, best_save_name=models_name+'_bagging_proper_wsi_'+str(i)) # train whole model"
   ]
  },
  {
   "cell_type": "code",
   "execution_count": null,
   "metadata": {},
   "outputs": [
    {
     "name": "stderr",
     "output_type": "stream",
     "text": [
      "\r",
      "  0%|          | 0/2 [00:00<?, ?it/s]"
     ]
    },
    {
     "data": {
      "application/vnd.jupyter.widget-view+json": {
       "model_id": "be469d67e6404ab498a3ea8e688bcf58",
       "version_major": 2,
       "version_minor": 0
      },
      "text/plain": [
       "HBox(children=(IntProgress(value=0, description='Epoch', max=1), HTML(value='')))"
      ]
     },
     "metadata": {},
     "output_type": "display_data"
    },
    {
     "name": "stdout",
     "output_type": "stream",
     "text": [
      "\r",
      "  0%|          | 0/986 [00:00<?, ?it/s]"
     ]
    },
    {
     "name": "stderr",
     "output_type": "stream",
     "text": [
      "\n"
     ]
    },
    {
     "name": "stdout",
     "output_type": "stream",
     "text": [
      "epoch      trn_loss   val_loss   accuracy                    \n",
      "    0      0.249017   0.216515   0.907493  \n",
      "\n"
     ]
    },
    {
     "data": {
      "application/vnd.jupyter.widget-view+json": {
       "model_id": "b68d2c5b7b8647e788e8c6240ee809d5",
       "version_major": 2,
       "version_minor": 0
      },
      "text/plain": [
       "HBox(children=(IntProgress(value=0, description='Epoch', max=7), HTML(value='')))"
      ]
     },
     "metadata": {},
     "output_type": "display_data"
    },
    {
     "name": "stdout",
     "output_type": "stream",
     "text": [
      "epoch      trn_loss   val_loss   accuracy                    \n",
      "    0      0.19583    0.178313   0.930869  \n",
      "    1      0.181065   0.15699    0.935864                    \n",
      "    2      0.164168   0.152913   0.938262                    \n",
      "    3      0.142469   0.142039   0.942458                    \n",
      "    4      0.155367   0.137674   0.946254                    \n",
      "    5      0.137972   0.132742   0.948851                    \n",
      "                                                             \r"
     ]
    },
    {
     "name": "stderr",
     "output_type": "stream",
     "text": [
      "\r",
      " 50%|█████     | 1/2 [49:40<49:40, 2980.44s/it]"
     ]
    },
    {
     "name": "stdout",
     "output_type": "stream",
     "text": [
      "    6      0.135903   0.132269   0.946853  \n",
      "\n"
     ]
    },
    {
     "data": {
      "application/vnd.jupyter.widget-view+json": {
       "model_id": "567770246fa641a0a1ee51559a63b189",
       "version_major": 2,
       "version_minor": 0
      },
      "text/plain": [
       "HBox(children=(IntProgress(value=0, description='Epoch', max=1), HTML(value='')))"
      ]
     },
     "metadata": {},
     "output_type": "display_data"
    },
    {
     "name": "stdout",
     "output_type": "stream",
     "text": [
      "epoch      trn_loss   val_loss   accuracy                    \n",
      "    0      0.249105   0.21259    0.909576  \n",
      "\n"
     ]
    },
    {
     "data": {
      "application/vnd.jupyter.widget-view+json": {
       "model_id": "0d56fc57ba0c4e3f8ed648642089fb4c",
       "version_major": 2,
       "version_minor": 0
      },
      "text/plain": [
       "HBox(children=(IntProgress(value=0, description='Epoch', max=7), HTML(value='')))"
      ]
     },
     "metadata": {},
     "output_type": "display_data"
    },
    {
     "name": "stdout",
     "output_type": "stream",
     "text": [
      "epoch      trn_loss   val_loss   accuracy                    \n",
      "    0      0.217661   0.178476   0.926688  \n",
      "    1      0.181426   0.153965   0.938305                    \n",
      "    2      0.162695   0.148798   0.943014                    \n",
      "    3      0.16952    0.140335   0.944584                    \n",
      "    4      0.154633   0.130883   0.948509                    \n",
      "    5      0.139956   0.126873   0.949294                    \n",
      " 62%|██████▏   | 604/976 [03:51<02:22,  2.61it/s, loss=0.137]"
     ]
    }
   ],
   "source": [
    "models_arch = dn169\n",
    "models_name = 'dn169'\n",
    "\n",
    "lr=np.array([1e-3,5e-3,1e-2])\n",
    "\n",
    "sz = 224\n",
    "PATH = '/media/rene/Data/camelyon_out/tiles_224_100t_all_other'\n",
    "train_folder = '/media/rene/Data/camelyon_out/tiles_224_100t_all'\n",
    "\n",
    "for i in tqdm(range(13, 15)):\n",
    "    # create the new csv and save it\n",
    "    subset_labels_df = make_sample_replacement(labels_df, normal_train, tumor_train)\n",
    "    subset_labels_df.to_csv('/media/rene/Data/camelyon_out/tiles_224_100t_all_other/tiles_224_100t_all_subset_tmp2.csv',  \n",
    "                            index = False)\n",
    "    csv_fname = '/media/rene/Data/camelyon_out/tiles_224_100t_all_other/tiles_224_100t_all_subset_tmp2.csv'\n",
    "    \n",
    "    # get the validation indices based on this\n",
    "    val_idxs = make_validation_mask(subset_labels_df, normal_valid, tumor_valid)\n",
    "\n",
    "    tfms = tfms_from_model(models_arch, sz, aug_tfms=transforms_top_down, max_zoom=1)\n",
    "    data = ImageClassifierData.from_csv(PATH, train_folder, csv_fname, tfms=tfms, \n",
    "                                        val_idxs=val_idxs, bs=48)\n",
    "    learn = ConvLearner.pretrained(models_arch, data, precompute=False)\n",
    "    \n",
    "    lr =.001\n",
    "    learn.fit(lr, 1, cycle_len=1, cycle_mult=1) # train last few layers\n",
    "    lrs = np.array([lr/4,lr/2,lr])\n",
    "    learn.unfreeze()\n",
    "    learn.fit(lrs, 3, cycle_len=1, cycle_mult=2, best_save_name=models_name+'_bagging_proper_wsi_'+str(i)) # train whole model"
   ]
  },
  {
   "cell_type": "markdown",
   "metadata": {},
   "source": [
    "## Results"
   ]
  },
  {
   "cell_type": "code",
   "execution_count": 12,
   "metadata": {},
   "outputs": [
    {
     "name": "stdout",
     "output_type": "stream",
     "text": [
      "resnet18_bagging_proper_wsi_0 :    0.9279640718562874\n",
      "resnet18_bagging_proper_wsi_0 int acc:    0.9279640718562874\n",
      "resnet18_bagging_proper_wsi_1 :    0.9259880239520958\n",
      "resnet18_bagging_proper_wsi_1 int acc:    0.9299401197604791\n",
      "resnet18_bagging_proper_wsi_2 :    0.9306586826347305\n",
      "resnet18_bagging_proper_wsi_2 int acc:    0.9331736526946108\n",
      "resnet18_bagging_proper_wsi_3 :    0.9332934131736527\n",
      "resnet18_bagging_proper_wsi_3 int acc:    0.9346107784431138\n",
      "resnet18_bagging_proper_wsi_4 :    0.9268862275449102\n",
      "resnet18_bagging_proper_wsi_4 int acc:    0.9335329341317365\n",
      "resnet18_bagging_proper_wsi_5 :    0.9264670658682634\n",
      "resnet18_bagging_proper_wsi_5 int acc:    0.932814371257485\n",
      "resnet18_bagging_proper_wsi_6 :    0.9226347305389222\n",
      "resnet18_bagging_proper_wsi_6 int acc:    0.9325748502994012\n",
      "resnet18_bagging_proper_wsi_7 :    0.9261676646706587\n",
      "resnet18_bagging_proper_wsi_7 int acc:    0.9325748502994012\n",
      "resnet18_bagging_proper_wsi_8 :    0.9286826347305389\n",
      "resnet18_bagging_proper_wsi_8 int acc:    0.9330538922155689\n",
      "resnet18_bagging_proper_wsi_9 :    0.931497005988024\n",
      "resnet18_bagging_proper_wsi_9 int acc:    0.9329940119760479\n",
      "resnet18_bagging_proper_wsi_10 :    0.9281437125748503\n",
      "resnet18_bagging_proper_wsi_10 int acc:    0.932754491017964\n",
      "resnet18_bagging_proper_wsi_11 :    0.92\n",
      "resnet18_bagging_proper_wsi_11 int acc:    0.9326347305389222\n",
      "resnet18_bagging_proper_wsi_12 :    0.9273652694610779\n",
      "resnet18_bagging_proper_wsi_12 int acc:    0.9325748502994012\n",
      "resnet18_bagging_proper_wsi_13 :    0.9259281437125748\n",
      "resnet18_bagging_proper_wsi_13 int acc:    0.9320359281437126\n",
      "resnet18_bagging_proper_wsi_14 :    0.9255089820359281\n",
      "resnet18_bagging_proper_wsi_14 int acc:    0.9319161676646707\n",
      "0.9319161676646707\n"
     ]
    },
    {
     "data": {
      "image/png": "[encoded data removed]",
      "text/plain": [
       "<Figure size 432x288 with 1 Axes>"
      ]
     },
     "metadata": {},
     "output_type": "display_data"
    }
   ],
   "source": [
    "PATH = '/media/rene/Data/camelyon_out/tiles_224_100t/'\n",
    "models_path = '/media/rene/Data/camelyon_out/tiles_224_100t_all_other'\n",
    "models_arch = [resnet18]*15\n",
    "models_name = ['resnet18_bagging_proper_wsi_'+str(i) for i in range (15)]\n",
    "\n",
    "int_acc = bagging_ensemble_acc_dir(models_arch, models_name, models_path, PATH, weights=None)\n",
    "x = list(range(15))\n",
    "\n",
    "plt.plot(x, int_acc)\n",
    "plt.title('ResNet18')\n",
    "plt.xlabel('Number of Models')\n",
    "plt.ylabel('Accuracy')\n",
    "plt.show()"
   ]
  },
  {
   "cell_type": "code",
   "execution_count": 13,
   "metadata": {},
   "outputs": [
    {
     "name": "stdout",
     "output_type": "stream",
     "text": [
      "resnet50_bagging_proper_wsi_0 :    0.9338323353293413\n",
      "resnet50_bagging_proper_wsi_0 int acc:    0.9338323353293413\n",
      "resnet50_bagging_proper_wsi_1 :    0.9302395209580838\n",
      "resnet50_bagging_proper_wsi_1 int acc:    0.9368263473053893\n",
      "resnet50_bagging_proper_wsi_2 :    0.9411976047904191\n",
      "resnet50_bagging_proper_wsi_2 int acc:    0.941497005988024\n",
      "resnet50_bagging_proper_wsi_3 :    0.938562874251497\n",
      "resnet50_bagging_proper_wsi_3 int acc:    0.9425149700598803\n",
      "resnet50_bagging_proper_wsi_4 :    0.9332335329341317\n",
      "resnet50_bagging_proper_wsi_4 int acc:    0.9425748502994012\n",
      "resnet50_bagging_proper_wsi_5 :    0.9275449101796407\n",
      "resnet50_bagging_proper_wsi_5 int acc:    0.9421556886227545\n",
      "resnet50_bagging_proper_wsi_6 :    0.9376047904191617\n",
      "resnet50_bagging_proper_wsi_6 int acc:    0.9426946107784431\n",
      "resnet50_bagging_proper_wsi_7 :    0.9381437125748503\n",
      "resnet50_bagging_proper_wsi_7 int acc:    0.9426946107784431\n",
      "resnet50_bagging_proper_wsi_8 :    0.9364071856287425\n",
      "resnet50_bagging_proper_wsi_8 int acc:    0.9431736526946107\n",
      "resnet50_bagging_proper_wsi_9 :    0.9252694610778444\n",
      "resnet50_bagging_proper_wsi_9 int acc:    0.9426347305389221\n",
      "resnet50_bagging_proper_wsi_10 :    0.9308982035928144\n",
      "resnet50_bagging_proper_wsi_10 int acc:    0.9424550898203593\n",
      "resnet50_bagging_proper_wsi_11 :    0.9265269461077844\n",
      "resnet50_bagging_proper_wsi_11 int acc:    0.9417964071856287\n",
      "resnet50_bagging_proper_wsi_12 :    0.932934131736527\n",
      "resnet50_bagging_proper_wsi_12 int acc:    0.9422754491017964\n",
      "resnet50_bagging_proper_wsi_13 :    0.9383233532934132\n",
      "resnet50_bagging_proper_wsi_13 int acc:    0.9416766467065868\n",
      "resnet50_bagging_proper_wsi_14 :    0.9376047904191617\n",
      "resnet50_bagging_proper_wsi_14 int acc:    0.942874251497006\n",
      "0.942874251497006\n"
     ]
    },
    {
     "data": {
      "image/png": "[encoded data removed]",
      "text/plain": [
       "<Figure size 432x288 with 1 Axes>"
      ]
     },
     "metadata": {},
     "output_type": "display_data"
    }
   ],
   "source": [
    "PATH = '/media/rene/Data/camelyon_out/tiles_224_100t/'\n",
    "models_path = '/media/rene/Data/camelyon_out/tiles_224_100t_all_other'\n",
    "models_arch = [resnet50]*15\n",
    "models_name = ['resnet50_bagging_proper_wsi_'+str(i) for i in range (15)]\n",
    "\n",
    "int_acc = bagging_ensemble_acc_dir(models_arch, models_name, models_path, PATH, weights=None)\n",
    "x = list(range(15))\n",
    "\n",
    "plt.plot(x, int_acc)\n",
    "plt.title('ResNet50')\n",
    "plt.xlabel('Number of Models')\n",
    "plt.ylabel('Accuracy')\n",
    "plt.show()"
   ]
  },
  {
   "cell_type": "code",
   "execution_count": 14,
   "metadata": {},
   "outputs": [
    {
     "name": "stdout",
     "output_type": "stream",
     "text": [
      "dn169_bagging_proper_wsi_0 :    0.9379041916167664\n",
      "dn169_bagging_proper_wsi_0 int acc:    0.9379041916167664\n",
      "dn169_bagging_proper_wsi_1 :    0.9311976047904191\n",
      "dn169_bagging_proper_wsi_1 int acc:    0.9396407185628742\n",
      "dn169_bagging_proper_wsi_2 :    0.9412574850299401\n",
      "dn169_bagging_proper_wsi_2 int acc:    0.9435928143712575\n",
      "dn169_bagging_proper_wsi_3 :    0.9425149700598803\n",
      "dn169_bagging_proper_wsi_3 int acc:    0.9446706586826348\n",
      "dn169_bagging_proper_wsi_4 :    0.9386826347305389\n",
      "dn169_bagging_proper_wsi_4 int acc:    0.9449700598802395\n",
      "dn169_bagging_proper_wsi_5 :    0.9376047904191617\n",
      "dn169_bagging_proper_wsi_5 int acc:    0.944251497005988\n",
      "dn169_bagging_proper_wsi_6 :    0.9390419161676646\n",
      "dn169_bagging_proper_wsi_6 int acc:    0.9454491017964072\n",
      "dn169_bagging_proper_wsi_7 :    0.9376047904191617\n",
      "dn169_bagging_proper_wsi_7 int acc:    0.9453293413173652\n",
      "dn169_bagging_proper_wsi_8 :    0.9199401197604791\n",
      "dn169_bagging_proper_wsi_8 int acc:    0.9448502994011976\n",
      "dn169_bagging_proper_wsi_9 :    0.944251497005988\n",
      "dn169_bagging_proper_wsi_9 int acc:    0.9459281437125748\n",
      "dn169_bagging_proper_wsi_10 :    0.9416167664670658\n",
      "dn169_bagging_proper_wsi_10 int acc:    0.9463473053892215\n",
      "dn169_bagging_proper_wsi_11 :    0.9336526946107785\n",
      "dn169_bagging_proper_wsi_11 int acc:    0.9455688622754491\n",
      "dn169_bagging_proper_wsi_12 :    0.9416167664670658\n",
      "dn169_bagging_proper_wsi_12 int acc:    0.9460479041916168\n"
     ]
    },
    {
     "ename": "FileNotFoundError",
     "evalue": "[Errno 2] No such file or directory: '/media/rene/Data/camelyon_out/tiles_224_100t_all_other/models/dn169_bagging_proper_wsi_13.h5'",
     "output_type": "error",
     "traceback": [
      "\u001b[0;31m---------------------------------------------------------------------------\u001b[0m",
      "\u001b[0;31mFileNotFoundError\u001b[0m                         Traceback (most recent call last)",
      "\u001b[0;32m<ipython-input-14-9034491b350b>\u001b[0m in \u001b[0;36m<module>\u001b[0;34m()\u001b[0m\n\u001b[1;32m      4\u001b[0m \u001b[0mmodels_name\u001b[0m \u001b[0;34m=\u001b[0m \u001b[0;34m[\u001b[0m\u001b[0;34m'dn169_bagging_proper_wsi_'\u001b[0m\u001b[0;34m+\u001b[0m\u001b[0mstr\u001b[0m\u001b[0;34m(\u001b[0m\u001b[0mi\u001b[0m\u001b[0;34m)\u001b[0m \u001b[0;32mfor\u001b[0m \u001b[0mi\u001b[0m \u001b[0;32min\u001b[0m \u001b[0mrange\u001b[0m \u001b[0;34m(\u001b[0m\u001b[0;36m15\u001b[0m\u001b[0;34m)\u001b[0m\u001b[0;34m]\u001b[0m\u001b[0;34m\u001b[0m\u001b[0m\n\u001b[1;32m      5\u001b[0m \u001b[0;34m\u001b[0m\u001b[0m\n\u001b[0;32m----> 6\u001b[0;31m \u001b[0mint_acc\u001b[0m \u001b[0;34m=\u001b[0m \u001b[0mbagging_ensemble_acc_dir\u001b[0m\u001b[0;34m(\u001b[0m\u001b[0mmodels_arch\u001b[0m\u001b[0;34m,\u001b[0m \u001b[0mmodels_name\u001b[0m\u001b[0;34m,\u001b[0m \u001b[0mmodels_path\u001b[0m\u001b[0;34m,\u001b[0m \u001b[0mPATH\u001b[0m\u001b[0;34m,\u001b[0m \u001b[0mweights\u001b[0m\u001b[0;34m=\u001b[0m\u001b[0;32mNone\u001b[0m\u001b[0;34m)\u001b[0m\u001b[0;34m\u001b[0m\u001b[0m\n\u001b[0m\u001b[1;32m      7\u001b[0m \u001b[0mx\u001b[0m \u001b[0;34m=\u001b[0m \u001b[0mlist\u001b[0m\u001b[0;34m(\u001b[0m\u001b[0mrange\u001b[0m\u001b[0;34m(\u001b[0m\u001b[0;36m15\u001b[0m\u001b[0;34m)\u001b[0m\u001b[0;34m)\u001b[0m\u001b[0;34m\u001b[0m\u001b[0m\n\u001b[1;32m      8\u001b[0m \u001b[0;34m\u001b[0m\u001b[0m\n",
      "\u001b[0;32m<ipython-input-8-59986f44e352>\u001b[0m in \u001b[0;36mbagging_ensemble_acc_dir\u001b[0;34m(models_arch, models_name, models_path, PATH, weights)\u001b[0m\n\u001b[1;32m     65\u001b[0m         \u001b[0mmodel_loc\u001b[0m \u001b[0;34m=\u001b[0m \u001b[0mos\u001b[0m\u001b[0;34m.\u001b[0m\u001b[0mpath\u001b[0m\u001b[0;34m.\u001b[0m\u001b[0mjoin\u001b[0m\u001b[0;34m(\u001b[0m\u001b[0mmodels_path\u001b[0m\u001b[0;34m,\u001b[0m \u001b[0;34m'models'\u001b[0m\u001b[0;34m,\u001b[0m \u001b[0mmodels_name\u001b[0m\u001b[0;34m[\u001b[0m\u001b[0midx\u001b[0m\u001b[0;34m]\u001b[0m\u001b[0;34m)\u001b[0m\u001b[0;34m\u001b[0m\u001b[0m\n\u001b[1;32m     66\u001b[0m         \u001b[0mlearn\u001b[0m \u001b[0;34m=\u001b[0m \u001b[0mConvLearner\u001b[0m\u001b[0;34m.\u001b[0m\u001b[0mpretrained\u001b[0m\u001b[0;34m(\u001b[0m\u001b[0march\u001b[0m\u001b[0;34m,\u001b[0m \u001b[0mdata\u001b[0m\u001b[0;34m,\u001b[0m \u001b[0mprecompute\u001b[0m\u001b[0;34m=\u001b[0m\u001b[0;32mFalse\u001b[0m\u001b[0;34m)\u001b[0m\u001b[0;34m\u001b[0m\u001b[0m\n\u001b[0;32m---> 67\u001b[0;31m         \u001b[0mlearn\u001b[0m\u001b[0;34m.\u001b[0m\u001b[0mload\u001b[0m\u001b[0;34m(\u001b[0m\u001b[0mmodel_loc\u001b[0m\u001b[0;34m)\u001b[0m\u001b[0;34m\u001b[0m\u001b[0m\n\u001b[0m\u001b[1;32m     68\u001b[0m         \u001b[0;31m# this returns log probs, but don't need to do anything because just taking the argmax\u001b[0m\u001b[0;34m\u001b[0m\u001b[0;34m\u001b[0m\u001b[0m\n\u001b[1;32m     69\u001b[0m         \u001b[0mpreds\u001b[0m\u001b[0;34m,\u001b[0m \u001b[0my\u001b[0m \u001b[0;34m=\u001b[0m \u001b[0mlearn\u001b[0m\u001b[0;34m.\u001b[0m\u001b[0mpredict_with_targs\u001b[0m\u001b[0;34m(\u001b[0m\u001b[0mis_test\u001b[0m\u001b[0;34m=\u001b[0m\u001b[0;32mFalse\u001b[0m\u001b[0;34m)\u001b[0m\u001b[0;34m\u001b[0m\u001b[0m\n",
      "\u001b[0;32m/media/rene/Data/fastai/fastai/learner.py\u001b[0m in \u001b[0;36mload\u001b[0;34m(self, name)\u001b[0m\n\u001b[1;32m     80\u001b[0m     \u001b[0;32mdef\u001b[0m \u001b[0mget_model_path\u001b[0m\u001b[0;34m(\u001b[0m\u001b[0mself\u001b[0m\u001b[0;34m,\u001b[0m \u001b[0mname\u001b[0m\u001b[0;34m)\u001b[0m\u001b[0;34m:\u001b[0m \u001b[0;32mreturn\u001b[0m \u001b[0mos\u001b[0m\u001b[0;34m.\u001b[0m\u001b[0mpath\u001b[0m\u001b[0;34m.\u001b[0m\u001b[0mjoin\u001b[0m\u001b[0;34m(\u001b[0m\u001b[0mself\u001b[0m\u001b[0;34m.\u001b[0m\u001b[0mmodels_path\u001b[0m\u001b[0;34m,\u001b[0m\u001b[0mname\u001b[0m\u001b[0;34m)\u001b[0m\u001b[0;34m+\u001b[0m\u001b[0;34m'.h5'\u001b[0m\u001b[0;34m\u001b[0m\u001b[0m\n\u001b[1;32m     81\u001b[0m     \u001b[0;32mdef\u001b[0m \u001b[0msave\u001b[0m\u001b[0;34m(\u001b[0m\u001b[0mself\u001b[0m\u001b[0;34m,\u001b[0m \u001b[0mname\u001b[0m\u001b[0;34m)\u001b[0m\u001b[0;34m:\u001b[0m \u001b[0msave_model\u001b[0m\u001b[0;34m(\u001b[0m\u001b[0mself\u001b[0m\u001b[0;34m.\u001b[0m\u001b[0mmodel\u001b[0m\u001b[0;34m,\u001b[0m \u001b[0mself\u001b[0m\u001b[0;34m.\u001b[0m\u001b[0mget_model_path\u001b[0m\u001b[0;34m(\u001b[0m\u001b[0mname\u001b[0m\u001b[0;34m)\u001b[0m\u001b[0;34m)\u001b[0m\u001b[0;34m\u001b[0m\u001b[0m\n\u001b[0;32m---> 82\u001b[0;31m     \u001b[0;32mdef\u001b[0m \u001b[0mload\u001b[0m\u001b[0;34m(\u001b[0m\u001b[0mself\u001b[0m\u001b[0;34m,\u001b[0m \u001b[0mname\u001b[0m\u001b[0;34m)\u001b[0m\u001b[0;34m:\u001b[0m \u001b[0mload_model\u001b[0m\u001b[0;34m(\u001b[0m\u001b[0mself\u001b[0m\u001b[0;34m.\u001b[0m\u001b[0mmodel\u001b[0m\u001b[0;34m,\u001b[0m \u001b[0mself\u001b[0m\u001b[0;34m.\u001b[0m\u001b[0mget_model_path\u001b[0m\u001b[0;34m(\u001b[0m\u001b[0mname\u001b[0m\u001b[0;34m)\u001b[0m\u001b[0;34m)\u001b[0m\u001b[0;34m\u001b[0m\u001b[0m\n\u001b[0m\u001b[1;32m     83\u001b[0m \u001b[0;34m\u001b[0m\u001b[0m\n\u001b[1;32m     84\u001b[0m     \u001b[0;32mdef\u001b[0m \u001b[0mset_data\u001b[0m\u001b[0;34m(\u001b[0m\u001b[0mself\u001b[0m\u001b[0;34m,\u001b[0m \u001b[0mdata\u001b[0m\u001b[0;34m)\u001b[0m\u001b[0;34m:\u001b[0m \u001b[0mself\u001b[0m\u001b[0;34m.\u001b[0m\u001b[0mdata_\u001b[0m \u001b[0;34m=\u001b[0m \u001b[0mdata\u001b[0m\u001b[0;34m\u001b[0m\u001b[0m\n",
      "\u001b[0;32m/media/rene/Data/fastai/fastai/torch_imports.py\u001b[0m in \u001b[0;36mload_model\u001b[0;34m(m, p)\u001b[0m\n\u001b[1;32m     24\u001b[0m \u001b[0;32mdef\u001b[0m \u001b[0mchildren\u001b[0m\u001b[0;34m(\u001b[0m\u001b[0mm\u001b[0m\u001b[0;34m)\u001b[0m\u001b[0;34m:\u001b[0m \u001b[0;32mreturn\u001b[0m \u001b[0mm\u001b[0m \u001b[0;32mif\u001b[0m \u001b[0misinstance\u001b[0m\u001b[0;34m(\u001b[0m\u001b[0mm\u001b[0m\u001b[0;34m,\u001b[0m \u001b[0;34m(\u001b[0m\u001b[0mlist\u001b[0m\u001b[0;34m,\u001b[0m \u001b[0mtuple\u001b[0m\u001b[0;34m)\u001b[0m\u001b[0;34m)\u001b[0m \u001b[0;32melse\u001b[0m \u001b[0mlist\u001b[0m\u001b[0;34m(\u001b[0m\u001b[0mm\u001b[0m\u001b[0;34m.\u001b[0m\u001b[0mchildren\u001b[0m\u001b[0;34m(\u001b[0m\u001b[0;34m)\u001b[0m\u001b[0;34m)\u001b[0m\u001b[0;34m\u001b[0m\u001b[0m\n\u001b[1;32m     25\u001b[0m \u001b[0;32mdef\u001b[0m \u001b[0msave_model\u001b[0m\u001b[0;34m(\u001b[0m\u001b[0mm\u001b[0m\u001b[0;34m,\u001b[0m \u001b[0mp\u001b[0m\u001b[0;34m)\u001b[0m\u001b[0;34m:\u001b[0m \u001b[0mtorch\u001b[0m\u001b[0;34m.\u001b[0m\u001b[0msave\u001b[0m\u001b[0;34m(\u001b[0m\u001b[0mm\u001b[0m\u001b[0;34m.\u001b[0m\u001b[0mstate_dict\u001b[0m\u001b[0;34m(\u001b[0m\u001b[0;34m)\u001b[0m\u001b[0;34m,\u001b[0m \u001b[0mp\u001b[0m\u001b[0;34m)\u001b[0m\u001b[0;34m\u001b[0m\u001b[0m\n\u001b[0;32m---> 26\u001b[0;31m \u001b[0;32mdef\u001b[0m \u001b[0mload_model\u001b[0m\u001b[0;34m(\u001b[0m\u001b[0mm\u001b[0m\u001b[0;34m,\u001b[0m \u001b[0mp\u001b[0m\u001b[0;34m)\u001b[0m\u001b[0;34m:\u001b[0m \u001b[0mm\u001b[0m\u001b[0;34m.\u001b[0m\u001b[0mload_state_dict\u001b[0m\u001b[0;34m(\u001b[0m\u001b[0mtorch\u001b[0m\u001b[0;34m.\u001b[0m\u001b[0mload\u001b[0m\u001b[0;34m(\u001b[0m\u001b[0mp\u001b[0m\u001b[0;34m,\u001b[0m \u001b[0mmap_location\u001b[0m\u001b[0;34m=\u001b[0m\u001b[0;32mlambda\u001b[0m \u001b[0mstorage\u001b[0m\u001b[0;34m,\u001b[0m \u001b[0mloc\u001b[0m\u001b[0;34m:\u001b[0m \u001b[0mstorage\u001b[0m\u001b[0;34m)\u001b[0m\u001b[0;34m)\u001b[0m\u001b[0;34m\u001b[0m\u001b[0m\n\u001b[0m\u001b[1;32m     27\u001b[0m \u001b[0;34m\u001b[0m\u001b[0m\n\u001b[1;32m     28\u001b[0m \u001b[0;32mdef\u001b[0m \u001b[0mload_pre\u001b[0m\u001b[0;34m(\u001b[0m\u001b[0mpre\u001b[0m\u001b[0;34m,\u001b[0m \u001b[0mf\u001b[0m\u001b[0;34m,\u001b[0m \u001b[0mfn\u001b[0m\u001b[0;34m)\u001b[0m\u001b[0;34m:\u001b[0m\u001b[0;34m\u001b[0m\u001b[0m\n",
      "\u001b[0;32m~/miniconda3/envs/fastai/lib/python3.6/site-packages/torch/serialization.py\u001b[0m in \u001b[0;36mload\u001b[0;34m(f, map_location, pickle_module)\u001b[0m\n\u001b[1;32m    263\u001b[0m             \u001b[0;34m(\u001b[0m\u001b[0msys\u001b[0m\u001b[0;34m.\u001b[0m\u001b[0mversion_info\u001b[0m\u001b[0;34m[\u001b[0m\u001b[0;36m0\u001b[0m\u001b[0;34m]\u001b[0m \u001b[0;34m==\u001b[0m \u001b[0;36m3\u001b[0m \u001b[0;32mand\u001b[0m \u001b[0misinstance\u001b[0m\u001b[0;34m(\u001b[0m\u001b[0mf\u001b[0m\u001b[0;34m,\u001b[0m \u001b[0mpathlib\u001b[0m\u001b[0;34m.\u001b[0m\u001b[0mPath\u001b[0m\u001b[0;34m)\u001b[0m\u001b[0;34m)\u001b[0m\u001b[0;34m:\u001b[0m\u001b[0;34m\u001b[0m\u001b[0m\n\u001b[1;32m    264\u001b[0m         \u001b[0mnew_fd\u001b[0m \u001b[0;34m=\u001b[0m \u001b[0;32mTrue\u001b[0m\u001b[0;34m\u001b[0m\u001b[0m\n\u001b[0;32m--> 265\u001b[0;31m         \u001b[0mf\u001b[0m \u001b[0;34m=\u001b[0m \u001b[0mopen\u001b[0m\u001b[0;34m(\u001b[0m\u001b[0mf\u001b[0m\u001b[0;34m,\u001b[0m \u001b[0;34m'rb'\u001b[0m\u001b[0;34m)\u001b[0m\u001b[0;34m\u001b[0m\u001b[0m\n\u001b[0m\u001b[1;32m    266\u001b[0m     \u001b[0;32mtry\u001b[0m\u001b[0;34m:\u001b[0m\u001b[0;34m\u001b[0m\u001b[0m\n\u001b[1;32m    267\u001b[0m         \u001b[0;32mreturn\u001b[0m \u001b[0m_load\u001b[0m\u001b[0;34m(\u001b[0m\u001b[0mf\u001b[0m\u001b[0;34m,\u001b[0m \u001b[0mmap_location\u001b[0m\u001b[0;34m,\u001b[0m \u001b[0mpickle_module\u001b[0m\u001b[0;34m)\u001b[0m\u001b[0;34m\u001b[0m\u001b[0m\n",
      "\u001b[0;31mFileNotFoundError\u001b[0m: [Errno 2] No such file or directory: '/media/rene/Data/camelyon_out/tiles_224_100t_all_other/models/dn169_bagging_proper_wsi_13.h5'"
     ]
    }
   ],
   "source": [
    "PATH = '/media/rene/Data/camelyon_out/tiles_224_100t/'\n",
    "models_path = '/media/rene/Data/camelyon_out/tiles_224_100t_all_other'\n",
    "models_arch = [dn169]*15\n",
    "models_name = ['dn169_bagging_proper_wsi_'+str(i) for i in range (15)]\n",
    "\n",
    "int_acc = bagging_ensemble_acc_dir(models_arch, models_name, models_path, PATH, weights=None)\n",
    "x = list(range(15))\n",
    "\n",
    "plt.plot(x, int_acc)\n",
    "plt.title('dn169')\n",
    "plt.xlabel('Number of Models')\n",
    "plt.ylabel('Accuracy')\n",
    "plt.show()"
   ]
  },
  {
   "cell_type": "markdown",
   "metadata": {},
   "source": [
    "# Baseline without bagging. \n",
    "Just model averaraging without this batch generator"
   ]
  },
  {
   "cell_type": "code",
   "execution_count": null,
   "metadata": {},
   "outputs": [],
   "source": [
    "models_arch = resnet18\n",
    "models_name = 'resnet18'\n",
    "\n",
    "lr=np.array([1e-3,5e-3,1e-2])\n",
    "\n",
    "sz = 224\n",
    "PATH = '/media/rene/Data/camelyon_out/tiles_224_100t_all_other'\n",
    "train_folder = '/media/rene/Data/camelyon_out/tiles_224_100t_all'\n",
    "\n",
    "for i in tqdm(range(0, 15)):\n",
    "    # create the new csv and save it\n",
    "    labels_df.to_csv('/media/rene/Data/camelyon_out/tiles_224_100t_all_other/tiles_224_100t_all_subset_tmp2.csv',  \n",
    "                            index = False)\n",
    "    csv_fname = '/media/rene/Data/camelyon_out/tiles_224_100t_all_other/tiles_224_100t_all_subset_tmp2.csv'\n",
    "    \n",
    "    # get the validation indices based on this\n",
    "    val_idxs = make_validation_mask(labels_df, normal_valid, tumor_valid)\n",
    "\n",
    "    tfms = tfms_from_model(models_arch, sz, aug_tfms=transforms_top_down, max_zoom=1)\n",
    "    data = ImageClassifierData.from_csv(PATH, train_folder, csv_fname, tfms=tfms, \n",
    "                                        val_idxs=val_idxs, bs=128)\n",
    "    learn = ConvLearner.pretrained(models_arch, data, precompute=False)\n",
    "    \n",
    "    lr =.001\n",
    "    learn.fit(lr, 1, cycle_len=1, cycle_mult=1) # train last few layers\n",
    "    lrs = np.array([lr/4,lr/2,lr])\n",
    "    learn.unfreeze()\n",
    "    learn.fit(lrs, 3, cycle_len=1, cycle_mult=2, best_save_name=models_name+'_no_bagging_proper_wsi_'+str(i)) # train whole model"
   ]
  },
  {
   "cell_type": "code",
   "execution_count": null,
   "metadata": {},
   "outputs": [],
   "source": [
    "models_arch = dn169\n",
    "models_name = 'dn169'\n",
    "\n",
    "lr=np.array([1e-3,5e-3,1e-2])\n",
    "\n",
    "sz = 224\n",
    "PATH = '/media/rene/Data/camelyon_out/tiles_224_100t_all_other'\n",
    "train_folder = '/media/rene/Data/camelyon_out/tiles_224_100t_all'\n",
    "\n",
    "for i in tqdm(range(15)):\n",
    "    # create the new csv and save it\n",
    "    labels_df.to_csv('/media/rene/Data/camelyon_out/tiles_224_100t_all_other/tiles_224_100t_all_subset_tmp2.csv',  \n",
    "                            index = False)\n",
    "    csv_fname = '/media/rene/Data/camelyon_out/tiles_224_100t_all_other/tiles_224_100t_all_subset_tmp2.csv'\n",
    "    \n",
    "    # get the validation indices based on this\n",
    "    val_idxs = make_validation_mask(labels_df, normal_valid, tumor_valid)\n",
    "\n",
    "    tfms = tfms_from_model(models_arch, sz, aug_tfms=transforms_top_down, max_zoom=1)\n",
    "    data = ImageClassifierData.from_csv(PATH, train_folder, csv_fname, tfms=tfms, \n",
    "                                        val_idxs=val_idxs, bs=48)\n",
    "    learn = ConvLearner.pretrained(models_arch, data, precompute=False)\n",
    "    \n",
    "    lr =.001\n",
    "    learn.fit(lr, 1, cycle_len=1, cycle_mult=1) # train last few layers\n",
    "    lrs = np.array([lr/4,lr/2,lr])\n",
    "    learn.unfreeze()\n",
    "    learn.fit(lrs, 3, cycle_len=1, cycle_mult=2, best_save_name=models_name+'_no_bagging_proper_wsi_'+str(i)) # train whole model"
   ]
  },
  {
   "cell_type": "markdown",
   "metadata": {},
   "source": [
    "## "
   ]
  },
  {
   "cell_type": "code",
   "execution_count": null,
   "metadata": {},
   "outputs": [],
   "source": []
  },
  {
   "cell_type": "code",
   "execution_count": null,
   "metadata": {},
   "outputs": [],
   "source": []
  },
  {
   "cell_type": "code",
   "execution_count": 6,
   "metadata": {},
   "outputs": [
    {
     "name": "stdout",
     "output_type": "stream",
     "text": [
      "Sequential(\n",
      "  (0): Conv2d(3, 64, kernel_size=(7, 7), stride=(2, 2), padding=(3, 3), bias=False)\n",
      "  (1): BatchNorm2d(64, eps=1e-05, momentum=0.1, affine=True)\n",
      "  (2): ReLU(inplace)\n",
      "  (3): MaxPool2d(kernel_size=(3, 3), stride=(2, 2), padding=(1, 1), dilation=(1, 1), ceil_mode=False)\n",
      "  (4): Sequential(\n",
      "    (0): Bottleneck(\n",
      "      (conv1): Conv2d(64, 64, kernel_size=(1, 1), stride=(1, 1), bias=False)\n",
      "      (bn1): BatchNorm2d(64, eps=1e-05, momentum=0.1, affine=True)\n",
      "      (conv2): Conv2d(64, 64, kernel_size=(3, 3), stride=(1, 1), padding=(1, 1), bias=False)\n",
      "      (bn2): BatchNorm2d(64, eps=1e-05, momentum=0.1, affine=True)\n",
      "      (conv3): Conv2d(64, 256, kernel_size=(1, 1), stride=(1, 1), bias=False)\n",
      "      (bn3): BatchNorm2d(256, eps=1e-05, momentum=0.1, affine=True)\n",
      "      (relu): ReLU(inplace)\n",
      "      (downsample): Sequential(\n",
      "        (0): Conv2d(64, 256, kernel_size=(1, 1), stride=(1, 1), bias=False)\n",
      "        (1): BatchNorm2d(256, eps=1e-05, momentum=0.1, affine=True)\n",
      "      )\n",
      "    )\n",
      "    (1): Bottleneck(\n",
      "      (conv1): Conv2d(256, 64, kernel_size=(1, 1), stride=(1, 1), bias=False)\n",
      "      (bn1): BatchNorm2d(64, eps=1e-05, momentum=0.1, affine=True)\n",
      "      (conv2): Conv2d(64, 64, kernel_size=(3, 3), stride=(1, 1), padding=(1, 1), bias=False)\n",
      "      (bn2): BatchNorm2d(64, eps=1e-05, momentum=0.1, affine=True)\n",
      "      (conv3): Conv2d(64, 256, kernel_size=(1, 1), stride=(1, 1), bias=False)\n",
      "      (bn3): BatchNorm2d(256, eps=1e-05, momentum=0.1, affine=True)\n",
      "      (relu): ReLU(inplace)\n",
      "    )\n",
      "    (2): Bottleneck(\n",
      "      (conv1): Conv2d(256, 64, kernel_size=(1, 1), stride=(1, 1), bias=False)\n",
      "      (bn1): BatchNorm2d(64, eps=1e-05, momentum=0.1, affine=True)\n",
      "      (conv2): Conv2d(64, 64, kernel_size=(3, 3), stride=(1, 1), padding=(1, 1), bias=False)\n",
      "      (bn2): BatchNorm2d(64, eps=1e-05, momentum=0.1, affine=True)\n",
      "      (conv3): Conv2d(64, 256, kernel_size=(1, 1), stride=(1, 1), bias=False)\n",
      "      (bn3): BatchNorm2d(256, eps=1e-05, momentum=0.1, affine=True)\n",
      "      (relu): ReLU(inplace)\n",
      "    )\n",
      "  )\n",
      "  (5): Sequential(\n",
      "    (0): Bottleneck(\n",
      "      (conv1): Conv2d(256, 128, kernel_size=(1, 1), stride=(1, 1), bias=False)\n",
      "      (bn1): BatchNorm2d(128, eps=1e-05, momentum=0.1, affine=True)\n",
      "      (conv2): Conv2d(128, 128, kernel_size=(3, 3), stride=(2, 2), padding=(1, 1), bias=False)\n",
      "      (bn2): BatchNorm2d(128, eps=1e-05, momentum=0.1, affine=True)\n",
      "      (conv3): Conv2d(128, 512, kernel_size=(1, 1), stride=(1, 1), bias=False)\n",
      "      (bn3): BatchNorm2d(512, eps=1e-05, momentum=0.1, affine=True)\n",
      "      (relu): ReLU(inplace)\n",
      "      (downsample): Sequential(\n",
      "        (0): Conv2d(256, 512, kernel_size=(1, 1), stride=(2, 2), bias=False)\n",
      "        (1): BatchNorm2d(512, eps=1e-05, momentum=0.1, affine=True)\n",
      "      )\n",
      "    )\n",
      "    (1): Bottleneck(\n",
      "      (conv1): Conv2d(512, 128, kernel_size=(1, 1), stride=(1, 1), bias=False)\n",
      "      (bn1): BatchNorm2d(128, eps=1e-05, momentum=0.1, affine=True)\n",
      "      (conv2): Conv2d(128, 128, kernel_size=(3, 3), stride=(1, 1), padding=(1, 1), bias=False)\n",
      "      (bn2): BatchNorm2d(128, eps=1e-05, momentum=0.1, affine=True)\n",
      "      (conv3): Conv2d(128, 512, kernel_size=(1, 1), stride=(1, 1), bias=False)\n",
      "      (bn3): BatchNorm2d(512, eps=1e-05, momentum=0.1, affine=True)\n",
      "      (relu): ReLU(inplace)\n",
      "    )\n",
      "    (2): Bottleneck(\n",
      "      (conv1): Conv2d(512, 128, kernel_size=(1, 1), stride=(1, 1), bias=False)\n",
      "      (bn1): BatchNorm2d(128, eps=1e-05, momentum=0.1, affine=True)\n",
      "      (conv2): Conv2d(128, 128, kernel_size=(3, 3), stride=(1, 1), padding=(1, 1), bias=False)\n",
      "      (bn2): BatchNorm2d(128, eps=1e-05, momentum=0.1, affine=True)\n",
      "      (conv3): Conv2d(128, 512, kernel_size=(1, 1), stride=(1, 1), bias=False)\n",
      "      (bn3): BatchNorm2d(512, eps=1e-05, momentum=0.1, affine=True)\n",
      "      (relu): ReLU(inplace)\n",
      "    )\n",
      "    (3): Bottleneck(\n",
      "      (conv1): Conv2d(512, 128, kernel_size=(1, 1), stride=(1, 1), bias=False)\n",
      "      (bn1): BatchNorm2d(128, eps=1e-05, momentum=0.1, affine=True)\n",
      "      (conv2): Conv2d(128, 128, kernel_size=(3, 3), stride=(1, 1), padding=(1, 1), bias=False)\n",
      "      (bn2): BatchNorm2d(128, eps=1e-05, momentum=0.1, affine=True)\n",
      "      (conv3): Conv2d(128, 512, kernel_size=(1, 1), stride=(1, 1), bias=False)\n",
      "      (bn3): BatchNorm2d(512, eps=1e-05, momentum=0.1, affine=True)\n",
      "      (relu): ReLU(inplace)\n",
      "    )\n",
      "  )\n",
      "  (6): Sequential(\n",
      "    (0): Bottleneck(\n",
      "      (conv1): Conv2d(512, 256, kernel_size=(1, 1), stride=(1, 1), bias=False)\n",
      "      (bn1): BatchNorm2d(256, eps=1e-05, momentum=0.1, affine=True)\n",
      "      (conv2): Conv2d(256, 256, kernel_size=(3, 3), stride=(2, 2), padding=(1, 1), bias=False)\n",
      "      (bn2): BatchNorm2d(256, eps=1e-05, momentum=0.1, affine=True)\n",
      "      (conv3): Conv2d(256, 1024, kernel_size=(1, 1), stride=(1, 1), bias=False)\n",
      "      (bn3): BatchNorm2d(1024, eps=1e-05, momentum=0.1, affine=True)\n",
      "      (relu): ReLU(inplace)\n",
      "      (downsample): Sequential(\n",
      "        (0): Conv2d(512, 1024, kernel_size=(1, 1), stride=(2, 2), bias=False)\n",
      "        (1): BatchNorm2d(1024, eps=1e-05, momentum=0.1, affine=True)\n",
      "      )\n",
      "    )\n",
      "    (1): Bottleneck(\n",
      "      (conv1): Conv2d(1024, 256, kernel_size=(1, 1), stride=(1, 1), bias=False)\n",
      "      (bn1): BatchNorm2d(256, eps=1e-05, momentum=0.1, affine=True)\n",
      "      (conv2): Conv2d(256, 256, kernel_size=(3, 3), stride=(1, 1), padding=(1, 1), bias=False)\n",
      "      (bn2): BatchNorm2d(256, eps=1e-05, momentum=0.1, affine=True)\n",
      "      (conv3): Conv2d(256, 1024, kernel_size=(1, 1), stride=(1, 1), bias=False)\n",
      "      (bn3): BatchNorm2d(1024, eps=1e-05, momentum=0.1, affine=True)\n",
      "      (relu): ReLU(inplace)\n",
      "    )\n",
      "    (2): Bottleneck(\n",
      "      (conv1): Conv2d(1024, 256, kernel_size=(1, 1), stride=(1, 1), bias=False)\n",
      "      (bn1): BatchNorm2d(256, eps=1e-05, momentum=0.1, affine=True)\n",
      "      (conv2): Conv2d(256, 256, kernel_size=(3, 3), stride=(1, 1), padding=(1, 1), bias=False)\n",
      "      (bn2): BatchNorm2d(256, eps=1e-05, momentum=0.1, affine=True)\n",
      "      (conv3): Conv2d(256, 1024, kernel_size=(1, 1), stride=(1, 1), bias=False)\n",
      "      (bn3): BatchNorm2d(1024, eps=1e-05, momentum=0.1, affine=True)\n",
      "      (relu): ReLU(inplace)\n",
      "    )\n",
      "    (3): Bottleneck(\n",
      "      (conv1): Conv2d(1024, 256, kernel_size=(1, 1), stride=(1, 1), bias=False)\n",
      "      (bn1): BatchNorm2d(256, eps=1e-05, momentum=0.1, affine=True)\n",
      "      (conv2): Conv2d(256, 256, kernel_size=(3, 3), stride=(1, 1), padding=(1, 1), bias=False)\n",
      "      (bn2): BatchNorm2d(256, eps=1e-05, momentum=0.1, affine=True)\n",
      "      (conv3): Conv2d(256, 1024, kernel_size=(1, 1), stride=(1, 1), bias=False)\n",
      "      (bn3): BatchNorm2d(1024, eps=1e-05, momentum=0.1, affine=True)\n",
      "      (relu): ReLU(inplace)\n",
      "    )\n",
      "    (4): Bottleneck(\n",
      "      (conv1): Conv2d(1024, 256, kernel_size=(1, 1), stride=(1, 1), bias=False)\n",
      "      (bn1): BatchNorm2d(256, eps=1e-05, momentum=0.1, affine=True)\n",
      "      (conv2): Conv2d(256, 256, kernel_size=(3, 3), stride=(1, 1), padding=(1, 1), bias=False)\n",
      "      (bn2): BatchNorm2d(256, eps=1e-05, momentum=0.1, affine=True)\n",
      "      (conv3): Conv2d(256, 1024, kernel_size=(1, 1), stride=(1, 1), bias=False)\n",
      "      (bn3): BatchNorm2d(1024, eps=1e-05, momentum=0.1, affine=True)\n",
      "      (relu): ReLU(inplace)\n",
      "    )\n",
      "    (5): Bottleneck(\n",
      "      (conv1): Conv2d(1024, 256, kernel_size=(1, 1), stride=(1, 1), bias=False)\n",
      "      (bn1): BatchNorm2d(256, eps=1e-05, momentum=0.1, affine=True)\n",
      "      (conv2): Conv2d(256, 256, kernel_size=(3, 3), stride=(1, 1), padding=(1, 1), bias=False)\n",
      "      (bn2): BatchNorm2d(256, eps=1e-05, momentum=0.1, affine=True)\n",
      "      (conv3): Conv2d(256, 1024, kernel_size=(1, 1), stride=(1, 1), bias=False)\n",
      "      (bn3): BatchNorm2d(1024, eps=1e-05, momentum=0.1, affine=True)\n",
      "      (relu): ReLU(inplace)\n",
      "    )\n",
      "  )\n",
      "  (7): Sequential(\n",
      "    (0): Bottleneck(\n",
      "      (conv1): Conv2d(1024, 512, kernel_size=(1, 1), stride=(1, 1), bias=False)\n",
      "      (bn1): BatchNorm2d(512, eps=1e-05, momentum=0.1, affine=True)\n",
      "      (conv2): Conv2d(512, 512, kernel_size=(3, 3), stride=(2, 2), padding=(1, 1), bias=False)\n",
      "      (bn2): BatchNorm2d(512, eps=1e-05, momentum=0.1, affine=True)\n",
      "      (conv3): Conv2d(512, 2048, kernel_size=(1, 1), stride=(1, 1), bias=False)\n",
      "      (bn3): BatchNorm2d(2048, eps=1e-05, momentum=0.1, affine=True)\n",
      "      (relu): ReLU(inplace)\n",
      "      (downsample): Sequential(\n",
      "        (0): Conv2d(1024, 2048, kernel_size=(1, 1), stride=(2, 2), bias=False)\n",
      "        (1): BatchNorm2d(2048, eps=1e-05, momentum=0.1, affine=True)\n",
      "      )\n",
      "    )\n",
      "    (1): Bottleneck(\n",
      "      (conv1): Conv2d(2048, 512, kernel_size=(1, 1), stride=(1, 1), bias=False)\n",
      "      (bn1): BatchNorm2d(512, eps=1e-05, momentum=0.1, affine=True)\n",
      "      (conv2): Conv2d(512, 512, kernel_size=(3, 3), stride=(1, 1), padding=(1, 1), bias=False)\n",
      "      (bn2): BatchNorm2d(512, eps=1e-05, momentum=0.1, affine=True)\n",
      "      (conv3): Conv2d(512, 2048, kernel_size=(1, 1), stride=(1, 1), bias=False)\n",
      "      (bn3): BatchNorm2d(2048, eps=1e-05, momentum=0.1, affine=True)\n",
      "      (relu): ReLU(inplace)\n",
      "    )\n",
      "    (2): Bottleneck(\n",
      "      (conv1): Conv2d(2048, 512, kernel_size=(1, 1), stride=(1, 1), bias=False)\n",
      "      (bn1): BatchNorm2d(512, eps=1e-05, momentum=0.1, affine=True)\n",
      "      (conv2): Conv2d(512, 512, kernel_size=(3, 3), stride=(1, 1), padding=(1, 1), bias=False)\n",
      "      (bn2): BatchNorm2d(512, eps=1e-05, momentum=0.1, affine=True)\n",
      "      (conv3): Conv2d(512, 2048, kernel_size=(1, 1), stride=(1, 1), bias=False)\n",
      "      (bn3): BatchNorm2d(2048, eps=1e-05, momentum=0.1, affine=True)\n",
      "      (relu): ReLU(inplace)\n",
      "    )\n",
      "  )\n",
      "  (8): AdaptiveConcatPool2d(\n",
      "    (ap): AdaptiveAvgPool2d(output_size=(1, 1))\n",
      "    (mp): AdaptiveMaxPool2d(output_size=(1, 1))\n",
      "  )\n",
      "  (9): Flatten(\n",
      "  )\n",
      "  (10): BatchNorm1d(4096, eps=1e-05, momentum=0.1, affine=True)\n",
      "  (11): Dropout(p=0.25)\n",
      "  (12): Linear(in_features=4096, out_features=512, bias=True)\n",
      "  (13): ReLU()\n",
      "  (14): BatchNorm1d(512, eps=1e-05, momentum=0.1, affine=True)\n",
      "  (15): Dropout(p=0.5)\n",
      "  (16): Linear(in_features=512, out_features=100000, bias=True)\n",
      "  (17): LogSoftmax()\n",
      ")\n"
     ]
    },
    {
     "ename": "RuntimeError",
     "evalue": "While copying the parameter named 16.weight, whose dimensions in the model are torch.Size([100000, 512]) and whose dimensions in the checkpoint are torch.Size([2, 512]).",
     "output_type": "error",
     "traceback": [
      "\u001b[0;31m---------------------------------------------------------------------------\u001b[0m",
      "\u001b[0;31mRuntimeError\u001b[0m                              Traceback (most recent call last)",
      "\u001b[0;32m~/miniconda3/envs/fastai/lib/python3.6/site-packages/torch/nn/modules/module.py\u001b[0m in \u001b[0;36mload_state_dict\u001b[0;34m(self, state_dict, strict)\u001b[0m\n\u001b[1;32m    513\u001b[0m                 \u001b[0;32mtry\u001b[0m\u001b[0;34m:\u001b[0m\u001b[0;34m\u001b[0m\u001b[0m\n\u001b[0;32m--> 514\u001b[0;31m                     \u001b[0mown_state\u001b[0m\u001b[0;34m[\u001b[0m\u001b[0mname\u001b[0m\u001b[0;34m]\u001b[0m\u001b[0;34m.\u001b[0m\u001b[0mcopy_\u001b[0m\u001b[0;34m(\u001b[0m\u001b[0mparam\u001b[0m\u001b[0;34m)\u001b[0m\u001b[0;34m\u001b[0m\u001b[0m\n\u001b[0m\u001b[1;32m    515\u001b[0m                 \u001b[0;32mexcept\u001b[0m \u001b[0mException\u001b[0m\u001b[0;34m:\u001b[0m\u001b[0;34m\u001b[0m\u001b[0m\n",
      "\u001b[0;31mRuntimeError\u001b[0m: invalid argument 2: sizes do not match at /opt/conda/conda-bld/pytorch_1518244421288/work/torch/lib/THC/generic/THCTensorCopy.c:51",
      "\nDuring handling of the above exception, another exception occurred:\n",
      "\u001b[0;31mRuntimeError\u001b[0m                              Traceback (most recent call last)",
      "\u001b[0;32m<ipython-input-6-0a9801911916>\u001b[0m in \u001b[0;36m<module>\u001b[0;34m()\u001b[0m\n\u001b[1;32m      6\u001b[0m \u001b[0mval_idxs\u001b[0m \u001b[0;34m=\u001b[0m \u001b[0mpickle\u001b[0m\u001b[0;34m.\u001b[0m\u001b[0mload\u001b[0m\u001b[0;34m(\u001b[0m \u001b[0mopen\u001b[0m\u001b[0;34m(\u001b[0m \u001b[0;34m\"/media/rene/Data/camelyon_out/tiles_224_100t_all_other/tiles_224_100t_all_val_idxs.p\"\u001b[0m\u001b[0;34m,\u001b[0m \u001b[0;34m'rb'\u001b[0m\u001b[0;34m)\u001b[0m\u001b[0;34m)\u001b[0m\u001b[0;34m\u001b[0m\u001b[0m\n\u001b[1;32m      7\u001b[0m \u001b[0;34m\u001b[0m\u001b[0m\n\u001b[0;32m----> 8\u001b[0;31m \u001b[0mint_acc\u001b[0m \u001b[0;34m=\u001b[0m \u001b[0mbagging_ensemble_acc\u001b[0m\u001b[0;34m(\u001b[0m\u001b[0mmodels_arch\u001b[0m\u001b[0;34m,\u001b[0m \u001b[0mmodels_name\u001b[0m\u001b[0;34m,\u001b[0m \u001b[0mPATH\u001b[0m\u001b[0;34m,\u001b[0m \u001b[0mtrain_folder\u001b[0m\u001b[0;34m,\u001b[0m \u001b[0mcsv_fname\u001b[0m\u001b[0;34m,\u001b[0m \u001b[0mweights\u001b[0m\u001b[0;34m=\u001b[0m\u001b[0;32mNone\u001b[0m\u001b[0;34m)\u001b[0m\u001b[0;34m\u001b[0m\u001b[0m\n\u001b[0m\u001b[1;32m      9\u001b[0m \u001b[0mx\u001b[0m \u001b[0;34m=\u001b[0m \u001b[0mlist\u001b[0m\u001b[0;34m(\u001b[0m\u001b[0mrange\u001b[0m\u001b[0;34m(\u001b[0m\u001b[0;36m1\u001b[0m\u001b[0;34m,\u001b[0m \u001b[0;36m10\u001b[0m\u001b[0;34m)\u001b[0m\u001b[0;34m)\u001b[0m\u001b[0;34m\u001b[0m\u001b[0m\n\u001b[1;32m     10\u001b[0m \u001b[0;34m\u001b[0m\u001b[0m\n",
      "\u001b[0;32m<ipython-input-5-969a484b7138>\u001b[0m in \u001b[0;36mbagging_ensemble_acc\u001b[0;34m(models_arch, models_name, PATH, train_folder, csv_fname, weights)\u001b[0m\n\u001b[1;32m     24\u001b[0m         \u001b[0mlearn\u001b[0m \u001b[0;34m=\u001b[0m \u001b[0mConvLearner\u001b[0m\u001b[0;34m.\u001b[0m\u001b[0mpretrained\u001b[0m\u001b[0;34m(\u001b[0m\u001b[0march\u001b[0m\u001b[0;34m,\u001b[0m \u001b[0mdata\u001b[0m\u001b[0;34m,\u001b[0m \u001b[0mprecompute\u001b[0m\u001b[0;34m=\u001b[0m\u001b[0;32mFalse\u001b[0m\u001b[0;34m)\u001b[0m\u001b[0;34m\u001b[0m\u001b[0m\n\u001b[1;32m     25\u001b[0m         \u001b[0mprint\u001b[0m\u001b[0;34m(\u001b[0m\u001b[0mlearn\u001b[0m\u001b[0;34m.\u001b[0m\u001b[0mmodel\u001b[0m\u001b[0;34m)\u001b[0m\u001b[0;34m\u001b[0m\u001b[0m\n\u001b[0;32m---> 26\u001b[0;31m         \u001b[0mlearn\u001b[0m\u001b[0;34m.\u001b[0m\u001b[0mload\u001b[0m\u001b[0;34m(\u001b[0m\u001b[0mmodel_loc\u001b[0m\u001b[0;34m)\u001b[0m\u001b[0;34m\u001b[0m\u001b[0m\n\u001b[0m\u001b[1;32m     27\u001b[0m         \u001b[0;31m# this returns log probs, but don't need to do anything because just taking the argmax\u001b[0m\u001b[0;34m\u001b[0m\u001b[0;34m\u001b[0m\u001b[0m\n\u001b[1;32m     28\u001b[0m         \u001b[0mpreds\u001b[0m\u001b[0;34m,\u001b[0m \u001b[0my\u001b[0m \u001b[0;34m=\u001b[0m \u001b[0mlearn\u001b[0m\u001b[0;34m.\u001b[0m\u001b[0mpredict_with_targs\u001b[0m\u001b[0;34m(\u001b[0m\u001b[0mis_test\u001b[0m\u001b[0;34m=\u001b[0m\u001b[0;32mFalse\u001b[0m\u001b[0;34m)\u001b[0m\u001b[0;34m\u001b[0m\u001b[0m\n",
      "\u001b[0;32m/media/rene/Data/fastai/fastai/learner.py\u001b[0m in \u001b[0;36mload\u001b[0;34m(self, name)\u001b[0m\n\u001b[1;32m     78\u001b[0m     \u001b[0;32mdef\u001b[0m \u001b[0mget_model_path\u001b[0m\u001b[0;34m(\u001b[0m\u001b[0mself\u001b[0m\u001b[0;34m,\u001b[0m \u001b[0mname\u001b[0m\u001b[0;34m)\u001b[0m\u001b[0;34m:\u001b[0m \u001b[0;32mreturn\u001b[0m \u001b[0mos\u001b[0m\u001b[0;34m.\u001b[0m\u001b[0mpath\u001b[0m\u001b[0;34m.\u001b[0m\u001b[0mjoin\u001b[0m\u001b[0;34m(\u001b[0m\u001b[0mself\u001b[0m\u001b[0;34m.\u001b[0m\u001b[0mmodels_path\u001b[0m\u001b[0;34m,\u001b[0m\u001b[0mname\u001b[0m\u001b[0;34m)\u001b[0m\u001b[0;34m+\u001b[0m\u001b[0;34m'.h5'\u001b[0m\u001b[0;34m\u001b[0m\u001b[0m\n\u001b[1;32m     79\u001b[0m     \u001b[0;32mdef\u001b[0m \u001b[0msave\u001b[0m\u001b[0;34m(\u001b[0m\u001b[0mself\u001b[0m\u001b[0;34m,\u001b[0m \u001b[0mname\u001b[0m\u001b[0;34m)\u001b[0m\u001b[0;34m:\u001b[0m \u001b[0msave_model\u001b[0m\u001b[0;34m(\u001b[0m\u001b[0mself\u001b[0m\u001b[0;34m.\u001b[0m\u001b[0mmodel\u001b[0m\u001b[0;34m,\u001b[0m \u001b[0mself\u001b[0m\u001b[0;34m.\u001b[0m\u001b[0mget_model_path\u001b[0m\u001b[0;34m(\u001b[0m\u001b[0mname\u001b[0m\u001b[0;34m)\u001b[0m\u001b[0;34m)\u001b[0m\u001b[0;34m\u001b[0m\u001b[0m\n\u001b[0;32m---> 80\u001b[0;31m     \u001b[0;32mdef\u001b[0m \u001b[0mload\u001b[0m\u001b[0;34m(\u001b[0m\u001b[0mself\u001b[0m\u001b[0;34m,\u001b[0m \u001b[0mname\u001b[0m\u001b[0;34m)\u001b[0m\u001b[0;34m:\u001b[0m \u001b[0mload_model\u001b[0m\u001b[0;34m(\u001b[0m\u001b[0mself\u001b[0m\u001b[0;34m.\u001b[0m\u001b[0mmodel\u001b[0m\u001b[0;34m,\u001b[0m \u001b[0mself\u001b[0m\u001b[0;34m.\u001b[0m\u001b[0mget_model_path\u001b[0m\u001b[0;34m(\u001b[0m\u001b[0mname\u001b[0m\u001b[0;34m)\u001b[0m\u001b[0;34m)\u001b[0m\u001b[0;34m\u001b[0m\u001b[0m\n\u001b[0m\u001b[1;32m     81\u001b[0m \u001b[0;34m\u001b[0m\u001b[0m\n\u001b[1;32m     82\u001b[0m     \u001b[0;32mdef\u001b[0m \u001b[0mset_data\u001b[0m\u001b[0;34m(\u001b[0m\u001b[0mself\u001b[0m\u001b[0;34m,\u001b[0m \u001b[0mdata\u001b[0m\u001b[0;34m)\u001b[0m\u001b[0;34m:\u001b[0m \u001b[0mself\u001b[0m\u001b[0;34m.\u001b[0m\u001b[0mdata_\u001b[0m \u001b[0;34m=\u001b[0m \u001b[0mdata\u001b[0m\u001b[0;34m\u001b[0m\u001b[0m\n",
      "\u001b[0;32m/media/rene/Data/fastai/fastai/torch_imports.py\u001b[0m in \u001b[0;36mload_model\u001b[0;34m(m, p)\u001b[0m\n\u001b[1;32m     24\u001b[0m \u001b[0;32mdef\u001b[0m \u001b[0mchildren\u001b[0m\u001b[0;34m(\u001b[0m\u001b[0mm\u001b[0m\u001b[0;34m)\u001b[0m\u001b[0;34m:\u001b[0m \u001b[0;32mreturn\u001b[0m \u001b[0mm\u001b[0m \u001b[0;32mif\u001b[0m \u001b[0misinstance\u001b[0m\u001b[0;34m(\u001b[0m\u001b[0mm\u001b[0m\u001b[0;34m,\u001b[0m \u001b[0;34m(\u001b[0m\u001b[0mlist\u001b[0m\u001b[0;34m,\u001b[0m \u001b[0mtuple\u001b[0m\u001b[0;34m)\u001b[0m\u001b[0;34m)\u001b[0m \u001b[0;32melse\u001b[0m \u001b[0mlist\u001b[0m\u001b[0;34m(\u001b[0m\u001b[0mm\u001b[0m\u001b[0;34m.\u001b[0m\u001b[0mchildren\u001b[0m\u001b[0;34m(\u001b[0m\u001b[0;34m)\u001b[0m\u001b[0;34m)\u001b[0m\u001b[0;34m\u001b[0m\u001b[0m\n\u001b[1;32m     25\u001b[0m \u001b[0;32mdef\u001b[0m \u001b[0msave_model\u001b[0m\u001b[0;34m(\u001b[0m\u001b[0mm\u001b[0m\u001b[0;34m,\u001b[0m \u001b[0mp\u001b[0m\u001b[0;34m)\u001b[0m\u001b[0;34m:\u001b[0m \u001b[0mtorch\u001b[0m\u001b[0;34m.\u001b[0m\u001b[0msave\u001b[0m\u001b[0;34m(\u001b[0m\u001b[0mm\u001b[0m\u001b[0;34m.\u001b[0m\u001b[0mstate_dict\u001b[0m\u001b[0;34m(\u001b[0m\u001b[0;34m)\u001b[0m\u001b[0;34m,\u001b[0m \u001b[0mp\u001b[0m\u001b[0;34m)\u001b[0m\u001b[0;34m\u001b[0m\u001b[0m\n\u001b[0;32m---> 26\u001b[0;31m \u001b[0;32mdef\u001b[0m \u001b[0mload_model\u001b[0m\u001b[0;34m(\u001b[0m\u001b[0mm\u001b[0m\u001b[0;34m,\u001b[0m \u001b[0mp\u001b[0m\u001b[0;34m)\u001b[0m\u001b[0;34m:\u001b[0m \u001b[0mm\u001b[0m\u001b[0;34m.\u001b[0m\u001b[0mload_state_dict\u001b[0m\u001b[0;34m(\u001b[0m\u001b[0mtorch\u001b[0m\u001b[0;34m.\u001b[0m\u001b[0mload\u001b[0m\u001b[0;34m(\u001b[0m\u001b[0mp\u001b[0m\u001b[0;34m,\u001b[0m \u001b[0mmap_location\u001b[0m\u001b[0;34m=\u001b[0m\u001b[0;32mlambda\u001b[0m \u001b[0mstorage\u001b[0m\u001b[0;34m,\u001b[0m \u001b[0mloc\u001b[0m\u001b[0;34m:\u001b[0m \u001b[0mstorage\u001b[0m\u001b[0;34m)\u001b[0m\u001b[0;34m)\u001b[0m\u001b[0;34m\u001b[0m\u001b[0m\n\u001b[0m\u001b[1;32m     27\u001b[0m \u001b[0;34m\u001b[0m\u001b[0m\n\u001b[1;32m     28\u001b[0m \u001b[0;32mdef\u001b[0m \u001b[0mload_pre\u001b[0m\u001b[0;34m(\u001b[0m\u001b[0mpre\u001b[0m\u001b[0;34m,\u001b[0m \u001b[0mf\u001b[0m\u001b[0;34m,\u001b[0m \u001b[0mfn\u001b[0m\u001b[0;34m)\u001b[0m\u001b[0;34m:\u001b[0m\u001b[0;34m\u001b[0m\u001b[0m\n",
      "\u001b[0;32m~/miniconda3/envs/fastai/lib/python3.6/site-packages/torch/nn/modules/module.py\u001b[0m in \u001b[0;36mload_state_dict\u001b[0;34m(self, state_dict, strict)\u001b[0m\n\u001b[1;32m    517\u001b[0m                                        \u001b[0;34m'whose dimensions in the model are {} and '\u001b[0m\u001b[0;34m\u001b[0m\u001b[0m\n\u001b[1;32m    518\u001b[0m                                        \u001b[0;34m'whose dimensions in the checkpoint are {}.'\u001b[0m\u001b[0;34m\u001b[0m\u001b[0m\n\u001b[0;32m--> 519\u001b[0;31m                                        .format(name, own_state[name].size(), param.size()))\n\u001b[0m\u001b[1;32m    520\u001b[0m             \u001b[0;32melif\u001b[0m \u001b[0mstrict\u001b[0m\u001b[0;34m:\u001b[0m\u001b[0;34m\u001b[0m\u001b[0m\n\u001b[1;32m    521\u001b[0m                 raise KeyError('unexpected key \"{}\" in state_dict'\n",
      "\u001b[0;31mRuntimeError\u001b[0m: While copying the parameter named 16.weight, whose dimensions in the model are torch.Size([100000, 512]) and whose dimensions in the checkpoint are torch.Size([2, 512])."
     ]
    }
   ],
   "source": [
    "models_arch = [resnet50]*10\n",
    "models_name = ['resnet50_full_'+str(i)for i in range (10)]\n",
    "PATH = '/media/rene/Data/camelyon_out/tiles_224_100t_all_other'\n",
    "train_folder = '/media/rene/Data/camelyon_out/tiles_224_100t_all'\n",
    "csv_fname = '/media/rene/Data/camelyon_out/tiles_224_100t_all_other/tiles_224_100t_all_labels.csv'\n",
    "val_idxs = pickle.load( open( \"/media/rene/Data/camelyon_out/tiles_224_100t_all_other/tiles_224_100t_all_val_idxs.p\", 'rb'))\n",
    "\n",
    "int_acc = bagging_ensemble_acc(models_arch, models_name, PATH, train_folder, csv_fname, weights=None)\n",
    "x = list(range(1, 10))\n",
    "\n",
    "plt.plot(x, int_acc)\n",
    "plt.title('ResNet50 on Full Dataset')\n",
    "plt.xlabel('Number of Models')\n",
    "plt.ylabel('Accuracy')\n",
    "plt.show()"
   ]
  },
  {
   "cell_type": "code",
   "execution_count": null,
   "metadata": {},
   "outputs": [],
   "source": []
  },
  {
   "cell_type": "code",
   "execution_count": null,
   "metadata": {},
   "outputs": [],
   "source": []
  }
 ],
 "metadata": {
  "kernelspec": {
   "display_name": "Python 3",
   "language": "python",
   "name": "python3"
  },
  "language_info": {
   "codemirror_mode": {
    "name": "ipython",
    "version": 3
   },
   "file_extension": ".py",
   "mimetype": "text/x-python",
   "name": "python",
   "nbconvert_exporter": "python",
   "pygments_lexer": "ipython3",
   "version": "3.6.5"
  }
 },
 "nbformat": 4,
 "nbformat_minor": 2
}
