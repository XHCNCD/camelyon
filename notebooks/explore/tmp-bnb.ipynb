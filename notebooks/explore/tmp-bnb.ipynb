{
 "cells": [
  {
   "cell_type": "markdown",
   "metadata": {},
   "source": [
    "## Bagging wth resnet 50, varying number of samples"
   ]
  },
  {
   "cell_type": "code",
   "execution_count": 1,
   "metadata": {},
   "outputs": [
    {
     "name": "stdout",
     "output_type": "stream",
     "text": [
      "/media/rene/Data/camelyon/src\n",
      "True\n",
      "1\n"
     ]
    }
   ],
   "source": [
    "import os\n",
    "import sys\n",
    "import glob\n",
    "import random\n",
    "import pickle\n",
    "import numpy as np\n",
    "import pandas as pd\n",
    "from tqdm import tqdm\n",
    "\n",
    "import torch\n",
    "import torch.nn as nn\n",
    "from torch.autograd import Variable\n",
    "import torch.utils.data\n",
    "import torchvision.models as models\n",
    "from torchvision import datasets, models, transforms\n",
    "import torch.optim as optim\n",
    "from torch.optim import lr_scheduler\n",
    "from torch.utils.data import Dataset, DataLoader\n",
    "from torchvision import transforms, utils\n",
    "\n",
    "from fastai.imports import *\n",
    "from fastai.transforms import *\n",
    "from fastai.conv_learner import *\n",
    "from fastai.model import *\n",
    "from fastai.dataset import *\n",
    "from fastai.sgdr import *\n",
    "from fastai.plots import *\n",
    "\n",
    "SEED = 101\n",
    "np.random.seed(SEED)\n",
    "from torchvision import datasets, models, transforms\n",
    "\n",
    "%reload_ext autoreload\n",
    "%autoreload 2\n",
    "%matplotlib inline\n",
    "\n",
    "# Add the src directory for functions\n",
    "src_dir = os.path.join(os.path.dirname(os.path.dirname(os.getcwd())), 'src')\n",
    "print(src_dir)\n",
    "sys.path.append(src_dir)\n",
    "\n",
    "# import my functions:\n",
    "from WSI_pytorch_utils import*\n",
    "\n",
    "fast_ai_dir = '/media/rene/Data/fastai/'\n",
    "sys.path.append(fast_ai_dir)\n",
    "\n",
    "torch.cuda.set_device(1)\n",
    "print(torch.cuda.is_available())\n",
    "print(torch.cuda.current_device())"
   ]
  },
  {
   "cell_type": "code",
   "execution_count": 2,
   "metadata": {},
   "outputs": [],
   "source": [
    "# get data\n",
    "data_loc = '/media/rene/Data/camelyon_out/tiles_224_100t_all'\n",
    "all_imgs = glob.glob(data_loc+'/*')\n",
    "img_names = [loc.rsplit('/', 1)[-1] for loc in all_imgs]\n",
    "\n",
    "# load train valid split\n",
    "ttv_split = np.load('/media/rene/Data/camelyon/other/ttv_split.p')\n",
    "normal_valid = ttv_split['normal_vaild_idx']\n",
    "tumor_valid = ttv_split['tumor_vaild_idx']\n",
    "normal_train = list(range(1, 161))\n",
    "normal_train = [num for num in normal_train if num not in normal_valid]\n",
    "tumor_train = list(range(1, 111))\n",
    "tumor_train = [num for num in tumor_train if num not in tumor_valid]"
   ]
  },
  {
   "cell_type": "code",
   "execution_count": 3,
   "metadata": {},
   "outputs": [],
   "source": [
    "# get classes corresponding to each file\n",
    "def get_label(name):\n",
    "    if name.rsplit('_', 1)[-2][-5:]=='tumor':\n",
    "        label = 'tumor'\n",
    "    else: \n",
    "        label = 'normal'\n",
    "    return label\n",
    "\n",
    "classes = [get_label(name) for name in img_names]\n",
    "\n",
    "# make csv\n",
    "labels_df = pd.DataFrame(\n",
    "    {'file_name': img_names,\n",
    "     'label': classes\n",
    "    })\n",
    "\n",
    "# labels_df.to_csv('/media/rene/Data/camelyon_out/tiles_224_100t_all_other/tiles_224_100t_all_labels.csv')"
   ]
  },
  {
   "cell_type": "code",
   "execution_count": 4,
   "metadata": {},
   "outputs": [],
   "source": [
    "# get the validation indices from the big list\n",
    "def is_validation(name, normal_valid, tumor_valid):\n",
    "    normal_valid = [int(x) for x in normal_valid]\n",
    "    tumor_valid = [int(x) for x in tumor_valid]\n",
    "    num = int(name.split('_', 1)[1].split('_', 1)[0])\n",
    "    \n",
    "    if classes[idx] == 'normal':\n",
    "        return num in normal_valid\n",
    "    \n",
    "    elif classes[idx] == 'tumor':\n",
    "        return num in tumor_valid\n",
    "    else:\n",
    "        raise ValueError(\"tile isn't tumor or non tumor\")\n",
    "\n",
    "valid_idxs = []\n",
    "for idx, name in enumerate(img_names):\n",
    "    if is_validation(name, normal_valid, tumor_valid):\n",
    "        valid_idxs.append(idx)\n",
    "        \n",
    "# with open('/media/rene/Data/camelyon_out/tiles_224_100t_all_other/tiles_224_100t_all_val_idxs.p', 'wb') as fp:\n",
    "#     pickle.dump(valid_idxs, fp)\n",
    "\n",
    "def make_validation_mask(data_df, normal_valid, tumor_valid):\n",
    "    img_names = data_df['file_name'].tolist()\n",
    "    valid_idxs = [is_validation(name, normal_valid, tumor_valid) for name in img_names]\n",
    "    return valid_idxs"
   ]
  },
  {
   "cell_type": "code",
   "execution_count": 5,
   "metadata": {},
   "outputs": [],
   "source": [
    "# get the indices of slides to use\n",
    "def make_sample(labels_df, normal_train, tumor_train, downsample=2):\n",
    "    normal_train_subset = random.sample(normal_train, int(len(normal_train)/int(downsample)))\n",
    "    normal_train_subset = [int(x) for x in normal_train_subset]\n",
    "    \n",
    "    tumor_train_subset = random.sample(tumor_train, int(len(tumor_train)/int(downsample)))\n",
    "    tumor_train_subset = [int(x) for x in tumor_train_subset]\n",
    "    \n",
    "    drop_rows = []\n",
    "    for index, row in labels_df.iterrows():\n",
    "        label = row['label']\n",
    "        num = int(row['file_name'].split('_', 1)[1].split('_', 1)[0])\n",
    "        \n",
    "        if label == 'normal' and num not in normal_train_subset:\n",
    "            drop_rows.append(index)\n",
    "        elif label == 'tumor' and num not in tumor_train_subset:\n",
    "            drop_rows.append(index)\n",
    "    \n",
    "    subset_labels_df = labels_df.drop(labels_df.index[drop_rows])\n",
    "    return subset_labels_df"
   ]
  },
  {
   "cell_type": "code",
   "execution_count": null,
   "metadata": {},
   "outputs": [
    {
     "name": "stderr",
     "output_type": "stream",
     "text": [
      "\r",
      "  0%|          | 0/10 [00:00<?, ?it/s]"
     ]
    },
    {
     "data": {
      "application/vnd.jupyter.widget-view+json": {
       "model_id": "37cf5fd49e854ce6b67008769966316f",
       "version_major": 2,
       "version_minor": 0
      },
      "text/plain": [
       "HBox(children=(IntProgress(value=0, description='Epoch', max=1), HTML(value='')))"
      ]
     },
     "metadata": {},
     "output_type": "display_data"
    },
    {
     "name": "stdout",
     "output_type": "stream",
     "text": [
      "\r",
      "  0%|          | 0/587 [00:00<?, ?it/s]"
     ]
    },
    {
     "name": "stderr",
     "output_type": "stream",
     "text": [
      "\n"
     ]
    },
    {
     "name": "stdout",
     "output_type": "stream",
     "text": [
      "epoch      trn_loss   val_loss   accuracy                    \n",
      "    0      0.262329   0.223346   0.911861  \n",
      "\n"
     ]
    },
    {
     "data": {
      "application/vnd.jupyter.widget-view+json": {
       "model_id": "1c017775060b4791947b05668b3fde6e",
       "version_major": 2,
       "version_minor": 0
      },
      "text/plain": [
       "HBox(children=(IntProgress(value=0, description='Epoch', max=7), HTML(value='')))"
      ]
     },
     "metadata": {},
     "output_type": "display_data"
    },
    {
     "name": "stdout",
     "output_type": "stream",
     "text": [
      "epoch      trn_loss   val_loss   accuracy                    \n",
      "    0      0.208303   0.185835   0.926514  \n",
      "    1      0.191932   0.160223   0.939209                    \n",
      "    2      0.163955   0.153961   0.940674                    \n",
      "    3      0.168058   0.14088    0.945801                    \n",
      "    4      0.146847   0.137606   0.947998                    \n",
      "    5      0.141507   0.129301   0.950684                    \n",
      "    6      0.136285   0.129445   0.951904                    \n"
     ]
    },
    {
     "name": "stderr",
     "output_type": "stream",
     "text": [
      "\r",
      " 10%|█         | 1/10 [33:09<4:58:28, 1989.82s/it]"
     ]
    },
    {
     "name": "stdout",
     "output_type": "stream",
     "text": [
      "\n"
     ]
    },
    {
     "data": {
      "application/vnd.jupyter.widget-view+json": {
       "model_id": "3bab0fcb777140189f0f42f769981906",
       "version_major": 2,
       "version_minor": 0
      },
      "text/plain": [
       "HBox(children=(IntProgress(value=0, description='Epoch', max=1), HTML(value='')))"
      ]
     },
     "metadata": {},
     "output_type": "display_data"
    },
    {
     "name": "stdout",
     "output_type": "stream",
     "text": [
      "epoch      trn_loss   val_loss   accuracy                    \n",
      "    0      0.267798   0.235747   0.901984  \n",
      "\n"
     ]
    },
    {
     "data": {
      "application/vnd.jupyter.widget-view+json": {
       "model_id": "c71f5daa83a6489db49ed79e45384234",
       "version_major": 2,
       "version_minor": 0
      },
      "text/plain": [
       "HBox(children=(IntProgress(value=0, description='Epoch', max=7), HTML(value='')))"
      ]
     },
     "metadata": {},
     "output_type": "display_data"
    },
    {
     "name": "stdout",
     "output_type": "stream",
     "text": [
      "epoch      trn_loss   val_loss   accuracy                    \n",
      "    0      0.227203   0.188417   0.920722  \n",
      "    1      0.182155   0.161996   0.93497                     \n",
      "    2      0.184459   0.158538   0.93714                     \n",
      "    3      0.158938   0.144103   0.944159                    \n",
      "    4      0.145542   0.142144   0.946763                    \n",
      "    5      0.132528   0.139232   0.946255                    \n",
      "    6      0.14332    0.138325   0.947557                    \n"
     ]
    },
    {
     "name": "stderr",
     "output_type": "stream",
     "text": [
      "\r",
      " 20%|██        | 2/10 [1:05:43<4:22:55, 1971.91s/it]"
     ]
    },
    {
     "name": "stdout",
     "output_type": "stream",
     "text": [
      "\n"
     ]
    },
    {
     "data": {
      "application/vnd.jupyter.widget-view+json": {
       "model_id": "ea28f6c77b8747e99168429879e081ef",
       "version_major": 2,
       "version_minor": 0
      },
      "text/plain": [
       "HBox(children=(IntProgress(value=0, description='Epoch', max=1), HTML(value='')))"
      ]
     },
     "metadata": {},
     "output_type": "display_data"
    },
    {
     "name": "stdout",
     "output_type": "stream",
     "text": [
      "epoch      trn_loss   val_loss   accuracy                    \n",
      "    0      0.266833   0.222873   0.90734   \n",
      "\n"
     ]
    },
    {
     "data": {
      "application/vnd.jupyter.widget-view+json": {
       "model_id": "67244ea5c5b54352bb9a0222577e7402",
       "version_major": 2,
       "version_minor": 0
      },
      "text/plain": [
       "HBox(children=(IntProgress(value=0, description='Epoch', max=7), HTML(value='')))"
      ]
     },
     "metadata": {},
     "output_type": "display_data"
    },
    {
     "name": "stdout",
     "output_type": "stream",
     "text": [
      "epoch      trn_loss   val_loss   accuracy                    \n",
      "    0      0.221553   0.176262   0.928589  \n",
      "    1      0.193404   0.145565   0.941307                    \n",
      "    2      0.16546    0.14371    0.94276                     \n",
      "    3      0.168801   0.133416   0.947847                    \n",
      "    4      0.148051   0.12305    0.950391                    \n",
      "    5      0.138405   0.1232     0.954388                    \n",
      "                                                             \r"
     ]
    },
    {
     "name": "stderr",
     "output_type": "stream",
     "text": [
      "\r",
      " 30%|███       | 3/10 [1:37:22<3:47:13, 1947.66s/it]"
     ]
    },
    {
     "name": "stdout",
     "output_type": "stream",
     "text": [
      "    6      0.140337   0.127227   0.951118  \n",
      "\n"
     ]
    },
    {
     "data": {
      "application/vnd.jupyter.widget-view+json": {
       "model_id": "6c1f15c246cb442b85d2b0813772d289",
       "version_major": 2,
       "version_minor": 0
      },
      "text/plain": [
       "HBox(children=(IntProgress(value=0, description='Epoch', max=1), HTML(value='')))"
      ]
     },
     "metadata": {},
     "output_type": "display_data"
    },
    {
     "name": "stdout",
     "output_type": "stream",
     "text": [
      "epoch      trn_loss   val_loss   accuracy                    \n",
      "    0      0.262889   0.218582   0.911615  \n",
      "\n"
     ]
    },
    {
     "data": {
      "application/vnd.jupyter.widget-view+json": {
       "model_id": "2829653468b04ab1bf42154cd8d3a64a",
       "version_major": 2,
       "version_minor": 0
      },
      "text/plain": [
       "HBox(children=(IntProgress(value=0, description='Epoch', max=7), HTML(value='')))"
      ]
     },
     "metadata": {},
     "output_type": "display_data"
    },
    {
     "name": "stdout",
     "output_type": "stream",
     "text": [
      "epoch      trn_loss   val_loss   accuracy                    \n",
      "    0      0.2083     0.185892   0.923951  \n",
      "    1      0.19502    0.15946    0.936012                    \n",
      " 61%|██████    | 359/589 [02:25<01:33,  2.47it/s, loss=0.176]"
     ]
    }
   ],
   "source": [
    "models_arch = resnet50\n",
    "models_name = 'resnet50'\n",
    "\n",
    "lr=np.array([1e-3,5e-3,1e-2])\n",
    "\n",
    "sz = 224\n",
    "PATH = '/media/rene/Data/camelyon_out/tiles_224_100t_all_other'\n",
    "train_folder = '/media/rene/Data/camelyon_out/tiles_224_100t_all'\n",
    "# val_idxs = pickle.load( open( \"/media/rene/Data/camelyon_out/tiles_224_100t_all_other/tiles_224_100t_all_val_idxs.p\", \"rb\" ) )\n",
    "\n",
    "for i in tqdm(range(10)):\n",
    "    # create the new csv and save it\n",
    "    subset_labels_df = make_sample(labels_df, normal_train, tumor_train, downsample=2)\n",
    "    subset_labels_df.to_csv('/media/rene/Data/camelyon_out/tiles_224_100t_all_other/tiles_224_100t_all_subset_tmp2.csv',  \n",
    "                            index = False)\n",
    "    csv_fname = '/media/rene/Data/camelyon_out/tiles_224_100t_all_other/tiles_224_100t_all_subset_tmp2.csv'\n",
    "    \n",
    "    # get the validation indices based on this\n",
    "    val_idxs = make_validation_mask(subset_labels_df, normal_valid, tumor_valid)\n",
    "\n",
    "    tfms = tfms_from_model(models_arch, sz, aug_tfms=transforms_top_down, max_zoom=1)\n",
    "    data = ImageClassifierData.from_csv(PATH, train_folder, csv_fname, tfms=tfms, \n",
    "                                        val_idxs=val_idxs, bs=64)\n",
    "    learn = ConvLearner.pretrained(models_arch, data, precompute=False)\n",
    "    \n",
    "    lr =.001\n",
    "    learn.fit(lr, 1, cycle_len=1, cycle_mult=1) # train last few layers\n",
    "    lrs = np.array([lr/4,lr/2,lr])\n",
    "    learn.unfreeze()\n",
    "    learn.fit(lrs, 3, cycle_len=1, cycle_mult=2, best_save_name=models_name+'_half_wsi_'+str(i)) # train whole model"
   ]
  },
  {
   "cell_type": "code",
   "execution_count": null,
   "metadata": {},
   "outputs": [],
   "source": [
    "models_arch = resnet50\n",
    "models_name = 'resnet50'\n",
    "\n",
    "lr=np.array([1e-3,5e-3,1e-2])\n",
    "\n",
    "sz = 224\n",
    "PATH = '/media/rene/Data/camelyon_out/tiles_224_100t_all_other'\n",
    "train_folder = '/media/rene/Data/camelyon_out/tiles_224_100t_all'\n",
    "# val_idxs = pickle.load( open( \"/media/rene/Data/camelyon_out/tiles_224_100t_all_other/tiles_224_100t_all_val_idxs.p\", \"rb\" ) )\n",
    "\n",
    "for i in tqdm(range(10)):\n",
    "    # create the new csv and save it\n",
    "    subset_labels_df = make_sample(labels_df, normal_train, tumor_train, downsample=4)\n",
    "    subset_labels_df.to_csv('/media/rene/Data/camelyon_out/tiles_224_100t_all_other/tiles_224_100t_all_subset_tmp2.csv',  \n",
    "                            index = False)\n",
    "    csv_fname = '/media/rene/Data/camelyon_out/tiles_224_100t_all_other/tiles_224_100t_all_subset_tmp2.csv'\n",
    "    \n",
    "    # get the validation indices based on this\n",
    "    val_idxs = make_validation_mask(subset_labels_df, normal_valid, tumor_valid)\n",
    "\n",
    "    tfms = tfms_from_model(models_arch, sz, aug_tfms=transforms_top_down, max_zoom=1)\n",
    "    data = ImageClassifierData.from_csv(PATH, train_folder, csv_fname, tfms=tfms, \n",
    "                                        val_idxs=val_idxs, bs=64)\n",
    "    learn = ConvLearner.pretrained(models_arch, data, precompute=False)\n",
    "    \n",
    "    lr =.001\n",
    "    learn.fit(lr, 1, cycle_len=1, cycle_mult=1) # train last few layers\n",
    "    lrs = np.array([lr/4,lr/2,lr])\n",
    "    learn.unfreeze()\n",
    "    learn.fit(lrs, 3, cycle_len=1, cycle_mult=2, best_save_name=models_name+'_quarter_wsi_'+str(i)) # train whole model"
   ]
  },
  {
   "cell_type": "code",
   "execution_count": 6,
   "metadata": {},
   "outputs": [
    {
     "name": "stderr",
     "output_type": "stream",
     "text": [
      "\r",
      "  0%|          | 0/7 [00:00<?, ?it/s]"
     ]
    },
    {
     "data": {
      "application/vnd.jupyter.widget-view+json": {
       "model_id": "a39f05c034324a66af390ec572db698a",
       "version_major": 2,
       "version_minor": 0
      },
      "text/plain": [
       "HBox(children=(IntProgress(value=0, description='Epoch', max=1), HTML(value='')))"
      ]
     },
     "metadata": {},
     "output_type": "display_data"
    },
    {
     "name": "stdout",
     "output_type": "stream",
     "text": [
      "\r",
      "  0%|          | 0/147 [00:00<?, ?it/s]"
     ]
    },
    {
     "name": "stderr",
     "output_type": "stream",
     "text": [
      "\n"
     ]
    },
    {
     "name": "stdout",
     "output_type": "stream",
     "text": [
      "epoch      trn_loss   val_loss   accuracy                    \n",
      "    0      0.325046   0.206593   0.927734  \n",
      "\n"
     ]
    },
    {
     "data": {
      "application/vnd.jupyter.widget-view+json": {
       "model_id": "a213c0c036774a2cb39630252e284ebf",
       "version_major": 2,
       "version_minor": 0
      },
      "text/plain": [
       "HBox(children=(IntProgress(value=0, description='Epoch', max=7), HTML(value='')))"
      ]
     },
     "metadata": {},
     "output_type": "display_data"
    },
    {
     "name": "stdout",
     "output_type": "stream",
     "text": [
      "epoch      trn_loss   val_loss   accuracy                    \n",
      "    0      0.253826   0.149591   0.943359  \n",
      "    1      0.19455    0.114476   0.949219                    \n",
      "    2      0.166934   0.106272   0.962891                    \n",
      "    3      0.137974   0.10423    0.962891                    \n",
      "    4      0.131908   0.091828   0.972656                    \n",
      "    5      0.126399   0.09561    0.974609                    \n",
      "                                                             \r"
     ]
    },
    {
     "name": "stderr",
     "output_type": "stream",
     "text": [
      "\r",
      " 14%|█▍        | 1/7 [07:34<45:27, 454.57s/it]"
     ]
    },
    {
     "name": "stdout",
     "output_type": "stream",
     "text": [
      "    6      0.106828   0.091631   0.956752  \n",
      "\n"
     ]
    },
    {
     "data": {
      "application/vnd.jupyter.widget-view+json": {
       "model_id": "c8eada0250dd4a4caf5e12955dd251b9",
       "version_major": 2,
       "version_minor": 0
      },
      "text/plain": [
       "HBox(children=(IntProgress(value=0, description='Epoch', max=1), HTML(value='')))"
      ]
     },
     "metadata": {},
     "output_type": "display_data"
    },
    {
     "name": "stdout",
     "output_type": "stream",
     "text": [
      "epoch      trn_loss   val_loss   accuracy                    \n",
      "    0      0.290788   0.218866   0.919     \n",
      "\n"
     ]
    },
    {
     "data": {
      "application/vnd.jupyter.widget-view+json": {
       "model_id": "41aac105f33746289e0a036ff4424eb9",
       "version_major": 2,
       "version_minor": 0
      },
      "text/plain": [
       "HBox(children=(IntProgress(value=0, description='Epoch', max=7), HTML(value='')))"
      ]
     },
     "metadata": {},
     "output_type": "display_data"
    },
    {
     "name": "stdout",
     "output_type": "stream",
     "text": [
      "epoch      trn_loss   val_loss   accuracy                    \n",
      "    0      0.251772   0.170955   0.93679   \n",
      "    1      0.195534   0.140784   0.943182                    \n",
      "    2      0.181554   0.137885   0.946023                    \n",
      "    3      0.162888   0.137963   0.949574                    \n",
      "    4      0.139038   0.124318   0.953125                    \n",
      "    5      0.127484   0.117779   0.953835                    \n",
      "    6      0.130003   0.118255   0.955256                    \n"
     ]
    },
    {
     "name": "stderr",
     "output_type": "stream",
     "text": [
      "\r",
      " 29%|██▊       | 2/7 [14:44<36:50, 442.09s/it]"
     ]
    },
    {
     "name": "stdout",
     "output_type": "stream",
     "text": [
      "\n"
     ]
    },
    {
     "data": {
      "application/vnd.jupyter.widget-view+json": {
       "model_id": "1ee9f3d89ff04d95a415d8def36599cb",
       "version_major": 2,
       "version_minor": 0
      },
      "text/plain": [
       "HBox(children=(IntProgress(value=0, description='Epoch', max=1), HTML(value='')))"
      ]
     },
     "metadata": {},
     "output_type": "display_data"
    },
    {
     "name": "stdout",
     "output_type": "stream",
     "text": [
      "epoch      trn_loss   val_loss   accuracy                    \n",
      "    0      0.276907   0.253477   0.901339  \n",
      "\n"
     ]
    },
    {
     "data": {
      "application/vnd.jupyter.widget-view+json": {
       "model_id": "299a54860af54437b67e9e48a8ca797e",
       "version_major": 2,
       "version_minor": 0
      },
      "text/plain": [
       "HBox(children=(IntProgress(value=0, description='Epoch', max=7), HTML(value='')))"
      ]
     },
     "metadata": {},
     "output_type": "display_data"
    },
    {
     "name": "stdout",
     "output_type": "stream",
     "text": [
      "epoch      trn_loss   val_loss   accuracy                    \n",
      "    0      0.233152   0.202621   0.92753   \n",
      "    1      0.18295    0.162353   0.944792                    \n",
      "    2      0.17623    0.165807   0.942708                    \n",
      "    3      0.163096   0.148665   0.947917                    \n",
      "    4      0.141063   0.13776    0.951042                    \n",
      "    5      0.131605   0.134847   0.950446                    \n",
      "                                                             \r"
     ]
    },
    {
     "name": "stderr",
     "output_type": "stream",
     "text": [
      "\r",
      " 43%|████▎     | 3/7 [21:34<28:45, 431.39s/it]"
     ]
    },
    {
     "name": "stdout",
     "output_type": "stream",
     "text": [
      "    6      0.12496    0.145981   0.94628   \n",
      "\n"
     ]
    },
    {
     "data": {
      "application/vnd.jupyter.widget-view+json": {
       "model_id": "1edd5708f73c4e7daaac7937cfb5032b",
       "version_major": 2,
       "version_minor": 0
      },
      "text/plain": [
       "HBox(children=(IntProgress(value=0, description='Epoch', max=1), HTML(value='')))"
      ]
     },
     "metadata": {},
     "output_type": "display_data"
    },
    {
     "name": "stdout",
     "output_type": "stream",
     "text": [
      "epoch      trn_loss   val_loss   accuracy                    \n",
      "    0      0.283951   0.198252   0.919677  \n",
      "\n"
     ]
    },
    {
     "data": {
      "application/vnd.jupyter.widget-view+json": {
       "model_id": "a6dba7e4169a42d484802dee1b713b5a",
       "version_major": 2,
       "version_minor": 0
      },
      "text/plain": [
       "HBox(children=(IntProgress(value=0, description='Epoch', max=7), HTML(value='')))"
      ]
     },
     "metadata": {},
     "output_type": "display_data"
    },
    {
     "name": "stdout",
     "output_type": "stream",
     "text": [
      "epoch      trn_loss   val_loss   accuracy                    \n",
      "    0      0.220947   0.161576   0.941761  \n",
      "    1      0.181819   0.140162   0.947443                    \n",
      "    2      0.185009   0.131746   0.945279                    \n",
      "    3      0.167852   0.121377   0.955222                    \n",
      "    4      0.152452   0.118568   0.953835                    \n",
      "    5      0.139008   0.112765   0.957386                    \n",
      "                                                             \r"
     ]
    },
    {
     "name": "stderr",
     "output_type": "stream",
     "text": [
      "\r",
      " 57%|█████▋    | 4/7 [27:55<20:56, 418.95s/it]"
     ]
    },
    {
     "name": "stdout",
     "output_type": "stream",
     "text": [
      "    6      0.132593   0.114059   0.953125  \n",
      "\n"
     ]
    },
    {
     "data": {
      "application/vnd.jupyter.widget-view+json": {
       "model_id": "515e36f7eb18497885e4e8dd3a537983",
       "version_major": 2,
       "version_minor": 0
      },
      "text/plain": [
       "HBox(children=(IntProgress(value=0, description='Epoch', max=1), HTML(value='')))"
      ]
     },
     "metadata": {},
     "output_type": "display_data"
    },
    {
     "name": "stdout",
     "output_type": "stream",
     "text": [
      "epoch      trn_loss   val_loss   accuracy                    \n",
      "    0      0.30774    0.183016   0.925781  \n",
      "\n"
     ]
    },
    {
     "data": {
      "application/vnd.jupyter.widget-view+json": {
       "model_id": "c5011437430b4f349524c9d2d7107713",
       "version_major": 2,
       "version_minor": 0
      },
      "text/plain": [
       "HBox(children=(IntProgress(value=0, description='Epoch', max=7), HTML(value='')))"
      ]
     },
     "metadata": {},
     "output_type": "display_data"
    },
    {
     "name": "stdout",
     "output_type": "stream",
     "text": [
      "epoch      trn_loss   val_loss   accuracy                    \n",
      "    0      0.259914   0.158487   0.935547  \n",
      "    1      0.206153   0.120345   0.951172                    \n",
      "    2      0.178511   0.118698   0.955078                    \n",
      "    3      0.152007   0.107302   0.957031                    \n",
      "    4      0.139541   0.096573   0.957031                    \n",
      "    5      0.126523   0.088085   0.964844                    \n",
      "                                                             \r"
     ]
    },
    {
     "name": "stderr",
     "output_type": "stream",
     "text": [
      "\r",
      " 71%|███████▏  | 5/7 [35:14<14:05, 422.98s/it]"
     ]
    },
    {
     "name": "stdout",
     "output_type": "stream",
     "text": [
      "    6      0.124722   0.089871   0.964844  \n",
      "\n"
     ]
    },
    {
     "data": {
      "application/vnd.jupyter.widget-view+json": {
       "model_id": "dd54f31913824e32b41d5aa2015935ad",
       "version_major": 2,
       "version_minor": 0
      },
      "text/plain": [
       "HBox(children=(IntProgress(value=0, description='Epoch', max=1), HTML(value='')))"
      ]
     },
     "metadata": {},
     "output_type": "display_data"
    },
    {
     "name": "stdout",
     "output_type": "stream",
     "text": [
      "epoch      trn_loss   val_loss   accuracy                    \n",
      "    0      0.284164   0.199176   0.91769   \n",
      "\n"
     ]
    },
    {
     "data": {
      "application/vnd.jupyter.widget-view+json": {
       "model_id": "1607c91b85144c53abc4e0674ae5541c",
       "version_major": 2,
       "version_minor": 0
      },
      "text/plain": [
       "HBox(children=(IntProgress(value=0, description='Epoch', max=7), HTML(value='')))"
      ]
     },
     "metadata": {},
     "output_type": "display_data"
    },
    {
     "name": "stdout",
     "output_type": "stream",
     "text": [
      "epoch      trn_loss   val_loss   accuracy                    \n",
      "    0      0.199776   0.115555   0.970703  \n",
      "    1      0.167617   0.095438   0.970703                    \n",
      "    2      0.134185   0.08613    0.970703                    \n",
      "    3      0.118087   0.072722   0.976562                    \n",
      "    4      0.113105   0.072709   0.980469                    \n",
      "    5      0.099509   0.066261   0.978516                     \n",
      "    6      0.093223   0.064853   0.982422                     \n"
     ]
    },
    {
     "name": "stderr",
     "output_type": "stream",
     "text": [
      "\r",
      " 86%|████████▌ | 6/7 [42:25<07:04, 424.27s/it]"
     ]
    },
    {
     "name": "stdout",
     "output_type": "stream",
     "text": [
      "\n"
     ]
    },
    {
     "data": {
      "application/vnd.jupyter.widget-view+json": {
       "model_id": "79d0bcd107164d8980a5f6648fc29d39",
       "version_major": 2,
       "version_minor": 0
      },
      "text/plain": [
       "HBox(children=(IntProgress(value=0, description='Epoch', max=1), HTML(value='')))"
      ]
     },
     "metadata": {},
     "output_type": "display_data"
    },
    {
     "name": "stdout",
     "output_type": "stream",
     "text": [
      "epoch      trn_loss   val_loss   accuracy                    \n",
      "    0      0.35417    0.256219   0.891933  \n",
      "\n"
     ]
    },
    {
     "data": {
      "application/vnd.jupyter.widget-view+json": {
       "model_id": "091e4feabb6546769fe54b532e8e16c7",
       "version_major": 2,
       "version_minor": 0
      },
      "text/plain": [
       "HBox(children=(IntProgress(value=0, description='Epoch', max=7), HTML(value='')))"
      ]
     },
     "metadata": {},
     "output_type": "display_data"
    },
    {
     "name": "stdout",
     "output_type": "stream",
     "text": [
      "epoch      trn_loss   val_loss   accuracy                    \n",
      "    0      0.287616   0.185909   0.928417  \n",
      "    1      0.210554   0.138298   0.952278                    \n",
      "    2      0.17637    0.130712   0.954433                    \n",
      "    3      0.162616   0.110209   0.963054                    \n",
      "    4      0.135962   0.100832   0.966287                    \n",
      "    5      0.122037   0.094353   0.964671                    \n",
      "                                                             \r"
     ]
    },
    {
     "name": "stderr",
     "output_type": "stream",
     "text": [
      "\r",
      "100%|██████████| 7/7 [52:36<00:00, 450.90s/it]"
     ]
    },
    {
     "name": "stdout",
     "output_type": "stream",
     "text": [
      "    6      0.124115   0.095085   0.964671  \n",
      "\n"
     ]
    }
   ],
   "source": [
    "models_arch = resnet50\n",
    "models_name = 'resnet50'\n",
    "\n",
    "lr=np.array([1e-3,5e-3,1e-2])\n",
    "\n",
    "sz = 224\n",
    "PATH = '/media/rene/Data/camelyon_out/tiles_224_100t_all_other'\n",
    "train_folder = '/media/rene/Data/camelyon_out/tiles_224_100t_all'\n",
    "# val_idxs = pickle.load( open( \"/media/rene/Data/camelyon_out/tiles_224_100t_all_other/tiles_224_100t_all_val_idxs.p\", \"rb\" ) )\n",
    "\n",
    "for i in tqdm(range(3, 10)):\n",
    "    # create the new csv and save it\n",
    "    subset_labels_df = make_sample(labels_df, normal_train, tumor_train, downsample=8)\n",
    "    subset_labels_df.to_csv('/media/rene/Data/camelyon_out/tiles_224_100t_all_other/tiles_224_100t_all_subset_tmp2.csv',  \n",
    "                            index = False)\n",
    "    csv_fname = '/media/rene/Data/camelyon_out/tiles_224_100t_all_other/tiles_224_100t_all_subset_tmp2.csv'\n",
    "    \n",
    "    # get the validation indices based on this\n",
    "    val_idxs = make_validation_mask(subset_labels_df, normal_valid, tumor_valid)\n",
    "\n",
    "    tfms = tfms_from_model(models_arch, sz, aug_tfms=transforms_top_down, max_zoom=1)\n",
    "    data = ImageClassifierData.from_csv(PATH, train_folder, csv_fname, tfms=tfms, \n",
    "                                        val_idxs=val_idxs, bs=64)\n",
    "    learn = ConvLearner.pretrained(models_arch, data, precompute=False)\n",
    "    \n",
    "    lr =.001\n",
    "    learn.fit(lr, 1, cycle_len=1, cycle_mult=1) # train last few layers\n",
    "    lrs = np.array([lr/4,lr/2,lr])\n",
    "    learn.unfreeze()\n",
    "    learn.fit(lrs, 3, cycle_len=1, cycle_mult=2, best_save_name=models_name+'_eighth_wsi_'+str(i)) # train whole model"
   ]
  },
  {
   "cell_type": "code",
   "execution_count": null,
   "metadata": {},
   "outputs": [],
   "source": [
    "##"
   ]
  }
 ],
 "metadata": {
  "kernelspec": {
   "display_name": "Python 3",
   "language": "python",
   "name": "python3"
  },
  "language_info": {
   "codemirror_mode": {
    "name": "ipython",
    "version": 3
   },
   "file_extension": ".py",
   "mimetype": "text/x-python",
   "name": "python",
   "nbconvert_exporter": "python",
   "pygments_lexer": "ipython3",
   "version": "3.6.5"
  }
 },
 "nbformat": 4,
 "nbformat_minor": 2
}
