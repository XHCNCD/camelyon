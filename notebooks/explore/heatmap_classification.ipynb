{
 "cells": [
  {
   "cell_type": "markdown",
   "metadata": {},
   "source": [
    "# Classifying heatmaps\n",
    "They extract a bunck of features (28) from each heatmap, and then classify it based on random forest. Examples are:\n",
    "* percentage of tumor region over the whole tissue region, \n",
    "* area ratio between tumor region and the minimum surrounding convex region\n",
    "* average prediction values\n",
    "* longest axis of the tumor region"
   ]
  },
  {
   "cell_type": "code",
   "execution_count": 63,
   "metadata": {},
   "outputs": [
    {
     "name": "stdout",
     "output_type": "stream",
     "text": [
      "/media/rene/Data/camelyon/src\n"
     ]
    }
   ],
   "source": [
    "import os\n",
    "import sys\n",
    "import glob\n",
    "import random\n",
    "import pickle\n",
    "import numpy as np\n",
    "import pandas as pd\n",
    "from PIL import Image\n",
    "\n",
    "import matplotlib.pyplot as plt\n",
    "from matplotlib.pyplot import imshow\n",
    "from IPython.display import display, HTML\n",
    "from sklearn.metrics import accuracy_score\n",
    "\n",
    "%reload_ext autoreload\n",
    "%autoreload 2\n",
    "%matplotlib inline\n",
    "\n",
    "# Add the src directory for functions\n",
    "src_dir = os.path.join(os.path.dirname(os.path.dirname(os.getcwd())), 'src')\n",
    "print(src_dir)\n",
    "sys.path.append(src_dir)\n",
    "\n",
    "PATH = '/media/rene/Data/camelyon_out/heatmaps/inception_v3_r1'"
   ]
  },
  {
   "cell_type": "code",
   "execution_count": 64,
   "metadata": {},
   "outputs": [
    {
     "name": "stdout",
     "output_type": "stream",
     "text": [
      "(738, 327, 2)\n",
      "53784.533994894475\n",
      "398107.7248727456\n",
      "-160.9815673828125\n",
      "156.83749389648438\n"
     ]
    },
    {
     "data": {
      "image/png": "[encoded data removed]",
      "text/plain": [
       "<Figure size 432x288 with 1 Axes>"
      ]
     },
     "metadata": {},
     "output_type": "display_data"
    }
   ],
   "source": [
    "heatmap_loc = PATH+'/train/'+ 'normal29heatmap.npy'#'normal100heatmap.npy'\n",
    "heatmap = np.load(heatmap_loc)\n",
    "print(heatmap.shape)\n",
    "plt.figure()\n",
    "plt.imshow(heatmap[:, :, 0])\n",
    "print(np.sum(heatmap[:300, :, 1]))\n",
    "print(np.sum(heatmap[:, :, 0]))\n",
    "print(np.amin(heatmap[:, :, 0]))\n",
    "print(np.amax(heatmap[:, :, 0]))"
   ]
  },
  {
   "cell_type": "code",
   "execution_count": 65,
   "metadata": {},
   "outputs": [],
   "source": [
    "def make_softmax(heatmap):\n",
    "    def softmax(x):\n",
    "        return np.exp(x) / np.sum(np.exp(x), axis=0)\n",
    "\n",
    "    points = np.where(heatmap!=0)\n",
    "    \n",
    "    for idx in range(len(points[0])):\n",
    "        heatmap[points[0][idx], points[1][idx], :] = softmax(heatmap[points[0][idx], points[1][idx], :])"
   ]
  },
  {
   "cell_type": "markdown",
   "metadata": {},
   "source": [
    "Identifying Metastatic Breast Cancer using Deep Texture Representation ",
    " ",
    "Team MIL-GPAT\n",
    "\n",
    "Features:\n",
    "* Tumor area in the largest region with threshold t = {0.5, 0.7 0.9}\n",
    "* Major axis length of the largest region with threshold t = {0.5, 0.7 0.9}\n",
    "* Eccentricity of the largest region with threshold t = {0.5, 0.7 0.9}\n",
    "* Mean probability of the largest region with threshold t = {0.5, 0.7 0.9}\n",
    "* The number of  region with threshold t = {0.5, 0.7 0.9}\n",
    "\n",
    "### False positive bootstrapping\n",
    "* Add prevoiusly faslely classified examples to a bbiased training set for further training\n",
    "\n",
    "\n",
    "### Color augmnetation (google paper)\n",
    "brightness with a maximum delta of 64/255, saturation with a maximum delta of 0.25, hue with a maximum delta of 0.04, and contrast with a maximum delta of 0.75."
   ]
  },
  {
   "cell_type": "markdown",
   "metadata": {},
   "source": [
    "## Making features:\n",
    "Some example code: https://github.com/arjunvekariyagithub/camelyon16-grand-challenge/blob/master/camelyon16/postprocess/extract_feature_heatmap.py\n",
    "\n",
    "http://scikit-image.org/docs/dev/auto_examples/segmentation/plot_regionprops.html"
   ]
  },
  {
   "cell_type": "code",
   "execution_count": 71,
   "metadata": {},
   "outputs": [],
   "source": [
    "heatmap_loc = PATH+'/train/'+ 'normal29heatmap.npy'#'normal100heatmap.npy'\n",
    "heatmap = np.load(heatmap_loc)\n",
    "make_softmax(heatmap)\n",
    "\n",
    "\n",
    "def make_features(heatmap, threshold_list = [.5, .7, .9]):\n",
    "    \"\"\"return a list of features\"\"\"\n",
    "    heatmap_masks = {threshold:[heatmap>threshold]  for threshold in threshold_list}\n",
    "    features = []\n",
    "    \n",
    "    for threshold, threshold_mask in heatmap_masks.items():\n",
    "        # number of regions\n",
    "        features.append(np.sum(threshold_mask))\n",
    "        # mean region probability\n",
    "        features.append(np.sum(threshold_mask))\n",
    " \n",
    "    \n",
    "    \n",
    "    "
   ]
  },
  {
   "cell_type": "code",
   "execution_count": 72,
   "metadata": {},
   "outputs": [
    {
     "name": "stdout",
     "output_type": "stream",
     "text": [
      "{0.5: [array([[[False, False],\n",
      "        [False, False],\n",
      "        [ True, False],\n",
      "        ...,\n",
      "        [False, False],\n",
      "        [False, False],\n",
      "        [False, False]],\n",
      "\n",
      "       [[False,  True],\n",
      "        [False,  True],\n",
      "        [False,  True],\n",
      "        ...,\n",
      "        [False, False],\n",
      "        [False, False],\n",
      "        [False, False]],\n",
      "\n",
      "       [[False,  True],\n",
      "        [False,  True],\n",
      "        [False,  True],\n",
      "        ...,\n",
      "        [False, False],\n",
      "        [False, False],\n",
      "        [False, False]],\n",
      "\n",
      "       ...,\n",
      "\n",
      "       [[False, False],\n",
      "        [False, False],\n",
      "        [False, False],\n",
      "        ...,\n",
      "        [False, False],\n",
      "        [False, False],\n",
      "        [False, False]],\n",
      "\n",
      "       [[False, False],\n",
      "        [False, False],\n",
      "        [False, False],\n",
      "        ...,\n",
      "        [False, False],\n",
      "        [False, False],\n",
      "        [False, False]],\n",
      "\n",
      "       [[False, False],\n",
      "        [False, False],\n",
      "        [False, False],\n",
      "        ...,\n",
      "        [False, False],\n",
      "        [False, False],\n",
      "        [False, False]]])], 0.7: [array([[[False, False],\n",
      "        [False, False],\n",
      "        [False, False],\n",
      "        ...,\n",
      "        [False, False],\n",
      "        [False, False],\n",
      "        [False, False]],\n",
      "\n",
      "       [[False,  True],\n",
      "        [False,  True],\n",
      "        [False,  True],\n",
      "        ...,\n",
      "        [False, False],\n",
      "        [False, False],\n",
      "        [False, False]],\n",
      "\n",
      "       [[False,  True],\n",
      "        [False,  True],\n",
      "        [False,  True],\n",
      "        ...,\n",
      "        [False, False],\n",
      "        [False, False],\n",
      "        [False, False]],\n",
      "\n",
      "       ...,\n",
      "\n",
      "       [[False, False],\n",
      "        [False, False],\n",
      "        [False, False],\n",
      "        ...,\n",
      "        [False, False],\n",
      "        [False, False],\n",
      "        [False, False]],\n",
      "\n",
      "       [[False, False],\n",
      "        [False, False],\n",
      "        [False, False],\n",
      "        ...,\n",
      "        [False, False],\n",
      "        [False, False],\n",
      "        [False, False]],\n",
      "\n",
      "       [[False, False],\n",
      "        [False, False],\n",
      "        [False, False],\n",
      "        ...,\n",
      "        [False, False],\n",
      "        [False, False],\n",
      "        [False, False]]])], 0.9: [array([[[False, False],\n",
      "        [False, False],\n",
      "        [False, False],\n",
      "        ...,\n",
      "        [False, False],\n",
      "        [False, False],\n",
      "        [False, False]],\n",
      "\n",
      "       [[False, False],\n",
      "        [False, False],\n",
      "        [False, False],\n",
      "        ...,\n",
      "        [False, False],\n",
      "        [False, False],\n",
      "        [False, False]],\n",
      "\n",
      "       [[False, False],\n",
      "        [False, False],\n",
      "        [False, False],\n",
      "        ...,\n",
      "        [False, False],\n",
      "        [False, False],\n",
      "        [False, False]],\n",
      "\n",
      "       ...,\n",
      "\n",
      "       [[False, False],\n",
      "        [False, False],\n",
      "        [False, False],\n",
      "        ...,\n",
      "        [False, False],\n",
      "        [False, False],\n",
      "        [False, False]],\n",
      "\n",
      "       [[False, False],\n",
      "        [False, False],\n",
      "        [False, False],\n",
      "        ...,\n",
      "        [False, False],\n",
      "        [False, False],\n",
      "        [False, False]],\n",
      "\n",
      "       [[False, False],\n",
      "        [False, False],\n",
      "        [False, False],\n",
      "        ...,\n",
      "        [False, False],\n",
      "        [False, False],\n",
      "        [False, False]]])]}\n"
     ]
    }
   ],
   "source": [
    "print(heatmap_masks)"
   ]
  },
  {
   "cell_type": "code",
   "execution_count": null,
   "metadata": {},
   "outputs": [],
   "source": []
  }
 ],
 "metadata": {
  "kernelspec": {
   "display_name": "Python 3",
   "language": "python",
   "name": "python3"
  },
  "language_info": {
   "codemirror_mode": {
    "name": "ipython",
    "version": 3
   },
   "file_extension": ".py",
   "mimetype": "text/x-python",
   "name": "python",
   "nbconvert_exporter": "python",
   "pygments_lexer": "ipython3",
   "version": "3.6.4"
  }
 },
 "nbformat": 4,
 "nbformat_minor": 2
}
