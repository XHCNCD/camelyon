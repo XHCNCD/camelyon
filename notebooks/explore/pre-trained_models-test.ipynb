{
 "cells": [
  {
   "cell_type": "markdown",
   "metadata": {},
   "source": [
    "# Train multiple models on tiles\n",
    "Use the fastai package to:\n",
    "1. Check if their lr schedule, models, etc. perform resonably compared to pytorch implementation in \"tile_classifier\"\n",
    "2. Get idea of which models performs best \n",
    "3. See if ensembling models is useful, given that they are all trained on the same data\n",
    "  1. Try training the same model multiple times with same data and ensembling\n",
    "  2. Training different models and ensembling\n",
    "  \n",
    "  \n",
    "** All of this is using the fastai conda env **"
   ]
  },
  {
   "cell_type": "code",
   "execution_count": 1,
   "metadata": {},
   "outputs": [
    {
     "name": "stdout",
     "output_type": "stream",
     "text": [
      "True\n",
      "1\n"
     ]
    }
   ],
   "source": [
    "%reload_ext autoreload\n",
    "%autoreload 2\n",
    "%matplotlib inline\n",
    "\n",
    "import os\n",
    "import sys\n",
    "\n",
    "from fastai.imports import *\n",
    "from fastai.transforms import *\n",
    "from fastai.conv_learner import *\n",
    "from fastai.model import *\n",
    "from fastai.dataset import *\n",
    "from fastai.sgdr import *\n",
    "from fastai.plots import *\n",
    "\n",
    "from torchvision import datasets, models, transforms\n",
    "\n",
    "# Base Directory where data is stored\n",
    "PATH = '/media/rene/Data/camelyon_out/tiles_299_100t/'\n",
    "\n",
    "fast_ai_dir = '/media/rene/Data/fastai/'\n",
    "sys.path.append(fast_ai_dir)\n",
    "\n",
    "# Set it to use GPU1\n",
    "torch.cuda.set_device(1)\n",
    "print(torch.cuda.is_available())\n",
    "print(torch.cuda.current_device())"
   ]
  },
  {
   "cell_type": "code",
   "execution_count": 2,
   "metadata": {},
   "outputs": [],
   "source": [
    "# put the models trained on a dataset in it\n",
    "if not os.path.exists(os.path.join(PATH,'models')):\n",
    "    os.makedirs(os.path.join(PATH,'models'))\n",
    "if not os.path.exists(os.path.join(PATH,'sample')):\n",
    "    os.makedirs(os.path.join(PATH,'sample'))"
   ]
  },
  {
   "cell_type": "markdown",
   "metadata": {},
   "source": [
    "## Fast ai way of training"
   ]
  },
  {
   "cell_type": "code",
   "execution_count": 8,
   "metadata": {},
   "outputs": [
    {
     "data": {
      "application/vnd.jupyter.widget-view+json": {
       "model_id": "0048562642cd4f22842824296d51747c",
       "version_major": 2,
       "version_minor": 0
      },
      "text/html": [
       "<p>Failed to display Jupyter Widget of type <code>HBox</code>.</p>\n",
       "<p>\n",
       "  If you're reading this message in the Jupyter Notebook or JupyterLab Notebook, it may mean\n",
       "  that the widgets JavaScript is still loading. If this message persists, it\n",
       "  likely means that the widgets JavaScript library is either not installed or\n",
       "  not enabled. See the <a href=\"https://ipywidgets.readthedocs.io/en/stable/user_install.html\">Jupyter\n",
       "  Widgets Documentation</a> for setup instructions.\n",
       "</p>\n",
       "<p>\n",
       "  If you're reading this message in another frontend (for example, a static\n",
       "  rendering on GitHub or <a href=\"https://nbviewer.jupyter.org/\">NBViewer</a>),\n",
       "  it may mean that your frontend doesn't currently support widgets.\n",
       "</p>\n"
      ],
      "text/plain": [
       "HBox(children=(IntProgress(value=0, description='Epoch', max=1), HTML(value='')))"
      ]
     },
     "metadata": {},
     "output_type": "display_data"
    },
    {
     "name": "stdout",
     "output_type": "stream",
     "text": [
      " 70%|███████   | 913/1302 [03:13<01:22,  4.71it/s, loss=1.32] "
     ]
    },
    {
     "data": {
      "image/png": "[encoded data removed]",
      "text/plain": [
       "<Figure size 432x288 with 1 Axes>"
      ]
     },
     "metadata": {},
     "output_type": "display_data"
    }
   ],
   "source": [
    "sz=224 # downsample to the same size for resnet\n",
    "arch=resnet34\n",
    "# look at 64 batch size, because this is what we will be using:\n",
    "data = ImageClassifierData.from_paths(PATH, tfms=tfms_from_model(arch, sz), bs=64)  \n",
    "learn = ConvLearner.pretrained(arch, data, precompute=False)\n",
    "lrf=learn.lr_find(start_lr=1e-5, end_lr=100)\n",
    "learn.sched.plot(n_skip=5, n_skip_end=1)"
   ]
  },
  {
   "cell_type": "markdown",
   "metadata": {},
   "source": [
    "Rate of change of loss is steepest around .0005, and largest acceptable is .005"
   ]
  },
  {
   "cell_type": "code",
   "execution_count": 10,
   "metadata": {},
   "outputs": [],
   "source": [
    "lr =.001\n",
    "\n",
    "arch=resnet50\n",
    "tfms = tfms_from_model(resnet50, 224, aug_tfms=transforms_top_down, max_zoom=1)\n",
    "data = ImageClassifierData.from_paths(PATH, tfms=tfms, bs=32)\n",
    "learn = ConvLearner.pretrained(arch, data, precompute=False)"
   ]
  },
  {
   "cell_type": "code",
   "execution_count": 11,
   "metadata": {},
   "outputs": [
    {
     "data": {
      "application/vnd.jupyter.widget-view+json": {
       "model_id": "9454a2cecf0549f1a542b0380a6e644e",
       "version_major": 2,
       "version_minor": 0
      },
      "text/html": [
       "<p>Failed to display Jupyter Widget of type <code>HBox</code>.</p>\n",
       "<p>\n",
       "  If you're reading this message in the Jupyter Notebook or JupyterLab Notebook, it may mean\n",
       "  that the widgets JavaScript is still loading. If this message persists, it\n",
       "  likely means that the widgets JavaScript library is either not installed or\n",
       "  not enabled. See the <a href=\"https://ipywidgets.readthedocs.io/en/stable/user_install.html\">Jupyter\n",
       "  Widgets Documentation</a> for setup instructions.\n",
       "</p>\n",
       "<p>\n",
       "  If you're reading this message in another frontend (for example, a static\n",
       "  rendering on GitHub or <a href=\"https://nbviewer.jupyter.org/\">NBViewer</a>),\n",
       "  it may mean that your frontend doesn't currently support widgets.\n",
       "</p>\n"
      ],
      "text/plain": [
       "HBox(children=(IntProgress(value=0, description='Epoch', max=2), HTML(value='')))"
      ]
     },
     "metadata": {},
     "output_type": "display_data"
    },
    {
     "name": "stdout",
     "output_type": "stream",
     "text": [
      "  0%|          | 0/2604 [00:00<?, ?it/s]                     \n"
     ]
    },
    {
     "name": "stderr",
     "output_type": "stream",
     "text": [
      "Exception in thread Thread-8:\n",
      "Traceback (most recent call last):\n",
      "  File \"/home/rene/miniconda3/envs/fastai/lib/python3.6/threading.py\", line 916, in _bootstrap_inner\n",
      "    self.run()\n",
      "  File \"/home/rene/miniconda3/envs/fastai/lib/python3.6/site-packages/tqdm/_tqdm.py\", line 144, in run\n",
      "    for instance in self.tqdm_cls._instances:\n",
      "  File \"/home/rene/miniconda3/envs/fastai/lib/python3.6/_weakrefset.py\", line 60, in __iter__\n",
      "    for itemref in self.data:\n",
      "RuntimeError: Set changed size during iteration\n",
      "\n"
     ]
    },
    {
     "name": "stdout",
     "output_type": "stream",
     "text": [
      "epoch      trn_loss   val_loss   accuracy                      \n",
      "    0      0.247132   0.20892    0.910603  \n",
      "    1      0.237638   0.199524   0.914435                      \n",
      "\n"
     ]
    },
    {
     "data": {
      "text/plain": [
       "[0.1995242, 0.9144345237605873]"
      ]
     },
     "execution_count": 11,
     "metadata": {},
     "output_type": "execute_result"
    }
   ],
   "source": [
    "learn.fit(lr, 2, cycle_len=1, cycle_mult=1)"
   ]
  },
  {
   "cell_type": "code",
   "execution_count": 13,
   "metadata": {},
   "outputs": [
    {
     "data": {
      "application/vnd.jupyter.widget-view+json": {
       "model_id": "431f9122a3a84fbe8d26fcd344521cf0",
       "version_major": 2,
       "version_minor": 0
      },
      "text/html": [
       "<p>Failed to display Jupyter Widget of type <code>HBox</code>.</p>\n",
       "<p>\n",
       "  If you're reading this message in the Jupyter Notebook or JupyterLab Notebook, it may mean\n",
       "  that the widgets JavaScript is still loading. If this message persists, it\n",
       "  likely means that the widgets JavaScript library is either not installed or\n",
       "  not enabled. See the <a href=\"https://ipywidgets.readthedocs.io/en/stable/user_install.html\">Jupyter\n",
       "  Widgets Documentation</a> for setup instructions.\n",
       "</p>\n",
       "<p>\n",
       "  If you're reading this message in another frontend (for example, a static\n",
       "  rendering on GitHub or <a href=\"https://nbviewer.jupyter.org/\">NBViewer</a>),\n",
       "  it may mean that your frontend doesn't currently support widgets.\n",
       "</p>\n"
      ],
      "text/plain": [
       "HBox(children=(IntProgress(value=0, description='Epoch', max=7), HTML(value='')))"
      ]
     },
     "metadata": {},
     "output_type": "display_data"
    },
    {
     "name": "stdout",
     "output_type": "stream",
     "text": [
      "epoch      trn_loss   val_loss   accuracy                      \n",
      "    0      0.224544   0.170514   0.928742  \n",
      "    1      0.176723   0.156928   0.933592                      \n",
      "    2      0.173413   0.155261   0.933831                      \n",
      "    3      0.170709   0.155607   0.932942                      \n",
      "    4      0.141842   0.14485    0.940955                      \n",
      "    5      0.153905   0.146337   0.941964                      \n",
      "    6      0.199034   0.152068   0.937543                      \n",
      "\n"
     ]
    },
    {
     "data": {
      "image/png": "[encoded data removed]",
      "text/plain": [
       "<Figure size 432x288 with 1 Axes>"
      ]
     },
     "metadata": {},
     "output_type": "display_data"
    }
   ],
   "source": [
    "lrs = np.array([lr/10,lr/5,lr])\n",
    "\n",
    "learn.unfreeze()\n",
    "learn.fit(lrs, 3, cycle_len=1, cycle_mult=2, best_save_name='resnet50_full_fastai')\n",
    "learn.sched.plot_loss()"
   ]
  },
  {
   "cell_type": "markdown",
   "metadata": {},
   "source": [
    "### Try on bigger dataset to see if it improves performance \n",
    "(same train/valid split so will be fine)"
   ]
  },
  {
   "cell_type": "code",
   "execution_count": null,
   "metadata": {},
   "outputs": [
    {
     "data": {
      "application/vnd.jupyter.widget-view+json": {
       "model_id": "07e7e25d66fd4fa2936fc992147b4c8a",
       "version_major": 2,
       "version_minor": 0
      },
      "text/html": [
       "<p>Failed to display Jupyter Widget of type <code>HBox</code>.</p>\n",
       "<p>\n",
       "  If you're reading this message in the Jupyter Notebook or JupyterLab Notebook, it may mean\n",
       "  that the widgets JavaScript is still loading. If this message persists, it\n",
       "  likely means that the widgets JavaScript library is either not installed or\n",
       "  not enabled. See the <a href=\"https://ipywidgets.readthedocs.io/en/stable/user_install.html\">Jupyter\n",
       "  Widgets Documentation</a> for setup instructions.\n",
       "</p>\n",
       "<p>\n",
       "  If you're reading this message in another frontend (for example, a static\n",
       "  rendering on GitHub or <a href=\"https://nbviewer.jupyter.org/\">NBViewer</a>),\n",
       "  it may mean that your frontend doesn't currently support widgets.\n",
       "</p>\n"
      ],
      "text/plain": [
       "HBox(children=(IntProgress(value=0, description='Epoch', max=3), HTML(value='')))"
      ]
     },
     "metadata": {},
     "output_type": "display_data"
    },
    {
     "name": "stdout",
     "output_type": "stream",
     "text": [
      "  1%|          | 200/26031 [01:42<3:40:24,  1.95it/s, loss=0.139]"
     ]
    }
   ],
   "source": [
    "PATH = '/media/rene/Data/camelyon_out/tiles_224_1m/'\n",
    "\n",
    "arch=resnet50\n",
    "tfms = tfms_from_model(arch, 224, aug_tfms=transforms_top_down, max_zoom=1)\n",
    "data = ImageClassifierData.from_paths(PATH, tfms=tfms, bs=32)\n",
    "learn = ConvLearner.pretrained(arch, data, precompute=False)\n",
    "\n",
    "learn.load('/media/rene/Data/camelyon_out/tiles_224_100t/models/resnet50_full_fastai')\n",
    "\n",
    "lr =.001\n",
    "lrs = np.array([lr/10,lr/5,lr])\n",
    "learn.unfreeze()\n",
    "learn.fit(lrs, 2, cycle_len=1, cycle_mult=2, best_save_name='resnet50_full_fastai_1m')\n",
    "learn.sched.plot_loss()"
   ]
  },
  {
   "cell_type": "markdown",
   "metadata": {},
   "source": [
    "#### Did the bigger dataset help? How the 100t validation set differs from 1m:"
   ]
  },
  {
   "cell_type": "code",
   "execution_count": 4,
   "metadata": {},
   "outputs": [
    {
     "name": "stdout",
     "output_type": "stream",
     "text": [
      "100t validation set w/ 100t model:  0.9419760479041916\n",
      "100t validation set with 1m model:  0.9444311377245509\n",
      "1m validation set with 1m model:  0.9439108513670494\n"
     ]
    }
   ],
   "source": [
    "PATH = '/media/rene/Data/camelyon_out/tiles_224_100t/'\n",
    "arch=resnet50\n",
    "tfms = tfms_from_model(arch, 224, aug_tfms=transforms_top_down, max_zoom=1)\n",
    "data = ImageClassifierData.from_paths(PATH, tfms=tfms, bs=32)\n",
    "learn = ConvLearner.pretrained(arch, data, precompute=False)\n",
    "learn.load('/media/rene/Data/camelyon_out/tiles_224_100t/models/resnet50_full_fastai')\n",
    "preds, y = learn.predict_with_targs(is_test=False)\n",
    "print('100t validation set w/ 100t model: ',accuracy_np(preds, y))\n",
    "\n",
    "arch=resnet50\n",
    "tfms = tfms_from_model(arch, 224, aug_tfms=transforms_top_down, max_zoom=1)\n",
    "data = ImageClassifierData.from_paths(PATH, tfms=tfms, bs=32)\n",
    "learn = ConvLearner.pretrained(arch, data, precompute=False)\n",
    "learn.load('/media/rene/Data/camelyon_out/tiles_224_1m/models/resnet50_full_fastai_1m')\n",
    "preds, y = learn.predict_with_targs(is_test=False)\n",
    "print('100t validation set with 1m model: ', accuracy_np(preds, y))\n",
    "\n",
    "PATH = '/media/rene/Data/camelyon_out/tiles_224_1m/'\n",
    "arch=resnet50\n",
    "tfms = tfms_from_model(arch, 224, aug_tfms=transforms_top_down, max_zoom=1)\n",
    "data = ImageClassifierData.from_paths(PATH, tfms=tfms, bs=32)\n",
    "learn = ConvLearner.pretrained(arch, data, precompute=False)\n",
    "learn.load('/media/rene/Data/camelyon_out/tiles_224_1m/models/resnet50_full_fastai_1m')\n",
    "preds, y = learn.predict_with_targs(is_test=False)\n",
    "print('1m validation set with 1m model: ', accuracy_np(preds, y))"
   ]
  },
  {
   "cell_type": "markdown",
   "metadata": {},
   "source": [
    "#### As expected, using the bigger dataset is better, but not by much\n",
    "\n",
    "Try training all layers at same lr:"
   ]
  },
  {
   "cell_type": "code",
   "execution_count": 2,
   "metadata": {},
   "outputs": [
    {
     "data": {
      "application/vnd.jupyter.widget-view+json": {
       "model_id": "3eac4998e39443b1bc8a0e4b94fe4d7a",
       "version_major": 2,
       "version_minor": 0
      },
      "text/html": [
       "<p>Failed to display Jupyter Widget of type <code>HBox</code>.</p>\n",
       "<p>\n",
       "  If you're reading this message in the Jupyter Notebook or JupyterLab Notebook, it may mean\n",
       "  that the widgets JavaScript is still loading. If this message persists, it\n",
       "  likely means that the widgets JavaScript library is either not installed or\n",
       "  not enabled. See the <a href=\"https://ipywidgets.readthedocs.io/en/stable/user_install.html\">Jupyter\n",
       "  Widgets Documentation</a> for setup instructions.\n",
       "</p>\n",
       "<p>\n",
       "  If you're reading this message in another frontend (for example, a static\n",
       "  rendering on GitHub or <a href=\"https://nbviewer.jupyter.org/\">NBViewer</a>),\n",
       "  it may mean that your frontend doesn't currently support widgets.\n",
       "</p>\n"
      ],
      "text/plain": [
       "HBox(children=(IntProgress(value=0, description='Epoch', max=2), HTML(value='')))"
      ]
     },
     "metadata": {},
     "output_type": "display_data"
    },
    {
     "name": "stdout",
     "output_type": "stream",
     "text": [
      "epoch      trn_loss   val_loss   accuracy                      \n",
      "    0      0.25362    0.205661   0.912455  \n",
      "    1      0.226049   0.203902   0.911916                      \n",
      "\n"
     ]
    },
    {
     "data": {
      "application/vnd.jupyter.widget-view+json": {
       "model_id": "42465888112744ea9a16a3ac8ae1528a",
       "version_major": 2,
       "version_minor": 0
      },
      "text/html": [
       "<p>Failed to display Jupyter Widget of type <code>HBox</code>.</p>\n",
       "<p>\n",
       "  If you're reading this message in the Jupyter Notebook or JupyterLab Notebook, it may mean\n",
       "  that the widgets JavaScript is still loading. If this message persists, it\n",
       "  likely means that the widgets JavaScript library is either not installed or\n",
       "  not enabled. See the <a href=\"https://ipywidgets.readthedocs.io/en/stable/user_install.html\">Jupyter\n",
       "  Widgets Documentation</a> for setup instructions.\n",
       "</p>\n",
       "<p>\n",
       "  If you're reading this message in another frontend (for example, a static\n",
       "  rendering on GitHub or <a href=\"https://nbviewer.jupyter.org/\">NBViewer</a>),\n",
       "  it may mean that your frontend doesn't currently support widgets.\n",
       "</p>\n"
      ],
      "text/plain": [
       "HBox(children=(IntProgress(value=0, description='Epoch', max=7), HTML(value='')))"
      ]
     },
     "metadata": {},
     "output_type": "display_data"
    },
    {
     "name": "stdout",
     "output_type": "stream",
     "text": [
      "epoch      trn_loss   val_loss   accuracy                      \n",
      "    0      0.175984   0.157005   0.932874  \n",
      "    1      0.164254   0.134429   0.946886                      \n",
      "    2      0.143309   0.139744   0.943713                      \n",
      "    3      0.143628   0.139568   0.943892                      \n",
      "    4      0.122835   0.146198   0.940778                      \n",
      "  4%|▎         | 60/1666 [00:20<09:05,  2.95it/s, loss=0.121]"
     ]
    },
    {
     "ename": "KeyboardInterrupt",
     "evalue": "",
     "output_type": "error",
     "traceback": [
      "\u001b[0;31m---------------------------------------------------------------------------\u001b[0m",
      "\u001b[0;31mKeyboardInterrupt\u001b[0m                         Traceback (most recent call last)",
      "\u001b[0;32m<ipython-input-2-7870c857a6e0>\u001b[0m in \u001b[0;36m<module>\u001b[0;34m()\u001b[0m\n\u001b[1;32m     12\u001b[0m \u001b[0mlrs\u001b[0m \u001b[0;34m=\u001b[0m \u001b[0mnp\u001b[0m\u001b[0;34m.\u001b[0m\u001b[0marray\u001b[0m\u001b[0;34m(\u001b[0m\u001b[0;34m[\u001b[0m\u001b[0mlr\u001b[0m\u001b[0;34m,\u001b[0m \u001b[0mlr\u001b[0m\u001b[0;34m,\u001b[0m \u001b[0mlr\u001b[0m\u001b[0;34m]\u001b[0m\u001b[0;34m)\u001b[0m\u001b[0;34m\u001b[0m\u001b[0m\n\u001b[1;32m     13\u001b[0m \u001b[0mlearn\u001b[0m\u001b[0;34m.\u001b[0m\u001b[0munfreeze\u001b[0m\u001b[0;34m(\u001b[0m\u001b[0;34m)\u001b[0m\u001b[0;34m\u001b[0m\u001b[0m\n\u001b[0;32m---> 14\u001b[0;31m \u001b[0mlearn\u001b[0m\u001b[0;34m.\u001b[0m\u001b[0mfit\u001b[0m\u001b[0;34m(\u001b[0m\u001b[0mlrs\u001b[0m\u001b[0;34m,\u001b[0m \u001b[0;36m3\u001b[0m\u001b[0;34m,\u001b[0m \u001b[0mcycle_len\u001b[0m\u001b[0;34m=\u001b[0m\u001b[0;36m1\u001b[0m\u001b[0;34m,\u001b[0m \u001b[0mcycle_mult\u001b[0m\u001b[0;34m=\u001b[0m\u001b[0;36m2\u001b[0m\u001b[0;34m,\u001b[0m \u001b[0mbest_save_name\u001b[0m\u001b[0;34m=\u001b[0m\u001b[0;34m'resnet50_evenlr'\u001b[0m\u001b[0;34m)\u001b[0m\u001b[0;34m\u001b[0m\u001b[0m\n\u001b[0m\u001b[1;32m     15\u001b[0m \u001b[0mlearn\u001b[0m\u001b[0;34m.\u001b[0m\u001b[0msched\u001b[0m\u001b[0;34m.\u001b[0m\u001b[0mplot_loss\u001b[0m\u001b[0;34m(\u001b[0m\u001b[0;34m)\u001b[0m\u001b[0;34m\u001b[0m\u001b[0m\n",
      "\u001b[0;32m/media/rene/Data/fastai/fastai/learner.py\u001b[0m in \u001b[0;36mfit\u001b[0;34m(self, lrs, n_cycle, wds, **kwargs)\u001b[0m\n\u001b[1;32m    213\u001b[0m         \u001b[0mself\u001b[0m\u001b[0;34m.\u001b[0m\u001b[0msched\u001b[0m \u001b[0;34m=\u001b[0m \u001b[0;32mNone\u001b[0m\u001b[0;34m\u001b[0m\u001b[0m\n\u001b[1;32m    214\u001b[0m         \u001b[0mlayer_opt\u001b[0m \u001b[0;34m=\u001b[0m \u001b[0mself\u001b[0m\u001b[0;34m.\u001b[0m\u001b[0mget_layer_opt\u001b[0m\u001b[0;34m(\u001b[0m\u001b[0mlrs\u001b[0m\u001b[0;34m,\u001b[0m \u001b[0mwds\u001b[0m\u001b[0;34m)\u001b[0m\u001b[0;34m\u001b[0m\u001b[0m\n\u001b[0;32m--> 215\u001b[0;31m         \u001b[0;32mreturn\u001b[0m \u001b[0mself\u001b[0m\u001b[0;34m.\u001b[0m\u001b[0mfit_gen\u001b[0m\u001b[0;34m(\u001b[0m\u001b[0mself\u001b[0m\u001b[0;34m.\u001b[0m\u001b[0mmodel\u001b[0m\u001b[0;34m,\u001b[0m \u001b[0mself\u001b[0m\u001b[0;34m.\u001b[0m\u001b[0mdata\u001b[0m\u001b[0;34m,\u001b[0m \u001b[0mlayer_opt\u001b[0m\u001b[0;34m,\u001b[0m \u001b[0mn_cycle\u001b[0m\u001b[0;34m,\u001b[0m \u001b[0;34m**\u001b[0m\u001b[0mkwargs\u001b[0m\u001b[0;34m)\u001b[0m\u001b[0;34m\u001b[0m\u001b[0m\n\u001b[0m\u001b[1;32m    216\u001b[0m \u001b[0;34m\u001b[0m\u001b[0m\n\u001b[1;32m    217\u001b[0m     \u001b[0;32mdef\u001b[0m \u001b[0mwarm_up\u001b[0m\u001b[0;34m(\u001b[0m\u001b[0mself\u001b[0m\u001b[0;34m,\u001b[0m \u001b[0mlr\u001b[0m\u001b[0;34m,\u001b[0m \u001b[0mwds\u001b[0m\u001b[0;34m=\u001b[0m\u001b[0;32mNone\u001b[0m\u001b[0;34m)\u001b[0m\u001b[0;34m:\u001b[0m\u001b[0;34m\u001b[0m\u001b[0m\n",
      "\u001b[0;32m/media/rene/Data/fastai/fastai/learner.py\u001b[0m in \u001b[0;36mfit_gen\u001b[0;34m(self, model, data, layer_opt, n_cycle, cycle_len, cycle_mult, cycle_save_name, best_save_name, use_clr, metrics, callbacks, use_wd_sched, norm_wds, wds_sched_mult, **kwargs)\u001b[0m\n\u001b[1;32m    160\u001b[0m         \u001b[0mn_epoch\u001b[0m \u001b[0;34m=\u001b[0m \u001b[0msum_geom\u001b[0m\u001b[0;34m(\u001b[0m\u001b[0mcycle_len\u001b[0m \u001b[0;32mif\u001b[0m \u001b[0mcycle_len\u001b[0m \u001b[0;32melse\u001b[0m \u001b[0;36m1\u001b[0m\u001b[0;34m,\u001b[0m \u001b[0mcycle_mult\u001b[0m\u001b[0;34m,\u001b[0m \u001b[0mn_cycle\u001b[0m\u001b[0;34m)\u001b[0m\u001b[0;34m\u001b[0m\u001b[0m\n\u001b[1;32m    161\u001b[0m         return fit(model, data, n_epoch, layer_opt.opt, self.crit,\n\u001b[0;32m--> 162\u001b[0;31m             metrics=metrics, callbacks=callbacks, reg_fn=self.reg_fn, clip=self.clip, **kwargs)\n\u001b[0m\u001b[1;32m    163\u001b[0m \u001b[0;34m\u001b[0m\u001b[0m\n\u001b[1;32m    164\u001b[0m     \u001b[0;32mdef\u001b[0m \u001b[0mget_layer_groups\u001b[0m\u001b[0;34m(\u001b[0m\u001b[0mself\u001b[0m\u001b[0;34m)\u001b[0m\u001b[0;34m:\u001b[0m \u001b[0;32mreturn\u001b[0m \u001b[0mself\u001b[0m\u001b[0;34m.\u001b[0m\u001b[0mmodels\u001b[0m\u001b[0;34m.\u001b[0m\u001b[0mget_layer_groups\u001b[0m\u001b[0;34m(\u001b[0m\u001b[0;34m)\u001b[0m\u001b[0;34m\u001b[0m\u001b[0m\n",
      "\u001b[0;32m/media/rene/Data/fastai/fastai/model.py\u001b[0m in \u001b[0;36mfit\u001b[0;34m(model, data, epochs, opt, crit, metrics, callbacks, stepper, **kwargs)\u001b[0m\n\u001b[1;32m     94\u001b[0m             \u001b[0mbatch_num\u001b[0m \u001b[0;34m+=\u001b[0m \u001b[0;36m1\u001b[0m\u001b[0;34m\u001b[0m\u001b[0m\n\u001b[1;32m     95\u001b[0m             \u001b[0;32mfor\u001b[0m \u001b[0mcb\u001b[0m \u001b[0;32min\u001b[0m \u001b[0mcallbacks\u001b[0m\u001b[0;34m:\u001b[0m \u001b[0mcb\u001b[0m\u001b[0;34m.\u001b[0m\u001b[0mon_batch_begin\u001b[0m\u001b[0;34m(\u001b[0m\u001b[0;34m)\u001b[0m\u001b[0;34m\u001b[0m\u001b[0m\n\u001b[0;32m---> 96\u001b[0;31m             \u001b[0mloss\u001b[0m \u001b[0;34m=\u001b[0m \u001b[0mstepper\u001b[0m\u001b[0;34m.\u001b[0m\u001b[0mstep\u001b[0m\u001b[0;34m(\u001b[0m\u001b[0mV\u001b[0m\u001b[0;34m(\u001b[0m\u001b[0mx\u001b[0m\u001b[0;34m)\u001b[0m\u001b[0;34m,\u001b[0m\u001b[0mV\u001b[0m\u001b[0;34m(\u001b[0m\u001b[0my\u001b[0m\u001b[0;34m)\u001b[0m\u001b[0;34m,\u001b[0m \u001b[0mepoch\u001b[0m\u001b[0;34m)\u001b[0m\u001b[0;34m\u001b[0m\u001b[0m\n\u001b[0m\u001b[1;32m     97\u001b[0m             \u001b[0mavg_loss\u001b[0m \u001b[0;34m=\u001b[0m \u001b[0mavg_loss\u001b[0m \u001b[0;34m*\u001b[0m \u001b[0mavg_mom\u001b[0m \u001b[0;34m+\u001b[0m \u001b[0mloss\u001b[0m \u001b[0;34m*\u001b[0m \u001b[0;34m(\u001b[0m\u001b[0;36m1\u001b[0m\u001b[0;34m-\u001b[0m\u001b[0mavg_mom\u001b[0m\u001b[0;34m)\u001b[0m\u001b[0;34m\u001b[0m\u001b[0m\n\u001b[1;32m     98\u001b[0m             \u001b[0mdebias_loss\u001b[0m \u001b[0;34m=\u001b[0m \u001b[0mavg_loss\u001b[0m \u001b[0;34m/\u001b[0m \u001b[0;34m(\u001b[0m\u001b[0;36m1\u001b[0m \u001b[0;34m-\u001b[0m \u001b[0mavg_mom\u001b[0m\u001b[0;34m**\u001b[0m\u001b[0mbatch_num\u001b[0m\u001b[0;34m)\u001b[0m\u001b[0;34m\u001b[0m\u001b[0m\n",
      "\u001b[0;32m/media/rene/Data/fastai/fastai/model.py\u001b[0m in \u001b[0;36mstep\u001b[0;34m(self, xs, y, epoch)\u001b[0m\n\u001b[1;32m     47\u001b[0m             \u001b[0mnn\u001b[0m\u001b[0;34m.\u001b[0m\u001b[0mutils\u001b[0m\u001b[0;34m.\u001b[0m\u001b[0mclip_grad_norm\u001b[0m\u001b[0;34m(\u001b[0m\u001b[0mtrainable_params_\u001b[0m\u001b[0;34m(\u001b[0m\u001b[0mself\u001b[0m\u001b[0;34m.\u001b[0m\u001b[0mm\u001b[0m\u001b[0;34m)\u001b[0m\u001b[0;34m,\u001b[0m \u001b[0mself\u001b[0m\u001b[0;34m.\u001b[0m\u001b[0mclip\u001b[0m\u001b[0;34m)\u001b[0m\u001b[0;34m\u001b[0m\u001b[0m\n\u001b[1;32m     48\u001b[0m         \u001b[0mself\u001b[0m\u001b[0;34m.\u001b[0m\u001b[0mopt\u001b[0m\u001b[0;34m.\u001b[0m\u001b[0mstep\u001b[0m\u001b[0;34m(\u001b[0m\u001b[0;34m)\u001b[0m\u001b[0;34m\u001b[0m\u001b[0m\n\u001b[0;32m---> 49\u001b[0;31m         \u001b[0;32mreturn\u001b[0m \u001b[0mraw_loss\u001b[0m\u001b[0;34m.\u001b[0m\u001b[0mdata\u001b[0m\u001b[0;34m[\u001b[0m\u001b[0;36m0\u001b[0m\u001b[0;34m]\u001b[0m\u001b[0;34m\u001b[0m\u001b[0m\n\u001b[0m\u001b[1;32m     50\u001b[0m \u001b[0;34m\u001b[0m\u001b[0m\n\u001b[1;32m     51\u001b[0m     \u001b[0;32mdef\u001b[0m \u001b[0mevaluate\u001b[0m\u001b[0;34m(\u001b[0m\u001b[0mself\u001b[0m\u001b[0;34m,\u001b[0m \u001b[0mxs\u001b[0m\u001b[0;34m,\u001b[0m \u001b[0my\u001b[0m\u001b[0;34m)\u001b[0m\u001b[0;34m:\u001b[0m\u001b[0;34m\u001b[0m\u001b[0m\n",
      "\u001b[0;31mKeyboardInterrupt\u001b[0m: "
     ]
    }
   ],
   "source": [
    "PATH = '/media/rene/Data/camelyon_out/tiles_224_100t/'\n",
    "lr =.001\n",
    "\n",
    "arch=resnet50\n",
    "tfms = tfms_from_model(resnet50, 224, aug_tfms=transforms_top_down, max_zoom=1)\n",
    "data = ImageClassifierData.from_paths(PATH, tfms=tfms, bs=50)\n",
    "learn = ConvLearner.pretrained(arch, data, precompute=False)\n",
    "\n",
    "learn.fit(lr, 2, cycle_len=1, cycle_mult=1)\n",
    "\n",
    "lr =.001\n",
    "lrs = np.array([lr, lr, lr])\n",
    "learn.unfreeze()\n",
    "learn.fit(lrs, 3, cycle_len=1, cycle_mult=2, best_save_name='resnet50_evenlr')\n",
    "learn.sched.plot_loss()"
   ]
  },
  {
   "cell_type": "code",
   "execution_count": 3,
   "metadata": {},
   "outputs": [
    {
     "name": "stdout",
     "output_type": "stream",
     "text": [
      "100t validation set w/ 100t model:  0.9468862275449101\n"
     ]
    }
   ],
   "source": [
    "PATH = '/media/rene/Data/camelyon_out/tiles_224_100t/'\n",
    "arch=resnet50\n",
    "tfms = tfms_from_model(arch, 224, aug_tfms=transforms_top_down, max_zoom=1)\n",
    "data = ImageClassifierData.from_paths(PATH, tfms=tfms, bs=32)\n",
    "learn = ConvLearner.pretrained(arch, data, precompute=False)\n",
    "learn.load('/media/rene/Data/camelyon_out/tiles_224_100t/models/resnet50_evenlr')\n",
    "preds, y = learn.predict_with_targs(is_test=False)\n",
    "print('100t validation set w/ 100t model: ', accuracy_np(preds, y))"
   ]
  },
  {
   "cell_type": "markdown",
   "metadata": {},
   "source": [
    "#### Training resnet50 without fastai leads to about the same performance (about .94)"
   ]
  },
  {
   "cell_type": "markdown",
   "metadata": {},
   "source": [
    "# Train final layer in models\n",
    "models:\n",
    "* resnet34\n",
    "* resnet50\n",
    "* resnet101\n",
    "* vgg16\n",
    "* resnext50\n",
    "* resnext101\n",
    "* inceptionresnet_2\n",
    "* inception_4\n",
    "* dn121\n",
    "* dn169\n",
    "\n",
    "** Does it matter if we read in the 224x224, or scale the 299x299? ** "
   ]
  },
  {
   "cell_type": "code",
   "execution_count": null,
   "metadata": {},
   "outputs": [
    {
     "name": "stdout",
     "output_type": "stream",
     "text": [
      "resnet34\n"
     ]
    },
    {
     "data": {
      "application/vnd.jupyter.widget-view+json": {
       "model_id": "61101d07e5b241f5a87ae6f7dc8dfe34",
       "version_major": 2,
       "version_minor": 0
      },
      "text/html": [
       "<p>Failed to display Jupyter Widget of type <code>HBox</code>.</p>\n",
       "<p>\n",
       "  If you're reading this message in the Jupyter Notebook or JupyterLab Notebook, it may mean\n",
       "  that the widgets JavaScript is still loading. If this message persists, it\n",
       "  likely means that the widgets JavaScript library is either not installed or\n",
       "  not enabled. See the <a href=\"https://ipywidgets.readthedocs.io/en/stable/user_install.html\">Jupyter\n",
       "  Widgets Documentation</a> for setup instructions.\n",
       "</p>\n",
       "<p>\n",
       "  If you're reading this message in another frontend (for example, a static\n",
       "  rendering on GitHub or <a href=\"https://nbviewer.jupyter.org/\">NBViewer</a>),\n",
       "  it may mean that your frontend doesn't currently support widgets.\n",
       "</p>\n"
      ],
      "text/plain": [
       "HBox(children=(IntProgress(value=0, description='Epoch', max=7), HTML(value='')))"
      ]
     },
     "metadata": {},
     "output_type": "display_data"
    },
    {
     "name": "stdout",
     "output_type": "stream",
     "text": [
      "  0%|          | 0/1302 [00:00<?, ?it/s]                  \n"
     ]
    },
    {
     "name": "stderr",
     "output_type": "stream",
     "text": [
      "Exception in thread Thread-420:\n",
      "Traceback (most recent call last):\n",
      "  File \"/home/rene/miniconda3/envs/fastai/lib/python3.6/threading.py\", line 916, in _bootstrap_inner\n",
      "    self.run()\n",
      "  File \"/home/rene/miniconda3/envs/fastai/lib/python3.6/site-packages/tqdm/_tqdm.py\", line 144, in run\n",
      "    for instance in self.tqdm_cls._instances:\n",
      "  File \"/home/rene/miniconda3/envs/fastai/lib/python3.6/_weakrefset.py\", line 60, in __iter__\n",
      "    for itemref in self.data:\n",
      "RuntimeError: Set changed size during iteration\n",
      "\n"
     ]
    },
    {
     "name": "stdout",
     "output_type": "stream",
     "text": [
      "epoch      trn_loss   val_loss   accuracy                      \n",
      "    0      0.255341   0.231327   0.895518  \n",
      "    1      0.253622   0.231133   0.893491                      \n",
      "    2      0.242353   0.224276   0.898388                      \n",
      "    3      0.248091   0.227568   0.89899                       \n",
      "    4      0.258412   0.215891   0.903716                      \n",
      "    5      0.235607   0.214045   0.902698                      \n",
      "    6      0.227546   0.212328   0.903776                      \n",
      "\n",
      "resnet50\n"
     ]
    },
    {
     "data": {
      "application/vnd.jupyter.widget-view+json": {
       "model_id": "3994262747ee477ebc6d85541c7619a7",
       "version_major": 2,
       "version_minor": 0
      },
      "text/html": [
       "<p>Failed to display Jupyter Widget of type <code>HBox</code>.</p>\n",
       "<p>\n",
       "  If you're reading this message in the Jupyter Notebook or JupyterLab Notebook, it may mean\n",
       "  that the widgets JavaScript is still loading. If this message persists, it\n",
       "  likely means that the widgets JavaScript library is either not installed or\n",
       "  not enabled. See the <a href=\"https://ipywidgets.readthedocs.io/en/stable/user_install.html\">Jupyter\n",
       "  Widgets Documentation</a> for setup instructions.\n",
       "</p>\n",
       "<p>\n",
       "  If you're reading this message in another frontend (for example, a static\n",
       "  rendering on GitHub or <a href=\"https://nbviewer.jupyter.org/\">NBViewer</a>),\n",
       "  it may mean that your frontend doesn't currently support widgets.\n",
       "</p>\n"
      ],
      "text/plain": [
       "HBox(children=(IntProgress(value=0, description='Epoch', max=7), HTML(value='')))"
      ]
     },
     "metadata": {},
     "output_type": "display_data"
    },
    {
     "name": "stdout",
     "output_type": "stream",
     "text": [
      "epoch      trn_loss   val_loss   accuracy                      \n",
      "    0      0.236542   0.208497   0.905152  \n",
      "    1      0.229533   0.193573   0.910189                      \n",
      "    2      0.21807    0.19953    0.908928                      \n",
      "    3      0.222059   0.203794   0.906294                      \n",
      "    4      0.208814   0.193822   0.913586                      \n",
      "    5      0.207671   0.193967   0.912153                      \n",
      "    6      0.209226   0.188228   0.916994                      \n",
      "\n",
      "resnet101\n"
     ]
    },
    {
     "data": {
      "application/vnd.jupyter.widget-view+json": {
       "model_id": "6d25e8b81bb644d6810267ba04f31124",
       "version_major": 2,
       "version_minor": 0
      },
      "text/html": [
       "<p>Failed to display Jupyter Widget of type <code>HBox</code>.</p>\n",
       "<p>\n",
       "  If you're reading this message in the Jupyter Notebook or JupyterLab Notebook, it may mean\n",
       "  that the widgets JavaScript is still loading. If this message persists, it\n",
       "  likely means that the widgets JavaScript library is either not installed or\n",
       "  not enabled. See the <a href=\"https://ipywidgets.readthedocs.io/en/stable/user_install.html\">Jupyter\n",
       "  Widgets Documentation</a> for setup instructions.\n",
       "</p>\n",
       "<p>\n",
       "  If you're reading this message in another frontend (for example, a static\n",
       "  rendering on GitHub or <a href=\"https://nbviewer.jupyter.org/\">NBViewer</a>),\n",
       "  it may mean that your frontend doesn't currently support widgets.\n",
       "</p>\n"
      ],
      "text/plain": [
       "HBox(children=(IntProgress(value=0, description='Epoch', max=7), HTML(value='')))"
      ]
     },
     "metadata": {},
     "output_type": "display_data"
    },
    {
     "name": "stdout",
     "output_type": "stream",
     "text": [
      "epoch      trn_loss   val_loss   accuracy                      \n",
      "    0      0.237373   0.207407   0.902522  \n",
      "    1      0.227158   0.190388   0.914376                      \n",
      "    2      0.215104   0.187965   0.915274                      \n",
      "    3      0.219308   0.190654   0.913418                      \n",
      "    4      0.211119   0.179419   0.918866                      \n",
      "    5      0.213924   0.179406   0.92138                       \n",
      "    6      0.201884   0.180645   0.92132                       \n",
      "\n",
      "vgg16\n"
     ]
    },
    {
     "data": {
      "application/vnd.jupyter.widget-view+json": {
       "model_id": "83d50afbdfda4a85a19e2000b9d028c5",
       "version_major": 2,
       "version_minor": 0
      },
      "text/html": [
       "<p>Failed to display Jupyter Widget of type <code>HBox</code>.</p>\n",
       "<p>\n",
       "  If you're reading this message in the Jupyter Notebook or JupyterLab Notebook, it may mean\n",
       "  that the widgets JavaScript is still loading. If this message persists, it\n",
       "  likely means that the widgets JavaScript library is either not installed or\n",
       "  not enabled. See the <a href=\"https://ipywidgets.readthedocs.io/en/stable/user_install.html\">Jupyter\n",
       "  Widgets Documentation</a> for setup instructions.\n",
       "</p>\n",
       "<p>\n",
       "  If you're reading this message in another frontend (for example, a static\n",
       "  rendering on GitHub or <a href=\"https://nbviewer.jupyter.org/\">NBViewer</a>),\n",
       "  it may mean that your frontend doesn't currently support widgets.\n",
       "</p>\n"
      ],
      "text/plain": [
       "HBox(children=(IntProgress(value=0, description='Epoch', max=7), HTML(value='')))"
      ]
     },
     "metadata": {},
     "output_type": "display_data"
    },
    {
     "name": "stdout",
     "output_type": "stream",
     "text": [
      "epoch      trn_loss   val_loss   accuracy                      \n",
      "    0      0.266662   0.232219   0.893718  \n",
      "    1      0.249728   0.224433   0.898867                      \n",
      "    2      0.254703   0.215796   0.902279                      \n",
      "    3      0.244774   0.216093   0.90198                       \n",
      "    4      0.254539   0.222483   0.895993                      \n",
      "    5      0.237156   0.208507   0.905803                      \n",
      "    6      0.230583   0.208373   0.904785                      \n",
      "\n",
      "resnext50\n"
     ]
    },
    {
     "data": {
      "application/vnd.jupyter.widget-view+json": {
       "model_id": "3e16d9f201e94de1b07f3669f1a5da55",
       "version_major": 2,
       "version_minor": 0
      },
      "text/html": [
       "<p>Failed to display Jupyter Widget of type <code>HBox</code>.</p>\n",
       "<p>\n",
       "  If you're reading this message in the Jupyter Notebook or JupyterLab Notebook, it may mean\n",
       "  that the widgets JavaScript is still loading. If this message persists, it\n",
       "  likely means that the widgets JavaScript library is either not installed or\n",
       "  not enabled. See the <a href=\"https://ipywidgets.readthedocs.io/en/stable/user_install.html\">Jupyter\n",
       "  Widgets Documentation</a> for setup instructions.\n",
       "</p>\n",
       "<p>\n",
       "  If you're reading this message in another frontend (for example, a static\n",
       "  rendering on GitHub or <a href=\"https://nbviewer.jupyter.org/\">NBViewer</a>),\n",
       "  it may mean that your frontend doesn't currently support widgets.\n",
       "</p>\n"
      ],
      "text/plain": [
       "HBox(children=(IntProgress(value=0, description='Epoch', max=7), HTML(value='')))"
      ]
     },
     "metadata": {},
     "output_type": "display_data"
    },
    {
     "name": "stdout",
     "output_type": "stream",
     "text": [
      "epoch      trn_loss   val_loss   accuracy                      \n",
      "    0      0.223736   0.207713   0.905456  \n",
      "    1      0.220997   0.195159   0.914017                      \n",
      "    2      0.223653   0.191198   0.91677                       \n",
      "    3      0.224033   0.188591   0.915633                      \n",
      "    4      0.212011   0.184905   0.918143                      \n",
      "    5      0.203431   0.185212   0.916531                      \n",
      "    6      0.210347   0.18279    0.9197                        \n",
      "\n",
      "resnext101\n"
     ]
    },
    {
     "data": {
      "application/vnd.jupyter.widget-view+json": {
       "model_id": "9b4e0c4b5c9445f89e4b6ac01074a459",
       "version_major": 2,
       "version_minor": 0
      },
      "text/html": [
       "<p>Failed to display Jupyter Widget of type <code>HBox</code>.</p>\n",
       "<p>\n",
       "  If you're reading this message in the Jupyter Notebook or JupyterLab Notebook, it may mean\n",
       "  that the widgets JavaScript is still loading. If this message persists, it\n",
       "  likely means that the widgets JavaScript library is either not installed or\n",
       "  not enabled. See the <a href=\"https://ipywidgets.readthedocs.io/en/stable/user_install.html\">Jupyter\n",
       "  Widgets Documentation</a> for setup instructions.\n",
       "</p>\n",
       "<p>\n",
       "  If you're reading this message in another frontend (for example, a static\n",
       "  rendering on GitHub or <a href=\"https://nbviewer.jupyter.org/\">NBViewer</a>),\n",
       "  it may mean that your frontend doesn't currently support widgets.\n",
       "</p>\n"
      ],
      "text/plain": [
       "HBox(children=(IntProgress(value=0, description='Epoch', max=7), HTML(value='')))"
      ]
     },
     "metadata": {},
     "output_type": "display_data"
    },
    {
     "name": "stdout",
     "output_type": "stream",
     "text": [
      "epoch      trn_loss   val_loss   accuracy                      \n",
      "    0      0.23134    0.194227   0.913119  \n",
      "    1      0.226533   0.189073   0.913957                      \n",
      "    2      0.206577   0.18417    0.917609                      \n",
      "    3      0.211413   0.190894   0.91246                       \n",
      "    4      0.207527   0.180603   0.922039                      \n",
      "    5      0.213245   0.182499   0.918746                      \n",
      "    6      0.197984   0.178461   0.920243                      \n",
      "\n",
      "inceptionresnet_2\n"
     ]
    },
    {
     "data": {
      "application/vnd.jupyter.widget-view+json": {
       "model_id": "26e78b9097ac4b4a8872d6efe7188e65",
       "version_major": 2,
       "version_minor": 0
      },
      "text/html": [
       "<p>Failed to display Jupyter Widget of type <code>HBox</code>.</p>\n",
       "<p>\n",
       "  If you're reading this message in the Jupyter Notebook or JupyterLab Notebook, it may mean\n",
       "  that the widgets JavaScript is still loading. If this message persists, it\n",
       "  likely means that the widgets JavaScript library is either not installed or\n",
       "  not enabled. See the <a href=\"https://ipywidgets.readthedocs.io/en/stable/user_install.html\">Jupyter\n",
       "  Widgets Documentation</a> for setup instructions.\n",
       "</p>\n",
       "<p>\n",
       "  If you're reading this message in another frontend (for example, a static\n",
       "  rendering on GitHub or <a href=\"https://nbviewer.jupyter.org/\">NBViewer</a>),\n",
       "  it may mean that your frontend doesn't currently support widgets.\n",
       "</p>\n"
      ],
      "text/plain": [
       "HBox(children=(IntProgress(value=0, description='Epoch', max=7), HTML(value='')))"
      ]
     },
     "metadata": {},
     "output_type": "display_data"
    },
    {
     "name": "stdout",
     "output_type": "stream",
     "text": [
      "epoch      trn_loss   val_loss   accuracy                      \n",
      "    0      0.247449   0.228005   0.897071  \n",
      "    1      0.247835   0.221427   0.903177                      \n",
      "    2      0.241098   0.211291   0.905811                      \n",
      "    3      0.230133   0.212111   0.908086                      \n",
      "  6%|▌         | 81/1302 [00:40<10:04,  2.02it/s, loss=0.239]"
     ]
    }
   ],
   "source": [
    "models_arch = [resnet34, resnet50, resnet101, vgg16, resnext50, resnext101, inceptionresnet_2, inception_4, dn121, dn169]\n",
    "models_name = ['resnet34', 'resnet50', 'resnet101', 'vgg16', 'resnext50', 'resnext101', 'inceptionresnet_2', 'inception_4', 'dn121', 'dn169']\n",
    "\n",
    "lr=np.array([1e-3,5e-3,1e-2])\n",
    "\n",
    "for idx, arch in enumerate(models):\n",
    "    if arch in [inceptionresnet_2, inception_4]:\n",
    "        sz = 299\n",
    "        PATH = '/media/rene/Data/camelyon_out/tiles_299_100t'\n",
    "    else:\n",
    "        sz = 224\n",
    "        PATH = '/media/rene/Data/camelyon_out/tiles_299_100t'\n",
    "\n",
    "    tfms = tfms_from_model(resnet50, sz, aug_tfms=transforms_top_down, max_zoom=1.2)\n",
    "    data = ImageClassifierData.from_paths(PATH, tfms=tfms)\n",
    "    \n",
    "    print(models_name[idx])\n",
    "    learn = ConvLearner.pretrained(arch, data, precompute=False)\n",
    "    learn.fit(lr, 3, cycle_len=1, cycle_mult=2, best_save_name=models_name[idx])"
   ]
  },
  {
   "cell_type": "markdown",
   "metadata": {},
   "source": [
    "## Test Models:"
   ]
  },
  {
   "cell_type": "code",
   "execution_count": 2,
   "metadata": {},
   "outputs": [],
   "source": [
    "def get_ensemble_acc(models, models_name, PATH, weights=None):\n",
    "    # weights must be in the same order corresponding to model\n",
    "    if weights is None:\n",
    "        weights = [1/len(models)]*len(models)\n",
    "    all_preds = []\n",
    "    \n",
    "    for idx, arch in enumerate(models):\n",
    "        if arch in [inceptionresnet_2, inception_4]:\n",
    "            sz = 299\n",
    "        else:\n",
    "            sz = 224\n",
    "\n",
    "        tfms = tfms_from_model(resnet50, sz, aug_tfms=transforms_top_down, max_zoom=1)\n",
    "        data = ImageClassifierData.from_paths(PATH, tfms=tfms, bs=64)\n",
    "\n",
    "        model_loc = os.path.join(PATH, 'models', models_name[idx])\n",
    "        learn = ConvLearner.pretrained(arch, data, precompute=False)\n",
    "        learn.load(model_loc)\n",
    "        preds, y = learn.predict_with_targs(is_test=False)\n",
    "        print(models_name[idx], ':   ', accuracy_np(preds, y))\n",
    "        all_preds.append(preds)\n",
    "        \n",
    "    all_preds = np.array(all_preds)\n",
    "    probs = np.average(np.exp(all_preds), axis=0, weights=weights)\n",
    "    print(accuracy_np(probs, y))"
   ]
  },
  {
   "cell_type": "code",
   "execution_count": 83,
   "metadata": {},
   "outputs": [
    {
     "name": "stdout",
     "output_type": "stream",
     "text": [
      "resnet34 :    0.9037724550898204\n",
      "resnet50 :    0.9170059880239521\n",
      "resnet101 :    0.921377245508982\n",
      "vgg16 :    0.905808383233533\n",
      "resnext50 :    0.9197005988023952\n",
      "resnext101 :    0.9220359281437126\n",
      "inceptionresnet_2 :    0.9138323353293413\n",
      "inception_4 :    0.9017365269461077\n",
      "dn121 :    0.9202994011976048\n",
      "dn169 :    0.9243712574850299\n",
      "0.9224550898203593\n"
     ]
    }
   ],
   "source": [
    "models_arch = [resnet34, resnet50, resnet101, vgg16, resnext50, resnext101, inceptionresnet_2, inception_4, dn121, dn169]\n",
    "models_name = ['resnet34', 'resnet50', 'resnet101', 'vgg16', 'resnext50', 'resnext101', 'inceptionresnet_2', 'inception_4', 'dn121', 'dn169']\n",
    "PATH = '/media/rene/Data/camelyon_out/tiles_299_100t/'\n",
    "\n",
    "get_ensemble_acc(models, models_name, PATH)"
   ]
  },
  {
   "cell_type": "markdown",
   "metadata": {},
   "source": [
    "### Try removing the worst models"
   ]
  },
  {
   "cell_type": "code",
   "execution_count": 15,
   "metadata": {},
   "outputs": [
    {
     "name": "stdout",
     "output_type": "stream",
     "text": [
      "resnet50 :    0.9170059880239521\n",
      "resnet101 :    0.921377245508982\n",
      "resnext50 :    0.9197005988023952\n",
      "resnext101 :    0.9220359281437126\n",
      "inceptionresnet_2 :    0.9138323353293413\n",
      "dn121 :    0.9202994011976048\n",
      "dn169 :    0.9243712574850299\n",
      "0.9273652694610779\n"
     ]
    }
   ],
   "source": [
    "PATH = '/media/rene/Data/camelyon_out/tiles_299_100t/'\n",
    "models_arch = [resnet50, resnet101, resnext50, resnext101, inceptionresnet_2, dn121, dn169]\n",
    "models_name = ['resnet50', 'resnet101', 'resnext50', 'resnext101', 'inceptionresnet_2', 'dn121', 'dn169']\n",
    "\n",
    "get_ensemble_acc(models_arch, models_name, PATH)"
   ]
  },
  {
   "cell_type": "markdown",
   "metadata": {},
   "source": [
    "### Weighted average"
   ]
  },
  {
   "cell_type": "code",
   "execution_count": 3,
   "metadata": {},
   "outputs": [
    {
     "name": "stdout",
     "output_type": "stream",
     "text": [
      "[0.08783 0.1019  0.10706 0.08979 0.10533 0.10843 0.09722 0.08543 0.10572 0.11129]\n"
     ]
    }
   ],
   "source": [
    "perf = [0.9037, 0.917, 0.921, 0.9058, 0.9197, 0.922, 0.913, 0.901, 0.920, 0.924]\n",
    "perf = [1/(1-x) for x in perf]\n",
    "perf = np.power(perf, 1)\n",
    "weights = perf/(len(perf)*np.mean(perf))\n",
    "print(weights)"
   ]
  },
  {
   "cell_type": "code",
   "execution_count": 4,
   "metadata": {},
   "outputs": [
    {
     "name": "stdout",
     "output_type": "stream",
     "text": [
      "resnet34 :    0.9037724550898204\n",
      "resnet50 :    0.9170059880239521\n",
      "resnet101 :    0.921377245508982\n",
      "vgg16 :    0.905808383233533\n",
      "resnext50 :    0.9197005988023952\n",
      "resnext101 :    0.9220359281437126\n",
      "inceptionresnet_2 :    0.9138323353293413\n",
      "inception_4 :    0.9017365269461077\n",
      "dn121 :    0.9202994011976048\n",
      "dn169 :    0.9243712574850299\n",
      "0.9229341317365269\n"
     ]
    }
   ],
   "source": [
    "PATH = '/media/rene/Data/camelyon_out/tiles_299_100t/'\n",
    "\n",
    "models_arch = [resnet34, resnet50, resnet101, vgg16, resnext50, resnext101, inceptionresnet_2, inception_4, dn121, dn169]\n",
    "models_name = ['resnet34', 'resnet50', 'resnet101', 'vgg16', 'resnext50', 'resnext101', 'inceptionresnet_2', 'inception_4', 'dn121', 'dn169']\n",
    "\n",
    "get_ensemble_acc(models_arch, models_name, PATH, weights)"
   ]
  },
  {
   "cell_type": "code",
   "execution_count": 5,
   "metadata": {},
   "outputs": [
    {
     "name": "stdout",
     "output_type": "stream",
     "text": [
      "[0.07654 0.10303 0.11373 0.07999 0.11008 0.11666 0.09377 0.07242 0.1109  0.12288]\n",
      "resnet34 :    0.9037724550898204\n",
      "resnet50 :    0.9170059880239521\n",
      "resnet101 :    0.921377245508982\n",
      "vgg16 :    0.905808383233533\n",
      "resnext50 :    0.9197005988023952\n",
      "resnext101 :    0.9220359281437126\n",
      "inceptionresnet_2 :    0.9138323353293413\n",
      "inception_4 :    0.9017365269461077\n",
      "dn121 :    0.9202994011976048\n",
      "dn169 :    0.9243712574850299\n",
      "0.9231137724550899\n"
     ]
    }
   ],
   "source": [
    "perf = [0.9037, 0.917, 0.921, 0.9058, 0.9197, 0.922, 0.913, 0.901, 0.920, 0.924]\n",
    "perf = [1/(1-x) for x in perf]\n",
    "perf = np.power(perf, 2)\n",
    "weights = perf/(len(perf)*np.mean(perf))\n",
    "print(weights)\n",
    "\n",
    "models_arch = [resnet34, resnet50, resnet101, vgg16, resnext50, resnext101, inceptionresnet_2, inception_4, dn121, dn169]\n",
    "models_name = ['resnet34', 'resnet50', 'resnet101', 'vgg16', 'resnext50', 'resnext101', 'inceptionresnet_2', 'inception_4', 'dn121', 'dn169']\n",
    "\n",
    "get_ensemble_acc(models_arch, models_name, PATH, weights)"
   ]
  },
  {
   "cell_type": "code",
   "execution_count": 6,
   "metadata": {},
   "outputs": [
    {
     "name": "stdout",
     "output_type": "stream",
     "text": [
      "[0.05689 0.10309 0.12561 0.06213 0.11767 0.13218 0.0854  0.05093 0.11945 0.14665]\n",
      "resnet34 :    0.9037724550898204\n",
      "resnet50 :    0.9170059880239521\n",
      "resnet101 :    0.921377245508982\n",
      "vgg16 :    0.905808383233533\n",
      "resnext50 :    0.9197005988023952\n",
      "resnext101 :    0.9220359281437126\n",
      "inceptionresnet_2 :    0.9138323353293413\n",
      "inception_4 :    0.9017365269461077\n",
      "dn121 :    0.9202994011976048\n",
      "dn169 :    0.9243712574850299\n",
      "0.9249101796407185\n"
     ]
    }
   ],
   "source": [
    "perf = [0.9037, 0.917, 0.921, 0.9058, 0.9197, 0.922, 0.913, 0.901, 0.920, 0.924]\n",
    "perf = [1/(1-x) for x in perf]\n",
    "perf = np.power(perf, 4)\n",
    "weights = perf/(len(perf)*np.mean(perf))\n",
    "print(weights)\n",
    "\n",
    "models_arch = [resnet34, resnet50, resnet101, vgg16, resnext50, resnext101, inceptionresnet_2, inception_4, dn121, dn169]\n",
    "models_name = ['resnet34', 'resnet50', 'resnet101', 'vgg16', 'resnext50', 'resnext101', 'inceptionresnet_2', 'inception_4', 'dn121', 'dn169']\n",
    "\n",
    "get_ensemble_acc(models_arch, models_name, PATH, weights)"
   ]
  },
  {
   "cell_type": "code",
   "execution_count": 6,
   "metadata": {},
   "outputs": [
    {
     "name": "stdout",
     "output_type": "stream",
     "text": [
      "[0.04124 0.10061 0.13532 0.04708 0.1227  0.14607 0.07586 0.03494 0.12548 0.1707 ]\n",
      "resnet34 :    0.9037724550898204\n",
      "resnet50 :    0.9170059880239521\n",
      "resnet101 :    0.921377245508982\n",
      "vgg16 :    0.905808383233533\n",
      "resnext50 :    0.9197005988023952\n",
      "resnext101 :    0.9220359281437126\n",
      "inceptionresnet_2 :    0.9138323353293413\n",
      "inception_4 :    0.9017365269461077\n",
      "dn121 :    0.9202994011976048\n",
      "dn169 :    0.9243712574850299\n",
      "0.9261676646706587\n"
     ]
    }
   ],
   "source": [
    "perf = [0.9037, 0.917, 0.921, 0.9058, 0.9197, 0.922, 0.913, 0.901, 0.920, 0.924]\n",
    "perf = [1/(1-x) for x in perf]\n",
    "perf = np.power(perf, 6)\n",
    "weights = perf/(len(perf)*np.mean(perf))\n",
    "print(weights)\n",
    "\n",
    "models_arch = [resnet34, resnet50, resnet101, vgg16, resnext50, resnext101, inceptionresnet_2, inception_4, dn121, dn169]\n",
    "models_name = ['resnet34', 'resnet50', 'resnet101', 'vgg16', 'resnext50', 'resnext101', 'inceptionresnet_2', 'inception_4', 'dn121', 'dn169']\n",
    "\n",
    "get_ensemble_acc(models_arch, models_name, PATH, weights)"
   ]
  },
  {
   "cell_type": "code",
   "execution_count": 4,
   "metadata": {},
   "outputs": [
    {
     "name": "stdout",
     "output_type": "stream",
     "text": [
      "[0.02929 0.0962  0.14281 0.03494 0.12533 0.15813 0.06601 0.02348 0.12914 0.19466]\n",
      "resnet34 :    0.9037724550898204\n",
      "resnet50 :    0.9170059880239521\n",
      "resnet101 :    0.921377245508982\n",
      "vgg16 :    0.905808383233533\n",
      "resnext50 :    0.9197005988023952\n",
      "resnext101 :    0.9220359281437126\n",
      "inceptionresnet_2 :    0.9138323353293413\n",
      "inception_4 :    0.9017365269461077\n",
      "dn121 :    0.9202994011976048\n",
      "dn169 :    0.9243712574850299\n",
      "0.927065868263473\n"
     ]
    }
   ],
   "source": [
    "perf = [0.9037, 0.917, 0.921, 0.9058, 0.9197, 0.922, 0.913, 0.901, 0.920, 0.924]\n",
    "perf = [1/(1-x) for x in perf]\n",
    "perf = np.power(perf, 8)\n",
    "weights = perf/(len(perf)*np.mean(perf))\n",
    "print(weights)\n",
    "\n",
    "models_arch = [resnet34, resnet50, resnet101, vgg16, resnext50, resnext101, inceptionresnet_2, inception_4, dn121, dn169]\n",
    "models_name = ['resnet34', 'resnet50', 'resnet101', 'vgg16', 'resnext50', 'resnext101', 'inceptionresnet_2', 'inception_4', 'dn121', 'dn169']\n",
    "\n",
    "get_ensemble_acc(models_arch, models_name, PATH, weights)"
   ]
  },
  {
   "cell_type": "code",
   "execution_count": 7,
   "metadata": {},
   "outputs": [
    {
     "name": "stdout",
     "output_type": "stream",
     "text": [
      "[0.01411 0.08394 0.15183 0.01838 0.12483 0.17691 0.04772 0.01012 0.13056 0.24162]\n",
      "resnet34 :    0.9037724550898204\n",
      "resnet50 :    0.9170059880239521\n",
      "resnet101 :    0.921377245508982\n",
      "vgg16 :    0.905808383233533\n",
      "resnext50 :    0.9197005988023952\n",
      "resnext101 :    0.9220359281437126\n",
      "inceptionresnet_2 :    0.9138323353293413\n",
      "inception_4 :    0.9017365269461077\n",
      "dn121 :    0.9202994011976048\n",
      "dn169 :    0.9243712574850299\n",
      "0.9278443113772455\n"
     ]
    }
   ],
   "source": [
    "perf = [0.9037, 0.917, 0.921, 0.9058, 0.9197, 0.922, 0.913, 0.901, 0.920, 0.924]\n",
    "perf = [1/(1-x) for x in perf]\n",
    "perf = np.power(perf, 12)\n",
    "weights = perf/(len(perf)*np.mean(perf))\n",
    "print(weights)\n",
    "\n",
    "models_arch = [resnet34, resnet50, resnet101, vgg16, resnext50, resnext101, inceptionresnet_2, inception_4, dn121, dn169]\n",
    "models_name = ['resnet34', 'resnet50', 'resnet101', 'vgg16', 'resnext50', 'resnext101', 'inceptionresnet_2', 'inception_4', 'dn121', 'dn169']\n",
    "\n",
    "get_ensemble_acc(models_arch, models_name, PATH, weights)"
   ]
  },
  {
   "cell_type": "markdown",
   "metadata": {},
   "source": [
    "## Train the same model multiple times - resnet34"
   ]
  },
  {
   "cell_type": "code",
   "execution_count": 7,
   "metadata": {},
   "outputs": [
    {
     "name": "stdout",
     "output_type": "stream",
     "text": [
      "0\n"
     ]
    },
    {
     "data": {
      "application/vnd.jupyter.widget-view+json": {
       "model_id": "68fa983d1b2545d0a672b316049226ae",
       "version_major": 2,
       "version_minor": 0
      },
      "text/html": [
       "<p>Failed to display Jupyter Widget of type <code>HBox</code>.</p>\n",
       "<p>\n",
       "  If you're reading this message in the Jupyter Notebook or JupyterLab Notebook, it may mean\n",
       "  that the widgets JavaScript is still loading. If this message persists, it\n",
       "  likely means that the widgets JavaScript library is either not installed or\n",
       "  not enabled. See the <a href=\"https://ipywidgets.readthedocs.io/en/stable/user_install.html\">Jupyter\n",
       "  Widgets Documentation</a> for setup instructions.\n",
       "</p>\n",
       "<p>\n",
       "  If you're reading this message in another frontend (for example, a static\n",
       "  rendering on GitHub or <a href=\"https://nbviewer.jupyter.org/\">NBViewer</a>),\n",
       "  it may mean that your frontend doesn't currently support widgets.\n",
       "</p>\n"
      ],
      "text/plain": [
       "HBox(children=(IntProgress(value=0, description='Epoch', max=7), HTML(value='')))"
      ]
     },
     "metadata": {},
     "output_type": "display_data"
    },
    {
     "name": "stdout",
     "output_type": "stream",
     "text": [
      "epoch      trn_loss   val_loss   accuracy                    \n",
      "    0      0.254224   0.243983   0.889945  \n",
      "    1      0.25155    0.224462   0.898108                    \n",
      "    2      0.245538   0.229374   0.895185                    \n",
      "    3      0.241307   0.227773   0.898465                    \n",
      "    4      0.238781   0.226091   0.895953                    \n",
      "    5      0.236224   0.222337   0.89942                     \n",
      "    6      0.228867   0.222782   0.898994                    \n",
      "\n",
      "1\n"
     ]
    },
    {
     "data": {
      "application/vnd.jupyter.widget-view+json": {
       "model_id": "97a6244baf294e40b0d34b871a165402",
       "version_major": 2,
       "version_minor": 0
      },
      "text/html": [
       "<p>Failed to display Jupyter Widget of type <code>HBox</code>.</p>\n",
       "<p>\n",
       "  If you're reading this message in the Jupyter Notebook or JupyterLab Notebook, it may mean\n",
       "  that the widgets JavaScript is still loading. If this message persists, it\n",
       "  likely means that the widgets JavaScript library is either not installed or\n",
       "  not enabled. See the <a href=\"https://ipywidgets.readthedocs.io/en/stable/user_install.html\">Jupyter\n",
       "  Widgets Documentation</a> for setup instructions.\n",
       "</p>\n",
       "<p>\n",
       "  If you're reading this message in another frontend (for example, a static\n",
       "  rendering on GitHub or <a href=\"https://nbviewer.jupyter.org/\">NBViewer</a>),\n",
       "  it may mean that your frontend doesn't currently support widgets.\n",
       "</p>\n"
      ],
      "text/plain": [
       "HBox(children=(IntProgress(value=0, description='Epoch', max=7), HTML(value='')))"
      ]
     },
     "metadata": {},
     "output_type": "display_data"
    },
    {
     "name": "stdout",
     "output_type": "stream",
     "text": [
      "epoch      trn_loss   val_loss   accuracy                    \n",
      "    0      0.25303    0.236267   0.890303  \n",
      "    1      0.241575   0.235124   0.891555                    \n",
      "    2      0.231444   0.23218    0.89245                     \n",
      "    3      0.241005   0.219871   0.897698                    \n",
      "    4      0.240089   0.224595   0.895356                    \n",
      "    5      0.229602   0.219286   0.899062                    \n",
      "    6      0.230578   0.224274   0.896676                    \n",
      "\n",
      "2\n"
     ]
    },
    {
     "data": {
      "application/vnd.jupyter.widget-view+json": {
       "model_id": "174b2a2589ee48109e17edda580a0ae2",
       "version_major": 2,
       "version_minor": 0
      },
      "text/html": [
       "<p>Failed to display Jupyter Widget of type <code>HBox</code>.</p>\n",
       "<p>\n",
       "  If you're reading this message in the Jupyter Notebook or JupyterLab Notebook, it may mean\n",
       "  that the widgets JavaScript is still loading. If this message persists, it\n",
       "  likely means that the widgets JavaScript library is either not installed or\n",
       "  not enabled. See the <a href=\"https://ipywidgets.readthedocs.io/en/stable/user_install.html\">Jupyter\n",
       "  Widgets Documentation</a> for setup instructions.\n",
       "</p>\n",
       "<p>\n",
       "  If you're reading this message in another frontend (for example, a static\n",
       "  rendering on GitHub or <a href=\"https://nbviewer.jupyter.org/\">NBViewer</a>),\n",
       "  it may mean that your frontend doesn't currently support widgets.\n",
       "</p>\n"
      ],
      "text/plain": [
       "HBox(children=(IntProgress(value=0, description='Epoch', max=7), HTML(value='')))"
      ]
     },
     "metadata": {},
     "output_type": "display_data"
    },
    {
     "name": "stdout",
     "output_type": "stream",
     "text": [
      "epoch      trn_loss   val_loss   accuracy                    \n",
      "    0      0.248402   0.249809   0.883922  \n",
      "    1      0.250581   0.231077   0.891488                    \n",
      "    2      0.2427     0.228099   0.893814                    \n",
      "    3      0.238899   0.236376   0.891384                    \n",
      "    4      0.235692   0.227526   0.894283                    \n",
      "    5      0.23145    0.22216    0.897273                    \n",
      "    6      0.230786   0.218849   0.899718                    \n",
      "\n",
      "3\n"
     ]
    },
    {
     "data": {
      "application/vnd.jupyter.widget-view+json": {
       "model_id": "9ddab919f4bc424b84af284952c2a972",
       "version_major": 2,
       "version_minor": 0
      },
      "text/html": [
       "<p>Failed to display Jupyter Widget of type <code>HBox</code>.</p>\n",
       "<p>\n",
       "  If you're reading this message in the Jupyter Notebook or JupyterLab Notebook, it may mean\n",
       "  that the widgets JavaScript is still loading. If this message persists, it\n",
       "  likely means that the widgets JavaScript library is either not installed or\n",
       "  not enabled. See the <a href=\"https://ipywidgets.readthedocs.io/en/stable/user_install.html\">Jupyter\n",
       "  Widgets Documentation</a> for setup instructions.\n",
       "</p>\n",
       "<p>\n",
       "  If you're reading this message in another frontend (for example, a static\n",
       "  rendering on GitHub or <a href=\"https://nbviewer.jupyter.org/\">NBViewer</a>),\n",
       "  it may mean that your frontend doesn't currently support widgets.\n",
       "</p>\n"
      ],
      "text/plain": [
       "HBox(children=(IntProgress(value=0, description='Epoch', max=7), HTML(value='')))"
      ]
     },
     "metadata": {},
     "output_type": "display_data"
    },
    {
     "name": "stdout",
     "output_type": "stream",
     "text": [
      "epoch      trn_loss   val_loss   accuracy                    \n",
      "    0      0.256681   0.239173   0.891905  \n",
      "    1      0.241265   0.230382   0.89666                     \n",
      "    2      0.241284   0.226763   0.897332                    \n",
      "    3      0.240192   0.231743   0.892382                    \n",
      "    4      0.229422   0.225151   0.896489                    \n",
      "    5      0.232788   0.218636   0.89965                     \n",
      "    6      0.232905   0.219864   0.899054                    \n",
      "\n",
      "4\n"
     ]
    },
    {
     "data": {
      "application/vnd.jupyter.widget-view+json": {
       "model_id": "9f8127a45a5842bfb6407b6989e2c970",
       "version_major": 2,
       "version_minor": 0
      },
      "text/html": [
       "<p>Failed to display Jupyter Widget of type <code>HBox</code>.</p>\n",
       "<p>\n",
       "  If you're reading this message in the Jupyter Notebook or JupyterLab Notebook, it may mean\n",
       "  that the widgets JavaScript is still loading. If this message persists, it\n",
       "  likely means that the widgets JavaScript library is either not installed or\n",
       "  not enabled. See the <a href=\"https://ipywidgets.readthedocs.io/en/stable/user_install.html\">Jupyter\n",
       "  Widgets Documentation</a> for setup instructions.\n",
       "</p>\n",
       "<p>\n",
       "  If you're reading this message in another frontend (for example, a static\n",
       "  rendering on GitHub or <a href=\"https://nbviewer.jupyter.org/\">NBViewer</a>),\n",
       "  it may mean that your frontend doesn't currently support widgets.\n",
       "</p>\n"
      ],
      "text/plain": [
       "HBox(children=(IntProgress(value=0, description='Epoch', max=7), HTML(value='')))"
      ]
     },
     "metadata": {},
     "output_type": "display_data"
    },
    {
     "name": "stdout",
     "output_type": "stream",
     "text": [
      "epoch      trn_loss   val_loss   accuracy                    \n",
      "    0      0.251089   0.242452   0.887253  \n",
      "    1      0.24526    0.235694   0.88876                     \n",
      "    2      0.247952   0.240224   0.886256                    \n",
      "    3      0.252173   0.230077   0.893293                    \n",
      "    4      0.237314   0.223379   0.89971                     \n",
      "    5      0.231811   0.223312   0.897921                    \n",
      "    6      0.237432   0.22538    0.897444                    \n",
      "\n"
     ]
    }
   ],
   "source": [
    "models_arch = resnet34\n",
    "models_name = 'resnet34'\n",
    "\n",
    "lr=np.array([1e-3,5e-3,1e-2])\n",
    "\n",
    "sz = 224\n",
    "PATH = '/media/rene/Data/camelyon_out/tiles_299_100t'\n",
    "\n",
    "for i in range(5):\n",
    "    print(i)\n",
    "    tfms = tfms_from_model(resnet50, sz, aug_tfms=transforms_top_down, max_zoom=1)\n",
    "    data = ImageClassifierData.from_paths(PATH, tfms=tfms, bs=128)\n",
    "\n",
    "    learn = ConvLearner.pretrained(models_arch, data, precompute=False)\n",
    "    learn.fit(lr, 3, cycle_len=1, cycle_mult=2, best_save_name=models_name+'_'+str(i))"
   ]
  },
  {
   "cell_type": "code",
   "execution_count": 5,
   "metadata": {},
   "outputs": [
    {
     "name": "stdout",
     "output_type": "stream",
     "text": [
      "resnet34_0 :    0.8992814371257485\n",
      "resnet34_1 :    0.8989221556886228\n",
      "resnet34_2 :    0.8995808383233533\n",
      "resnet34_3 :    0.8995808383233533\n",
      "resnet34_4 :    0.8996407185628742\n",
      "0.9007784431137724\n"
     ]
    }
   ],
   "source": [
    "models_arch = [resnet34 for i in range(5)]\n",
    "models_name = ['resnet34_'+str(i) for i in range(5)]\n",
    "\n",
    "get_ensemble_acc(models_arch, models_name, PATH)"
   ]
  },
  {
   "cell_type": "markdown",
   "metadata": {},
   "source": [
    "## Dense Net 169"
   ]
  },
  {
   "cell_type": "code",
   "execution_count": null,
   "metadata": {},
   "outputs": [
    {
     "name": "stdout",
     "output_type": "stream",
     "text": [
      "0\n"
     ]
    },
    {
     "data": {
      "application/vnd.jupyter.widget-view+json": {
       "model_id": "8cf85e656caa4c188a74c594fdec8908",
       "version_major": 2,
       "version_minor": 0
      },
      "text/html": [
       "<p>Failed to display Jupyter Widget of type <code>HBox</code>.</p>\n",
       "<p>\n",
       "  If you're reading this message in the Jupyter Notebook or JupyterLab Notebook, it may mean\n",
       "  that the widgets JavaScript is still loading. If this message persists, it\n",
       "  likely means that the widgets JavaScript library is either not installed or\n",
       "  not enabled. See the <a href=\"https://ipywidgets.readthedocs.io/en/stable/user_install.html\">Jupyter\n",
       "  Widgets Documentation</a> for setup instructions.\n",
       "</p>\n",
       "<p>\n",
       "  If you're reading this message in another frontend (for example, a static\n",
       "  rendering on GitHub or <a href=\"https://nbviewer.jupyter.org/\">NBViewer</a>),\n",
       "  it may mean that your frontend doesn't currently support widgets.\n",
       "</p>\n"
      ],
      "text/plain": [
       "HBox(children=(IntProgress(value=0, description='Epoch', max=7), HTML(value='')))"
      ]
     },
     "metadata": {},
     "output_type": "display_data"
    },
    {
     "name": "stdout",
     "output_type": "stream",
     "text": [
      "epoch      trn_loss   val_loss   accuracy                      \n",
      "    0      0.216709   0.192454   0.913115  \n",
      " 33%|███▎      | 431/1302 [01:18<02:37,  5.52it/s, loss=0.239]"
     ]
    }
   ],
   "source": [
    "models_arch = dn169\n",
    "models_name = 'dn169'\n",
    "\n",
    "lr=np.array([1e-3,5e-3,1e-2])\n",
    "\n",
    "sz = 224\n",
    "PATH = '/media/rene/Data/camelyon_out/tiles_299_100t'\n",
    "\n",
    "for i in range(10):\n",
    "    print(i)\n",
    "    tfms = tfms_from_model(resnet50, sz, aug_tfms=transforms_top_down, max_zoom=1)\n",
    "    data = ImageClassifierData.from_paths(PATH, tfms=tfms)\n",
    "\n",
    "    learn = ConvLearner.pretrained(arch, data, precompute=False)\n",
    "    learn.fit(lr, 3, cycle_len=1, cycle_mult=2, best_save_name=models_name+'_'+str(i))"
   ]
  },
  {
   "cell_type": "code",
   "execution_count": 7,
   "metadata": {},
   "outputs": [
    {
     "name": "stdout",
     "output_type": "stream",
     "text": [
      "dn169_0 :    0.9246107784431138\n",
      "dn169_1 :    0.9240718562874252\n",
      "dn169_2 :    0.9217365269461077\n",
      "dn169_3 :    0.9230538922155689\n",
      "dn169_4 :    0.9232934131736527\n",
      "dn169_5 :    0.9217964071856287\n",
      "dn169_6 :    0.922874251497006\n",
      "dn169_7 :    0.9255688622754491\n",
      "dn169_8 :    0.9238323353293413\n",
      "dn169_9 :    0.9235329341317365\n",
      "0.9248502994011976\n"
     ]
    }
   ],
   "source": [
    "models_arch = [dn169 for i in range(10)]\n",
    "models_name = ['dn169_'+str(i) for i in range(10)]\n",
    "\n",
    "get_ensemble_acc(models_arch, models_name, PATH)"
   ]
  },
  {
   "cell_type": "markdown",
   "metadata": {},
   "source": [
    "#### Ensembling dn169 doesn't give much improvement"
   ]
  },
  {
   "cell_type": "markdown",
   "metadata": {},
   "source": [
    "## Fine-tuning models\n",
    "* Previously only fine tuned the last few layers\n",
    "* Setting an array of learning rates was pointless, because most of the model wasn't set to trainable."
   ]
  },
  {
   "cell_type": "code",
   "execution_count": null,
   "metadata": {},
   "outputs": [
    {
     "name": "stdout",
     "output_type": "stream",
     "text": [
      "inception_4\n"
     ]
    },
    {
     "data": {
      "application/vnd.jupyter.widget-view+json": {
       "model_id": "9e76ac57978a479f99ecbb25ddb76924",
       "version_major": 2,
       "version_minor": 0
      },
      "text/html": [
       "<p>Failed to display Jupyter Widget of type <code>HBox</code>.</p>\n",
       "<p>\n",
       "  If you're reading this message in the Jupyter Notebook or JupyterLab Notebook, it may mean\n",
       "  that the widgets JavaScript is still loading. If this message persists, it\n",
       "  likely means that the widgets JavaScript library is either not installed or\n",
       "  not enabled. See the <a href=\"https://ipywidgets.readthedocs.io/en/stable/user_install.html\">Jupyter\n",
       "  Widgets Documentation</a> for setup instructions.\n",
       "</p>\n",
       "<p>\n",
       "  If you're reading this message in another frontend (for example, a static\n",
       "  rendering on GitHub or <a href=\"https://nbviewer.jupyter.org/\">NBViewer</a>),\n",
       "  it may mean that your frontend doesn't currently support widgets.\n",
       "</p>\n"
      ],
      "text/plain": [
       "HBox(children=(IntProgress(value=0, description='Epoch', max=1), HTML(value='')))"
      ]
     },
     "metadata": {},
     "output_type": "display_data"
    },
    {
     "name": "stdout",
     "output_type": "stream",
     "text": [
      "  1%|▏         | 102/6942 [00:07<08:25, 13.53it/s, loss=0.703]\n",
      "  2%|▏         | 106/6942 [00:07<08:18, 13.71it/s, loss=0.702]"
     ]
    },
    {
     "name": "stderr",
     "output_type": "stream",
     "text": [
      "Exception in thread Thread-6:\n",
      "Traceback (most recent call last):\n",
      "  File \"/home/rene/miniconda3/envs/fastai/lib/python3.6/threading.py\", line 916, in _bootstrap_inner\n",
      "    self.run()\n",
      "  File \"/home/rene/miniconda3/envs/fastai/lib/python3.6/site-packages/tqdm/_tqdm.py\", line 144, in run\n",
      "    for instance in self.tqdm_cls._instances:\n",
      "  File \"/home/rene/miniconda3/envs/fastai/lib/python3.6/_weakrefset.py\", line 60, in __iter__\n",
      "    for itemref in self.data:\n",
      "RuntimeError: Set changed size during iteration\n",
      "\n"
     ]
    },
    {
     "name": "stdout",
     "output_type": "stream",
     "text": [
      "epoch      trn_loss   val_loss   accuracy                      \n",
      "    0      0.290851   0.242755   0.891912  \n",
      "\n"
     ]
    },
    {
     "data": {
      "application/vnd.jupyter.widget-view+json": {
       "model_id": "18ea70322aa54342a271e0c52cb763ef",
       "version_major": 2,
       "version_minor": 0
      },
      "text/html": [
       "<p>Failed to display Jupyter Widget of type <code>HBox</code>.</p>\n",
       "<p>\n",
       "  If you're reading this message in the Jupyter Notebook or JupyterLab Notebook, it may mean\n",
       "  that the widgets JavaScript is still loading. If this message persists, it\n",
       "  likely means that the widgets JavaScript library is either not installed or\n",
       "  not enabled. See the <a href=\"https://ipywidgets.readthedocs.io/en/stable/user_install.html\">Jupyter\n",
       "  Widgets Documentation</a> for setup instructions.\n",
       "</p>\n",
       "<p>\n",
       "  If you're reading this message in another frontend (for example, a static\n",
       "  rendering on GitHub or <a href=\"https://nbviewer.jupyter.org/\">NBViewer</a>),\n",
       "  it may mean that your frontend doesn't currently support widgets.\n",
       "</p>\n"
      ],
      "text/plain": [
       "HBox(children=(IntProgress(value=0, description='Epoch', max=7), HTML(value='')))"
      ]
     },
     "metadata": {},
     "output_type": "display_data"
    },
    {
     "name": "stdout",
     "output_type": "stream",
     "text": [
      "epoch      trn_loss   val_loss   accuracy                      \n",
      "    0      0.198183   0.162045   0.931304  \n",
      "    1      0.203252   0.143324   0.943756                      \n",
      "    2      0.177112   0.149588   0.94196                       \n",
      "    3      0.16727    0.147731   0.939266                      \n",
      "    4      0.172608   0.144756   0.940763                      \n",
      " 33%|███▎      | 2296/6942 [08:35<17:22,  4.46it/s, loss=0.176]"
     ]
    }
   ],
   "source": [
    "models_arch = [resnet34, resnet50, resnet101, vgg16, resnext50, resnext101, inceptionresnet_2, inception_4, dn121, dn169]\n",
    "models_name = ['resnet34', 'resnet50', 'resnet101', 'vgg16', 'resnext50', 'resnext101', 'inceptionresnet_2', 'inception_4', 'dn121', 'dn169']\n",
    "\n",
    "for idx, arch in enumerate(models_arch):\n",
    "    print(models_name[idx])\n",
    "    if arch in [inceptionresnet_2, inception_4]:\n",
    "        sz = 299\n",
    "        PATH = '/media/rene/Data/camelyon_out/tiles_224_100t'\n",
    "    else:\n",
    "        sz = 224\n",
    "        PATH = '/media/rene/Data/camelyon_out/tiles_224_100t'\n",
    "        \n",
    "    tfms = tfms_from_model(resnet50, sz, aug_tfms=transforms_top_down, max_zoom=1)\n",
    "    data = ImageClassifierData.from_paths(PATH, tfms=tfms, bs=12)\n",
    "    learn = ConvLearner.pretrained(arch, data, precompute=False)\n",
    "    \n",
    "    lr =.001\n",
    "    learn.fit(lr, 1, cycle_len=1, cycle_mult=1) # train last few layers\n",
    "    lrs = np.array([lr/4,lr/2,lr])\n",
    "    learn.unfreeze()\n",
    "    learn.fit(lrs, 3, cycle_len=1, cycle_mult=2, best_save_name=models_name[idx]+'_full') # train whole model"
   ]
  },
  {
   "cell_type": "markdown",
   "metadata": {},
   "source": [
    "## Check accuracy with fine-tuned models\n",
    "* Check weighted ensemble (whatever works best)\n",
    "* Maybe check training a model multiple times"
   ]
  },
  {
   "cell_type": "code",
   "execution_count": 5,
   "metadata": {},
   "outputs": [],
   "source": [
    "def get_best_ensemble_acc(models, models_name, PATH):\n",
    "    perf = []\n",
    "    all_preds = []\n",
    "    \n",
    "    for idx, arch in enumerate(models):\n",
    "        if arch in [inceptionresnet_2, inception_4]:\n",
    "            sz = 299\n",
    "        else:\n",
    "            sz = 224\n",
    "\n",
    "        tfms = tfms_from_model(resnet50, sz, aug_tfms=transforms_top_down, max_zoom=1)\n",
    "        data = ImageClassifierData.from_paths(PATH, tfms=tfms, bs=64)\n",
    "\n",
    "        model_loc = os.path.join(PATH, 'models', models_name[idx])\n",
    "        learn = ConvLearner.pretrained(arch, data, precompute=False)\n",
    "        learn.load(model_loc)\n",
    "        preds, y = learn.predict_with_targs(is_test=False)\n",
    "        print(models_name[idx], ':   ', accuracy_np(preds, y))\n",
    "        perf.append(accuracy_np(preds, y))\n",
    "        all_preds.append(preds)\n",
    "        \n",
    "    # Now try to find the optimal weighting. Use exponential to test.\n",
    "    all_preds = np.array(all_preds)\n",
    "\n",
    "    for power in range(0, 21, 3):\n",
    "        _perf = [1/(1-x) for x in perf]\n",
    "        _perf = np.power(_perf, power)\n",
    "        weights = _perf/(len(_perf)*np.mean(_perf))\n",
    "        print(weights)\n",
    "        probs = np.average(np.exp(all_preds), axis=0, weights=weights)\n",
    "        print('Power:', power, 'Accuracy: ', accuracy_np(probs, y))"
   ]
  },
  {
   "cell_type": "code",
   "execution_count": 6,
   "metadata": {},
   "outputs": [
    {
     "name": "stdout",
     "output_type": "stream",
     "text": [
      "resnet34_full :    0.9437125748502994\n",
      "resnet50_full :    0.9455688622754491\n",
      "resnet101_full :    0.9453892215568862\n",
      "vgg16_full :    0.9433532934131736\n",
      "resnext50_full :    0.9466467065868264\n",
      "resnext101_full :    0.9458682634730539\n",
      "inceptionresnet_2_full :    0.9395209580838323\n",
      "inception_4_full :    0.9437724550898203\n",
      "dn121_full :    0.9440718562874252\n",
      "dn169_full :    0.9479041916167664\n",
      "[0.1 0.1 0.1 0.1 0.1 0.1 0.1 0.1 0.1 0.1]\n",
      "Power: 0 Accuracy:  0.9517964071856287\n",
      "[0.0946  0.10462 0.10359 0.09281 0.11109 0.10636 0.07626 0.09491 0.09644 0.11932]\n",
      "Power: 3 Accuracy:  0.9516766467065868\n",
      "[0.08839 0.10809 0.10597 0.08508 0.12187 0.11173 0.05744 0.08896 0.09185 0.14062]\n",
      "Power: 6 Accuracy:  0.9516167664670658\n",
      "[0.08164 0.1104  0.10717 0.07709 0.13217 0.11602 0.04277 0.08242 0.08648 0.16382]\n",
      "Power: 9 Accuracy:  0.9518562874251497\n",
      "[0.0746  0.11156 0.10724 0.06912 0.14183 0.1192  0.03151 0.07556 0.08056 0.18882]\n",
      "Power: 12 Accuracy:  0.9516766467065868\n",
      "[0.0675  0.11162 0.10624 0.06135 0.15068 0.12125 0.02298 0.06858 0.0743  0.21549]\n",
      "Power: 15 Accuracy:  0.9513173652694611\n",
      "[0.06051 0.11065 0.10428 0.05396 0.1586  0.1222  0.01661 0.06168 0.0679  0.24364]\n",
      "Power: 18 Accuracy:  0.9513173652694611\n"
     ]
    }
   ],
   "source": [
    "PATH = '/media/rene/Data/camelyon_out/tiles_224_100t/'\n",
    "models_arch = [resnet34, resnet50, resnet101, vgg16, resnext50, resnext101, inceptionresnet_2, inception_4, dn121, dn169]\n",
    "models_name = ['resnet34_full', 'resnet50_full', 'resnet101_full', 'vgg16_full', 'resnext50_full', 'resnext101_full', 'inceptionresnet_2_full', 'inception_4_full', 'dn121_full', 'dn169_full']\n",
    "\n",
    "get_best_ensemble_acc(models_arch, models_name, PATH)"
   ]
  },
  {
   "cell_type": "code",
   "execution_count": 7,
   "metadata": {},
   "outputs": [],
   "source": [
    "## Used wrong transforms in the training. Used resnet 50 for all"
   ]
  },
  {
   "cell_type": "code",
   "execution_count": 8,
   "metadata": {},
   "outputs": [
    {
     "name": "stdout",
     "output_type": "stream",
     "text": [
      "dn169_full_0 :    0.9473053892215569\n",
      "dn169_full_1 :    0.9489820359281437\n",
      "dn169_full_2 :    0.947185628742515\n",
      "dn169_full_3 :    0.9474251497005988\n",
      "dn169_full_4 :    0.9480838323353293\n",
      "dn169_full_5 :    0.9469461077844311\n",
      "dn169_full_6 :    0.9459880239520958\n",
      "dn169_full_7 :    0.9487425149700599\n",
      "dn169_full_8 :    0.9464670658682635\n",
      "[0.11111 0.11111 0.11111 0.11111 0.11111 0.11111 0.11111 0.11111 0.11111]\n",
      "Power: 0 Accuracy:  0.9507185628742515\n",
      "[0.10994 0.12113 0.10919 0.11069 0.11496 0.10772 0.10209 0.11944 0.10485]\n",
      "Power: 3 Accuracy:  0.9507784431137725\n",
      "[0.10846 0.13168 0.10699 0.10995 0.11859 0.10412 0.09352 0.12803 0.09866]\n",
      "Power: 6 Accuracy:  0.9507185628742515\n",
      "[0.10669 0.14273 0.10453 0.1089  0.12198 0.10036 0.08543 0.13683 0.09256]\n",
      "Power: 9 Accuracy:  0.9507185628742515\n",
      "[0.10464 0.15425 0.10183 0.10754 0.1251  0.09645 0.07781 0.14582 0.08658]\n",
      "Power: 12 Accuracy:  0.9505389221556886\n",
      "[0.10233 0.16621 0.0989  0.10588 0.12792 0.09241 0.07065 0.15493 0.08076]\n",
      "Power: 15 Accuracy:  0.9507185628742515\n",
      "[0.09978 0.17857 0.09578 0.10395 0.13043 0.08829 0.06397 0.16413 0.0751 ]\n",
      "Power: 18 Accuracy:  0.9507185628742515\n"
     ]
    }
   ],
   "source": [
    "PATH = '/media/rene/Data/camelyon_out/tiles_224_100t/'\n",
    "\n",
    "models_arch = [dn169 for i in range(9)]\n",
    "models_name = ['dn169_full_'+str(i) for i in range(9)]\n",
    "\n",
    "get_best_ensemble_acc(models_arch, models_name, PATH)"
   ]
  },
  {
   "cell_type": "markdown",
   "metadata": {},
   "source": [
    "## Fine-tuning same model multiple times"
   ]
  },
  {
   "cell_type": "code",
   "execution_count": null,
   "metadata": {},
   "outputs": [
    {
     "name": "stdout",
     "output_type": "stream",
     "text": [
      "0\n"
     ]
    },
    {
     "data": {
      "application/vnd.jupyter.widget-view+json": {
       "model_id": "e9ed05fe62a142a8956f91fdfd7006d0",
       "version_major": 2,
       "version_minor": 0
      },
      "text/html": [
       "<p>Failed to display Jupyter Widget of type <code>HBox</code>.</p>\n",
       "<p>\n",
       "  If you're reading this message in the Jupyter Notebook or JupyterLab Notebook, it may mean\n",
       "  that the widgets JavaScript is still loading. If this message persists, it\n",
       "  likely means that the widgets JavaScript library is either not installed or\n",
       "  not enabled. See the <a href=\"https://ipywidgets.readthedocs.io/en/stable/user_install.html\">Jupyter\n",
       "  Widgets Documentation</a> for setup instructions.\n",
       "</p>\n",
       "<p>\n",
       "  If you're reading this message in another frontend (for example, a static\n",
       "  rendering on GitHub or <a href=\"https://nbviewer.jupyter.org/\">NBViewer</a>),\n",
       "  it may mean that your frontend doesn't currently support widgets.\n",
       "</p>\n"
      ],
      "text/plain": [
       "HBox(children=(IntProgress(value=0, description='Epoch', max=1), HTML(value='')))"
      ]
     },
     "metadata": {},
     "output_type": "display_data"
    },
    {
     "name": "stdout",
     "output_type": "stream",
     "text": [
      "  1%|          | 38/3471 [00:03<05:12, 11.00it/s, loss=0.796]\n",
      "  1%|          | 40/3471 [00:03<05:12, 10.97it/s, loss=0.809]"
     ]
    },
    {
     "name": "stderr",
     "output_type": "stream",
     "text": [
      "Exception in thread Thread-4:\n",
      "Traceback (most recent call last):\n",
      "  File \"/home/rene/miniconda3/envs/fastai/lib/python3.6/threading.py\", line 916, in _bootstrap_inner\n",
      "    self.run()\n",
      "  File \"/home/rene/miniconda3/envs/fastai/lib/python3.6/site-packages/tqdm/_tqdm.py\", line 144, in run\n",
      "    for instance in self.tqdm_cls._instances:\n",
      "  File \"/home/rene/miniconda3/envs/fastai/lib/python3.6/_weakrefset.py\", line 60, in __iter__\n",
      "    for itemref in self.data:\n",
      "RuntimeError: Set changed size during iteration\n",
      "\n"
     ]
    },
    {
     "name": "stdout",
     "output_type": "stream",
     "text": [
      " 40%|███▉      | 1372/3471 [01:45<02:41, 13.00it/s, loss=0.274]"
     ]
    }
   ],
   "source": [
    "arch = dn169\n",
    "models_name = 'dn169_full'\n",
    "\n",
    "lr=np.array([1e-3,5e-3,1e-2])\n",
    "\n",
    "sz = 224\n",
    "PATH = '/media/rene/Data/camelyon_out/tiles_224_100t'\n",
    "\n",
    "for i in range(10):\n",
    "    print(i)\n",
    "    tfms = tfms_from_model(arch, sz, aug_tfms=transforms_top_down, max_zoom=1)\n",
    "    data = ImageClassifierData.from_paths(PATH, tfms=tfms, bs=24)\n",
    "    learn = ConvLearner.pretrained(arch, data, precompute=False)\n",
    "    \n",
    "    lr =.001\n",
    "    learn.fit(lr, 1, cycle_len=1, cycle_mult=1) # train last few layers\n",
    "    lrs = np.array([lr/4,lr/2,lr])\n",
    "    learn.unfreeze()\n",
    "    learn.fit(lrs, 3, cycle_len=1, cycle_mult=2, best_save_name=models_name+'_'+str(i)) # train whole model"
   ]
  },
  {
   "cell_type": "markdown",
   "metadata": {},
   "source": [
    "## Check Densenet on 299x299"
   ]
  },
  {
   "cell_type": "code",
   "execution_count": null,
   "metadata": {},
   "outputs": [
    {
     "name": "stdout",
     "output_type": "stream",
     "text": [
      "0\n"
     ]
    },
    {
     "data": {
      "application/vnd.jupyter.widget-view+json": {
       "model_id": "f47b989fd09f4817983763f6d89d8cdb",
       "version_major": 2,
       "version_minor": 0
      },
      "text/plain": [
       "HBox(children=(IntProgress(value=0, description='Epoch', max=1), HTML(value='')))"
      ]
     },
     "metadata": {},
     "output_type": "display_data"
    },
    {
     "name": "stdout",
     "output_type": "stream",
     "text": [
      "epoch      trn_loss   val_loss   accuracy                      \n",
      "    0      0.235758   0.203005   0.90976   \n",
      "\n"
     ]
    },
    {
     "data": {
      "application/vnd.jupyter.widget-view+json": {
       "model_id": "601c19dade264b24a218e930708db4f7",
       "version_major": 2,
       "version_minor": 0
      },
      "text/plain": [
       "HBox(children=(IntProgress(value=0, description='Epoch', max=7), HTML(value='')))"
      ]
     },
     "metadata": {},
     "output_type": "display_data"
    },
    {
     "name": "stdout",
     "output_type": "stream",
     "text": [
      "epoch      trn_loss   val_loss   accuracy                      \n",
      "    0      0.184579   0.162162   0.932874  \n",
      "    1      0.178161   0.145385   0.942275                      \n",
      " 60%|█████▉    | 2080/3471 [06:54<04:37,  5.02it/s, loss=0.146]"
     ]
    }
   ],
   "source": [
    "arch = dn169\n",
    "models_name = 'dn169_full_299'\n",
    "\n",
    "lr=np.array([1e-3,5e-3,1e-2])\n",
    "\n",
    "sz = 224\n",
    "PATH = '/media/rene/Data/camelyon_out/tiles_299_100t'\n",
    "\n",
    "for i in range(1):\n",
    "    print(i)\n",
    "    tfms = tfms_from_model(arch, sz, aug_tfms=transforms_top_down, max_zoom=1)\n",
    "    data = ImageClassifierData.from_paths(PATH, tfms=tfms, bs=24)\n",
    "    learn = ConvLearner.pretrained(arch, data, precompute=False)\n",
    "    \n",
    "    lr =.001\n",
    "    learn.fit(lr, 1, cycle_len=1, cycle_mult=1) # train last few layers\n",
    "    lrs = np.array([lr/4,lr/2,lr])\n",
    "    learn.unfreeze()\n",
    "    learn.fit(lrs, 3, cycle_len=1, cycle_mult=2, best_save_name=models_name+'_'+str(i)) # train whole model"
   ]
  },
  {
   "cell_type": "code",
   "execution_count": 4,
   "metadata": {},
   "outputs": [
    {
     "name": "stdout",
     "output_type": "stream",
     "text": [
      "dn169 :    0.9243712574850299\n",
      "0.9243712574850299\n"
     ]
    }
   ],
   "source": [
    "models_arch = [dn169]\n",
    "models_name = ['dn169']\n",
    "PATH = '/media/rene/Data/camelyon_out/tiles_299_100t/'\n",
    "\n",
    "get_ensemble_acc(models_arch, models_name, PATH) "
   ]
  },
  {
   "cell_type": "code",
   "execution_count": null,
   "metadata": {},
   "outputs": [],
   "source": []
  }
 ],
 "metadata": {
  "kernelspec": {
   "display_name": "Python 3",
   "language": "python",
   "name": "python3"
  },
  "language_info": {
   "codemirror_mode": {
    "name": "ipython",
    "version": 3
   },
   "file_extension": ".py",
   "mimetype": "text/x-python",
   "name": "python",
   "nbconvert_exporter": "python",
   "pygments_lexer": "ipython3",
   "version": "3.6.5"
  }
 },
 "nbformat": 4,
 "nbformat_minor": 2
}
