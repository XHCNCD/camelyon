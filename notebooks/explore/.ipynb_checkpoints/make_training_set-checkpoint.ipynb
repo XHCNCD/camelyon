{
 "cells": [
  {
   "cell_type": "code",
   "execution_count": 4,
   "metadata": {},
   "outputs": [
    {
     "name": "stdout",
     "output_type": "stream",
     "text": [
      "/media/rene/Data/camelyon/src\n"
     ]
    }
   ],
   "source": [
    "import os\n",
    "import sys\n",
    "import glob\n",
    "import random\n",
    "import pickle\n",
    "import numpy as np\n",
    "import pandas as pd\n",
    "from PIL import Image\n",
    "from skimage import color\n",
    "from skimage import filters\n",
    "from skimage.morphology import disk\n",
    "from openslide import OpenSlide, OpenSlideUnsupportedFormatError\n",
    "\n",
    "import matplotlib.pyplot as plt\n",
    "from matplotlib.pyplot import imshow\n",
    "from IPython.display import display, HTML\n",
    "from sklearn.metrics import accuracy_score\n",
    "\n",
    "import torch\n",
    "import torch.nn as nn\n",
    "from torch.autograd import Variable\n",
    "import torchvision.datasets as datasets\n",
    "import torchvision.transforms as transforms\n",
    "import torch.nn.functional as F\n",
    "import torch.optim as optim\n",
    "import torch.utils.data\n",
    "import torch.utils.data.sampler as sampler\n",
    "\n",
    "%reload_ext autoreload\n",
    "%autoreload 2\n",
    "%matplotlib inline\n",
    "\n",
    "# Add the src directory for functions\n",
    "src_dir = os.path.join(os.path.dirname(os.path.dirname(os.getcwd())), 'src')\n",
    "print(src_dir)\n",
    "sys.path.append(src_dir)\n",
    "\n",
    "# import my functions:\n",
    "from WSI_utils import*\n",
    "\n",
    "# Base Directory where data is stored\n",
    "base_data_dir = '/media/rene/Data/CAMELYON16'\n",
    "base_out_dir = '/media/rene/Data/camelyon_out'\n",
    "\n",
    "nontumor_data_dir = '/media/rene/Data/CAMELYON16/TrainingData/Train_Normal'\n",
    "tumor_data_dir = '/media/rene/Data/CAMELYON16/TrainingData/Train_Tumor'"
   ]
  },
  {
   "cell_type": "code",
   "execution_count": 5,
   "metadata": {},
   "outputs": [],
   "source": [
    "# create validation set. Randomly sample 20% of tumor and non-tumor training set\n",
    "\n",
    "np.random.seed(101)\n",
    "vaild_normal_idx = np.random.choice(160, 32)\n",
    "valid_tumor_idx = np.random.choice(110, 22)\n",
    "\n",
    "for idx in vaild_normal_idx:\n",
    "    file_name = 'Normal_'+str(idx).zfill(3)+'.tif'\n",
    "    \n",
    "    "
   ]
  },
  {
   "cell_type": "code",
   "execution_count": 6,
   "metadata": {},
   "outputs": [],
   "source": [
    "train_folder = '/media/rene/Data/CAMELYON16/TrainingData'\n",
    "\n",
    "normal_locs = glob.glob(os.path.join(train_folder, 'Train_Normal/*'))\n",
    "tumor_locs = glob.glob(os.path.join(train_folder, 'Train_Tumor/*'))\n",
    "all_locs = normal_locs+tumor_locs"
   ]
  },
  {
   "cell_type": "code",
   "execution_count": 7,
   "metadata": {},
   "outputs": [
    {
     "name": "stdout",
     "output_type": "stream",
     "text": [
      "average_tiles:  27097.74074074074\n",
      "max tiles:  126070.0\n",
      "min tiles:  574.0\n"
     ]
    }
   ],
   "source": [
    "# First get the average samples per slide, to calculate this for the model\n",
    "tile_num_list = []\n",
    "\n",
    "for loc in all_locs:\n",
    "    wsi = WSI(loc)\n",
    "    wsi.generate_mask(mask_level=6)\n",
    "    num_tiles = wsi.est_total_tiles(tile_size = 224)\n",
    "    tile_num_list.append(num_tiles)\n",
    "    \n",
    "average_tiles = np.average(np.array(tile_num_list))\n",
    "print('average_tiles: ', average_tiles)\n",
    "print('max tiles: ', np.amax(np.array(tile_num_list)))\n",
    "print('min tiles: ', np.amin(np.array(tile_num_list)))"
   ]
  },
  {
   "cell_type": "code",
   "execution_count": 11,
   "metadata": {},
   "outputs": [
    {
     "ename": "NameError",
     "evalue": "name 'wsi' is not defined",
     "output_type": "error",
     "traceback": [
      "\u001b[0;31m---------------------------------------------------------------------------\u001b[0m",
      "\u001b[0;31mNameError\u001b[0m                                 Traceback (most recent call last)",
      "\u001b[0;32m<ipython-input-11-06dc4bb29e90>\u001b[0m in \u001b[0;36m<module>\u001b[0;34m()\u001b[0m\n\u001b[1;32m     34\u001b[0m         \u001b[0mos\u001b[0m\u001b[0;34m.\u001b[0m\u001b[0mmakedirs\u001b[0m\u001b[0;34m(\u001b[0m\u001b[0mout_dir\u001b[0m\u001b[0;34m)\u001b[0m\u001b[0;34m\u001b[0m\u001b[0m\n\u001b[1;32m     35\u001b[0m     \u001b[0;31m# Now make the tiles\u001b[0m\u001b[0;34m\u001b[0m\u001b[0;34m\u001b[0m\u001b[0m\n\u001b[0;32m---> 36\u001b[0;31m     \u001b[0mwsi_22\u001b[0m\u001b[0;34m.\u001b[0m\u001b[0mmake_tiles\u001b[0m\u001b[0;34m(\u001b[0m\u001b[0mout_dir\u001b[0m\u001b[0;34m,\u001b[0m \u001b[0mnum_tiles\u001b[0m\u001b[0;34m,\u001b[0m \u001b[0mtile_size\u001b[0m\u001b[0;34m)\u001b[0m\u001b[0;34m\u001b[0m\u001b[0m\n\u001b[0m",
      "\u001b[0;32m/media/rene/Data/camelyon/src/WSI_utils.py\u001b[0m in \u001b[0;36mmake_tiles\u001b[0;34m(self, out_dir, num_tiles, tile_size, normalize)\u001b[0m\n\u001b[1;32m     68\u001b[0m             \u001b[0msample_patch_ind\u001b[0m \u001b[0;34m=\u001b[0m \u001b[0mnp\u001b[0m\u001b[0;34m.\u001b[0m\u001b[0marray\u001b[0m\u001b[0;34m(\u001b[0m\u001b[0;34m[\u001b[0m\u001b[0mall_indices\u001b[0m\u001b[0;34m[\u001b[0m\u001b[0;36m1\u001b[0m\u001b[0;34m]\u001b[0m\u001b[0;34m[\u001b[0m\u001b[0midx\u001b[0m\u001b[0;34m]\u001b[0m\u001b[0;34m,\u001b[0m \u001b[0mall_indices\u001b[0m\u001b[0;34m[\u001b[0m\u001b[0;36m0\u001b[0m\u001b[0;34m]\u001b[0m\u001b[0;34m[\u001b[0m\u001b[0midx\u001b[0m\u001b[0;34m]\u001b[0m\u001b[0;34m]\u001b[0m\u001b[0;34m)\u001b[0m \u001b[0;31m# not sure why this is backwards\u001b[0m\u001b[0;34m\u001b[0m\u001b[0m\n\u001b[1;32m     69\u001b[0m             \u001b[0;31m# convert to coordinates of level 0\u001b[0m\u001b[0;34m\u001b[0m\u001b[0;34m\u001b[0m\u001b[0m\n\u001b[0;32m---> 70\u001b[0;31m             \u001b[0msample_patch_ind\u001b[0m \u001b[0;34m=\u001b[0m \u001b[0mnp\u001b[0m\u001b[0;34m.\u001b[0m\u001b[0mround\u001b[0m\u001b[0;34m(\u001b[0m\u001b[0msample_patch_ind\u001b[0m\u001b[0;34m*\u001b[0m\u001b[0mwsi\u001b[0m\u001b[0;34m.\u001b[0m\u001b[0mlevel_downsamples\u001b[0m\u001b[0;34m[\u001b[0m\u001b[0mmask_level\u001b[0m\u001b[0;34m]\u001b[0m\u001b[0;34m)\u001b[0m\u001b[0;34m\u001b[0m\u001b[0m\n\u001b[0m\u001b[1;32m     71\u001b[0m             \u001b[0;31m# random point inside this patch for center of new image (sampled image could extend outside patch or mask)\u001b[0m\u001b[0;34m\u001b[0m\u001b[0;34m\u001b[0m\u001b[0m\n\u001b[1;32m     72\u001b[0m             location = (np.random.randint(sample_patch_ind[0]-tile_size/2, sample_patch_ind[0]+tile_size/2),\n",
      "\u001b[0;31mNameError\u001b[0m: name 'wsi' is not defined"
     ]
    }
   ],
   "source": [
    "average_tiles = 27098\n",
    "tile_size = 224\n",
    "base_out_dir = '/media/rene/Data/camelyon_out/basic_tiles_224'\n",
    "\n",
    "\n",
    "for loc in all_locs[0:1]:\n",
    "    if 'Normal' in loc:\n",
    "        wsi_type = 'normal'\n",
    "        wsi_id = int(loc.rsplit('_', 1)[-1].rsplit('.', 1)[0])\n",
    "        if wsi_id in vaild_normal_idx:\n",
    "            ttv = 'valid'\n",
    "        else:\n",
    "            ttv = 'train'\n",
    "\n",
    "    elif 'Tumor' in loc:\n",
    "        wsi_type = 'tumor'\n",
    "        wsi_id = int(loc.rsplit('_', 1)[-1].rsplit('.', 1)[0])\n",
    "        if wsi_id in valid_tumor_idx:\n",
    "            ttv = 'valid'\n",
    "        else:\n",
    "            ttv = 'train'\n",
    "    else:\n",
    "        print('Error, not found as normal or tumor')\n",
    "        \n",
    "    # now read in and get the samples:\n",
    "    wsi = WSI(loc)\n",
    "    wsi.generate_mask(mask_level=6)\n",
    "    total_tiles = wsi.est_total_tiles(tile_size = 224)\n",
    "    num_tiles = np.amin([total_tiles, average_tiles/2])\n",
    "    \n",
    "    # Make folders for normal, tumor. Save each set of samples from a wsi in a folder within these.\n",
    "    out_dir = os.path.join(base_out_dir, ttv, wsi_type, wsi.wsi_name)\n",
    "    if not os.path.exists(out_dir):\n",
    "        os.makedirs(out_dir)\n",
    "    # Now make the tiles\n",
    "    wsi.make_tiles(out_dir, num_tiles, tile_size)"
   ]
  },
  {
   "cell_type": "code",
   "execution_count": null,
   "metadata": {},
   "outputs": [],
   "source": []
  },
  {
   "cell_type": "code",
   "execution_count": null,
   "metadata": {},
   "outputs": [],
   "source": []
  }
 ],
 "metadata": {
  "kernelspec": {
   "display_name": "Python 3",
   "language": "python",
   "name": "python3"
  },
  "language_info": {
   "codemirror_mode": {
    "name": "ipython",
    "version": 3
   },
   "file_extension": ".py",
   "mimetype": "text/x-python",
   "name": "python",
   "nbconvert_exporter": "python",
   "pygments_lexer": "ipython3",
   "version": "3.6.4"
  }
 },
 "nbformat": 4,
 "nbformat_minor": 2
}
